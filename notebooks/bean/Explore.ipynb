{
 "cells": [
  {
   "cell_type": "markdown",
   "id": "b6ad2fbf",
   "metadata": {},
   "source": [
    "# Explore Embedding Data"
   ]
  },
  {
   "cell_type": "code",
   "execution_count": 37,
   "id": "9a810c5a",
   "metadata": {},
   "outputs": [],
   "source": [
    "import numpy as np\n",
    "import matplotlib.pyplot as plt"
   ]
  },
  {
   "cell_type": "code",
   "execution_count": 38,
   "id": "a73ffc5a",
   "metadata": {},
   "outputs": [],
   "source": [
    "import seaborn as sbn"
   ]
  },
  {
   "cell_type": "code",
   "execution_count": 2,
   "id": "23d0fcfa",
   "metadata": {},
   "outputs": [],
   "source": [
    "from pathlib import Path"
   ]
  },
  {
   "cell_type": "code",
   "execution_count": 7,
   "id": "9df9a082",
   "metadata": {},
   "outputs": [],
   "source": [
    "root_embeddings = Path('../../data/embeddings').absolute().resolve()"
   ]
  },
  {
   "cell_type": "code",
   "execution_count": 19,
   "id": "0475fbd6",
   "metadata": {},
   "outputs": [],
   "source": [
    "root_text = Path('../../data/text').absolute().resolve()"
   ]
  },
  {
   "cell_type": "code",
   "execution_count": 10,
   "id": "1fb1ec4f",
   "metadata": {},
   "outputs": [],
   "source": [
    "ne1 = root_embeddings / 'w040_i020' / 'scriptures' / 'book_of_mormon' / '1-ne'"
   ]
  },
  {
   "cell_type": "code",
   "execution_count": 13,
   "id": "d8882528",
   "metadata": {},
   "outputs": [],
   "source": [
    "embeds = np.genfromtxt(ne1 / '003.embeddings.csv', delimiter=',')"
   ]
  },
  {
   "cell_type": "code",
   "execution_count": 17,
   "id": "34a15b91",
   "metadata": {},
   "outputs": [],
   "source": [
    "offs = np.genfromtxt(ne1 / '003.offsets.csv', delimiter=',', dtype=int)"
   ]
  },
  {
   "cell_type": "code",
   "execution_count": 31,
   "id": "6c271bf0",
   "metadata": {},
   "outputs": [],
   "source": [
    "embed_means = np.genfromtxt(root_embeddings / '..' / 'means' / 'w040_i020' / 'scriptures' / 'mean.csv', delimiter='\\n')"
   ]
  },
  {
   "cell_type": "code",
   "execution_count": 35,
   "id": "7c53281c",
   "metadata": {},
   "outputs": [],
   "source": [
    "embeds_norm = embeds - embed_means"
   ]
  },
  {
   "cell_type": "code",
   "execution_count": 21,
   "id": "bd5a660c",
   "metadata": {},
   "outputs": [],
   "source": [
    "text = (root_text / 'scriptures' / 'book_of_mormon' / '1-ne' / '003.txt').read_text()"
   ]
  },
  {
   "cell_type": "code",
   "execution_count": 25,
   "id": "b1a2dde9",
   "metadata": {},
   "outputs": [
    {
     "data": {
      "text/plain": [
       "'And it came to pass that I, Nephi, returned from speaking with the Lord, to the tent of my father.\\nAnd it came to pass that he spake unto me, saying: Behold I have dreamed a dream, in the which'"
      ]
     },
     "execution_count": 25,
     "metadata": {},
     "output_type": "execute_result"
    }
   ],
   "source": [
    "a,b,v = offs[0]\n",
    "text[a:b]"
   ]
  },
  {
   "cell_type": "code",
   "execution_count": 51,
   "id": "0990ae82",
   "metadata": {},
   "outputs": [],
   "source": [
    "def cos_sim(data_1, data_2):\n",
    "    return np.dot(data_1, data_2.transpose())/(np.linalg.norm(data_1)*np.linalg.norm(data_2.transpose(), axis=0))"
   ]
  },
  {
   "cell_type": "code",
   "execution_count": 52,
   "id": "c3abc6da",
   "metadata": {},
   "outputs": [
    {
     "data": {
      "text/plain": [
       "array([0.10282817, 0.0671687 , 0.08822689, ..., 0.07893424, 0.09450226,\n",
       "       0.07335481])"
      ]
     },
     "execution_count": 52,
     "metadata": {},
     "output_type": "execute_result"
    }
   ],
   "source": [
    "np.linalg.norm(embeds_norm, axis=0)"
   ]
  },
  {
   "cell_type": "code",
   "execution_count": 53,
   "id": "c1d14c60",
   "metadata": {},
   "outputs": [
    {
     "data": {
      "text/plain": [
       "1.0000000000000002"
      ]
     },
     "execution_count": 53,
     "metadata": {},
     "output_type": "execute_result"
    }
   ],
   "source": [
    "cos_sim(embeds_norm[0], embeds_norm[0])"
   ]
  },
  {
   "cell_type": "code",
   "execution_count": 54,
   "id": "c87e3c9b",
   "metadata": {},
   "outputs": [
    {
     "data": {
      "text/plain": [
       "array([1.        , 0.58959999])"
      ]
     },
     "execution_count": 54,
     "metadata": {},
     "output_type": "execute_result"
    }
   ],
   "source": [
    "cos_sim(embeds_norm[0], embeds_norm[:2])"
   ]
  },
  {
   "cell_type": "code",
   "execution_count": 57,
   "id": "f0630554",
   "metadata": {},
   "outputs": [
    {
     "data": {
      "image/png": "[encoded data removed]",
      "text/plain": [
       "<Figure size 640x480 with 1 Axes>"
      ]
     },
     "metadata": {},
     "output_type": "display_data"
    }
   ],
   "source": [
    "plt.hist(cos_sim(embeds_norm[0], embeds_norm), bins=20);"
   ]
  },
  {
   "cell_type": "code",
   "execution_count": null,
   "id": "48d42190",
   "metadata": {},
   "outputs": [],
   "source": []
  }
 ],
 "metadata": {
  "kernelspec": {
   "display_name": "bean",
   "language": "python",
   "name": "bean"
  },
  "language_info": {
   "codemirror_mode": {
    "name": "ipython",
    "version": 3
   },
   "file_extension": ".py",
   "mimetype": "text/x-python",
   "name": "python",
   "nbconvert_exporter": "python",
   "pygments_lexer": "ipython3",
   "version": "3.11.5"
  },
  "toc": {
   "base_numbering": 1,
   "nav_menu": {},
   "number_sections": false,
   "sideBar": true,
   "skip_h1_title": true,
   "title_cell": "Table of Contents",
   "title_sidebar": "Contents",
   "toc_cell": false,
   "toc_position": {},
   "toc_section_display": true,
   "toc_window_display": false
  }
 },
 "nbformat": 4,
 "nbformat_minor": 5
}
