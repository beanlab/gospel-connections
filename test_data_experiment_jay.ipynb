{
 "cells": [
  {
   "cell_type": "markdown",
   "metadata": {},
   "source": [
    "Test:\n",
    "- data that should be very strongly correlated, but do not share words\n",
    "- paragraph describing word, vs actual word embedding\n"
   ]
  },
  {
   "cell_type": "code",
   "execution_count": 2,
   "metadata": {},
   "outputs": [],
   "source": [
    "import numpy as np\n",
    "from numpy import dot\n",
    "from numpy.linalg import norm\n",
    "import matplotlib.pyplot as plt\n",
    "import matplotlib\n",
    "import matplotlib as mpl\n",
    "import plotly.express as px\n",
    "from structure import scriptures_structure\n",
    "import pandas as pd\n",
    "import os"
   ]
  },
  {
   "cell_type": "code",
   "execution_count": 3,
   "metadata": {},
   "outputs": [],
   "source": [
    "def get_label(index, indexes, text):\n",
    "    # Need to add dimension to indexes\n",
    "    #print(len(indexes.shape))\n",
    "    if len(indexes.shape) != 1:\n",
    "        text_indices = indexes[index]\n",
    "    else:\n",
    "        text_indices = indexes\n",
    "    #print(index)\n",
    "    #print('indexes: ', indexes)\n",
    "    #print(text)\n",
    "    #print('text indices: ', text_indices)\n",
    "    chunk = text[text_indices[0]:text_indices[1]]\n",
    "    verse = text_indices[2]\n",
    "    return chunk, verse"
   ]
  },
  {
   "cell_type": "code",
   "execution_count": 4,
   "metadata": {},
   "outputs": [],
   "source": [
    "def generate_all_labels(index, indexes, text):\n",
    "    labels = []\n",
    "    for i in range(index):\n",
    "        label, verse = get_label(i, indexes, text)\n",
    "        labels.append(label)\n",
    "    return labels"
   ]
  },
  {
   "cell_type": "code",
   "execution_count": 35,
   "metadata": {},
   "outputs": [],
   "source": [
    "# Get highest matches + heatmap for given sliding window size and width\n",
    "def evaluate_data(path_1, path_2, w_1, w_2, i_1, i_2, threshold=-9999, normalized=True):\n",
    "\n",
    "    with open(path_1+'.txt') as f:\n",
    "        text_1 = f.read()\n",
    "\n",
    "    with open(path_2+'.txt') as f:\n",
    "        text_2 = f.read()\n",
    "\n",
    "\n",
    "    if normalized:\n",
    "        embedding_path_1 = path_1+\".w\"+w_1+\".i\"+i_1+\".embeddings.normalized.csv\"\n",
    "        index_path_1 = path_1+\".w\"+w_1+\".i\"+i_1+\".offsets.csv\"\n",
    "        embedding_path_2 = path_2+\".w\"+w_2+\".i\"+i_2+\".embeddings.normalized.csv\"\n",
    "        index_path_2 = path_2+\".w\"+w_2+\".i\"+i_2+\".offsets.csv\"\n",
    "    else: \n",
    "        embedding_path_1 = path_1+\".w\"+w_1+\".i\"+i_1+\".embeddings.csv\"\n",
    "        index_path_1 = path_1+\".w\"+w_1+\".i\"+i_1+\".offsets.csv\"\n",
    "        embedding_path_2 = path_2+\".w\"+w_2+\".i\"+i_2+\".embeddings.csv\"\n",
    "        index_path_2 = path_2+\".w\"+w_2+\".i\"+i_2+\".offsets.csv\"\n",
    "    \n",
    "    data_1 = np.genfromtxt(embedding_path_1,delimiter=',')\n",
    "    data_2 = np.expand_dims(np.genfromtxt(embedding_path_2,delimiter=','), axis=0)\n",
    "\n",
    "    indexes_1 = np.genfromtxt(index_path_1,delimiter=',', dtype=int)\n",
    "    indexes_2 = np.genfromtxt(index_path_2,delimiter=',', dtype=int)\n",
    "\n",
    "    cos_sim = dot(data_1, data_2.transpose())/(norm(data_1)*norm(data_2))\n",
    "    # Cos sim should be n x 1 if data2 is just a word\n",
    "    #print('COS SIM: ', cos_sim.shape)\n",
    "    # If it's against one word, add a dimension\n",
    "    #cos_sim = np.expand_dims(cos_sim, axis=0)\n",
    "    #print('COS SIM: ', cos_sim.shape)\n",
    "    result_dict = {}\n",
    "\n",
    "    num = 0\n",
    "    for i in range(cos_sim.shape[0]):\n",
    "        for j in range(cos_sim.shape[1]):\n",
    "            cos_sim_val = cos_sim[i, j]\n",
    "            if cos_sim_val >= threshold:\n",
    "                num += 1\n",
    "                line_1, verse_1 = get_label(i, indexes_1, text_1)\n",
    "                line_2, verse_2 = get_label(j, indexes_2, text_2)\n",
    "\n",
    "                # Save to dict\n",
    "                result_dict[cos_sim_val] = (line_1, line_2, verse_1, verse_2)\n",
    "\n",
    "\n",
    "    print('Number found: ', num)\n",
    "\n",
    "    sorted_dict = sorted(result_dict, reverse=True)\n",
    "    #for key in sorted(result_dict, reverse=True):\n",
    "    for i in range(len(sorted_dict)):\n",
    "        print('////////////////////////////////////////////////////////////////////////////')\n",
    "        print('Cosine Value: ', sorted_dict[i])\n",
    "        #print('Source: ', source_1)\n",
    "        print('Verse ', result_dict[sorted_dict[i]][2])\n",
    "        print('LINE 1: ', result_dict[sorted_dict[i]][0])\n",
    "        print('--------------------------------------------')\n",
    "        #print('Source: ', source_2)\n",
    "        print('Verse ', result_dict[sorted_dict[i]][3])\n",
    "        print('LINE 2: ', result_dict[sorted_dict[i]][1])\n",
    "\n",
    "    length_1 = cos_sim.shape[0]\n",
    "    length_2 = cos_sim.shape[1]\n",
    "    labels_1 = generate_all_labels(length_1, indexes_1, text_1) # 1\n",
    "    labels_2 = generate_all_labels(length_2, indexes_2, text_2)\n",
    "\n",
    "    im = px.imshow(cos_sim[:length_1, :length_2],\n",
    "                x=labels_2, \n",
    "                y=labels_1,\n",
    "                width=500,\n",
    "                height=500,\n",
    "                text_auto=False)\n",
    "\n",
    "    im.update_xaxes(showticklabels=False)\n",
    "    im.update_yaxes(showticklabels=False)\n",
    "\n",
    "    im.show()\n",
    "\n",
    "    plt.figure()\n",
    "    plt.hist(cos_sim.flatten(), bins=50)\n"
   ]
  },
  {
   "cell_type": "code",
   "execution_count": 32,
   "metadata": {},
   "outputs": [
    {
     "name": "stdout",
     "output_type": "stream",
     "text": [
      "Number found:  21\n",
      "////////////////////////////////////////////////////////////////////////////\n",
      "Cosine Value:  0.009550604816536948\n",
      "Verse  1\n",
      "LINE 1:  known as the \"House of Representatives,\" is comprised of elected officials who represent various geographic regions within the country. Each representative is chosen by the citizens of their respective districts through regular elections, with the number of representatives apportioned based\n",
      "--------------------------------------------\n",
      "Verse  1\n",
      "LINE 2:  congress\n",
      "////////////////////////////////////////////////////////////////////////////\n",
      "Cosine Value:  0.008680036725386694\n",
      "Verse  1\n",
      "LINE 1:  The legislative branch of the United States government is a bicameral institution composed of two separate chambers. The first chamber, known as the \"House of Representatives,\" is comprised of elected officials who represent various geographic regions within the country. Each\n",
      "--------------------------------------------\n",
      "Verse  1\n",
      "LINE 2:  congress\n",
      "////////////////////////////////////////////////////////////////////////////\n",
      "Cosine Value:  0.005028517406326549\n",
      "Verse  9\n",
      "LINE 1:  judges meet the qualifications necessary for their positions.\n",
      "Furthermore, the legislative branch has the power of the purse, meaning it has the authority to allocate government funds through the budgetary process. This power is critical in shaping the nation's priorities\n",
      "--------------------------------------------\n",
      "Verse  1\n",
      "LINE 2:  congress\n",
      "////////////////////////////////////////////////////////////////////////////\n",
      "Cosine Value:  0.004089367553421745\n",
      "Verse  11\n",
      "LINE 1:  and implementing policies.\n",
      "Ultimately, the legislative branch of the United States government is a fundamental pillar of the nation's democratic system. It serves as a forum for the representation of the people's interests, the creation of laws, and the checks\n",
      "--------------------------------------------\n",
      "Verse  1\n",
      "LINE 2:  congress\n",
      "////////////////////////////////////////////////////////////////////////////\n",
      "Cosine Value:  0.00329270076305353\n",
      "Verse  9\n",
      "LINE 1:  over the executive and judicial branches of the government. Committees and subcommittees in both chambers are responsible for conducting investigations, hearings, and reviews to ensure that the executive branch is operating within the boundaries of the law and that appointed\n",
      "--------------------------------------------\n",
      "Verse  1\n",
      "LINE 2:  congress\n",
      "////////////////////////////////////////////////////////////////////////////\n",
      "Cosine Value:  0.0024178293224077036\n",
      "Verse  11\n",
      "LINE 1:  has the authority to allocate government funds through the budgetary process. This power is critical in shaping the nation's priorities and implementing policies.\n",
      "Ultimately, the legislative branch of the United States government is a fundamental pillar of the nation's democratic\n",
      "--------------------------------------------\n",
      "Verse  1\n",
      "LINE 2:  congress\n",
      "////////////////////////////////////////////////////////////////////////////\n",
      "Cosine Value:  0.0019006102127582076\n",
      "Verse  3\n",
      "LINE 1:  and populations.\n",
      "The primary function of these two chambers is to craft and pass legislation, which involves a multi-step process. Bills, which can originate in either the House of Representatives or the Senate, undergo thorough examination and debate before becoming\n",
      "--------------------------------------------\n",
      "Verse  1\n",
      "LINE 2:  congress\n",
      "////////////////////////////////////////////////////////////////////////////\n",
      "Cosine Value:  0.0016312464269340357\n",
      "Verse  7\n",
      "LINE 1:  their states as a whole and providing a stabilizing influence in the legislative process.\n",
      "The legislative branch also exercises oversight over the executive and judicial branches of the government. Committees and subcommittees in both chambers are responsible for conducting investigations,\n",
      "--------------------------------------------\n",
      "Verse  1\n",
      "LINE 2:  congress\n",
      "////////////////////////////////////////////////////////////////////////////\n",
      "Cosine Value:  0.0014996852347738659\n",
      "Verse  13\n",
      "LINE 1:  and balances necessary for a functioning democracy. Through its carefully designed structure and responsibilities, it plays a vital role in shaping the nation's laws and policies.\n",
      "--------------------------------------------\n",
      "Verse  1\n",
      "LINE 2:  congress\n",
      "////////////////////////////////////////////////////////////////////////////\n",
      "Cosine Value:  0.0013570256741365868\n",
      "Verse  3\n",
      "LINE 1:  in the legislative process. This design reflects the Founding Fathers' intent to balance the interests of states with varying sizes and populations.\n",
      "The primary function of these two chambers is to craft and pass legislation, which involves a multi-step process.\n",
      "--------------------------------------------\n",
      "Verse  1\n",
      "LINE 2:  congress\n",
      "////////////////////////////////////////////////////////////////////////////\n",
      "Cosine Value:  0.0009356835161198694\n",
      "Verse  5\n",
      "LINE 1:  law. Both chambers must approve a bill before it can proceed to the President for final approval or veto.\n",
      "In addition to their legislative duties, members of these chambers have distinct roles. Representatives are often seen as the voices of\n",
      "--------------------------------------------\n",
      "Verse  1\n",
      "LINE 2:  congress\n",
      "////////////////////////////////////////////////////////////////////////////\n",
      "Cosine Value:  0.0004544223484535105\n",
      "Verse  1\n",
      "LINE 1:  represent their constituents' interests.\n",
      "The second chamber, known as the \"Senate,\" is distinct from the House of Representatives both in its composition and its responsibilities. The Senate consists of a fixed number of members, with each state sending two senators\n",
      "--------------------------------------------\n",
      "Verse  1\n",
      "LINE 2:  congress\n",
      "////////////////////////////////////////////////////////////////////////////\n",
      "Cosine Value:  0.00029591394536442257\n",
      "Verse  7\n",
      "LINE 1:  the people, directly representing their constituents' interests and concerns. Senators, on the other hand, play a unique role in representing their states as a whole and providing a stabilizing influence in the legislative process.\n",
      "The legislative branch also exercises oversight\n",
      "--------------------------------------------\n",
      "Verse  1\n",
      "LINE 2:  congress\n",
      "////////////////////////////////////////////////////////////////////////////\n",
      "Cosine Value:  -0.001003402497455553\n",
      "Verse  3\n",
      "LINE 1:  to serve in this body. Unlike representatives, senators are elected for six-year terms, providing a measure of continuity and stability in the legislative process. This design reflects the Founding Fathers' intent to balance the interests of states with varying sizes\n",
      "--------------------------------------------\n",
      "Verse  1\n",
      "LINE 2:  congress\n",
      "////////////////////////////////////////////////////////////////////////////\n",
      "Cosine Value:  -0.0022590962291668027\n",
      "Verse  1\n",
      "LINE 1:  on the population of each district. This ensures that more populous areas have a greater number of representatives to adequately represent their constituents' interests.\n",
      "The second chamber, known as the \"Senate,\" is distinct from the House of Representatives both in\n",
      "--------------------------------------------\n",
      "Verse  1\n",
      "LINE 2:  congress\n",
      "////////////////////////////////////////////////////////////////////////////\n",
      "Cosine Value:  -0.0032721568764204835\n",
      "Verse  5\n",
      "LINE 1:  Bills, which can originate in either the House of Representatives or the Senate, undergo thorough examination and debate before becoming law. Both chambers must approve a bill before it can proceed to the President for final approval or veto.\n",
      "In\n",
      "--------------------------------------------\n",
      "Verse  1\n",
      "LINE 2:  congress\n",
      "////////////////////////////////////////////////////////////////////////////\n",
      "Cosine Value:  -0.005006188533617235\n",
      "Verse  7\n",
      "LINE 1:  addition to their legislative duties, members of these chambers have distinct roles. Representatives are often seen as the voices of the people, directly representing their constituents' interests and concerns. Senators, on the other hand, play a unique role in representing\n",
      "--------------------------------------------\n",
      "Verse  1\n",
      "LINE 2:  congress\n",
      "////////////////////////////////////////////////////////////////////////////\n",
      "Cosine Value:  -0.005537827330039682\n",
      "Verse  13\n",
      "LINE 1:  system. It serves as a forum for the representation of the people's interests, the creation of laws, and the checks and balances necessary for a functioning democracy. Through its carefully designed structure and responsibilities, it plays a vital role in\n",
      "--------------------------------------------\n",
      "Verse  1\n",
      "LINE 2:  congress\n",
      "////////////////////////////////////////////////////////////////////////////\n",
      "Cosine Value:  -0.006157976187163296\n",
      "Verse  9\n",
      "LINE 1:  hearings, and reviews to ensure that the executive branch is operating within the boundaries of the law and that appointed judges meet the qualifications necessary for their positions.\n",
      "Furthermore, the legislative branch has the power of the purse, meaning it\n",
      "--------------------------------------------\n",
      "Verse  1\n",
      "LINE 2:  congress\n",
      "////////////////////////////////////////////////////////////////////////////\n",
      "Cosine Value:  -0.007577837603296473\n",
      "Verse  1\n",
      "LINE 1:  representative is chosen by the citizens of their respective districts through regular elections, with the number of representatives apportioned based on the population of each district. This ensures that more populous areas have a greater number of representatives to adequately\n",
      "--------------------------------------------\n",
      "Verse  1\n",
      "LINE 2:  congress\n",
      "////////////////////////////////////////////////////////////////////////////\n",
      "Cosine Value:  -0.010319158688514102\n",
      "Verse  3\n",
      "LINE 1:  its composition and its responsibilities. The Senate consists of a fixed number of members, with each state sending two senators to serve in this body. Unlike representatives, senators are elected for six-year terms, providing a measure of continuity and stability\n",
      "--------------------------------------------\n",
      "Verse  1\n",
      "LINE 2:  congress\n"
     ]
    },
    {
     "data": {
      "application/vnd.plotly.v1+json": {
       "config": {
        "plotlyServerURL": "https://plot.ly"
       },
       "data": [
        {
         "coloraxis": "coloraxis",
         "hovertemplate": "x: %{x}<br>y: %{y}<br>color: %{z}<extra></extra>",
         "name": "0",
         "type": "heatmap",
         "x": [
          "congress"
         ],
         "xaxis": "x",
         "y": [
          "The legislative branch of the United States government is a bicameral institution composed of two separate chambers. The first chamber, known as the \"House of Representatives,\" is comprised of elected officials who represent various geographic regions within the country. Each",
          "known as the \"House of Representatives,\" is comprised of elected officials who represent various geographic regions within the country. Each representative is chosen by the citizens of their respective districts through regular elections, with the number of representatives apportioned based",
          "representative is chosen by the citizens of their respective districts through regular elections, with the number of representatives apportioned based on the population of each district. This ensures that more populous areas have a greater number of representatives to adequately",
          "on the population of each district. This ensures that more populous areas have a greater number of representatives to adequately represent their constituents' interests.\nThe second chamber, known as the \"Senate,\" is distinct from the House of Representatives both in",
          "represent their constituents' interests.\nThe second chamber, known as the \"Senate,\" is distinct from the House of Representatives both in its composition and its responsibilities. The Senate consists of a fixed number of members, with each state sending two senators",
          "its composition and its responsibilities. The Senate consists of a fixed number of members, with each state sending two senators to serve in this body. Unlike representatives, senators are elected for six-year terms, providing a measure of continuity and stability",
          "to serve in this body. Unlike representatives, senators are elected for six-year terms, providing a measure of continuity and stability in the legislative process. This design reflects the Founding Fathers' intent to balance the interests of states with varying sizes",
          "in the legislative process. This design reflects the Founding Fathers' intent to balance the interests of states with varying sizes and populations.\nThe primary function of these two chambers is to craft and pass legislation, which involves a multi-step process.",
          "and populations.\nThe primary function of these two chambers is to craft and pass legislation, which involves a multi-step process. Bills, which can originate in either the House of Representatives or the Senate, undergo thorough examination and debate before becoming",
          "Bills, which can originate in either the House of Representatives or the Senate, undergo thorough examination and debate before becoming law. Both chambers must approve a bill before it can proceed to the President for final approval or veto.\nIn",
          "law. Both chambers must approve a bill before it can proceed to the President for final approval or veto.\nIn addition to their legislative duties, members of these chambers have distinct roles. Representatives are often seen as the voices of",
          "addition to their legislative duties, members of these chambers have distinct roles. Representatives are often seen as the voices of the people, directly representing their constituents' interests and concerns. Senators, on the other hand, play a unique role in representing",
          "the people, directly representing their constituents' interests and concerns. Senators, on the other hand, play a unique role in representing their states as a whole and providing a stabilizing influence in the legislative process.\nThe legislative branch also exercises oversight",
          "their states as a whole and providing a stabilizing influence in the legislative process.\nThe legislative branch also exercises oversight over the executive and judicial branches of the government. Committees and subcommittees in both chambers are responsible for conducting investigations,",
          "over the executive and judicial branches of the government. Committees and subcommittees in both chambers are responsible for conducting investigations, hearings, and reviews to ensure that the executive branch is operating within the boundaries of the law and that appointed",
          "hearings, and reviews to ensure that the executive branch is operating within the boundaries of the law and that appointed judges meet the qualifications necessary for their positions.\nFurthermore, the legislative branch has the power of the purse, meaning it",
          "judges meet the qualifications necessary for their positions.\nFurthermore, the legislative branch has the power of the purse, meaning it has the authority to allocate government funds through the budgetary process. This power is critical in shaping the nation's priorities",
          "has the authority to allocate government funds through the budgetary process. This power is critical in shaping the nation's priorities and implementing policies.\nUltimately, the legislative branch of the United States government is a fundamental pillar of the nation's democratic",
          "and implementing policies.\nUltimately, the legislative branch of the United States government is a fundamental pillar of the nation's democratic system. It serves as a forum for the representation of the people's interests, the creation of laws, and the checks",
          "system. It serves as a forum for the representation of the people's interests, the creation of laws, and the checks and balances necessary for a functioning democracy. Through its carefully designed structure and responsibilities, it plays a vital role in",
          "and balances necessary for a functioning democracy. Through its carefully designed structure and responsibilities, it plays a vital role in shaping the nation's laws and policies."
         ],
         "yaxis": "y",
         "z": [
          [
           0.008680036725386694
          ],
          [
           0.009550604816536948
          ],
          [
           -0.007577837603296473
          ],
          [
           -0.0022590962291668027
          ],
          [
           0.0004544223484535105
          ],
          [
           -0.010319158688514102
          ],
          [
           -0.001003402497455553
          ],
          [
           0.0013570256741365868
          ],
          [
           0.0019006102127582076
          ],
          [
           -0.0032721568764204835
          ],
          [
           0.0009356835161198694
          ],
          [
           -0.005006188533617235
          ],
          [
           0.00029591394536442257
          ],
          [
           0.0016312464269340357
          ],
          [
           0.00329270076305353
          ],
          [
           -0.006157976187163296
          ],
          [
           0.005028517406326549
          ],
          [
           0.0024178293224077036
          ],
          [
           0.004089367553421745
          ],
          [
           -0.005537827330039682
          ],
          [
           0.0014996852347738659
          ]
         ]
        }
       ],
       "layout": {
        "coloraxis": {
         "colorscale": [
          [
           0,
           "#0d0887"
          ],
          [
           0.1111111111111111,
           "#46039f"
          ],
          [
           0.2222222222222222,
           "#7201a8"
          ],
          [
           0.3333333333333333,
           "#9c179e"
          ],
          [
           0.4444444444444444,
           "#bd3786"
          ],
          [
           0.5555555555555556,
           "#d8576b"
          ],
          [
           0.6666666666666666,
           "#ed7953"
          ],
          [
           0.7777777777777778,
           "#fb9f3a"
          ],
          [
           0.8888888888888888,
           "#fdca26"
          ],
          [
           1,
           "#f0f921"
          ]
         ]
        },
        "height": 500,
        "margin": {
         "t": 60
        },
        "template": {
         "data": {
          "bar": [
           {
            "error_x": {
             "color": "#2a3f5f"
            },
            "error_y": {
             "color": "#2a3f5f"
            },
            "marker": {
             "line": {
              "color": "#E5ECF6",
              "width": 0.5
             },
             "pattern": {
              "fillmode": "overlay",
              "size": 10,
              "solidity": 0.2
             }
            },
            "type": "bar"
           }
          ],
          "barpolar": [
           {
            "marker": {
             "line": {
              "color": "#E5ECF6",
              "width": 0.5
             },
             "pattern": {
              "fillmode": "overlay",
              "size": 10,
              "solidity": 0.2
             }
            },
            "type": "barpolar"
           }
          ],
          "carpet": [
           {
            "aaxis": {
             "endlinecolor": "#2a3f5f",
             "gridcolor": "white",
             "linecolor": "white",
             "minorgridcolor": "white",
             "startlinecolor": "#2a3f5f"
            },
            "baxis": {
             "endlinecolor": "#2a3f5f",
             "gridcolor": "white",
             "linecolor": "white",
             "minorgridcolor": "white",
             "startlinecolor": "#2a3f5f"
            },
            "type": "carpet"
           }
          ],
          "choropleth": [
           {
            "colorbar": {
             "outlinewidth": 0,
             "ticks": ""
            },
            "type": "choropleth"
           }
          ],
          "contour": [
           {
            "colorbar": {
             "outlinewidth": 0,
             "ticks": ""
            },
            "colorscale": [
             [
              0,
              "#0d0887"
             ],
             [
              0.1111111111111111,
              "#46039f"
             ],
             [
              0.2222222222222222,
              "#7201a8"
             ],
             [
              0.3333333333333333,
              "#9c179e"
             ],
             [
              0.4444444444444444,
              "#bd3786"
             ],
             [
              0.5555555555555556,
              "#d8576b"
             ],
             [
              0.6666666666666666,
              "#ed7953"
             ],
             [
              0.7777777777777778,
              "#fb9f3a"
             ],
             [
              0.8888888888888888,
              "#fdca26"
             ],
             [
              1,
              "#f0f921"
             ]
            ],
            "type": "contour"
           }
          ],
          "contourcarpet": [
           {
            "colorbar": {
             "outlinewidth": 0,
             "ticks": ""
            },
            "type": "contourcarpet"
           }
          ],
          "heatmap": [
           {
            "colorbar": {
             "outlinewidth": 0,
             "ticks": ""
            },
            "colorscale": [
             [
              0,
              "#0d0887"
             ],
             [
              0.1111111111111111,
              "#46039f"
             ],
             [
              0.2222222222222222,
              "#7201a8"
             ],
             [
              0.3333333333333333,
              "#9c179e"
             ],
             [
              0.4444444444444444,
              "#bd3786"
             ],
             [
              0.5555555555555556,
              "#d8576b"
             ],
             [
              0.6666666666666666,
              "#ed7953"
             ],
             [
              0.7777777777777778,
              "#fb9f3a"
             ],
             [
              0.8888888888888888,
              "#fdca26"
             ],
             [
              1,
              "#f0f921"
             ]
            ],
            "type": "heatmap"
           }
          ],
          "heatmapgl": [
           {
            "colorbar": {
             "outlinewidth": 0,
             "ticks": ""
            },
            "colorscale": [
             [
              0,
              "#0d0887"
             ],
             [
              0.1111111111111111,
              "#46039f"
             ],
             [
              0.2222222222222222,
              "#7201a8"
             ],
             [
              0.3333333333333333,
              "#9c179e"
             ],
             [
              0.4444444444444444,
              "#bd3786"
             ],
             [
              0.5555555555555556,
              "#d8576b"
             ],
             [
              0.6666666666666666,
              "#ed7953"
             ],
             [
              0.7777777777777778,
              "#fb9f3a"
             ],
             [
              0.8888888888888888,
              "#fdca26"
             ],
             [
              1,
              "#f0f921"
             ]
            ],
            "type": "heatmapgl"
           }
          ],
          "histogram": [
           {
            "marker": {
             "pattern": {
              "fillmode": "overlay",
              "size": 10,
              "solidity": 0.2
             }
            },
            "type": "histogram"
           }
          ],
          "histogram2d": [
           {
            "colorbar": {
             "outlinewidth": 0,
             "ticks": ""
            },
            "colorscale": [
             [
              0,
              "#0d0887"
             ],
             [
              0.1111111111111111,
              "#46039f"
             ],
             [
              0.2222222222222222,
              "#7201a8"
             ],
             [
              0.3333333333333333,
              "#9c179e"
             ],
             [
              0.4444444444444444,
              "#bd3786"
             ],
             [
              0.5555555555555556,
              "#d8576b"
             ],
             [
              0.6666666666666666,
              "#ed7953"
             ],
             [
              0.7777777777777778,
              "#fb9f3a"
             ],
             [
              0.8888888888888888,
              "#fdca26"
             ],
             [
              1,
              "#f0f921"
             ]
            ],
            "type": "histogram2d"
           }
          ],
          "histogram2dcontour": [
           {
            "colorbar": {
             "outlinewidth": 0,
             "ticks": ""
            },
            "colorscale": [
             [
              0,
              "#0d0887"
             ],
             [
              0.1111111111111111,
              "#46039f"
             ],
             [
              0.2222222222222222,
              "#7201a8"
             ],
             [
              0.3333333333333333,
              "#9c179e"
             ],
             [
              0.4444444444444444,
              "#bd3786"
             ],
             [
              0.5555555555555556,
              "#d8576b"
             ],
             [
              0.6666666666666666,
              "#ed7953"
             ],
             [
              0.7777777777777778,
              "#fb9f3a"
             ],
             [
              0.8888888888888888,
              "#fdca26"
             ],
             [
              1,
              "#f0f921"
             ]
            ],
            "type": "histogram2dcontour"
           }
          ],
          "mesh3d": [
           {
            "colorbar": {
             "outlinewidth": 0,
             "ticks": ""
            },
            "type": "mesh3d"
           }
          ],
          "parcoords": [
           {
            "line": {
             "colorbar": {
              "outlinewidth": 0,
              "ticks": ""
             }
            },
            "type": "parcoords"
           }
          ],
          "pie": [
           {
            "automargin": true,
            "type": "pie"
           }
          ],
          "scatter": [
           {
            "fillpattern": {
             "fillmode": "overlay",
             "size": 10,
             "solidity": 0.2
            },
            "type": "scatter"
           }
          ],
          "scatter3d": [
           {
            "line": {
             "colorbar": {
              "outlinewidth": 0,
              "ticks": ""
             }
            },
            "marker": {
             "colorbar": {
              "outlinewidth": 0,
              "ticks": ""
             }
            },
            "type": "scatter3d"
           }
          ],
          "scattercarpet": [
           {
            "marker": {
             "colorbar": {
              "outlinewidth": 0,
              "ticks": ""
             }
            },
            "type": "scattercarpet"
           }
          ],
          "scattergeo": [
           {
            "marker": {
             "colorbar": {
              "outlinewidth": 0,
              "ticks": ""
             }
            },
            "type": "scattergeo"
           }
          ],
          "scattergl": [
           {
            "marker": {
             "colorbar": {
              "outlinewidth": 0,
              "ticks": ""
             }
            },
            "type": "scattergl"
           }
          ],
          "scattermapbox": [
           {
            "marker": {
             "colorbar": {
              "outlinewidth": 0,
              "ticks": ""
             }
            },
            "type": "scattermapbox"
           }
          ],
          "scatterpolar": [
           {
            "marker": {
             "colorbar": {
              "outlinewidth": 0,
              "ticks": ""
             }
            },
            "type": "scatterpolar"
           }
          ],
          "scatterpolargl": [
           {
            "marker": {
             "colorbar": {
              "outlinewidth": 0,
              "ticks": ""
             }
            },
            "type": "scatterpolargl"
           }
          ],
          "scatterternary": [
           {
            "marker": {
             "colorbar": {
              "outlinewidth": 0,
              "ticks": ""
             }
            },
            "type": "scatterternary"
           }
          ],
          "surface": [
           {
            "colorbar": {
             "outlinewidth": 0,
             "ticks": ""
            },
            "colorscale": [
             [
              0,
              "#0d0887"
             ],
             [
              0.1111111111111111,
              "#46039f"
             ],
             [
              0.2222222222222222,
              "#7201a8"
             ],
             [
              0.3333333333333333,
              "#9c179e"
             ],
             [
              0.4444444444444444,
              "#bd3786"
             ],
             [
              0.5555555555555556,
              "#d8576b"
             ],
             [
              0.6666666666666666,
              "#ed7953"
             ],
             [
              0.7777777777777778,
              "#fb9f3a"
             ],
             [
              0.8888888888888888,
              "#fdca26"
             ],
             [
              1,
              "#f0f921"
             ]
            ],
            "type": "surface"
           }
          ],
          "table": [
           {
            "cells": {
             "fill": {
              "color": "#EBF0F8"
             },
             "line": {
              "color": "white"
             }
            },
            "header": {
             "fill": {
              "color": "#C8D4E3"
             },
             "line": {
              "color": "white"
             }
            },
            "type": "table"
           }
          ]
         },
         "layout": {
          "annotationdefaults": {
           "arrowcolor": "#2a3f5f",
           "arrowhead": 0,
           "arrowwidth": 1
          },
          "autotypenumbers": "strict",
          "coloraxis": {
           "colorbar": {
            "outlinewidth": 0,
            "ticks": ""
           }
          },
          "colorscale": {
           "diverging": [
            [
             0,
             "#8e0152"
            ],
            [
             0.1,
             "#c51b7d"
            ],
            [
             0.2,
             "#de77ae"
            ],
            [
             0.3,
             "#f1b6da"
            ],
            [
             0.4,
             "#fde0ef"
            ],
            [
             0.5,
             "#f7f7f7"
            ],
            [
             0.6,
             "#e6f5d0"
            ],
            [
             0.7,
             "#b8e186"
            ],
            [
             0.8,
             "#7fbc41"
            ],
            [
             0.9,
             "#4d9221"
            ],
            [
             1,
             "#276419"
            ]
           ],
           "sequential": [
            [
             0,
             "#0d0887"
            ],
            [
             0.1111111111111111,
             "#46039f"
            ],
            [
             0.2222222222222222,
             "#7201a8"
            ],
            [
             0.3333333333333333,
             "#9c179e"
            ],
            [
             0.4444444444444444,
             "#bd3786"
            ],
            [
             0.5555555555555556,
             "#d8576b"
            ],
            [
             0.6666666666666666,
             "#ed7953"
            ],
            [
             0.7777777777777778,
             "#fb9f3a"
            ],
            [
             0.8888888888888888,
             "#fdca26"
            ],
            [
             1,
             "#f0f921"
            ]
           ],
           "sequentialminus": [
            [
             0,
             "#0d0887"
            ],
            [
             0.1111111111111111,
             "#46039f"
            ],
            [
             0.2222222222222222,
             "#7201a8"
            ],
            [
             0.3333333333333333,
             "#9c179e"
            ],
            [
             0.4444444444444444,
             "#bd3786"
            ],
            [
             0.5555555555555556,
             "#d8576b"
            ],
            [
             0.6666666666666666,
             "#ed7953"
            ],
            [
             0.7777777777777778,
             "#fb9f3a"
            ],
            [
             0.8888888888888888,
             "#fdca26"
            ],
            [
             1,
             "#f0f921"
            ]
           ]
          },
          "colorway": [
           "#636efa",
           "#EF553B",
           "#00cc96",
           "#ab63fa",
           "#FFA15A",
           "#19d3f3",
           "#FF6692",
           "#B6E880",
           "#FF97FF",
           "#FECB52"
          ],
          "font": {
           "color": "#2a3f5f"
          },
          "geo": {
           "bgcolor": "white",
           "lakecolor": "white",
           "landcolor": "#E5ECF6",
           "showlakes": true,
           "showland": true,
           "subunitcolor": "white"
          },
          "hoverlabel": {
           "align": "left"
          },
          "hovermode": "closest",
          "mapbox": {
           "style": "light"
          },
          "paper_bgcolor": "white",
          "plot_bgcolor": "#E5ECF6",
          "polar": {
           "angularaxis": {
            "gridcolor": "white",
            "linecolor": "white",
            "ticks": ""
           },
           "bgcolor": "#E5ECF6",
           "radialaxis": {
            "gridcolor": "white",
            "linecolor": "white",
            "ticks": ""
           }
          },
          "scene": {
           "xaxis": {
            "backgroundcolor": "#E5ECF6",
            "gridcolor": "white",
            "gridwidth": 2,
            "linecolor": "white",
            "showbackground": true,
            "ticks": "",
            "zerolinecolor": "white"
           },
           "yaxis": {
            "backgroundcolor": "#E5ECF6",
            "gridcolor": "white",
            "gridwidth": 2,
            "linecolor": "white",
            "showbackground": true,
            "ticks": "",
            "zerolinecolor": "white"
           },
           "zaxis": {
            "backgroundcolor": "#E5ECF6",
            "gridcolor": "white",
            "gridwidth": 2,
            "linecolor": "white",
            "showbackground": true,
            "ticks": "",
            "zerolinecolor": "white"
           }
          },
          "shapedefaults": {
           "line": {
            "color": "#2a3f5f"
           }
          },
          "ternary": {
           "aaxis": {
            "gridcolor": "white",
            "linecolor": "white",
            "ticks": ""
           },
           "baxis": {
            "gridcolor": "white",
            "linecolor": "white",
            "ticks": ""
           },
           "bgcolor": "#E5ECF6",
           "caxis": {
            "gridcolor": "white",
            "linecolor": "white",
            "ticks": ""
           }
          },
          "title": {
           "x": 0.05
          },
          "xaxis": {
           "automargin": true,
           "gridcolor": "white",
           "linecolor": "white",
           "ticks": "",
           "title": {
            "standoff": 15
           },
           "zerolinecolor": "white",
           "zerolinewidth": 2
          },
          "yaxis": {
           "automargin": true,
           "gridcolor": "white",
           "linecolor": "white",
           "ticks": "",
           "title": {
            "standoff": 15
           },
           "zerolinecolor": "white",
           "zerolinewidth": 2
          }
         }
        },
        "width": 500,
        "xaxis": {
         "anchor": "y",
         "constrain": "domain",
         "domain": [
          0,
          1
         ],
         "scaleanchor": "y",
         "showticklabels": false
        },
        "yaxis": {
         "anchor": "x",
         "autorange": "reversed",
         "constrain": "domain",
         "domain": [
          0,
          1
         ],
         "showticklabels": false
        }
       }
      }
     },
     "metadata": {},
     "output_type": "display_data"
    },
    {
     "data": {
      "image/png": "[encoded data removed]",
      "text/plain": [
       "<Figure size 640x480 with 1 Axes>"
      ]
     },
     "metadata": {},
     "output_type": "display_data"
    }
   ],
   "source": [
    "evaluate_data('./test_data/congress_description', './test_data/congress_label', '040', '001', '020', '001')"
   ]
  },
  {
   "cell_type": "code",
   "execution_count": 33,
   "metadata": {},
   "outputs": [
    {
     "name": "stdout",
     "output_type": "stream",
     "text": [
      "Number found:  21\n",
      "////////////////////////////////////////////////////////////////////////////\n",
      "Cosine Value:  0.005563049846660581\n",
      "Verse  3\n",
      "LINE 1:  to serve in this body. Unlike representatives, senators are elected for six-year terms, providing a measure of continuity and stability in the legislative process. This design reflects the Founding Fathers' intent to balance the interests of states with varying sizes\n",
      "--------------------------------------------\n",
      "Verse  1\n",
      "LINE 2:  orange\n",
      "////////////////////////////////////////////////////////////////////////////\n",
      "Cosine Value:  0.003839238131579409\n",
      "Verse  1\n",
      "LINE 1:  known as the \"House of Representatives,\" is comprised of elected officials who represent various geographic regions within the country. Each representative is chosen by the citizens of their respective districts through regular elections, with the number of representatives apportioned based\n",
      "--------------------------------------------\n",
      "Verse  1\n",
      "LINE 2:  orange\n",
      "////////////////////////////////////////////////////////////////////////////\n",
      "Cosine Value:  0.003607702386771989\n",
      "Verse  13\n",
      "LINE 1:  and balances necessary for a functioning democracy. Through its carefully designed structure and responsibilities, it plays a vital role in shaping the nation's laws and policies.\n",
      "--------------------------------------------\n",
      "Verse  1\n",
      "LINE 2:  orange\n",
      "////////////////////////////////////////////////////////////////////////////\n",
      "Cosine Value:  0.0032293546797498604\n",
      "Verse  9\n",
      "LINE 1:  hearings, and reviews to ensure that the executive branch is operating within the boundaries of the law and that appointed judges meet the qualifications necessary for their positions.\n",
      "Furthermore, the legislative branch has the power of the purse, meaning it\n",
      "--------------------------------------------\n",
      "Verse  1\n",
      "LINE 2:  orange\n",
      "////////////////////////////////////////////////////////////////////////////\n",
      "Cosine Value:  0.0027763683615337842\n",
      "Verse  9\n",
      "LINE 1:  judges meet the qualifications necessary for their positions.\n",
      "Furthermore, the legislative branch has the power of the purse, meaning it has the authority to allocate government funds through the budgetary process. This power is critical in shaping the nation's priorities\n",
      "--------------------------------------------\n",
      "Verse  1\n",
      "LINE 2:  orange\n",
      "////////////////////////////////////////////////////////////////////////////\n",
      "Cosine Value:  0.002461162222539818\n",
      "Verse  5\n",
      "LINE 1:  Bills, which can originate in either the House of Representatives or the Senate, undergo thorough examination and debate before becoming law. Both chambers must approve a bill before it can proceed to the President for final approval or veto.\n",
      "In\n",
      "--------------------------------------------\n",
      "Verse  1\n",
      "LINE 2:  orange\n",
      "////////////////////////////////////////////////////////////////////////////\n",
      "Cosine Value:  0.001776814826504928\n",
      "Verse  13\n",
      "LINE 1:  system. It serves as a forum for the representation of the people's interests, the creation of laws, and the checks and balances necessary for a functioning democracy. Through its carefully designed structure and responsibilities, it plays a vital role in\n",
      "--------------------------------------------\n",
      "Verse  1\n",
      "LINE 2:  orange\n",
      "////////////////////////////////////////////////////////////////////////////\n",
      "Cosine Value:  0.0009903144361031433\n",
      "Verse  5\n",
      "LINE 1:  law. Both chambers must approve a bill before it can proceed to the President for final approval or veto.\n",
      "In addition to their legislative duties, members of these chambers have distinct roles. Representatives are often seen as the voices of\n",
      "--------------------------------------------\n",
      "Verse  1\n",
      "LINE 2:  orange\n",
      "////////////////////////////////////////////////////////////////////////////\n",
      "Cosine Value:  0.0004892728848820098\n",
      "Verse  7\n",
      "LINE 1:  the people, directly representing their constituents' interests and concerns. Senators, on the other hand, play a unique role in representing their states as a whole and providing a stabilizing influence in the legislative process.\n",
      "The legislative branch also exercises oversight\n",
      "--------------------------------------------\n",
      "Verse  1\n",
      "LINE 2:  orange\n",
      "////////////////////////////////////////////////////////////////////////////\n",
      "Cosine Value:  0.00039993354544282783\n",
      "Verse  1\n",
      "LINE 1:  representative is chosen by the citizens of their respective districts through regular elections, with the number of representatives apportioned based on the population of each district. This ensures that more populous areas have a greater number of representatives to adequately\n",
      "--------------------------------------------\n",
      "Verse  1\n",
      "LINE 2:  orange\n",
      "////////////////////////////////////////////////////////////////////////////\n",
      "Cosine Value:  0.00025350926621324623\n",
      "Verse  9\n",
      "LINE 1:  over the executive and judicial branches of the government. Committees and subcommittees in both chambers are responsible for conducting investigations, hearings, and reviews to ensure that the executive branch is operating within the boundaries of the law and that appointed\n",
      "--------------------------------------------\n",
      "Verse  1\n",
      "LINE 2:  orange\n",
      "////////////////////////////////////////////////////////////////////////////\n",
      "Cosine Value:  5.59076018502199e-05\n",
      "Verse  3\n",
      "LINE 1:  and populations.\n",
      "The primary function of these two chambers is to craft and pass legislation, which involves a multi-step process. Bills, which can originate in either the House of Representatives or the Senate, undergo thorough examination and debate before becoming\n",
      "--------------------------------------------\n",
      "Verse  1\n",
      "LINE 2:  orange\n",
      "////////////////////////////////////////////////////////////////////////////\n",
      "Cosine Value:  -5.922118476839501e-05\n",
      "Verse  1\n",
      "LINE 1:  on the population of each district. This ensures that more populous areas have a greater number of representatives to adequately represent their constituents' interests.\n",
      "The second chamber, known as the \"Senate,\" is distinct from the House of Representatives both in\n",
      "--------------------------------------------\n",
      "Verse  1\n",
      "LINE 2:  orange\n",
      "////////////////////////////////////////////////////////////////////////////\n",
      "Cosine Value:  -0.00014254008925022237\n",
      "Verse  3\n",
      "LINE 1:  in the legislative process. This design reflects the Founding Fathers' intent to balance the interests of states with varying sizes and populations.\n",
      "The primary function of these two chambers is to craft and pass legislation, which involves a multi-step process.\n",
      "--------------------------------------------\n",
      "Verse  1\n",
      "LINE 2:  orange\n",
      "////////////////////////////////////////////////////////////////////////////\n",
      "Cosine Value:  -0.00047364503684385823\n",
      "Verse  1\n",
      "LINE 1:  represent their constituents' interests.\n",
      "The second chamber, known as the \"Senate,\" is distinct from the House of Representatives both in its composition and its responsibilities. The Senate consists of a fixed number of members, with each state sending two senators\n",
      "--------------------------------------------\n",
      "Verse  1\n",
      "LINE 2:  orange\n",
      "////////////////////////////////////////////////////////////////////////////\n",
      "Cosine Value:  -0.001144646000477144\n",
      "Verse  3\n",
      "LINE 1:  its composition and its responsibilities. The Senate consists of a fixed number of members, with each state sending two senators to serve in this body. Unlike representatives, senators are elected for six-year terms, providing a measure of continuity and stability\n",
      "--------------------------------------------\n",
      "Verse  1\n",
      "LINE 2:  orange\n",
      "////////////////////////////////////////////////////////////////////////////\n",
      "Cosine Value:  -0.0024295398805800803\n",
      "Verse  11\n",
      "LINE 1:  and implementing policies.\n",
      "Ultimately, the legislative branch of the United States government is a fundamental pillar of the nation's democratic system. It serves as a forum for the representation of the people's interests, the creation of laws, and the checks\n",
      "--------------------------------------------\n",
      "Verse  1\n",
      "LINE 2:  orange\n",
      "////////////////////////////////////////////////////////////////////////////\n",
      "Cosine Value:  -0.002921832579176993\n",
      "Verse  11\n",
      "LINE 1:  has the authority to allocate government funds through the budgetary process. This power is critical in shaping the nation's priorities and implementing policies.\n",
      "Ultimately, the legislative branch of the United States government is a fundamental pillar of the nation's democratic\n",
      "--------------------------------------------\n",
      "Verse  1\n",
      "LINE 2:  orange\n",
      "////////////////////////////////////////////////////////////////////////////\n",
      "Cosine Value:  -0.005034170438351788\n",
      "Verse  7\n",
      "LINE 1:  addition to their legislative duties, members of these chambers have distinct roles. Representatives are often seen as the voices of the people, directly representing their constituents' interests and concerns. Senators, on the other hand, play a unique role in representing\n",
      "--------------------------------------------\n",
      "Verse  1\n",
      "LINE 2:  orange\n",
      "////////////////////////////////////////////////////////////////////////////\n",
      "Cosine Value:  -0.006346239441700487\n",
      "Verse  7\n",
      "LINE 1:  their states as a whole and providing a stabilizing influence in the legislative process.\n",
      "The legislative branch also exercises oversight over the executive and judicial branches of the government. Committees and subcommittees in both chambers are responsible for conducting investigations,\n",
      "--------------------------------------------\n",
      "Verse  1\n",
      "LINE 2:  orange\n",
      "////////////////////////////////////////////////////////////////////////////\n",
      "Cosine Value:  -0.006890793538682783\n",
      "Verse  1\n",
      "LINE 1:  The legislative branch of the United States government is a bicameral institution composed of two separate chambers. The first chamber, known as the \"House of Representatives,\" is comprised of elected officials who represent various geographic regions within the country. Each\n",
      "--------------------------------------------\n",
      "Verse  1\n",
      "LINE 2:  orange\n"
     ]
    },
    {
     "data": {
      "application/vnd.plotly.v1+json": {
       "config": {
        "plotlyServerURL": "https://plot.ly"
       },
       "data": [
        {
         "coloraxis": "coloraxis",
         "hovertemplate": "x: %{x}<br>y: %{y}<br>color: %{z}<extra></extra>",
         "name": "0",
         "type": "heatmap",
         "x": [
          "orange"
         ],
         "xaxis": "x",
         "y": [
          "The legislative branch of the United States government is a bicameral institution composed of two separate chambers. The first chamber, known as the \"House of Representatives,\" is comprised of elected officials who represent various geographic regions within the country. Each",
          "known as the \"House of Representatives,\" is comprised of elected officials who represent various geographic regions within the country. Each representative is chosen by the citizens of their respective districts through regular elections, with the number of representatives apportioned based",
          "representative is chosen by the citizens of their respective districts through regular elections, with the number of representatives apportioned based on the population of each district. This ensures that more populous areas have a greater number of representatives to adequately",
          "on the population of each district. This ensures that more populous areas have a greater number of representatives to adequately represent their constituents' interests.\nThe second chamber, known as the \"Senate,\" is distinct from the House of Representatives both in",
          "represent their constituents' interests.\nThe second chamber, known as the \"Senate,\" is distinct from the House of Representatives both in its composition and its responsibilities. The Senate consists of a fixed number of members, with each state sending two senators",
          "its composition and its responsibilities. The Senate consists of a fixed number of members, with each state sending two senators to serve in this body. Unlike representatives, senators are elected for six-year terms, providing a measure of continuity and stability",
          "to serve in this body. Unlike representatives, senators are elected for six-year terms, providing a measure of continuity and stability in the legislative process. This design reflects the Founding Fathers' intent to balance the interests of states with varying sizes",
          "in the legislative process. This design reflects the Founding Fathers' intent to balance the interests of states with varying sizes and populations.\nThe primary function of these two chambers is to craft and pass legislation, which involves a multi-step process.",
          "and populations.\nThe primary function of these two chambers is to craft and pass legislation, which involves a multi-step process. Bills, which can originate in either the House of Representatives or the Senate, undergo thorough examination and debate before becoming",
          "Bills, which can originate in either the House of Representatives or the Senate, undergo thorough examination and debate before becoming law. Both chambers must approve a bill before it can proceed to the President for final approval or veto.\nIn",
          "law. Both chambers must approve a bill before it can proceed to the President for final approval or veto.\nIn addition to their legislative duties, members of these chambers have distinct roles. Representatives are often seen as the voices of",
          "addition to their legislative duties, members of these chambers have distinct roles. Representatives are often seen as the voices of the people, directly representing their constituents' interests and concerns. Senators, on the other hand, play a unique role in representing",
          "the people, directly representing their constituents' interests and concerns. Senators, on the other hand, play a unique role in representing their states as a whole and providing a stabilizing influence in the legislative process.\nThe legislative branch also exercises oversight",
          "their states as a whole and providing a stabilizing influence in the legislative process.\nThe legislative branch also exercises oversight over the executive and judicial branches of the government. Committees and subcommittees in both chambers are responsible for conducting investigations,",
          "over the executive and judicial branches of the government. Committees and subcommittees in both chambers are responsible for conducting investigations, hearings, and reviews to ensure that the executive branch is operating within the boundaries of the law and that appointed",
          "hearings, and reviews to ensure that the executive branch is operating within the boundaries of the law and that appointed judges meet the qualifications necessary for their positions.\nFurthermore, the legislative branch has the power of the purse, meaning it",
          "judges meet the qualifications necessary for their positions.\nFurthermore, the legislative branch has the power of the purse, meaning it has the authority to allocate government funds through the budgetary process. This power is critical in shaping the nation's priorities",
          "has the authority to allocate government funds through the budgetary process. This power is critical in shaping the nation's priorities and implementing policies.\nUltimately, the legislative branch of the United States government is a fundamental pillar of the nation's democratic",
          "and implementing policies.\nUltimately, the legislative branch of the United States government is a fundamental pillar of the nation's democratic system. It serves as a forum for the representation of the people's interests, the creation of laws, and the checks",
          "system. It serves as a forum for the representation of the people's interests, the creation of laws, and the checks and balances necessary for a functioning democracy. Through its carefully designed structure and responsibilities, it plays a vital role in",
          "and balances necessary for a functioning democracy. Through its carefully designed structure and responsibilities, it plays a vital role in shaping the nation's laws and policies."
         ],
         "yaxis": "y",
         "z": [
          [
           -0.006890793538682783
          ],
          [
           0.003839238131579409
          ],
          [
           0.00039993354544282783
          ],
          [
           -0.00005922118476839501
          ],
          [
           -0.00047364503684385823
          ],
          [
           -0.001144646000477144
          ],
          [
           0.005563049846660581
          ],
          [
           -0.00014254008925022237
          ],
          [
           0.0000559076018502199
          ],
          [
           0.002461162222539818
          ],
          [
           0.0009903144361031433
          ],
          [
           -0.005034170438351788
          ],
          [
           0.0004892728848820098
          ],
          [
           -0.006346239441700487
          ],
          [
           0.00025350926621324623
          ],
          [
           0.0032293546797498604
          ],
          [
           0.0027763683615337842
          ],
          [
           -0.002921832579176993
          ],
          [
           -0.0024295398805800803
          ],
          [
           0.001776814826504928
          ],
          [
           0.003607702386771989
          ]
         ]
        }
       ],
       "layout": {
        "coloraxis": {
         "colorscale": [
          [
           0,
           "#0d0887"
          ],
          [
           0.1111111111111111,
           "#46039f"
          ],
          [
           0.2222222222222222,
           "#7201a8"
          ],
          [
           0.3333333333333333,
           "#9c179e"
          ],
          [
           0.4444444444444444,
           "#bd3786"
          ],
          [
           0.5555555555555556,
           "#d8576b"
          ],
          [
           0.6666666666666666,
           "#ed7953"
          ],
          [
           0.7777777777777778,
           "#fb9f3a"
          ],
          [
           0.8888888888888888,
           "#fdca26"
          ],
          [
           1,
           "#f0f921"
          ]
         ]
        },
        "height": 500,
        "margin": {
         "t": 60
        },
        "template": {
         "data": {
          "bar": [
           {
            "error_x": {
             "color": "#2a3f5f"
            },
            "error_y": {
             "color": "#2a3f5f"
            },
            "marker": {
             "line": {
              "color": "#E5ECF6",
              "width": 0.5
             },
             "pattern": {
              "fillmode": "overlay",
              "size": 10,
              "solidity": 0.2
             }
            },
            "type": "bar"
           }
          ],
          "barpolar": [
           {
            "marker": {
             "line": {
              "color": "#E5ECF6",
              "width": 0.5
             },
             "pattern": {
              "fillmode": "overlay",
              "size": 10,
              "solidity": 0.2
             }
            },
            "type": "barpolar"
           }
          ],
          "carpet": [
           {
            "aaxis": {
             "endlinecolor": "#2a3f5f",
             "gridcolor": "white",
             "linecolor": "white",
             "minorgridcolor": "white",
             "startlinecolor": "#2a3f5f"
            },
            "baxis": {
             "endlinecolor": "#2a3f5f",
             "gridcolor": "white",
             "linecolor": "white",
             "minorgridcolor": "white",
             "startlinecolor": "#2a3f5f"
            },
            "type": "carpet"
           }
          ],
          "choropleth": [
           {
            "colorbar": {
             "outlinewidth": 0,
             "ticks": ""
            },
            "type": "choropleth"
           }
          ],
          "contour": [
           {
            "colorbar": {
             "outlinewidth": 0,
             "ticks": ""
            },
            "colorscale": [
             [
              0,
              "#0d0887"
             ],
             [
              0.1111111111111111,
              "#46039f"
             ],
             [
              0.2222222222222222,
              "#7201a8"
             ],
             [
              0.3333333333333333,
              "#9c179e"
             ],
             [
              0.4444444444444444,
              "#bd3786"
             ],
             [
              0.5555555555555556,
              "#d8576b"
             ],
             [
              0.6666666666666666,
              "#ed7953"
             ],
             [
              0.7777777777777778,
              "#fb9f3a"
             ],
             [
              0.8888888888888888,
              "#fdca26"
             ],
             [
              1,
              "#f0f921"
             ]
            ],
            "type": "contour"
           }
          ],
          "contourcarpet": [
           {
            "colorbar": {
             "outlinewidth": 0,
             "ticks": ""
            },
            "type": "contourcarpet"
           }
          ],
          "heatmap": [
           {
            "colorbar": {
             "outlinewidth": 0,
             "ticks": ""
            },
            "colorscale": [
             [
              0,
              "#0d0887"
             ],
             [
              0.1111111111111111,
              "#46039f"
             ],
             [
              0.2222222222222222,
              "#7201a8"
             ],
             [
              0.3333333333333333,
              "#9c179e"
             ],
             [
              0.4444444444444444,
              "#bd3786"
             ],
             [
              0.5555555555555556,
              "#d8576b"
             ],
             [
              0.6666666666666666,
              "#ed7953"
             ],
             [
              0.7777777777777778,
              "#fb9f3a"
             ],
             [
              0.8888888888888888,
              "#fdca26"
             ],
             [
              1,
              "#f0f921"
             ]
            ],
            "type": "heatmap"
           }
          ],
          "heatmapgl": [
           {
            "colorbar": {
             "outlinewidth": 0,
             "ticks": ""
            },
            "colorscale": [
             [
              0,
              "#0d0887"
             ],
             [
              0.1111111111111111,
              "#46039f"
             ],
             [
              0.2222222222222222,
              "#7201a8"
             ],
             [
              0.3333333333333333,
              "#9c179e"
             ],
             [
              0.4444444444444444,
              "#bd3786"
             ],
             [
              0.5555555555555556,
              "#d8576b"
             ],
             [
              0.6666666666666666,
              "#ed7953"
             ],
             [
              0.7777777777777778,
              "#fb9f3a"
             ],
             [
              0.8888888888888888,
              "#fdca26"
             ],
             [
              1,
              "#f0f921"
             ]
            ],
            "type": "heatmapgl"
           }
          ],
          "histogram": [
           {
            "marker": {
             "pattern": {
              "fillmode": "overlay",
              "size": 10,
              "solidity": 0.2
             }
            },
            "type": "histogram"
           }
          ],
          "histogram2d": [
           {
            "colorbar": {
             "outlinewidth": 0,
             "ticks": ""
            },
            "colorscale": [
             [
              0,
              "#0d0887"
             ],
             [
              0.1111111111111111,
              "#46039f"
             ],
             [
              0.2222222222222222,
              "#7201a8"
             ],
             [
              0.3333333333333333,
              "#9c179e"
             ],
             [
              0.4444444444444444,
              "#bd3786"
             ],
             [
              0.5555555555555556,
              "#d8576b"
             ],
             [
              0.6666666666666666,
              "#ed7953"
             ],
             [
              0.7777777777777778,
              "#fb9f3a"
             ],
             [
              0.8888888888888888,
              "#fdca26"
             ],
             [
              1,
              "#f0f921"
             ]
            ],
            "type": "histogram2d"
           }
          ],
          "histogram2dcontour": [
           {
            "colorbar": {
             "outlinewidth": 0,
             "ticks": ""
            },
            "colorscale": [
             [
              0,
              "#0d0887"
             ],
             [
              0.1111111111111111,
              "#46039f"
             ],
             [
              0.2222222222222222,
              "#7201a8"
             ],
             [
              0.3333333333333333,
              "#9c179e"
             ],
             [
              0.4444444444444444,
              "#bd3786"
             ],
             [
              0.5555555555555556,
              "#d8576b"
             ],
             [
              0.6666666666666666,
              "#ed7953"
             ],
             [
              0.7777777777777778,
              "#fb9f3a"
             ],
             [
              0.8888888888888888,
              "#fdca26"
             ],
             [
              1,
              "#f0f921"
             ]
            ],
            "type": "histogram2dcontour"
           }
          ],
          "mesh3d": [
           {
            "colorbar": {
             "outlinewidth": 0,
             "ticks": ""
            },
            "type": "mesh3d"
           }
          ],
          "parcoords": [
           {
            "line": {
             "colorbar": {
              "outlinewidth": 0,
              "ticks": ""
             }
            },
            "type": "parcoords"
           }
          ],
          "pie": [
           {
            "automargin": true,
            "type": "pie"
           }
          ],
          "scatter": [
           {
            "fillpattern": {
             "fillmode": "overlay",
             "size": 10,
             "solidity": 0.2
            },
            "type": "scatter"
           }
          ],
          "scatter3d": [
           {
            "line": {
             "colorbar": {
              "outlinewidth": 0,
              "ticks": ""
             }
            },
            "marker": {
             "colorbar": {
              "outlinewidth": 0,
              "ticks": ""
             }
            },
            "type": "scatter3d"
           }
          ],
          "scattercarpet": [
           {
            "marker": {
             "colorbar": {
              "outlinewidth": 0,
              "ticks": ""
             }
            },
            "type": "scattercarpet"
           }
          ],
          "scattergeo": [
           {
            "marker": {
             "colorbar": {
              "outlinewidth": 0,
              "ticks": ""
             }
            },
            "type": "scattergeo"
           }
          ],
          "scattergl": [
           {
            "marker": {
             "colorbar": {
              "outlinewidth": 0,
              "ticks": ""
             }
            },
            "type": "scattergl"
           }
          ],
          "scattermapbox": [
           {
            "marker": {
             "colorbar": {
              "outlinewidth": 0,
              "ticks": ""
             }
            },
            "type": "scattermapbox"
           }
          ],
          "scatterpolar": [
           {
            "marker": {
             "colorbar": {
              "outlinewidth": 0,
              "ticks": ""
             }
            },
            "type": "scatterpolar"
           }
          ],
          "scatterpolargl": [
           {
            "marker": {
             "colorbar": {
              "outlinewidth": 0,
              "ticks": ""
             }
            },
            "type": "scatterpolargl"
           }
          ],
          "scatterternary": [
           {
            "marker": {
             "colorbar": {
              "outlinewidth": 0,
              "ticks": ""
             }
            },
            "type": "scatterternary"
           }
          ],
          "surface": [
           {
            "colorbar": {
             "outlinewidth": 0,
             "ticks": ""
            },
            "colorscale": [
             [
              0,
              "#0d0887"
             ],
             [
              0.1111111111111111,
              "#46039f"
             ],
             [
              0.2222222222222222,
              "#7201a8"
             ],
             [
              0.3333333333333333,
              "#9c179e"
             ],
             [
              0.4444444444444444,
              "#bd3786"
             ],
             [
              0.5555555555555556,
              "#d8576b"
             ],
             [
              0.6666666666666666,
              "#ed7953"
             ],
             [
              0.7777777777777778,
              "#fb9f3a"
             ],
             [
              0.8888888888888888,
              "#fdca26"
             ],
             [
              1,
              "#f0f921"
             ]
            ],
            "type": "surface"
           }
          ],
          "table": [
           {
            "cells": {
             "fill": {
              "color": "#EBF0F8"
             },
             "line": {
              "color": "white"
             }
            },
            "header": {
             "fill": {
              "color": "#C8D4E3"
             },
             "line": {
              "color": "white"
             }
            },
            "type": "table"
           }
          ]
         },
         "layout": {
          "annotationdefaults": {
           "arrowcolor": "#2a3f5f",
           "arrowhead": 0,
           "arrowwidth": 1
          },
          "autotypenumbers": "strict",
          "coloraxis": {
           "colorbar": {
            "outlinewidth": 0,
            "ticks": ""
           }
          },
          "colorscale": {
           "diverging": [
            [
             0,
             "#8e0152"
            ],
            [
             0.1,
             "#c51b7d"
            ],
            [
             0.2,
             "#de77ae"
            ],
            [
             0.3,
             "#f1b6da"
            ],
            [
             0.4,
             "#fde0ef"
            ],
            [
             0.5,
             "#f7f7f7"
            ],
            [
             0.6,
             "#e6f5d0"
            ],
            [
             0.7,
             "#b8e186"
            ],
            [
             0.8,
             "#7fbc41"
            ],
            [
             0.9,
             "#4d9221"
            ],
            [
             1,
             "#276419"
            ]
           ],
           "sequential": [
            [
             0,
             "#0d0887"
            ],
            [
             0.1111111111111111,
             "#46039f"
            ],
            [
             0.2222222222222222,
             "#7201a8"
            ],
            [
             0.3333333333333333,
             "#9c179e"
            ],
            [
             0.4444444444444444,
             "#bd3786"
            ],
            [
             0.5555555555555556,
             "#d8576b"
            ],
            [
             0.6666666666666666,
             "#ed7953"
            ],
            [
             0.7777777777777778,
             "#fb9f3a"
            ],
            [
             0.8888888888888888,
             "#fdca26"
            ],
            [
             1,
             "#f0f921"
            ]
           ],
           "sequentialminus": [
            [
             0,
             "#0d0887"
            ],
            [
             0.1111111111111111,
             "#46039f"
            ],
            [
             0.2222222222222222,
             "#7201a8"
            ],
            [
             0.3333333333333333,
             "#9c179e"
            ],
            [
             0.4444444444444444,
             "#bd3786"
            ],
            [
             0.5555555555555556,
             "#d8576b"
            ],
            [
             0.6666666666666666,
             "#ed7953"
            ],
            [
             0.7777777777777778,
             "#fb9f3a"
            ],
            [
             0.8888888888888888,
             "#fdca26"
            ],
            [
             1,
             "#f0f921"
            ]
           ]
          },
          "colorway": [
           "#636efa",
           "#EF553B",
           "#00cc96",
           "#ab63fa",
           "#FFA15A",
           "#19d3f3",
           "#FF6692",
           "#B6E880",
           "#FF97FF",
           "#FECB52"
          ],
          "font": {
           "color": "#2a3f5f"
          },
          "geo": {
           "bgcolor": "white",
           "lakecolor": "white",
           "landcolor": "#E5ECF6",
           "showlakes": true,
           "showland": true,
           "subunitcolor": "white"
          },
          "hoverlabel": {
           "align": "left"
          },
          "hovermode": "closest",
          "mapbox": {
           "style": "light"
          },
          "paper_bgcolor": "white",
          "plot_bgcolor": "#E5ECF6",
          "polar": {
           "angularaxis": {
            "gridcolor": "white",
            "linecolor": "white",
            "ticks": ""
           },
           "bgcolor": "#E5ECF6",
           "radialaxis": {
            "gridcolor": "white",
            "linecolor": "white",
            "ticks": ""
           }
          },
          "scene": {
           "xaxis": {
            "backgroundcolor": "#E5ECF6",
            "gridcolor": "white",
            "gridwidth": 2,
            "linecolor": "white",
            "showbackground": true,
            "ticks": "",
            "zerolinecolor": "white"
           },
           "yaxis": {
            "backgroundcolor": "#E5ECF6",
            "gridcolor": "white",
            "gridwidth": 2,
            "linecolor": "white",
            "showbackground": true,
            "ticks": "",
            "zerolinecolor": "white"
           },
           "zaxis": {
            "backgroundcolor": "#E5ECF6",
            "gridcolor": "white",
            "gridwidth": 2,
            "linecolor": "white",
            "showbackground": true,
            "ticks": "",
            "zerolinecolor": "white"
           }
          },
          "shapedefaults": {
           "line": {
            "color": "#2a3f5f"
           }
          },
          "ternary": {
           "aaxis": {
            "gridcolor": "white",
            "linecolor": "white",
            "ticks": ""
           },
           "baxis": {
            "gridcolor": "white",
            "linecolor": "white",
            "ticks": ""
           },
           "bgcolor": "#E5ECF6",
           "caxis": {
            "gridcolor": "white",
            "linecolor": "white",
            "ticks": ""
           }
          },
          "title": {
           "x": 0.05
          },
          "xaxis": {
           "automargin": true,
           "gridcolor": "white",
           "linecolor": "white",
           "ticks": "",
           "title": {
            "standoff": 15
           },
           "zerolinecolor": "white",
           "zerolinewidth": 2
          },
          "yaxis": {
           "automargin": true,
           "gridcolor": "white",
           "linecolor": "white",
           "ticks": "",
           "title": {
            "standoff": 15
           },
           "zerolinecolor": "white",
           "zerolinewidth": 2
          }
         }
        },
        "width": 500,
        "xaxis": {
         "anchor": "y",
         "constrain": "domain",
         "domain": [
          0,
          1
         ],
         "scaleanchor": "y",
         "showticklabels": false
        },
        "yaxis": {
         "anchor": "x",
         "autorange": "reversed",
         "constrain": "domain",
         "domain": [
          0,
          1
         ],
         "showticklabels": false
        }
       }
      }
     },
     "metadata": {},
     "output_type": "display_data"
    },
    {
     "data": {
      "image/png": "[encoded data removed]",
      "text/plain": [
       "<Figure size 640x480 with 1 Axes>"
      ]
     },
     "metadata": {},
     "output_type": "display_data"
    }
   ],
   "source": [
    "evaluate_data('./test_data/congress_description', './test_data/random_label', '040', '001', '020', '001')"
   ]
  },
  {
   "cell_type": "markdown",
   "metadata": {},
   "source": [
    "Maybe you need to normalize across everything first for it to make sense, this is a good chance to try."
   ]
  },
  {
   "cell_type": "code",
   "execution_count": 17,
   "metadata": {},
   "outputs": [
    {
     "name": "stdout",
     "output_type": "stream",
     "text": [
      "data_1:  [[-0.00988119  0.0202297  -0.00893172 ...  0.00218894  0.00094374\n",
      "  -0.00212583]\n",
      " [-0.00289281 -0.0040158  -0.00125985 ... -0.00942276 -0.00542194\n",
      "   0.00506809]\n",
      " [ 0.00861877 -0.00940091  0.01752524 ... -0.01560699 -0.01342624\n",
      "   0.00016625]\n",
      " ...\n",
      " [-0.01895906  0.00230443 -0.0177704  ... -0.00413635 -0.00385385\n",
      "   0.00424537]\n",
      " [-0.01243491  0.00955966  0.00165636 ... -0.01337395 -0.00069615\n",
      "  -0.02551804]\n",
      " [ 0.01102168  0.00501691 -0.0094212  ... -0.00112545  0.00392404\n",
      "  -0.01751338]]\n",
      "data_1 shape:  (21, 1536)\n",
      "mean:  [ 7.14650175e-05 -1.66112932e-03 -9.32658010e-05 ... -1.36194273e-03\n",
      " -1.31088005e-04 -1.12786143e-03]\n"
     ]
    }
   ],
   "source": [
    "# Load all relevant embeddings\n",
    "embedding_path_1 = './test_data/congress_description.w040.i020.embeddings.csv'\n",
    "embedding_path_2 = './test_data/congress_label.w001.i001.embeddings.csv'\n",
    "embedding_path_3 = './test_data/random_label.w001.i001.embeddings.csv'\n",
    "\n",
    "data_1 = np.genfromtxt(embedding_path_1,delimiter=',')\n",
    "data_2 = np.expand_dims(np.genfromtxt(embedding_path_2,delimiter=','), axis=0)\n",
    "data_3 = np.expand_dims(np.genfromtxt(embedding_path_3,delimiter=','), axis=0)\n",
    "print('data_1: ', data_1)\n",
    "print('data_1 shape: ', data_1.shape)\n",
    "# Combine into one matrix\n",
    "full_data = np.concatenate((data_1,data_2,data_3), axis = 0)\n",
    "\n",
    "# Find mean vector\n",
    "mean = np.mean(full_data, axis=0)\n",
    "print('mean: ', mean)\n",
    "# Subtract from each individual embedding\n",
    "data_1 = data_1 - mean\n",
    "data_2 = data_2 - mean\n",
    "data_3 = data_3 - mean\n",
    "\n",
    "# Save to files\n",
    "np.savetxt('./test_data/congress_description.w040.i020.embeddings.normalized.csv', data_1, delimiter=',')\n",
    "np.savetxt('./test_data/congress_label.w001.i001.embeddings.normalized.csv', data_2, delimiter=',')\n",
    "np.savetxt('./test_data/random_label.w001.i001.embeddings.normalized.csv', data_3, delimiter=',')\n"
   ]
  },
  {
   "cell_type": "code",
   "execution_count": 29,
   "metadata": {},
   "outputs": [
    {
     "name": "stdout",
     "output_type": "stream",
     "text": [
      "Number found:  21\n",
      "////////////////////////////////////////////////////////////////////////////\n",
      "Cosine Value:  -0.032732041237884466\n",
      "Verse  1\n",
      "LINE 1:  known as the \"House of Representatives,\" is comprised of elected officials who represent various geographic regions within the country. Each representative is chosen by the citizens of their respective districts through regular elections, with the number of representatives apportioned based\n",
      "--------------------------------------------\n",
      "Verse  1\n",
      "LINE 2:  congress\n",
      "////////////////////////////////////////////////////////////////////////////\n",
      "Cosine Value:  -0.03311976476748877\n",
      "Verse  1\n",
      "LINE 1:  The legislative branch of the United States government is a bicameral institution composed of two separate chambers. The first chamber, known as the \"House of Representatives,\" is comprised of elected officials who represent various geographic regions within the country. Each\n",
      "--------------------------------------------\n",
      "Verse  1\n",
      "LINE 2:  congress\n",
      "////////////////////////////////////////////////////////////////////////////\n",
      "Cosine Value:  -0.03726289156470151\n",
      "Verse  9\n",
      "LINE 1:  judges meet the qualifications necessary for their positions.\n",
      "Furthermore, the legislative branch has the power of the purse, meaning it has the authority to allocate government funds through the budgetary process. This power is critical in shaping the nation's priorities\n",
      "--------------------------------------------\n",
      "Verse  1\n",
      "LINE 2:  congress\n",
      "////////////////////////////////////////////////////////////////////////////\n",
      "Cosine Value:  -0.03797437174609074\n",
      "Verse  11\n",
      "LINE 1:  and implementing policies.\n",
      "Ultimately, the legislative branch of the United States government is a fundamental pillar of the nation's democratic system. It serves as a forum for the representation of the people's interests, the creation of laws, and the checks\n",
      "--------------------------------------------\n",
      "Verse  1\n",
      "LINE 2:  congress\n",
      "////////////////////////////////////////////////////////////////////////////\n",
      "Cosine Value:  -0.03890471486189375\n",
      "Verse  9\n",
      "LINE 1:  over the executive and judicial branches of the government. Committees and subcommittees in both chambers are responsible for conducting investigations, hearings, and reviews to ensure that the executive branch is operating within the boundaries of the law and that appointed\n",
      "--------------------------------------------\n",
      "Verse  1\n",
      "LINE 2:  congress\n",
      "////////////////////////////////////////////////////////////////////////////\n",
      "Cosine Value:  -0.03964457257718595\n",
      "Verse  11\n",
      "LINE 1:  has the authority to allocate government funds through the budgetary process. This power is critical in shaping the nation's priorities and implementing policies.\n",
      "Ultimately, the legislative branch of the United States government is a fundamental pillar of the nation's democratic\n",
      "--------------------------------------------\n",
      "Verse  1\n",
      "LINE 2:  congress\n",
      "////////////////////////////////////////////////////////////////////////////\n",
      "Cosine Value:  -0.040283549817350946\n",
      "Verse  7\n",
      "LINE 1:  their states as a whole and providing a stabilizing influence in the legislative process.\n",
      "The legislative branch also exercises oversight over the executive and judicial branches of the government. Committees and subcommittees in both chambers are responsible for conducting investigations,\n",
      "--------------------------------------------\n",
      "Verse  1\n",
      "LINE 2:  congress\n",
      "////////////////////////////////////////////////////////////////////////////\n",
      "Cosine Value:  -0.04030546883395166\n",
      "Verse  3\n",
      "LINE 1:  and populations.\n",
      "The primary function of these two chambers is to craft and pass legislation, which involves a multi-step process. Bills, which can originate in either the House of Representatives or the Senate, undergo thorough examination and debate before becoming\n",
      "--------------------------------------------\n",
      "Verse  1\n",
      "LINE 2:  congress\n",
      "////////////////////////////////////////////////////////////////////////////\n",
      "Cosine Value:  -0.04084685284415257\n",
      "Verse  3\n",
      "LINE 1:  in the legislative process. This design reflects the Founding Fathers' intent to balance the interests of states with varying sizes and populations.\n",
      "The primary function of these two chambers is to craft and pass legislation, which involves a multi-step process.\n",
      "--------------------------------------------\n",
      "Verse  1\n",
      "LINE 2:  congress\n",
      "////////////////////////////////////////////////////////////////////////////\n",
      "Cosine Value:  -0.04087501359457371\n",
      "Verse  13\n",
      "LINE 1:  and balances necessary for a functioning democracy. Through its carefully designed structure and responsibilities, it plays a vital role in shaping the nation's laws and policies.\n",
      "--------------------------------------------\n",
      "Verse  1\n",
      "LINE 2:  congress\n",
      "////////////////////////////////////////////////////////////////////////////\n",
      "Cosine Value:  -0.041325720694933336\n",
      "Verse  5\n",
      "LINE 1:  law. Both chambers must approve a bill before it can proceed to the President for final approval or veto.\n",
      "In addition to their legislative duties, members of these chambers have distinct roles. Representatives are often seen as the voices of\n",
      "--------------------------------------------\n",
      "Verse  1\n",
      "LINE 2:  congress\n",
      "////////////////////////////////////////////////////////////////////////////\n",
      "Cosine Value:  -0.04174572910043161\n",
      "Verse  1\n",
      "LINE 1:  represent their constituents' interests.\n",
      "The second chamber, known as the \"Senate,\" is distinct from the House of Representatives both in its composition and its responsibilities. The Senate consists of a fixed number of members, with each state sending two senators\n",
      "--------------------------------------------\n",
      "Verse  1\n",
      "LINE 2:  congress\n",
      "////////////////////////////////////////////////////////////////////////////\n",
      "Cosine Value:  -0.041950587099477854\n",
      "Verse  7\n",
      "LINE 1:  the people, directly representing their constituents' interests and concerns. Senators, on the other hand, play a unique role in representing their states as a whole and providing a stabilizing influence in the legislative process.\n",
      "The legislative branch also exercises oversight\n",
      "--------------------------------------------\n",
      "Verse  1\n",
      "LINE 2:  congress\n",
      "////////////////////////////////////////////////////////////////////////////\n",
      "Cosine Value:  -0.043500048354682276\n",
      "Verse  3\n",
      "LINE 1:  to serve in this body. Unlike representatives, senators are elected for six-year terms, providing a measure of continuity and stability in the legislative process. This design reflects the Founding Fathers' intent to balance the interests of states with varying sizes\n",
      "--------------------------------------------\n",
      "Verse  1\n",
      "LINE 2:  congress\n",
      "////////////////////////////////////////////////////////////////////////////\n",
      "Cosine Value:  -0.044512943764751366\n",
      "Verse  1\n",
      "LINE 1:  on the population of each district. This ensures that more populous areas have a greater number of representatives to adequately represent their constituents' interests.\n",
      "The second chamber, known as the \"Senate,\" is distinct from the House of Representatives both in\n",
      "--------------------------------------------\n",
      "Verse  1\n",
      "LINE 2:  congress\n",
      "////////////////////////////////////////////////////////////////////////////\n",
      "Cosine Value:  -0.04565495320345837\n",
      "Verse  5\n",
      "LINE 1:  Bills, which can originate in either the House of Representatives or the Senate, undergo thorough examination and debate before becoming law. Both chambers must approve a bill before it can proceed to the President for final approval or veto.\n",
      "In\n",
      "--------------------------------------------\n",
      "Verse  1\n",
      "LINE 2:  congress\n",
      "////////////////////////////////////////////////////////////////////////////\n",
      "Cosine Value:  -0.04706606369318387\n",
      "Verse  7\n",
      "LINE 1:  addition to their legislative duties, members of these chambers have distinct roles. Representatives are often seen as the voices of the people, directly representing their constituents' interests and concerns. Senators, on the other hand, play a unique role in representing\n",
      "--------------------------------------------\n",
      "Verse  1\n",
      "LINE 2:  congress\n",
      "////////////////////////////////////////////////////////////////////////////\n",
      "Cosine Value:  -0.04791802489993807\n",
      "Verse  13\n",
      "LINE 1:  system. It serves as a forum for the representation of the people's interests, the creation of laws, and the checks and balances necessary for a functioning democracy. Through its carefully designed structure and responsibilities, it plays a vital role in\n",
      "--------------------------------------------\n",
      "Verse  1\n",
      "LINE 2:  congress\n",
      "////////////////////////////////////////////////////////////////////////////\n",
      "Cosine Value:  -0.04861295230630839\n",
      "Verse  9\n",
      "LINE 1:  hearings, and reviews to ensure that the executive branch is operating within the boundaries of the law and that appointed judges meet the qualifications necessary for their positions.\n",
      "Furthermore, the legislative branch has the power of the purse, meaning it\n",
      "--------------------------------------------\n",
      "Verse  1\n",
      "LINE 2:  congress\n",
      "////////////////////////////////////////////////////////////////////////////\n",
      "Cosine Value:  -0.049920677094814646\n",
      "Verse  1\n",
      "LINE 1:  representative is chosen by the citizens of their respective districts through regular elections, with the number of representatives apportioned based on the population of each district. This ensures that more populous areas have a greater number of representatives to adequately\n",
      "--------------------------------------------\n",
      "Verse  1\n",
      "LINE 2:  congress\n",
      "////////////////////////////////////////////////////////////////////////////\n",
      "Cosine Value:  -0.05262586733387693\n",
      "Verse  3\n",
      "LINE 1:  its composition and its responsibilities. The Senate consists of a fixed number of members, with each state sending two senators to serve in this body. Unlike representatives, senators are elected for six-year terms, providing a measure of continuity and stability\n",
      "--------------------------------------------\n",
      "Verse  1\n",
      "LINE 2:  congress\n"
     ]
    },
    {
     "data": {
      "application/vnd.plotly.v1+json": {
       "config": {
        "plotlyServerURL": "https://plot.ly"
       },
       "data": [
        {
         "coloraxis": "coloraxis",
         "hovertemplate": "x: %{x}<br>y: %{y}<br>color: %{z}<extra></extra>",
         "name": "0",
         "type": "heatmap",
         "x": [
          "congress"
         ],
         "xaxis": "x",
         "y": [
          "The legislative branch of the United States government is a bicameral institution composed of two separate chambers. The first chamber, known as the \"House of Representatives,\" is comprised of elected officials who represent various geographic regions within the country. Each",
          "known as the \"House of Representatives,\" is comprised of elected officials who represent various geographic regions within the country. Each representative is chosen by the citizens of their respective districts through regular elections, with the number of representatives apportioned based",
          "representative is chosen by the citizens of their respective districts through regular elections, with the number of representatives apportioned based on the population of each district. This ensures that more populous areas have a greater number of representatives to adequately",
          "on the population of each district. This ensures that more populous areas have a greater number of representatives to adequately represent their constituents' interests.\nThe second chamber, known as the \"Senate,\" is distinct from the House of Representatives both in",
          "represent their constituents' interests.\nThe second chamber, known as the \"Senate,\" is distinct from the House of Representatives both in its composition and its responsibilities. The Senate consists of a fixed number of members, with each state sending two senators",
          "its composition and its responsibilities. The Senate consists of a fixed number of members, with each state sending two senators to serve in this body. Unlike representatives, senators are elected for six-year terms, providing a measure of continuity and stability",
          "to serve in this body. Unlike representatives, senators are elected for six-year terms, providing a measure of continuity and stability in the legislative process. This design reflects the Founding Fathers' intent to balance the interests of states with varying sizes",
          "in the legislative process. This design reflects the Founding Fathers' intent to balance the interests of states with varying sizes and populations.\nThe primary function of these two chambers is to craft and pass legislation, which involves a multi-step process.",
          "and populations.\nThe primary function of these two chambers is to craft and pass legislation, which involves a multi-step process. Bills, which can originate in either the House of Representatives or the Senate, undergo thorough examination and debate before becoming",
          "Bills, which can originate in either the House of Representatives or the Senate, undergo thorough examination and debate before becoming law. Both chambers must approve a bill before it can proceed to the President for final approval or veto.\nIn",
          "law. Both chambers must approve a bill before it can proceed to the President for final approval or veto.\nIn addition to their legislative duties, members of these chambers have distinct roles. Representatives are often seen as the voices of",
          "addition to their legislative duties, members of these chambers have distinct roles. Representatives are often seen as the voices of the people, directly representing their constituents' interests and concerns. Senators, on the other hand, play a unique role in representing",
          "the people, directly representing their constituents' interests and concerns. Senators, on the other hand, play a unique role in representing their states as a whole and providing a stabilizing influence in the legislative process.\nThe legislative branch also exercises oversight",
          "their states as a whole and providing a stabilizing influence in the legislative process.\nThe legislative branch also exercises oversight over the executive and judicial branches of the government. Committees and subcommittees in both chambers are responsible for conducting investigations,",
          "over the executive and judicial branches of the government. Committees and subcommittees in both chambers are responsible for conducting investigations, hearings, and reviews to ensure that the executive branch is operating within the boundaries of the law and that appointed",
          "hearings, and reviews to ensure that the executive branch is operating within the boundaries of the law and that appointed judges meet the qualifications necessary for their positions.\nFurthermore, the legislative branch has the power of the purse, meaning it",
          "judges meet the qualifications necessary for their positions.\nFurthermore, the legislative branch has the power of the purse, meaning it has the authority to allocate government funds through the budgetary process. This power is critical in shaping the nation's priorities",
          "has the authority to allocate government funds through the budgetary process. This power is critical in shaping the nation's priorities and implementing policies.\nUltimately, the legislative branch of the United States government is a fundamental pillar of the nation's democratic",
          "and implementing policies.\nUltimately, the legislative branch of the United States government is a fundamental pillar of the nation's democratic system. It serves as a forum for the representation of the people's interests, the creation of laws, and the checks",
          "system. It serves as a forum for the representation of the people's interests, the creation of laws, and the checks and balances necessary for a functioning democracy. Through its carefully designed structure and responsibilities, it plays a vital role in",
          "and balances necessary for a functioning democracy. Through its carefully designed structure and responsibilities, it plays a vital role in shaping the nation's laws and policies."
         ],
         "yaxis": "y",
         "z": [
          [
           -0.03311976476748877
          ],
          [
           -0.032732041237884466
          ],
          [
           -0.049920677094814646
          ],
          [
           -0.044512943764751366
          ],
          [
           -0.04174572910043161
          ],
          [
           -0.05262586733387693
          ],
          [
           -0.043500048354682276
          ],
          [
           -0.04084685284415257
          ],
          [
           -0.04030546883395166
          ],
          [
           -0.04565495320345837
          ],
          [
           -0.041325720694933336
          ],
          [
           -0.04706606369318387
          ],
          [
           -0.041950587099477854
          ],
          [
           -0.040283549817350946
          ],
          [
           -0.03890471486189375
          ],
          [
           -0.04861295230630839
          ],
          [
           -0.03726289156470151
          ],
          [
           -0.03964457257718595
          ],
          [
           -0.03797437174609074
          ],
          [
           -0.04791802489993807
          ],
          [
           -0.04087501359457371
          ]
         ]
        }
       ],
       "layout": {
        "coloraxis": {
         "colorscale": [
          [
           0,
           "#0d0887"
          ],
          [
           0.1111111111111111,
           "#46039f"
          ],
          [
           0.2222222222222222,
           "#7201a8"
          ],
          [
           0.3333333333333333,
           "#9c179e"
          ],
          [
           0.4444444444444444,
           "#bd3786"
          ],
          [
           0.5555555555555556,
           "#d8576b"
          ],
          [
           0.6666666666666666,
           "#ed7953"
          ],
          [
           0.7777777777777778,
           "#fb9f3a"
          ],
          [
           0.8888888888888888,
           "#fdca26"
          ],
          [
           1,
           "#f0f921"
          ]
         ]
        },
        "height": 500,
        "margin": {
         "t": 60
        },
        "template": {
         "data": {
          "bar": [
           {
            "error_x": {
             "color": "#2a3f5f"
            },
            "error_y": {
             "color": "#2a3f5f"
            },
            "marker": {
             "line": {
              "color": "#E5ECF6",
              "width": 0.5
             },
             "pattern": {
              "fillmode": "overlay",
              "size": 10,
              "solidity": 0.2
             }
            },
            "type": "bar"
           }
          ],
          "barpolar": [
           {
            "marker": {
             "line": {
              "color": "#E5ECF6",
              "width": 0.5
             },
             "pattern": {
              "fillmode": "overlay",
              "size": 10,
              "solidity": 0.2
             }
            },
            "type": "barpolar"
           }
          ],
          "carpet": [
           {
            "aaxis": {
             "endlinecolor": "#2a3f5f",
             "gridcolor": "white",
             "linecolor": "white",
             "minorgridcolor": "white",
             "startlinecolor": "#2a3f5f"
            },
            "baxis": {
             "endlinecolor": "#2a3f5f",
             "gridcolor": "white",
             "linecolor": "white",
             "minorgridcolor": "white",
             "startlinecolor": "#2a3f5f"
            },
            "type": "carpet"
           }
          ],
          "choropleth": [
           {
            "colorbar": {
             "outlinewidth": 0,
             "ticks": ""
            },
            "type": "choropleth"
           }
          ],
          "contour": [
           {
            "colorbar": {
             "outlinewidth": 0,
             "ticks": ""
            },
            "colorscale": [
             [
              0,
              "#0d0887"
             ],
             [
              0.1111111111111111,
              "#46039f"
             ],
             [
              0.2222222222222222,
              "#7201a8"
             ],
             [
              0.3333333333333333,
              "#9c179e"
             ],
             [
              0.4444444444444444,
              "#bd3786"
             ],
             [
              0.5555555555555556,
              "#d8576b"
             ],
             [
              0.6666666666666666,
              "#ed7953"
             ],
             [
              0.7777777777777778,
              "#fb9f3a"
             ],
             [
              0.8888888888888888,
              "#fdca26"
             ],
             [
              1,
              "#f0f921"
             ]
            ],
            "type": "contour"
           }
          ],
          "contourcarpet": [
           {
            "colorbar": {
             "outlinewidth": 0,
             "ticks": ""
            },
            "type": "contourcarpet"
           }
          ],
          "heatmap": [
           {
            "colorbar": {
             "outlinewidth": 0,
             "ticks": ""
            },
            "colorscale": [
             [
              0,
              "#0d0887"
             ],
             [
              0.1111111111111111,
              "#46039f"
             ],
             [
              0.2222222222222222,
              "#7201a8"
             ],
             [
              0.3333333333333333,
              "#9c179e"
             ],
             [
              0.4444444444444444,
              "#bd3786"
             ],
             [
              0.5555555555555556,
              "#d8576b"
             ],
             [
              0.6666666666666666,
              "#ed7953"
             ],
             [
              0.7777777777777778,
              "#fb9f3a"
             ],
             [
              0.8888888888888888,
              "#fdca26"
             ],
             [
              1,
              "#f0f921"
             ]
            ],
            "type": "heatmap"
           }
          ],
          "heatmapgl": [
           {
            "colorbar": {
             "outlinewidth": 0,
             "ticks": ""
            },
            "colorscale": [
             [
              0,
              "#0d0887"
             ],
             [
              0.1111111111111111,
              "#46039f"
             ],
             [
              0.2222222222222222,
              "#7201a8"
             ],
             [
              0.3333333333333333,
              "#9c179e"
             ],
             [
              0.4444444444444444,
              "#bd3786"
             ],
             [
              0.5555555555555556,
              "#d8576b"
             ],
             [
              0.6666666666666666,
              "#ed7953"
             ],
             [
              0.7777777777777778,
              "#fb9f3a"
             ],
             [
              0.8888888888888888,
              "#fdca26"
             ],
             [
              1,
              "#f0f921"
             ]
            ],
            "type": "heatmapgl"
           }
          ],
          "histogram": [
           {
            "marker": {
             "pattern": {
              "fillmode": "overlay",
              "size": 10,
              "solidity": 0.2
             }
            },
            "type": "histogram"
           }
          ],
          "histogram2d": [
           {
            "colorbar": {
             "outlinewidth": 0,
             "ticks": ""
            },
            "colorscale": [
             [
              0,
              "#0d0887"
             ],
             [
              0.1111111111111111,
              "#46039f"
             ],
             [
              0.2222222222222222,
              "#7201a8"
             ],
             [
              0.3333333333333333,
              "#9c179e"
             ],
             [
              0.4444444444444444,
              "#bd3786"
             ],
             [
              0.5555555555555556,
              "#d8576b"
             ],
             [
              0.6666666666666666,
              "#ed7953"
             ],
             [
              0.7777777777777778,
              "#fb9f3a"
             ],
             [
              0.8888888888888888,
              "#fdca26"
             ],
             [
              1,
              "#f0f921"
             ]
            ],
            "type": "histogram2d"
           }
          ],
          "histogram2dcontour": [
           {
            "colorbar": {
             "outlinewidth": 0,
             "ticks": ""
            },
            "colorscale": [
             [
              0,
              "#0d0887"
             ],
             [
              0.1111111111111111,
              "#46039f"
             ],
             [
              0.2222222222222222,
              "#7201a8"
             ],
             [
              0.3333333333333333,
              "#9c179e"
             ],
             [
              0.4444444444444444,
              "#bd3786"
             ],
             [
              0.5555555555555556,
              "#d8576b"
             ],
             [
              0.6666666666666666,
              "#ed7953"
             ],
             [
              0.7777777777777778,
              "#fb9f3a"
             ],
             [
              0.8888888888888888,
              "#fdca26"
             ],
             [
              1,
              "#f0f921"
             ]
            ],
            "type": "histogram2dcontour"
           }
          ],
          "mesh3d": [
           {
            "colorbar": {
             "outlinewidth": 0,
             "ticks": ""
            },
            "type": "mesh3d"
           }
          ],
          "parcoords": [
           {
            "line": {
             "colorbar": {
              "outlinewidth": 0,
              "ticks": ""
             }
            },
            "type": "parcoords"
           }
          ],
          "pie": [
           {
            "automargin": true,
            "type": "pie"
           }
          ],
          "scatter": [
           {
            "fillpattern": {
             "fillmode": "overlay",
             "size": 10,
             "solidity": 0.2
            },
            "type": "scatter"
           }
          ],
          "scatter3d": [
           {
            "line": {
             "colorbar": {
              "outlinewidth": 0,
              "ticks": ""
             }
            },
            "marker": {
             "colorbar": {
              "outlinewidth": 0,
              "ticks": ""
             }
            },
            "type": "scatter3d"
           }
          ],
          "scattercarpet": [
           {
            "marker": {
             "colorbar": {
              "outlinewidth": 0,
              "ticks": ""
             }
            },
            "type": "scattercarpet"
           }
          ],
          "scattergeo": [
           {
            "marker": {
             "colorbar": {
              "outlinewidth": 0,
              "ticks": ""
             }
            },
            "type": "scattergeo"
           }
          ],
          "scattergl": [
           {
            "marker": {
             "colorbar": {
              "outlinewidth": 0,
              "ticks": ""
             }
            },
            "type": "scattergl"
           }
          ],
          "scattermapbox": [
           {
            "marker": {
             "colorbar": {
              "outlinewidth": 0,
              "ticks": ""
             }
            },
            "type": "scattermapbox"
           }
          ],
          "scatterpolar": [
           {
            "marker": {
             "colorbar": {
              "outlinewidth": 0,
              "ticks": ""
             }
            },
            "type": "scatterpolar"
           }
          ],
          "scatterpolargl": [
           {
            "marker": {
             "colorbar": {
              "outlinewidth": 0,
              "ticks": ""
             }
            },
            "type": "scatterpolargl"
           }
          ],
          "scatterternary": [
           {
            "marker": {
             "colorbar": {
              "outlinewidth": 0,
              "ticks": ""
             }
            },
            "type": "scatterternary"
           }
          ],
          "surface": [
           {
            "colorbar": {
             "outlinewidth": 0,
             "ticks": ""
            },
            "colorscale": [
             [
              0,
              "#0d0887"
             ],
             [
              0.1111111111111111,
              "#46039f"
             ],
             [
              0.2222222222222222,
              "#7201a8"
             ],
             [
              0.3333333333333333,
              "#9c179e"
             ],
             [
              0.4444444444444444,
              "#bd3786"
             ],
             [
              0.5555555555555556,
              "#d8576b"
             ],
             [
              0.6666666666666666,
              "#ed7953"
             ],
             [
              0.7777777777777778,
              "#fb9f3a"
             ],
             [
              0.8888888888888888,
              "#fdca26"
             ],
             [
              1,
              "#f0f921"
             ]
            ],
            "type": "surface"
           }
          ],
          "table": [
           {
            "cells": {
             "fill": {
              "color": "#EBF0F8"
             },
             "line": {
              "color": "white"
             }
            },
            "header": {
             "fill": {
              "color": "#C8D4E3"
             },
             "line": {
              "color": "white"
             }
            },
            "type": "table"
           }
          ]
         },
         "layout": {
          "annotationdefaults": {
           "arrowcolor": "#2a3f5f",
           "arrowhead": 0,
           "arrowwidth": 1
          },
          "autotypenumbers": "strict",
          "coloraxis": {
           "colorbar": {
            "outlinewidth": 0,
            "ticks": ""
           }
          },
          "colorscale": {
           "diverging": [
            [
             0,
             "#8e0152"
            ],
            [
             0.1,
             "#c51b7d"
            ],
            [
             0.2,
             "#de77ae"
            ],
            [
             0.3,
             "#f1b6da"
            ],
            [
             0.4,
             "#fde0ef"
            ],
            [
             0.5,
             "#f7f7f7"
            ],
            [
             0.6,
             "#e6f5d0"
            ],
            [
             0.7,
             "#b8e186"
            ],
            [
             0.8,
             "#7fbc41"
            ],
            [
             0.9,
             "#4d9221"
            ],
            [
             1,
             "#276419"
            ]
           ],
           "sequential": [
            [
             0,
             "#0d0887"
            ],
            [
             0.1111111111111111,
             "#46039f"
            ],
            [
             0.2222222222222222,
             "#7201a8"
            ],
            [
             0.3333333333333333,
             "#9c179e"
            ],
            [
             0.4444444444444444,
             "#bd3786"
            ],
            [
             0.5555555555555556,
             "#d8576b"
            ],
            [
             0.6666666666666666,
             "#ed7953"
            ],
            [
             0.7777777777777778,
             "#fb9f3a"
            ],
            [
             0.8888888888888888,
             "#fdca26"
            ],
            [
             1,
             "#f0f921"
            ]
           ],
           "sequentialminus": [
            [
             0,
             "#0d0887"
            ],
            [
             0.1111111111111111,
             "#46039f"
            ],
            [
             0.2222222222222222,
             "#7201a8"
            ],
            [
             0.3333333333333333,
             "#9c179e"
            ],
            [
             0.4444444444444444,
             "#bd3786"
            ],
            [
             0.5555555555555556,
             "#d8576b"
            ],
            [
             0.6666666666666666,
             "#ed7953"
            ],
            [
             0.7777777777777778,
             "#fb9f3a"
            ],
            [
             0.8888888888888888,
             "#fdca26"
            ],
            [
             1,
             "#f0f921"
            ]
           ]
          },
          "colorway": [
           "#636efa",
           "#EF553B",
           "#00cc96",
           "#ab63fa",
           "#FFA15A",
           "#19d3f3",
           "#FF6692",
           "#B6E880",
           "#FF97FF",
           "#FECB52"
          ],
          "font": {
           "color": "#2a3f5f"
          },
          "geo": {
           "bgcolor": "white",
           "lakecolor": "white",
           "landcolor": "#E5ECF6",
           "showlakes": true,
           "showland": true,
           "subunitcolor": "white"
          },
          "hoverlabel": {
           "align": "left"
          },
          "hovermode": "closest",
          "mapbox": {
           "style": "light"
          },
          "paper_bgcolor": "white",
          "plot_bgcolor": "#E5ECF6",
          "polar": {
           "angularaxis": {
            "gridcolor": "white",
            "linecolor": "white",
            "ticks": ""
           },
           "bgcolor": "#E5ECF6",
           "radialaxis": {
            "gridcolor": "white",
            "linecolor": "white",
            "ticks": ""
           }
          },
          "scene": {
           "xaxis": {
            "backgroundcolor": "#E5ECF6",
            "gridcolor": "white",
            "gridwidth": 2,
            "linecolor": "white",
            "showbackground": true,
            "ticks": "",
            "zerolinecolor": "white"
           },
           "yaxis": {
            "backgroundcolor": "#E5ECF6",
            "gridcolor": "white",
            "gridwidth": 2,
            "linecolor": "white",
            "showbackground": true,
            "ticks": "",
            "zerolinecolor": "white"
           },
           "zaxis": {
            "backgroundcolor": "#E5ECF6",
            "gridcolor": "white",
            "gridwidth": 2,
            "linecolor": "white",
            "showbackground": true,
            "ticks": "",
            "zerolinecolor": "white"
           }
          },
          "shapedefaults": {
           "line": {
            "color": "#2a3f5f"
           }
          },
          "ternary": {
           "aaxis": {
            "gridcolor": "white",
            "linecolor": "white",
            "ticks": ""
           },
           "baxis": {
            "gridcolor": "white",
            "linecolor": "white",
            "ticks": ""
           },
           "bgcolor": "#E5ECF6",
           "caxis": {
            "gridcolor": "white",
            "linecolor": "white",
            "ticks": ""
           }
          },
          "title": {
           "x": 0.05
          },
          "xaxis": {
           "automargin": true,
           "gridcolor": "white",
           "linecolor": "white",
           "ticks": "",
           "title": {
            "standoff": 15
           },
           "zerolinecolor": "white",
           "zerolinewidth": 2
          },
          "yaxis": {
           "automargin": true,
           "gridcolor": "white",
           "linecolor": "white",
           "ticks": "",
           "title": {
            "standoff": 15
           },
           "zerolinecolor": "white",
           "zerolinewidth": 2
          }
         }
        },
        "width": 500,
        "xaxis": {
         "anchor": "y",
         "constrain": "domain",
         "domain": [
          0,
          1
         ],
         "scaleanchor": "y",
         "showticklabels": false
        },
        "yaxis": {
         "anchor": "x",
         "autorange": "reversed",
         "constrain": "domain",
         "domain": [
          0,
          1
         ],
         "showticklabels": false
        }
       }
      }
     },
     "metadata": {},
     "output_type": "display_data"
    },
    {
     "data": {
      "image/png": "[encoded data removed]",
      "text/plain": [
       "<Figure size 640x480 with 1 Axes>"
      ]
     },
     "metadata": {},
     "output_type": "display_data"
    }
   ],
   "source": [
    "evaluate_data('./test_data/congress_description', './test_data/congress_label', '040', '001', '020', '001')"
   ]
  },
  {
   "cell_type": "code",
   "execution_count": 30,
   "metadata": {},
   "outputs": [
    {
     "name": "stdout",
     "output_type": "stream",
     "text": [
      "Number found:  21\n",
      "////////////////////////////////////////////////////////////////////////////\n",
      "Cosine Value:  -0.0365475401828599\n",
      "Verse  3\n",
      "LINE 1:  to serve in this body. Unlike representatives, senators are elected for six-year terms, providing a measure of continuity and stability in the legislative process. This design reflects the Founding Fathers' intent to balance the interests of states with varying sizes\n",
      "--------------------------------------------\n",
      "Verse  1\n",
      "LINE 2:  orange\n",
      "////////////////////////////////////////////////////////////////////////////\n",
      "Cosine Value:  -0.0386430616648154\n",
      "Verse  13\n",
      "LINE 1:  and balances necessary for a functioning democracy. Through its carefully designed structure and responsibilities, it plays a vital role in shaping the nation's laws and policies.\n",
      "--------------------------------------------\n",
      "Verse  1\n",
      "LINE 2:  orange\n",
      "////////////////////////////////////////////////////////////////////////////\n",
      "Cosine Value:  -0.038673720062226316\n",
      "Verse  9\n",
      "LINE 1:  hearings, and reviews to ensure that the executive branch is operating within the boundaries of the law and that appointed judges meet the qualifications necessary for their positions.\n",
      "Furthermore, the legislative branch has the power of the purse, meaning it\n",
      "--------------------------------------------\n",
      "Verse  1\n",
      "LINE 2:  orange\n",
      "////////////////////////////////////////////////////////////////////////////\n",
      "Cosine Value:  -0.03877919163527343\n",
      "Verse  1\n",
      "LINE 1:  known as the \"House of Representatives,\" is comprised of elected officials who represent various geographic regions within the country. Each representative is chosen by the citizens of their respective districts through regular elections, with the number of representatives apportioned based\n",
      "--------------------------------------------\n",
      "Verse  1\n",
      "LINE 2:  orange\n",
      "////////////////////////////////////////////////////////////////////////////\n",
      "Cosine Value:  -0.03958455998363326\n",
      "Verse  5\n",
      "LINE 1:  Bills, which can originate in either the House of Representatives or the Senate, undergo thorough examination and debate before becoming law. Both chambers must approve a bill before it can proceed to the President for final approval or veto.\n",
      "In\n",
      "--------------------------------------------\n",
      "Verse  1\n",
      "LINE 2:  orange\n",
      "////////////////////////////////////////////////////////////////////////////\n",
      "Cosine Value:  -0.03964744943445162\n",
      "Verse  9\n",
      "LINE 1:  judges meet the qualifications necessary for their positions.\n",
      "Furthermore, the legislative branch has the power of the purse, meaning it has the authority to allocate government funds through the budgetary process. This power is critical in shaping the nation's priorities\n",
      "--------------------------------------------\n",
      "Verse  1\n",
      "LINE 2:  orange\n",
      "////////////////////////////////////////////////////////////////////////////\n",
      "Cosine Value:  -0.04017333921959086\n",
      "Verse  13\n",
      "LINE 1:  system. It serves as a forum for the representation of the people's interests, the creation of laws, and the checks and balances necessary for a functioning democracy. Through its carefully designed structure and responsibilities, it plays a vital role in\n",
      "--------------------------------------------\n",
      "Verse  1\n",
      "LINE 2:  orange\n",
      "////////////////////////////////////////////////////////////////////////////\n",
      "Cosine Value:  -0.0412678780165375\n",
      "Verse  5\n",
      "LINE 1:  law. Both chambers must approve a bill before it can proceed to the President for final approval or veto.\n",
      "In addition to their legislative duties, members of these chambers have distinct roles. Representatives are often seen as the voices of\n",
      "--------------------------------------------\n",
      "Verse  1\n",
      "LINE 2:  orange\n",
      "////////////////////////////////////////////////////////////////////////////\n",
      "Cosine Value:  -0.04147387563489145\n",
      "Verse  1\n",
      "LINE 1:  representative is chosen by the citizens of their respective districts through regular elections, with the number of representatives apportioned based on the population of each district. This ensures that more populous areas have a greater number of representatives to adequately\n",
      "--------------------------------------------\n",
      "Verse  1\n",
      "LINE 2:  orange\n",
      "////////////////////////////////////////////////////////////////////////////\n",
      "Cosine Value:  -0.04174586028137809\n",
      "Verse  7\n",
      "LINE 1:  the people, directly representing their constituents' interests and concerns. Senators, on the other hand, play a unique role in representing their states as a whole and providing a stabilizing influence in the legislative process.\n",
      "The legislative branch also exercises oversight\n",
      "--------------------------------------------\n",
      "Verse  1\n",
      "LINE 2:  orange\n",
      "////////////////////////////////////////////////////////////////////////////\n",
      "Cosine Value:  -0.04212258711288703\n",
      "Verse  9\n",
      "LINE 1:  over the executive and judicial branches of the government. Committees and subcommittees in both chambers are responsible for conducting investigations, hearings, and reviews to ensure that the executive branch is operating within the boundaries of the law and that appointed\n",
      "--------------------------------------------\n",
      "Verse  1\n",
      "LINE 2:  orange\n",
      "////////////////////////////////////////////////////////////////////////////\n",
      "Cosine Value:  -0.04218373341977468\n",
      "Verse  1\n",
      "LINE 1:  on the population of each district. This ensures that more populous areas have a greater number of representatives to adequately represent their constituents' interests.\n",
      "The second chamber, known as the \"Senate,\" is distinct from the House of Representatives both in\n",
      "--------------------------------------------\n",
      "Verse  1\n",
      "LINE 2:  orange\n",
      "////////////////////////////////////////////////////////////////////////////\n",
      "Cosine Value:  -0.04225862561362376\n",
      "Verse  3\n",
      "LINE 1:  and populations.\n",
      "The primary function of these two chambers is to craft and pass legislation, which involves a multi-step process. Bills, which can originate in either the House of Representatives or the Senate, undergo thorough examination and debate before becoming\n",
      "--------------------------------------------\n",
      "Verse  1\n",
      "LINE 2:  orange\n",
      "////////////////////////////////////////////////////////////////////////////\n",
      "Cosine Value:  -0.04243458143452937\n",
      "Verse  3\n",
      "LINE 1:  in the legislative process. This design reflects the Founding Fathers' intent to balance the interests of states with varying sizes and populations.\n",
      "The primary function of these two chambers is to craft and pass legislation, which involves a multi-step process.\n",
      "--------------------------------------------\n",
      "Verse  1\n",
      "LINE 2:  orange\n",
      "////////////////////////////////////////////////////////////////////////////\n",
      "Cosine Value:  -0.042728359686958595\n",
      "Verse  1\n",
      "LINE 1:  represent their constituents' interests.\n",
      "The second chamber, known as the \"Senate,\" is distinct from the House of Representatives both in its composition and its responsibilities. The Senate consists of a fixed number of members, with each state sending two senators\n",
      "--------------------------------------------\n",
      "Verse  1\n",
      "LINE 2:  orange\n",
      "////////////////////////////////////////////////////////////////////////////\n",
      "Cosine Value:  -0.04291196531140949\n",
      "Verse  3\n",
      "LINE 1:  its composition and its responsibilities. The Senate consists of a fixed number of members, with each state sending two senators to serve in this body. Unlike representatives, senators are elected for six-year terms, providing a measure of continuity and stability\n",
      "--------------------------------------------\n",
      "Verse  1\n",
      "LINE 2:  orange\n",
      "////////////////////////////////////////////////////////////////////////////\n",
      "Cosine Value:  -0.04487653996234926\n",
      "Verse  11\n",
      "LINE 1:  and implementing policies.\n",
      "Ultimately, the legislative branch of the United States government is a fundamental pillar of the nation's democratic system. It serves as a forum for the representation of the people's interests, the creation of laws, and the checks\n",
      "--------------------------------------------\n",
      "Verse  1\n",
      "LINE 2:  orange\n",
      "////////////////////////////////////////////////////////////////////////////\n",
      "Cosine Value:  -0.04529816486547613\n",
      "Verse  11\n",
      "LINE 1:  has the authority to allocate government funds through the budgetary process. This power is critical in shaping the nation's priorities and implementing policies.\n",
      "Ultimately, the legislative branch of the United States government is a fundamental pillar of the nation's democratic\n",
      "--------------------------------------------\n",
      "Verse  1\n",
      "LINE 2:  orange\n",
      "////////////////////////////////////////////////////////////////////////////\n",
      "Cosine Value:  -0.047095690828439986\n",
      "Verse  7\n",
      "LINE 1:  addition to their legislative duties, members of these chambers have distinct roles. Representatives are often seen as the voices of the people, directly representing their constituents' interests and concerns. Senators, on the other hand, play a unique role in representing\n",
      "--------------------------------------------\n",
      "Verse  1\n",
      "LINE 2:  orange\n",
      "////////////////////////////////////////////////////////////////////////////\n",
      "Cosine Value:  -0.04873004945101143\n",
      "Verse  7\n",
      "LINE 1:  their states as a whole and providing a stabilizing influence in the legislative process.\n",
      "The legislative branch also exercises oversight over the executive and judicial branches of the government. Committees and subcommittees in both chambers are responsible for conducting investigations,\n",
      "--------------------------------------------\n",
      "Verse  1\n",
      "LINE 2:  orange\n",
      "////////////////////////////////////////////////////////////////////////////\n",
      "Cosine Value:  -0.049606037939343275\n",
      "Verse  1\n",
      "LINE 1:  The legislative branch of the United States government is a bicameral institution composed of two separate chambers. The first chamber, known as the \"House of Representatives,\" is comprised of elected officials who represent various geographic regions within the country. Each\n",
      "--------------------------------------------\n",
      "Verse  1\n",
      "LINE 2:  orange\n"
     ]
    },
    {
     "data": {
      "application/vnd.plotly.v1+json": {
       "config": {
        "plotlyServerURL": "https://plot.ly"
       },
       "data": [
        {
         "coloraxis": "coloraxis",
         "hovertemplate": "x: %{x}<br>y: %{y}<br>color: %{z}<extra></extra>",
         "name": "0",
         "type": "heatmap",
         "x": [
          "orange"
         ],
         "xaxis": "x",
         "y": [
          "The legislative branch of the United States government is a bicameral institution composed of two separate chambers. The first chamber, known as the \"House of Representatives,\" is comprised of elected officials who represent various geographic regions within the country. Each",
          "known as the \"House of Representatives,\" is comprised of elected officials who represent various geographic regions within the country. Each representative is chosen by the citizens of their respective districts through regular elections, with the number of representatives apportioned based",
          "representative is chosen by the citizens of their respective districts through regular elections, with the number of representatives apportioned based on the population of each district. This ensures that more populous areas have a greater number of representatives to adequately",
          "on the population of each district. This ensures that more populous areas have a greater number of representatives to adequately represent their constituents' interests.\nThe second chamber, known as the \"Senate,\" is distinct from the House of Representatives both in",
          "represent their constituents' interests.\nThe second chamber, known as the \"Senate,\" is distinct from the House of Representatives both in its composition and its responsibilities. The Senate consists of a fixed number of members, with each state sending two senators",
          "its composition and its responsibilities. The Senate consists of a fixed number of members, with each state sending two senators to serve in this body. Unlike representatives, senators are elected for six-year terms, providing a measure of continuity and stability",
          "to serve in this body. Unlike representatives, senators are elected for six-year terms, providing a measure of continuity and stability in the legislative process. This design reflects the Founding Fathers' intent to balance the interests of states with varying sizes",
          "in the legislative process. This design reflects the Founding Fathers' intent to balance the interests of states with varying sizes and populations.\nThe primary function of these two chambers is to craft and pass legislation, which involves a multi-step process.",
          "and populations.\nThe primary function of these two chambers is to craft and pass legislation, which involves a multi-step process. Bills, which can originate in either the House of Representatives or the Senate, undergo thorough examination and debate before becoming",
          "Bills, which can originate in either the House of Representatives or the Senate, undergo thorough examination and debate before becoming law. Both chambers must approve a bill before it can proceed to the President for final approval or veto.\nIn",
          "law. Both chambers must approve a bill before it can proceed to the President for final approval or veto.\nIn addition to their legislative duties, members of these chambers have distinct roles. Representatives are often seen as the voices of",
          "addition to their legislative duties, members of these chambers have distinct roles. Representatives are often seen as the voices of the people, directly representing their constituents' interests and concerns. Senators, on the other hand, play a unique role in representing",
          "the people, directly representing their constituents' interests and concerns. Senators, on the other hand, play a unique role in representing their states as a whole and providing a stabilizing influence in the legislative process.\nThe legislative branch also exercises oversight",
          "their states as a whole and providing a stabilizing influence in the legislative process.\nThe legislative branch also exercises oversight over the executive and judicial branches of the government. Committees and subcommittees in both chambers are responsible for conducting investigations,",
          "over the executive and judicial branches of the government. Committees and subcommittees in both chambers are responsible for conducting investigations, hearings, and reviews to ensure that the executive branch is operating within the boundaries of the law and that appointed",
          "hearings, and reviews to ensure that the executive branch is operating within the boundaries of the law and that appointed judges meet the qualifications necessary for their positions.\nFurthermore, the legislative branch has the power of the purse, meaning it",
          "judges meet the qualifications necessary for their positions.\nFurthermore, the legislative branch has the power of the purse, meaning it has the authority to allocate government funds through the budgetary process. This power is critical in shaping the nation's priorities",
          "has the authority to allocate government funds through the budgetary process. This power is critical in shaping the nation's priorities and implementing policies.\nUltimately, the legislative branch of the United States government is a fundamental pillar of the nation's democratic",
          "and implementing policies.\nUltimately, the legislative branch of the United States government is a fundamental pillar of the nation's democratic system. It serves as a forum for the representation of the people's interests, the creation of laws, and the checks",
          "system. It serves as a forum for the representation of the people's interests, the creation of laws, and the checks and balances necessary for a functioning democracy. Through its carefully designed structure and responsibilities, it plays a vital role in",
          "and balances necessary for a functioning democracy. Through its carefully designed structure and responsibilities, it plays a vital role in shaping the nation's laws and policies."
         ],
         "yaxis": "y",
         "z": [
          [
           -0.049606037939343275
          ],
          [
           -0.03877919163527343
          ],
          [
           -0.04147387563489145
          ],
          [
           -0.04218373341977468
          ],
          [
           -0.042728359686958595
          ],
          [
           -0.04291196531140949
          ],
          [
           -0.0365475401828599
          ],
          [
           -0.04243458143452937
          ],
          [
           -0.04225862561362376
          ],
          [
           -0.03958455998363326
          ],
          [
           -0.0412678780165375
          ],
          [
           -0.047095690828439986
          ],
          [
           -0.04174586028137809
          ],
          [
           -0.04873004945101143
          ],
          [
           -0.04212258711288703
          ],
          [
           -0.038673720062226316
          ],
          [
           -0.03964744943445162
          ],
          [
           -0.04529816486547613
          ],
          [
           -0.04487653996234926
          ],
          [
           -0.04017333921959086
          ],
          [
           -0.0386430616648154
          ]
         ]
        }
       ],
       "layout": {
        "coloraxis": {
         "colorscale": [
          [
           0,
           "#0d0887"
          ],
          [
           0.1111111111111111,
           "#46039f"
          ],
          [
           0.2222222222222222,
           "#7201a8"
          ],
          [
           0.3333333333333333,
           "#9c179e"
          ],
          [
           0.4444444444444444,
           "#bd3786"
          ],
          [
           0.5555555555555556,
           "#d8576b"
          ],
          [
           0.6666666666666666,
           "#ed7953"
          ],
          [
           0.7777777777777778,
           "#fb9f3a"
          ],
          [
           0.8888888888888888,
           "#fdca26"
          ],
          [
           1,
           "#f0f921"
          ]
         ]
        },
        "height": 500,
        "margin": {
         "t": 60
        },
        "template": {
         "data": {
          "bar": [
           {
            "error_x": {
             "color": "#2a3f5f"
            },
            "error_y": {
             "color": "#2a3f5f"
            },
            "marker": {
             "line": {
              "color": "#E5ECF6",
              "width": 0.5
             },
             "pattern": {
              "fillmode": "overlay",
              "size": 10,
              "solidity": 0.2
             }
            },
            "type": "bar"
           }
          ],
          "barpolar": [
           {
            "marker": {
             "line": {
              "color": "#E5ECF6",
              "width": 0.5
             },
             "pattern": {
              "fillmode": "overlay",
              "size": 10,
              "solidity": 0.2
             }
            },
            "type": "barpolar"
           }
          ],
          "carpet": [
           {
            "aaxis": {
             "endlinecolor": "#2a3f5f",
             "gridcolor": "white",
             "linecolor": "white",
             "minorgridcolor": "white",
             "startlinecolor": "#2a3f5f"
            },
            "baxis": {
             "endlinecolor": "#2a3f5f",
             "gridcolor": "white",
             "linecolor": "white",
             "minorgridcolor": "white",
             "startlinecolor": "#2a3f5f"
            },
            "type": "carpet"
           }
          ],
          "choropleth": [
           {
            "colorbar": {
             "outlinewidth": 0,
             "ticks": ""
            },
            "type": "choropleth"
           }
          ],
          "contour": [
           {
            "colorbar": {
             "outlinewidth": 0,
             "ticks": ""
            },
            "colorscale": [
             [
              0,
              "#0d0887"
             ],
             [
              0.1111111111111111,
              "#46039f"
             ],
             [
              0.2222222222222222,
              "#7201a8"
             ],
             [
              0.3333333333333333,
              "#9c179e"
             ],
             [
              0.4444444444444444,
              "#bd3786"
             ],
             [
              0.5555555555555556,
              "#d8576b"
             ],
             [
              0.6666666666666666,
              "#ed7953"
             ],
             [
              0.7777777777777778,
              "#fb9f3a"
             ],
             [
              0.8888888888888888,
              "#fdca26"
             ],
             [
              1,
              "#f0f921"
             ]
            ],
            "type": "contour"
           }
          ],
          "contourcarpet": [
           {
            "colorbar": {
             "outlinewidth": 0,
             "ticks": ""
            },
            "type": "contourcarpet"
           }
          ],
          "heatmap": [
           {
            "colorbar": {
             "outlinewidth": 0,
             "ticks": ""
            },
            "colorscale": [
             [
              0,
              "#0d0887"
             ],
             [
              0.1111111111111111,
              "#46039f"
             ],
             [
              0.2222222222222222,
              "#7201a8"
             ],
             [
              0.3333333333333333,
              "#9c179e"
             ],
             [
              0.4444444444444444,
              "#bd3786"
             ],
             [
              0.5555555555555556,
              "#d8576b"
             ],
             [
              0.6666666666666666,
              "#ed7953"
             ],
             [
              0.7777777777777778,
              "#fb9f3a"
             ],
             [
              0.8888888888888888,
              "#fdca26"
             ],
             [
              1,
              "#f0f921"
             ]
            ],
            "type": "heatmap"
           }
          ],
          "heatmapgl": [
           {
            "colorbar": {
             "outlinewidth": 0,
             "ticks": ""
            },
            "colorscale": [
             [
              0,
              "#0d0887"
             ],
             [
              0.1111111111111111,
              "#46039f"
             ],
             [
              0.2222222222222222,
              "#7201a8"
             ],
             [
              0.3333333333333333,
              "#9c179e"
             ],
             [
              0.4444444444444444,
              "#bd3786"
             ],
             [
              0.5555555555555556,
              "#d8576b"
             ],
             [
              0.6666666666666666,
              "#ed7953"
             ],
             [
              0.7777777777777778,
              "#fb9f3a"
             ],
             [
              0.8888888888888888,
              "#fdca26"
             ],
             [
              1,
              "#f0f921"
             ]
            ],
            "type": "heatmapgl"
           }
          ],
          "histogram": [
           {
            "marker": {
             "pattern": {
              "fillmode": "overlay",
              "size": 10,
              "solidity": 0.2
             }
            },
            "type": "histogram"
           }
          ],
          "histogram2d": [
           {
            "colorbar": {
             "outlinewidth": 0,
             "ticks": ""
            },
            "colorscale": [
             [
              0,
              "#0d0887"
             ],
             [
              0.1111111111111111,
              "#46039f"
             ],
             [
              0.2222222222222222,
              "#7201a8"
             ],
             [
              0.3333333333333333,
              "#9c179e"
             ],
             [
              0.4444444444444444,
              "#bd3786"
             ],
             [
              0.5555555555555556,
              "#d8576b"
             ],
             [
              0.6666666666666666,
              "#ed7953"
             ],
             [
              0.7777777777777778,
              "#fb9f3a"
             ],
             [
              0.8888888888888888,
              "#fdca26"
             ],
             [
              1,
              "#f0f921"
             ]
            ],
            "type": "histogram2d"
           }
          ],
          "histogram2dcontour": [
           {
            "colorbar": {
             "outlinewidth": 0,
             "ticks": ""
            },
            "colorscale": [
             [
              0,
              "#0d0887"
             ],
             [
              0.1111111111111111,
              "#46039f"
             ],
             [
              0.2222222222222222,
              "#7201a8"
             ],
             [
              0.3333333333333333,
              "#9c179e"
             ],
             [
              0.4444444444444444,
              "#bd3786"
             ],
             [
              0.5555555555555556,
              "#d8576b"
             ],
             [
              0.6666666666666666,
              "#ed7953"
             ],
             [
              0.7777777777777778,
              "#fb9f3a"
             ],
             [
              0.8888888888888888,
              "#fdca26"
             ],
             [
              1,
              "#f0f921"
             ]
            ],
            "type": "histogram2dcontour"
           }
          ],
          "mesh3d": [
           {
            "colorbar": {
             "outlinewidth": 0,
             "ticks": ""
            },
            "type": "mesh3d"
           }
          ],
          "parcoords": [
           {
            "line": {
             "colorbar": {
              "outlinewidth": 0,
              "ticks": ""
             }
            },
            "type": "parcoords"
           }
          ],
          "pie": [
           {
            "automargin": true,
            "type": "pie"
           }
          ],
          "scatter": [
           {
            "fillpattern": {
             "fillmode": "overlay",
             "size": 10,
             "solidity": 0.2
            },
            "type": "scatter"
           }
          ],
          "scatter3d": [
           {
            "line": {
             "colorbar": {
              "outlinewidth": 0,
              "ticks": ""
             }
            },
            "marker": {
             "colorbar": {
              "outlinewidth": 0,
              "ticks": ""
             }
            },
            "type": "scatter3d"
           }
          ],
          "scattercarpet": [
           {
            "marker": {
             "colorbar": {
              "outlinewidth": 0,
              "ticks": ""
             }
            },
            "type": "scattercarpet"
           }
          ],
          "scattergeo": [
           {
            "marker": {
             "colorbar": {
              "outlinewidth": 0,
              "ticks": ""
             }
            },
            "type": "scattergeo"
           }
          ],
          "scattergl": [
           {
            "marker": {
             "colorbar": {
              "outlinewidth": 0,
              "ticks": ""
             }
            },
            "type": "scattergl"
           }
          ],
          "scattermapbox": [
           {
            "marker": {
             "colorbar": {
              "outlinewidth": 0,
              "ticks": ""
             }
            },
            "type": "scattermapbox"
           }
          ],
          "scatterpolar": [
           {
            "marker": {
             "colorbar": {
              "outlinewidth": 0,
              "ticks": ""
             }
            },
            "type": "scatterpolar"
           }
          ],
          "scatterpolargl": [
           {
            "marker": {
             "colorbar": {
              "outlinewidth": 0,
              "ticks": ""
             }
            },
            "type": "scatterpolargl"
           }
          ],
          "scatterternary": [
           {
            "marker": {
             "colorbar": {
              "outlinewidth": 0,
              "ticks": ""
             }
            },
            "type": "scatterternary"
           }
          ],
          "surface": [
           {
            "colorbar": {
             "outlinewidth": 0,
             "ticks": ""
            },
            "colorscale": [
             [
              0,
              "#0d0887"
             ],
             [
              0.1111111111111111,
              "#46039f"
             ],
             [
              0.2222222222222222,
              "#7201a8"
             ],
             [
              0.3333333333333333,
              "#9c179e"
             ],
             [
              0.4444444444444444,
              "#bd3786"
             ],
             [
              0.5555555555555556,
              "#d8576b"
             ],
             [
              0.6666666666666666,
              "#ed7953"
             ],
             [
              0.7777777777777778,
              "#fb9f3a"
             ],
             [
              0.8888888888888888,
              "#fdca26"
             ],
             [
              1,
              "#f0f921"
             ]
            ],
            "type": "surface"
           }
          ],
          "table": [
           {
            "cells": {
             "fill": {
              "color": "#EBF0F8"
             },
             "line": {
              "color": "white"
             }
            },
            "header": {
             "fill": {
              "color": "#C8D4E3"
             },
             "line": {
              "color": "white"
             }
            },
            "type": "table"
           }
          ]
         },
         "layout": {
          "annotationdefaults": {
           "arrowcolor": "#2a3f5f",
           "arrowhead": 0,
           "arrowwidth": 1
          },
          "autotypenumbers": "strict",
          "coloraxis": {
           "colorbar": {
            "outlinewidth": 0,
            "ticks": ""
           }
          },
          "colorscale": {
           "diverging": [
            [
             0,
             "#8e0152"
            ],
            [
             0.1,
             "#c51b7d"
            ],
            [
             0.2,
             "#de77ae"
            ],
            [
             0.3,
             "#f1b6da"
            ],
            [
             0.4,
             "#fde0ef"
            ],
            [
             0.5,
             "#f7f7f7"
            ],
            [
             0.6,
             "#e6f5d0"
            ],
            [
             0.7,
             "#b8e186"
            ],
            [
             0.8,
             "#7fbc41"
            ],
            [
             0.9,
             "#4d9221"
            ],
            [
             1,
             "#276419"
            ]
           ],
           "sequential": [
            [
             0,
             "#0d0887"
            ],
            [
             0.1111111111111111,
             "#46039f"
            ],
            [
             0.2222222222222222,
             "#7201a8"
            ],
            [
             0.3333333333333333,
             "#9c179e"
            ],
            [
             0.4444444444444444,
             "#bd3786"
            ],
            [
             0.5555555555555556,
             "#d8576b"
            ],
            [
             0.6666666666666666,
             "#ed7953"
            ],
            [
             0.7777777777777778,
             "#fb9f3a"
            ],
            [
             0.8888888888888888,
             "#fdca26"
            ],
            [
             1,
             "#f0f921"
            ]
           ],
           "sequentialminus": [
            [
             0,
             "#0d0887"
            ],
            [
             0.1111111111111111,
             "#46039f"
            ],
            [
             0.2222222222222222,
             "#7201a8"
            ],
            [
             0.3333333333333333,
             "#9c179e"
            ],
            [
             0.4444444444444444,
             "#bd3786"
            ],
            [
             0.5555555555555556,
             "#d8576b"
            ],
            [
             0.6666666666666666,
             "#ed7953"
            ],
            [
             0.7777777777777778,
             "#fb9f3a"
            ],
            [
             0.8888888888888888,
             "#fdca26"
            ],
            [
             1,
             "#f0f921"
            ]
           ]
          },
          "colorway": [
           "#636efa",
           "#EF553B",
           "#00cc96",
           "#ab63fa",
           "#FFA15A",
           "#19d3f3",
           "#FF6692",
           "#B6E880",
           "#FF97FF",
           "#FECB52"
          ],
          "font": {
           "color": "#2a3f5f"
          },
          "geo": {
           "bgcolor": "white",
           "lakecolor": "white",
           "landcolor": "#E5ECF6",
           "showlakes": true,
           "showland": true,
           "subunitcolor": "white"
          },
          "hoverlabel": {
           "align": "left"
          },
          "hovermode": "closest",
          "mapbox": {
           "style": "light"
          },
          "paper_bgcolor": "white",
          "plot_bgcolor": "#E5ECF6",
          "polar": {
           "angularaxis": {
            "gridcolor": "white",
            "linecolor": "white",
            "ticks": ""
           },
           "bgcolor": "#E5ECF6",
           "radialaxis": {
            "gridcolor": "white",
            "linecolor": "white",
            "ticks": ""
           }
          },
          "scene": {
           "xaxis": {
            "backgroundcolor": "#E5ECF6",
            "gridcolor": "white",
            "gridwidth": 2,
            "linecolor": "white",
            "showbackground": true,
            "ticks": "",
            "zerolinecolor": "white"
           },
           "yaxis": {
            "backgroundcolor": "#E5ECF6",
            "gridcolor": "white",
            "gridwidth": 2,
            "linecolor": "white",
            "showbackground": true,
            "ticks": "",
            "zerolinecolor": "white"
           },
           "zaxis": {
            "backgroundcolor": "#E5ECF6",
            "gridcolor": "white",
            "gridwidth": 2,
            "linecolor": "white",
            "showbackground": true,
            "ticks": "",
            "zerolinecolor": "white"
           }
          },
          "shapedefaults": {
           "line": {
            "color": "#2a3f5f"
           }
          },
          "ternary": {
           "aaxis": {
            "gridcolor": "white",
            "linecolor": "white",
            "ticks": ""
           },
           "baxis": {
            "gridcolor": "white",
            "linecolor": "white",
            "ticks": ""
           },
           "bgcolor": "#E5ECF6",
           "caxis": {
            "gridcolor": "white",
            "linecolor": "white",
            "ticks": ""
           }
          },
          "title": {
           "x": 0.05
          },
          "xaxis": {
           "automargin": true,
           "gridcolor": "white",
           "linecolor": "white",
           "ticks": "",
           "title": {
            "standoff": 15
           },
           "zerolinecolor": "white",
           "zerolinewidth": 2
          },
          "yaxis": {
           "automargin": true,
           "gridcolor": "white",
           "linecolor": "white",
           "ticks": "",
           "title": {
            "standoff": 15
           },
           "zerolinecolor": "white",
           "zerolinewidth": 2
          }
         }
        },
        "width": 500,
        "xaxis": {
         "anchor": "y",
         "constrain": "domain",
         "domain": [
          0,
          1
         ],
         "scaleanchor": "y",
         "showticklabels": false
        },
        "yaxis": {
         "anchor": "x",
         "autorange": "reversed",
         "constrain": "domain",
         "domain": [
          0,
          1
         ],
         "showticklabels": false
        }
       }
      }
     },
     "metadata": {},
     "output_type": "display_data"
    },
    {
     "data": {
      "image/png": "[encoded data removed]",
      "text/plain": [
       "<Figure size 640x480 with 1 Axes>"
      ]
     },
     "metadata": {},
     "output_type": "display_data"
    }
   ],
   "source": [
    "evaluate_data('./test_data/congress_description', './test_data/random_label', '040', '001', '020', '001')"
   ]
  },
  {
   "cell_type": "markdown",
   "metadata": {},
   "source": [
    "Not normalized:"
   ]
  },
  {
   "cell_type": "code",
   "execution_count": 37,
   "metadata": {},
   "outputs": [
    {
     "name": "stdout",
     "output_type": "stream",
     "text": [
      "Number found:  16\n",
      "////////////////////////////////////////////////////////////////////////////\n",
      "Cosine Value:  0.21297531347667328\n",
      "Verse  2\n",
      "LINE 1:  this dish lies an array of ingredients, each chosen with care and attention to detail. One of the central elements features thinly sliced, impeccably fresh raw fish. These slices, showcasing an array of colors, range from deep reds to opalescent\n",
      "--------------------------------------------\n",
      "Verse  1\n",
      "LINE 2:  sushi\n",
      "////////////////////////////////////////////////////////////////////////////\n",
      "Cosine Value:  0.2124887564598554\n",
      "Verse  2\n",
      "LINE 1:  subtle sweetness. These slices rest gracefully upon the seasoned rice, creating a harmonious partnership of taste and texture.\n",
      "Complementing the raw fish are an assortment of vibrant vegetables and garnishes, adding both visual appeal and an array of flavors and\n",
      "--------------------------------------------\n",
      "Verse  1\n",
      "LINE 2:  sushi\n",
      "////////////////////////////////////////////////////////////////////////////\n",
      "Cosine Value:  0.2107286983675317\n",
      "Verse  5\n",
      "LINE 1:  arranged meticulously on a clean plate, a vibrant mosaic of colors and textures that invites diners to appreciate not only the flavors but also the craftsmanship behind each bite.\n",
      "In summary, this description encapsulates the essence of a beloved Japanese\n",
      "--------------------------------------------\n",
      "Verse  1\n",
      "LINE 2:  sushi\n",
      "////////////////////////////////////////////////////////////////////////////\n",
      "Cosine Value:  0.20828265169304383\n",
      "Verse  3\n",
      "LINE 1:  textures. Crisp cucumber, creamy avocado, and the piquant bite of pickled ginger provide a refreshing contrast, while a touch of fiery wasabi delivers a hint of heat. A light drizzle of soy sauce enhances the overall umami experience, uniting the\n",
      "--------------------------------------------\n",
      "Verse  1\n",
      "LINE 2:  sushi\n",
      "////////////////////////////////////////////////////////////////////////////\n",
      "Cosine Value:  0.20778568293181454\n",
      "Verse  5\n",
      "LINE 1:  the flavors but also the craftsmanship behind each bite.\n",
      "In summary, this description encapsulates the essence of a beloved Japanese culinary tradition, a meticulous assembly of flavors and textures where seasoned rice and fresh ingredients harmonize to create a symphony\n",
      "--------------------------------------------\n",
      "Verse  1\n",
      "LINE 2:  sushi\n",
      "////////////////////////////////////////////////////////////////////////////\n",
      "Cosine Value:  0.20741280483599994\n",
      "Verse  1\n",
      "LINE 1:  Imagine a culinary creation that hails from Japan, renowned for its meticulous preparation and diverse flavors. This dish starts with a foundation of seasoned vinegared rice, cooked to perfection. The rice, typically short-grained and sticky, is seasoned with a precise\n",
      "--------------------------------------------\n",
      "Verse  1\n",
      "LINE 2:  sushi\n",
      "////////////////////////////////////////////////////////////////////////////\n",
      "Cosine Value:  0.2072108942231519\n",
      "Verse  6\n",
      "LINE 1:  culinary tradition, a meticulous assembly of flavors and textures where seasoned rice and fresh ingredients harmonize to create a symphony of taste and an artful visual experience.\n",
      "--------------------------------------------\n",
      "Verse  1\n",
      "LINE 2:  sushi\n",
      "////////////////////////////////////////////////////////////////////////////\n",
      "Cosine Value:  0.20714560615340125\n",
      "Verse  3\n",
      "LINE 1:  ingredients in a savory symphony.\n",
      "To hold this culinary ensemble together, a thin, semi-transparent sheet of seaweed, known as nori, is often employed. This seaweed imparts a subtle oceanic flavor and serves as a structural component, allowing each bite to\n",
      "--------------------------------------------\n",
      "Verse  1\n",
      "LINE 2:  sushi\n",
      "////////////////////////////////////////////////////////////////////////////\n",
      "Cosine Value:  0.2070432221492859\n",
      "Verse  2\n",
      "LINE 1:  features thinly sliced, impeccably fresh raw fish. These slices, showcasing an array of colors, range from deep reds to opalescent whites. The fish's texture is exceptionally tender, with a nuanced flavor profile that blends the essence of the sea with\n",
      "--------------------------------------------\n",
      "Verse  1\n",
      "LINE 2:  sushi\n",
      "////////////////////////////////////////////////////////////////////////////\n",
      "Cosine Value:  0.20674979211128572\n",
      "Verse  3\n",
      "LINE 1:  fiery wasabi delivers a hint of heat. A light drizzle of soy sauce enhances the overall umami experience, uniting the ingredients in a savory symphony.\n",
      "To hold this culinary ensemble together, a thin, semi-transparent sheet of seaweed, known as nori,\n",
      "--------------------------------------------\n",
      "Verse  1\n",
      "LINE 2:  sushi\n",
      "////////////////////////////////////////////////////////////////////////////\n",
      "Cosine Value:  0.20504934906449968\n",
      "Verse  2\n",
      "LINE 1:  whites. The fish's texture is exceptionally tender, with a nuanced flavor profile that blends the essence of the sea with subtle sweetness. These slices rest gracefully upon the seasoned rice, creating a harmonious partnership of taste and texture.\n",
      "Complementing the\n",
      "--------------------------------------------\n",
      "Verse  1\n",
      "LINE 2:  sushi\n",
      "////////////////////////////////////////////////////////////////////////////\n",
      "Cosine Value:  0.2046825613023895\n",
      "Verse  3\n",
      "LINE 1:  raw fish are an assortment of vibrant vegetables and garnishes, adding both visual appeal and an array of flavors and textures. Crisp cucumber, creamy avocado, and the piquant bite of pickled ginger provide a refreshing contrast, while a touch of\n",
      "--------------------------------------------\n",
      "Verse  1\n",
      "LINE 2:  sushi\n",
      "////////////////////////////////////////////////////////////////////////////\n",
      "Cosine Value:  0.2011840869081222\n",
      "Verse  1\n",
      "LINE 1:  mixture of rice vinegar, sugar, and salt, which imparts a delicate balance of sweetness and tanginess.\n",
      "At the heart of this dish lies an array of ingredients, each chosen with care and attention to detail. One of the central elements\n",
      "--------------------------------------------\n",
      "Verse  1\n",
      "LINE 2:  sushi\n",
      "////////////////////////////////////////////////////////////////////////////\n",
      "Cosine Value:  0.20070456222132899\n",
      "Verse  4\n",
      "LINE 1:  be easily picked up and savored.\n",
      "The presentation of this dish is an art form in itself. It is often arranged meticulously on a clean plate, a vibrant mosaic of colors and textures that invites diners to appreciate not only\n",
      "--------------------------------------------\n",
      "Verse  1\n",
      "LINE 2:  sushi\n",
      "////////////////////////////////////////////////////////////////////////////\n",
      "Cosine Value:  0.19967184160142964\n",
      "Verse  1\n",
      "LINE 1:  a foundation of seasoned vinegared rice, cooked to perfection. The rice, typically short-grained and sticky, is seasoned with a precise mixture of rice vinegar, sugar, and salt, which imparts a delicate balance of sweetness and tanginess.\n",
      "At the heart of\n",
      "--------------------------------------------\n",
      "Verse  1\n",
      "LINE 2:  sushi\n",
      "////////////////////////////////////////////////////////////////////////////\n",
      "Cosine Value:  0.19865914557057165\n",
      "Verse  4\n",
      "LINE 1:  is often employed. This seaweed imparts a subtle oceanic flavor and serves as a structural component, allowing each bite to be easily picked up and savored.\n",
      "The presentation of this dish is an art form in itself. It is often\n",
      "--------------------------------------------\n",
      "Verse  1\n",
      "LINE 2:  sushi\n"
     ]
    },
    {
     "data": {
      "application/vnd.plotly.v1+json": {
       "config": {
        "plotlyServerURL": "https://plot.ly"
       },
       "data": [
        {
         "coloraxis": "coloraxis",
         "hovertemplate": "x: %{x}<br>y: %{y}<br>color: %{z}<extra></extra>",
         "name": "0",
         "type": "heatmap",
         "x": [
          "sushi"
         ],
         "xaxis": "x",
         "y": [
          "Imagine a culinary creation that hails from Japan, renowned for its meticulous preparation and diverse flavors. This dish starts with a foundation of seasoned vinegared rice, cooked to perfection. The rice, typically short-grained and sticky, is seasoned with a precise",
          "a foundation of seasoned vinegared rice, cooked to perfection. The rice, typically short-grained and sticky, is seasoned with a precise mixture of rice vinegar, sugar, and salt, which imparts a delicate balance of sweetness and tanginess.\nAt the heart of",
          "mixture of rice vinegar, sugar, and salt, which imparts a delicate balance of sweetness and tanginess.\nAt the heart of this dish lies an array of ingredients, each chosen with care and attention to detail. One of the central elements",
          "this dish lies an array of ingredients, each chosen with care and attention to detail. One of the central elements features thinly sliced, impeccably fresh raw fish. These slices, showcasing an array of colors, range from deep reds to opalescent",
          "features thinly sliced, impeccably fresh raw fish. These slices, showcasing an array of colors, range from deep reds to opalescent whites. The fish's texture is exceptionally tender, with a nuanced flavor profile that blends the essence of the sea with",
          "whites. The fish's texture is exceptionally tender, with a nuanced flavor profile that blends the essence of the sea with subtle sweetness. These slices rest gracefully upon the seasoned rice, creating a harmonious partnership of taste and texture.\nComplementing the",
          "subtle sweetness. These slices rest gracefully upon the seasoned rice, creating a harmonious partnership of taste and texture.\nComplementing the raw fish are an assortment of vibrant vegetables and garnishes, adding both visual appeal and an array of flavors and",
          "raw fish are an assortment of vibrant vegetables and garnishes, adding both visual appeal and an array of flavors and textures. Crisp cucumber, creamy avocado, and the piquant bite of pickled ginger provide a refreshing contrast, while a touch of",
          "textures. Crisp cucumber, creamy avocado, and the piquant bite of pickled ginger provide a refreshing contrast, while a touch of fiery wasabi delivers a hint of heat. A light drizzle of soy sauce enhances the overall umami experience, uniting the",
          "fiery wasabi delivers a hint of heat. A light drizzle of soy sauce enhances the overall umami experience, uniting the ingredients in a savory symphony.\nTo hold this culinary ensemble together, a thin, semi-transparent sheet of seaweed, known as nori,",
          "ingredients in a savory symphony.\nTo hold this culinary ensemble together, a thin, semi-transparent sheet of seaweed, known as nori, is often employed. This seaweed imparts a subtle oceanic flavor and serves as a structural component, allowing each bite to",
          "is often employed. This seaweed imparts a subtle oceanic flavor and serves as a structural component, allowing each bite to be easily picked up and savored.\nThe presentation of this dish is an art form in itself. It is often",
          "be easily picked up and savored.\nThe presentation of this dish is an art form in itself. It is often arranged meticulously on a clean plate, a vibrant mosaic of colors and textures that invites diners to appreciate not only",
          "arranged meticulously on a clean plate, a vibrant mosaic of colors and textures that invites diners to appreciate not only the flavors but also the craftsmanship behind each bite.\nIn summary, this description encapsulates the essence of a beloved Japanese",
          "the flavors but also the craftsmanship behind each bite.\nIn summary, this description encapsulates the essence of a beloved Japanese culinary tradition, a meticulous assembly of flavors and textures where seasoned rice and fresh ingredients harmonize to create a symphony",
          "culinary tradition, a meticulous assembly of flavors and textures where seasoned rice and fresh ingredients harmonize to create a symphony of taste and an artful visual experience."
         ],
         "yaxis": "y",
         "z": [
          [
           0.20741280483599994
          ],
          [
           0.19967184160142964
          ],
          [
           0.2011840869081222
          ],
          [
           0.21297531347667328
          ],
          [
           0.2070432221492859
          ],
          [
           0.20504934906449968
          ],
          [
           0.2124887564598554
          ],
          [
           0.2046825613023895
          ],
          [
           0.20828265169304383
          ],
          [
           0.20674979211128572
          ],
          [
           0.20714560615340125
          ],
          [
           0.19865914557057165
          ],
          [
           0.20070456222132899
          ],
          [
           0.2107286983675317
          ],
          [
           0.20778568293181454
          ],
          [
           0.2072108942231519
          ]
         ]
        }
       ],
       "layout": {
        "coloraxis": {
         "colorscale": [
          [
           0,
           "#0d0887"
          ],
          [
           0.1111111111111111,
           "#46039f"
          ],
          [
           0.2222222222222222,
           "#7201a8"
          ],
          [
           0.3333333333333333,
           "#9c179e"
          ],
          [
           0.4444444444444444,
           "#bd3786"
          ],
          [
           0.5555555555555556,
           "#d8576b"
          ],
          [
           0.6666666666666666,
           "#ed7953"
          ],
          [
           0.7777777777777778,
           "#fb9f3a"
          ],
          [
           0.8888888888888888,
           "#fdca26"
          ],
          [
           1,
           "#f0f921"
          ]
         ]
        },
        "height": 500,
        "margin": {
         "t": 60
        },
        "template": {
         "data": {
          "bar": [
           {
            "error_x": {
             "color": "#2a3f5f"
            },
            "error_y": {
             "color": "#2a3f5f"
            },
            "marker": {
             "line": {
              "color": "#E5ECF6",
              "width": 0.5
             },
             "pattern": {
              "fillmode": "overlay",
              "size": 10,
              "solidity": 0.2
             }
            },
            "type": "bar"
           }
          ],
          "barpolar": [
           {
            "marker": {
             "line": {
              "color": "#E5ECF6",
              "width": 0.5
             },
             "pattern": {
              "fillmode": "overlay",
              "size": 10,
              "solidity": 0.2
             }
            },
            "type": "barpolar"
           }
          ],
          "carpet": [
           {
            "aaxis": {
             "endlinecolor": "#2a3f5f",
             "gridcolor": "white",
             "linecolor": "white",
             "minorgridcolor": "white",
             "startlinecolor": "#2a3f5f"
            },
            "baxis": {
             "endlinecolor": "#2a3f5f",
             "gridcolor": "white",
             "linecolor": "white",
             "minorgridcolor": "white",
             "startlinecolor": "#2a3f5f"
            },
            "type": "carpet"
           }
          ],
          "choropleth": [
           {
            "colorbar": {
             "outlinewidth": 0,
             "ticks": ""
            },
            "type": "choropleth"
           }
          ],
          "contour": [
           {
            "colorbar": {
             "outlinewidth": 0,
             "ticks": ""
            },
            "colorscale": [
             [
              0,
              "#0d0887"
             ],
             [
              0.1111111111111111,
              "#46039f"
             ],
             [
              0.2222222222222222,
              "#7201a8"
             ],
             [
              0.3333333333333333,
              "#9c179e"
             ],
             [
              0.4444444444444444,
              "#bd3786"
             ],
             [
              0.5555555555555556,
              "#d8576b"
             ],
             [
              0.6666666666666666,
              "#ed7953"
             ],
             [
              0.7777777777777778,
              "#fb9f3a"
             ],
             [
              0.8888888888888888,
              "#fdca26"
             ],
             [
              1,
              "#f0f921"
             ]
            ],
            "type": "contour"
           }
          ],
          "contourcarpet": [
           {
            "colorbar": {
             "outlinewidth": 0,
             "ticks": ""
            },
            "type": "contourcarpet"
           }
          ],
          "heatmap": [
           {
            "colorbar": {
             "outlinewidth": 0,
             "ticks": ""
            },
            "colorscale": [
             [
              0,
              "#0d0887"
             ],
             [
              0.1111111111111111,
              "#46039f"
             ],
             [
              0.2222222222222222,
              "#7201a8"
             ],
             [
              0.3333333333333333,
              "#9c179e"
             ],
             [
              0.4444444444444444,
              "#bd3786"
             ],
             [
              0.5555555555555556,
              "#d8576b"
             ],
             [
              0.6666666666666666,
              "#ed7953"
             ],
             [
              0.7777777777777778,
              "#fb9f3a"
             ],
             [
              0.8888888888888888,
              "#fdca26"
             ],
             [
              1,
              "#f0f921"
             ]
            ],
            "type": "heatmap"
           }
          ],
          "heatmapgl": [
           {
            "colorbar": {
             "outlinewidth": 0,
             "ticks": ""
            },
            "colorscale": [
             [
              0,
              "#0d0887"
             ],
             [
              0.1111111111111111,
              "#46039f"
             ],
             [
              0.2222222222222222,
              "#7201a8"
             ],
             [
              0.3333333333333333,
              "#9c179e"
             ],
             [
              0.4444444444444444,
              "#bd3786"
             ],
             [
              0.5555555555555556,
              "#d8576b"
             ],
             [
              0.6666666666666666,
              "#ed7953"
             ],
             [
              0.7777777777777778,
              "#fb9f3a"
             ],
             [
              0.8888888888888888,
              "#fdca26"
             ],
             [
              1,
              "#f0f921"
             ]
            ],
            "type": "heatmapgl"
           }
          ],
          "histogram": [
           {
            "marker": {
             "pattern": {
              "fillmode": "overlay",
              "size": 10,
              "solidity": 0.2
             }
            },
            "type": "histogram"
           }
          ],
          "histogram2d": [
           {
            "colorbar": {
             "outlinewidth": 0,
             "ticks": ""
            },
            "colorscale": [
             [
              0,
              "#0d0887"
             ],
             [
              0.1111111111111111,
              "#46039f"
             ],
             [
              0.2222222222222222,
              "#7201a8"
             ],
             [
              0.3333333333333333,
              "#9c179e"
             ],
             [
              0.4444444444444444,
              "#bd3786"
             ],
             [
              0.5555555555555556,
              "#d8576b"
             ],
             [
              0.6666666666666666,
              "#ed7953"
             ],
             [
              0.7777777777777778,
              "#fb9f3a"
             ],
             [
              0.8888888888888888,
              "#fdca26"
             ],
             [
              1,
              "#f0f921"
             ]
            ],
            "type": "histogram2d"
           }
          ],
          "histogram2dcontour": [
           {
            "colorbar": {
             "outlinewidth": 0,
             "ticks": ""
            },
            "colorscale": [
             [
              0,
              "#0d0887"
             ],
             [
              0.1111111111111111,
              "#46039f"
             ],
             [
              0.2222222222222222,
              "#7201a8"
             ],
             [
              0.3333333333333333,
              "#9c179e"
             ],
             [
              0.4444444444444444,
              "#bd3786"
             ],
             [
              0.5555555555555556,
              "#d8576b"
             ],
             [
              0.6666666666666666,
              "#ed7953"
             ],
             [
              0.7777777777777778,
              "#fb9f3a"
             ],
             [
              0.8888888888888888,
              "#fdca26"
             ],
             [
              1,
              "#f0f921"
             ]
            ],
            "type": "histogram2dcontour"
           }
          ],
          "mesh3d": [
           {
            "colorbar": {
             "outlinewidth": 0,
             "ticks": ""
            },
            "type": "mesh3d"
           }
          ],
          "parcoords": [
           {
            "line": {
             "colorbar": {
              "outlinewidth": 0,
              "ticks": ""
             }
            },
            "type": "parcoords"
           }
          ],
          "pie": [
           {
            "automargin": true,
            "type": "pie"
           }
          ],
          "scatter": [
           {
            "fillpattern": {
             "fillmode": "overlay",
             "size": 10,
             "solidity": 0.2
            },
            "type": "scatter"
           }
          ],
          "scatter3d": [
           {
            "line": {
             "colorbar": {
              "outlinewidth": 0,
              "ticks": ""
             }
            },
            "marker": {
             "colorbar": {
              "outlinewidth": 0,
              "ticks": ""
             }
            },
            "type": "scatter3d"
           }
          ],
          "scattercarpet": [
           {
            "marker": {
             "colorbar": {
              "outlinewidth": 0,
              "ticks": ""
             }
            },
            "type": "scattercarpet"
           }
          ],
          "scattergeo": [
           {
            "marker": {
             "colorbar": {
              "outlinewidth": 0,
              "ticks": ""
             }
            },
            "type": "scattergeo"
           }
          ],
          "scattergl": [
           {
            "marker": {
             "colorbar": {
              "outlinewidth": 0,
              "ticks": ""
             }
            },
            "type": "scattergl"
           }
          ],
          "scattermapbox": [
           {
            "marker": {
             "colorbar": {
              "outlinewidth": 0,
              "ticks": ""
             }
            },
            "type": "scattermapbox"
           }
          ],
          "scatterpolar": [
           {
            "marker": {
             "colorbar": {
              "outlinewidth": 0,
              "ticks": ""
             }
            },
            "type": "scatterpolar"
           }
          ],
          "scatterpolargl": [
           {
            "marker": {
             "colorbar": {
              "outlinewidth": 0,
              "ticks": ""
             }
            },
            "type": "scatterpolargl"
           }
          ],
          "scatterternary": [
           {
            "marker": {
             "colorbar": {
              "outlinewidth": 0,
              "ticks": ""
             }
            },
            "type": "scatterternary"
           }
          ],
          "surface": [
           {
            "colorbar": {
             "outlinewidth": 0,
             "ticks": ""
            },
            "colorscale": [
             [
              0,
              "#0d0887"
             ],
             [
              0.1111111111111111,
              "#46039f"
             ],
             [
              0.2222222222222222,
              "#7201a8"
             ],
             [
              0.3333333333333333,
              "#9c179e"
             ],
             [
              0.4444444444444444,
              "#bd3786"
             ],
             [
              0.5555555555555556,
              "#d8576b"
             ],
             [
              0.6666666666666666,
              "#ed7953"
             ],
             [
              0.7777777777777778,
              "#fb9f3a"
             ],
             [
              0.8888888888888888,
              "#fdca26"
             ],
             [
              1,
              "#f0f921"
             ]
            ],
            "type": "surface"
           }
          ],
          "table": [
           {
            "cells": {
             "fill": {
              "color": "#EBF0F8"
             },
             "line": {
              "color": "white"
             }
            },
            "header": {
             "fill": {
              "color": "#C8D4E3"
             },
             "line": {
              "color": "white"
             }
            },
            "type": "table"
           }
          ]
         },
         "layout": {
          "annotationdefaults": {
           "arrowcolor": "#2a3f5f",
           "arrowhead": 0,
           "arrowwidth": 1
          },
          "autotypenumbers": "strict",
          "coloraxis": {
           "colorbar": {
            "outlinewidth": 0,
            "ticks": ""
           }
          },
          "colorscale": {
           "diverging": [
            [
             0,
             "#8e0152"
            ],
            [
             0.1,
             "#c51b7d"
            ],
            [
             0.2,
             "#de77ae"
            ],
            [
             0.3,
             "#f1b6da"
            ],
            [
             0.4,
             "#fde0ef"
            ],
            [
             0.5,
             "#f7f7f7"
            ],
            [
             0.6,
             "#e6f5d0"
            ],
            [
             0.7,
             "#b8e186"
            ],
            [
             0.8,
             "#7fbc41"
            ],
            [
             0.9,
             "#4d9221"
            ],
            [
             1,
             "#276419"
            ]
           ],
           "sequential": [
            [
             0,
             "#0d0887"
            ],
            [
             0.1111111111111111,
             "#46039f"
            ],
            [
             0.2222222222222222,
             "#7201a8"
            ],
            [
             0.3333333333333333,
             "#9c179e"
            ],
            [
             0.4444444444444444,
             "#bd3786"
            ],
            [
             0.5555555555555556,
             "#d8576b"
            ],
            [
             0.6666666666666666,
             "#ed7953"
            ],
            [
             0.7777777777777778,
             "#fb9f3a"
            ],
            [
             0.8888888888888888,
             "#fdca26"
            ],
            [
             1,
             "#f0f921"
            ]
           ],
           "sequentialminus": [
            [
             0,
             "#0d0887"
            ],
            [
             0.1111111111111111,
             "#46039f"
            ],
            [
             0.2222222222222222,
             "#7201a8"
            ],
            [
             0.3333333333333333,
             "#9c179e"
            ],
            [
             0.4444444444444444,
             "#bd3786"
            ],
            [
             0.5555555555555556,
             "#d8576b"
            ],
            [
             0.6666666666666666,
             "#ed7953"
            ],
            [
             0.7777777777777778,
             "#fb9f3a"
            ],
            [
             0.8888888888888888,
             "#fdca26"
            ],
            [
             1,
             "#f0f921"
            ]
           ]
          },
          "colorway": [
           "#636efa",
           "#EF553B",
           "#00cc96",
           "#ab63fa",
           "#FFA15A",
           "#19d3f3",
           "#FF6692",
           "#B6E880",
           "#FF97FF",
           "#FECB52"
          ],
          "font": {
           "color": "#2a3f5f"
          },
          "geo": {
           "bgcolor": "white",
           "lakecolor": "white",
           "landcolor": "#E5ECF6",
           "showlakes": true,
           "showland": true,
           "subunitcolor": "white"
          },
          "hoverlabel": {
           "align": "left"
          },
          "hovermode": "closest",
          "mapbox": {
           "style": "light"
          },
          "paper_bgcolor": "white",
          "plot_bgcolor": "#E5ECF6",
          "polar": {
           "angularaxis": {
            "gridcolor": "white",
            "linecolor": "white",
            "ticks": ""
           },
           "bgcolor": "#E5ECF6",
           "radialaxis": {
            "gridcolor": "white",
            "linecolor": "white",
            "ticks": ""
           }
          },
          "scene": {
           "xaxis": {
            "backgroundcolor": "#E5ECF6",
            "gridcolor": "white",
            "gridwidth": 2,
            "linecolor": "white",
            "showbackground": true,
            "ticks": "",
            "zerolinecolor": "white"
           },
           "yaxis": {
            "backgroundcolor": "#E5ECF6",
            "gridcolor": "white",
            "gridwidth": 2,
            "linecolor": "white",
            "showbackground": true,
            "ticks": "",
            "zerolinecolor": "white"
           },
           "zaxis": {
            "backgroundcolor": "#E5ECF6",
            "gridcolor": "white",
            "gridwidth": 2,
            "linecolor": "white",
            "showbackground": true,
            "ticks": "",
            "zerolinecolor": "white"
           }
          },
          "shapedefaults": {
           "line": {
            "color": "#2a3f5f"
           }
          },
          "ternary": {
           "aaxis": {
            "gridcolor": "white",
            "linecolor": "white",
            "ticks": ""
           },
           "baxis": {
            "gridcolor": "white",
            "linecolor": "white",
            "ticks": ""
           },
           "bgcolor": "#E5ECF6",
           "caxis": {
            "gridcolor": "white",
            "linecolor": "white",
            "ticks": ""
           }
          },
          "title": {
           "x": 0.05
          },
          "xaxis": {
           "automargin": true,
           "gridcolor": "white",
           "linecolor": "white",
           "ticks": "",
           "title": {
            "standoff": 15
           },
           "zerolinecolor": "white",
           "zerolinewidth": 2
          },
          "yaxis": {
           "automargin": true,
           "gridcolor": "white",
           "linecolor": "white",
           "ticks": "",
           "title": {
            "standoff": 15
           },
           "zerolinecolor": "white",
           "zerolinewidth": 2
          }
         }
        },
        "width": 500,
        "xaxis": {
         "anchor": "y",
         "constrain": "domain",
         "domain": [
          0,
          1
         ],
         "scaleanchor": "y",
         "showticklabels": false
        },
        "yaxis": {
         "anchor": "x",
         "autorange": "reversed",
         "constrain": "domain",
         "domain": [
          0,
          1
         ],
         "showticklabels": false
        }
       }
      }
     },
     "metadata": {},
     "output_type": "display_data"
    },
    {
     "data": {
      "image/png": "[encoded data removed]",
      "text/plain": [
       "<Figure size 640x480 with 1 Axes>"
      ]
     },
     "metadata": {},
     "output_type": "display_data"
    }
   ],
   "source": [
    "evaluate_data('./test_data/sushi_description', './test_data/sushi_label', '040', '001', '020', '001', normalized=False)"
   ]
  },
  {
   "cell_type": "code",
   "execution_count": 38,
   "metadata": {},
   "outputs": [
    {
     "name": "stdout",
     "output_type": "stream",
     "text": [
      "Number found:  16\n",
      "////////////////////////////////////////////////////////////////////////////\n",
      "Cosine Value:  0.1809710923832296\n",
      "Verse  5\n",
      "LINE 1:  arranged meticulously on a clean plate, a vibrant mosaic of colors and textures that invites diners to appreciate not only the flavors but also the craftsmanship behind each bite.\n",
      "In summary, this description encapsulates the essence of a beloved Japanese\n",
      "--------------------------------------------\n",
      "Verse  1\n",
      "LINE 2:  heliocentric\n",
      "////////////////////////////////////////////////////////////////////////////\n",
      "Cosine Value:  0.18049410956146247\n",
      "Verse  2\n",
      "LINE 1:  this dish lies an array of ingredients, each chosen with care and attention to detail. One of the central elements features thinly sliced, impeccably fresh raw fish. These slices, showcasing an array of colors, range from deep reds to opalescent\n",
      "--------------------------------------------\n",
      "Verse  1\n",
      "LINE 2:  heliocentric\n",
      "////////////////////////////////////////////////////////////////////////////\n",
      "Cosine Value:  0.17914381203804924\n",
      "Verse  6\n",
      "LINE 1:  culinary tradition, a meticulous assembly of flavors and textures where seasoned rice and fresh ingredients harmonize to create a symphony of taste and an artful visual experience.\n",
      "--------------------------------------------\n",
      "Verse  1\n",
      "LINE 2:  heliocentric\n",
      "////////////////////////////////////////////////////////////////////////////\n",
      "Cosine Value:  0.1791339917565691\n",
      "Verse  4\n",
      "LINE 1:  be easily picked up and savored.\n",
      "The presentation of this dish is an art form in itself. It is often arranged meticulously on a clean plate, a vibrant mosaic of colors and textures that invites diners to appreciate not only\n",
      "--------------------------------------------\n",
      "Verse  1\n",
      "LINE 2:  heliocentric\n",
      "////////////////////////////////////////////////////////////////////////////\n",
      "Cosine Value:  0.17882316675919066\n",
      "Verse  5\n",
      "LINE 1:  the flavors but also the craftsmanship behind each bite.\n",
      "In summary, this description encapsulates the essence of a beloved Japanese culinary tradition, a meticulous assembly of flavors and textures where seasoned rice and fresh ingredients harmonize to create a symphony\n",
      "--------------------------------------------\n",
      "Verse  1\n",
      "LINE 2:  heliocentric\n",
      "////////////////////////////////////////////////////////////////////////////\n",
      "Cosine Value:  0.1778523355984171\n",
      "Verse  1\n",
      "LINE 1:  mixture of rice vinegar, sugar, and salt, which imparts a delicate balance of sweetness and tanginess.\n",
      "At the heart of this dish lies an array of ingredients, each chosen with care and attention to detail. One of the central elements\n",
      "--------------------------------------------\n",
      "Verse  1\n",
      "LINE 2:  heliocentric\n",
      "////////////////////////////////////////////////////////////////////////////\n",
      "Cosine Value:  0.17674017078950852\n",
      "Verse  1\n",
      "LINE 1:  Imagine a culinary creation that hails from Japan, renowned for its meticulous preparation and diverse flavors. This dish starts with a foundation of seasoned vinegared rice, cooked to perfection. The rice, typically short-grained and sticky, is seasoned with a precise\n",
      "--------------------------------------------\n",
      "Verse  1\n",
      "LINE 2:  heliocentric\n",
      "////////////////////////////////////////////////////////////////////////////\n",
      "Cosine Value:  0.17568304862478604\n",
      "Verse  3\n",
      "LINE 1:  fiery wasabi delivers a hint of heat. A light drizzle of soy sauce enhances the overall umami experience, uniting the ingredients in a savory symphony.\n",
      "To hold this culinary ensemble together, a thin, semi-transparent sheet of seaweed, known as nori,\n",
      "--------------------------------------------\n",
      "Verse  1\n",
      "LINE 2:  heliocentric\n",
      "////////////////////////////////////////////////////////////////////////////\n",
      "Cosine Value:  0.17553635000443438\n",
      "Verse  3\n",
      "LINE 1:  ingredients in a savory symphony.\n",
      "To hold this culinary ensemble together, a thin, semi-transparent sheet of seaweed, known as nori, is often employed. This seaweed imparts a subtle oceanic flavor and serves as a structural component, allowing each bite to\n",
      "--------------------------------------------\n",
      "Verse  1\n",
      "LINE 2:  heliocentric\n",
      "////////////////////////////////////////////////////////////////////////////\n",
      "Cosine Value:  0.17513055737477304\n",
      "Verse  2\n",
      "LINE 1:  features thinly sliced, impeccably fresh raw fish. These slices, showcasing an array of colors, range from deep reds to opalescent whites. The fish's texture is exceptionally tender, with a nuanced flavor profile that blends the essence of the sea with\n",
      "--------------------------------------------\n",
      "Verse  1\n",
      "LINE 2:  heliocentric\n",
      "////////////////////////////////////////////////////////////////////////////\n",
      "Cosine Value:  0.17384232104674321\n",
      "Verse  1\n",
      "LINE 1:  a foundation of seasoned vinegared rice, cooked to perfection. The rice, typically short-grained and sticky, is seasoned with a precise mixture of rice vinegar, sugar, and salt, which imparts a delicate balance of sweetness and tanginess.\n",
      "At the heart of\n",
      "--------------------------------------------\n",
      "Verse  1\n",
      "LINE 2:  heliocentric\n",
      "////////////////////////////////////////////////////////////////////////////\n",
      "Cosine Value:  0.17375396511382082\n",
      "Verse  4\n",
      "LINE 1:  is often employed. This seaweed imparts a subtle oceanic flavor and serves as a structural component, allowing each bite to be easily picked up and savored.\n",
      "The presentation of this dish is an art form in itself. It is often\n",
      "--------------------------------------------\n",
      "Verse  1\n",
      "LINE 2:  heliocentric\n",
      "////////////////////////////////////////////////////////////////////////////\n",
      "Cosine Value:  0.17356440170146267\n",
      "Verse  2\n",
      "LINE 1:  subtle sweetness. These slices rest gracefully upon the seasoned rice, creating a harmonious partnership of taste and texture.\n",
      "Complementing the raw fish are an assortment of vibrant vegetables and garnishes, adding both visual appeal and an array of flavors and\n",
      "--------------------------------------------\n",
      "Verse  1\n",
      "LINE 2:  heliocentric\n",
      "////////////////////////////////////////////////////////////////////////////\n",
      "Cosine Value:  0.17219682406773842\n",
      "Verse  3\n",
      "LINE 1:  textures. Crisp cucumber, creamy avocado, and the piquant bite of pickled ginger provide a refreshing contrast, while a touch of fiery wasabi delivers a hint of heat. A light drizzle of soy sauce enhances the overall umami experience, uniting the\n",
      "--------------------------------------------\n",
      "Verse  1\n",
      "LINE 2:  heliocentric\n",
      "////////////////////////////////////////////////////////////////////////////\n",
      "Cosine Value:  0.17106465052398262\n",
      "Verse  2\n",
      "LINE 1:  whites. The fish's texture is exceptionally tender, with a nuanced flavor profile that blends the essence of the sea with subtle sweetness. These slices rest gracefully upon the seasoned rice, creating a harmonious partnership of taste and texture.\n",
      "Complementing the\n",
      "--------------------------------------------\n",
      "Verse  1\n",
      "LINE 2:  heliocentric\n",
      "////////////////////////////////////////////////////////////////////////////\n",
      "Cosine Value:  0.16668462265609724\n",
      "Verse  3\n",
      "LINE 1:  raw fish are an assortment of vibrant vegetables and garnishes, adding both visual appeal and an array of flavors and textures. Crisp cucumber, creamy avocado, and the piquant bite of pickled ginger provide a refreshing contrast, while a touch of\n",
      "--------------------------------------------\n",
      "Verse  1\n",
      "LINE 2:  heliocentric\n"
     ]
    },
    {
     "data": {
      "application/vnd.plotly.v1+json": {
       "config": {
        "plotlyServerURL": "https://plot.ly"
       },
       "data": [
        {
         "coloraxis": "coloraxis",
         "hovertemplate": "x: %{x}<br>y: %{y}<br>color: %{z}<extra></extra>",
         "name": "0",
         "type": "heatmap",
         "x": [
          "heliocentric"
         ],
         "xaxis": "x",
         "y": [
          "Imagine a culinary creation that hails from Japan, renowned for its meticulous preparation and diverse flavors. This dish starts with a foundation of seasoned vinegared rice, cooked to perfection. The rice, typically short-grained and sticky, is seasoned with a precise",
          "a foundation of seasoned vinegared rice, cooked to perfection. The rice, typically short-grained and sticky, is seasoned with a precise mixture of rice vinegar, sugar, and salt, which imparts a delicate balance of sweetness and tanginess.\nAt the heart of",
          "mixture of rice vinegar, sugar, and salt, which imparts a delicate balance of sweetness and tanginess.\nAt the heart of this dish lies an array of ingredients, each chosen with care and attention to detail. One of the central elements",
          "this dish lies an array of ingredients, each chosen with care and attention to detail. One of the central elements features thinly sliced, impeccably fresh raw fish. These slices, showcasing an array of colors, range from deep reds to opalescent",
          "features thinly sliced, impeccably fresh raw fish. These slices, showcasing an array of colors, range from deep reds to opalescent whites. The fish's texture is exceptionally tender, with a nuanced flavor profile that blends the essence of the sea with",
          "whites. The fish's texture is exceptionally tender, with a nuanced flavor profile that blends the essence of the sea with subtle sweetness. These slices rest gracefully upon the seasoned rice, creating a harmonious partnership of taste and texture.\nComplementing the",
          "subtle sweetness. These slices rest gracefully upon the seasoned rice, creating a harmonious partnership of taste and texture.\nComplementing the raw fish are an assortment of vibrant vegetables and garnishes, adding both visual appeal and an array of flavors and",
          "raw fish are an assortment of vibrant vegetables and garnishes, adding both visual appeal and an array of flavors and textures. Crisp cucumber, creamy avocado, and the piquant bite of pickled ginger provide a refreshing contrast, while a touch of",
          "textures. Crisp cucumber, creamy avocado, and the piquant bite of pickled ginger provide a refreshing contrast, while a touch of fiery wasabi delivers a hint of heat. A light drizzle of soy sauce enhances the overall umami experience, uniting the",
          "fiery wasabi delivers a hint of heat. A light drizzle of soy sauce enhances the overall umami experience, uniting the ingredients in a savory symphony.\nTo hold this culinary ensemble together, a thin, semi-transparent sheet of seaweed, known as nori,",
          "ingredients in a savory symphony.\nTo hold this culinary ensemble together, a thin, semi-transparent sheet of seaweed, known as nori, is often employed. This seaweed imparts a subtle oceanic flavor and serves as a structural component, allowing each bite to",
          "is often employed. This seaweed imparts a subtle oceanic flavor and serves as a structural component, allowing each bite to be easily picked up and savored.\nThe presentation of this dish is an art form in itself. It is often",
          "be easily picked up and savored.\nThe presentation of this dish is an art form in itself. It is often arranged meticulously on a clean plate, a vibrant mosaic of colors and textures that invites diners to appreciate not only",
          "arranged meticulously on a clean plate, a vibrant mosaic of colors and textures that invites diners to appreciate not only the flavors but also the craftsmanship behind each bite.\nIn summary, this description encapsulates the essence of a beloved Japanese",
          "the flavors but also the craftsmanship behind each bite.\nIn summary, this description encapsulates the essence of a beloved Japanese culinary tradition, a meticulous assembly of flavors and textures where seasoned rice and fresh ingredients harmonize to create a symphony",
          "culinary tradition, a meticulous assembly of flavors and textures where seasoned rice and fresh ingredients harmonize to create a symphony of taste and an artful visual experience."
         ],
         "yaxis": "y",
         "z": [
          [
           0.17674017078950852
          ],
          [
           0.17384232104674321
          ],
          [
           0.1778523355984171
          ],
          [
           0.18049410956146247
          ],
          [
           0.17513055737477304
          ],
          [
           0.17106465052398262
          ],
          [
           0.17356440170146267
          ],
          [
           0.16668462265609724
          ],
          [
           0.17219682406773842
          ],
          [
           0.17568304862478604
          ],
          [
           0.17553635000443438
          ],
          [
           0.17375396511382082
          ],
          [
           0.1791339917565691
          ],
          [
           0.1809710923832296
          ],
          [
           0.17882316675919066
          ],
          [
           0.17914381203804924
          ]
         ]
        }
       ],
       "layout": {
        "coloraxis": {
         "colorscale": [
          [
           0,
           "#0d0887"
          ],
          [
           0.1111111111111111,
           "#46039f"
          ],
          [
           0.2222222222222222,
           "#7201a8"
          ],
          [
           0.3333333333333333,
           "#9c179e"
          ],
          [
           0.4444444444444444,
           "#bd3786"
          ],
          [
           0.5555555555555556,
           "#d8576b"
          ],
          [
           0.6666666666666666,
           "#ed7953"
          ],
          [
           0.7777777777777778,
           "#fb9f3a"
          ],
          [
           0.8888888888888888,
           "#fdca26"
          ],
          [
           1,
           "#f0f921"
          ]
         ]
        },
        "height": 500,
        "margin": {
         "t": 60
        },
        "template": {
         "data": {
          "bar": [
           {
            "error_x": {
             "color": "#2a3f5f"
            },
            "error_y": {
             "color": "#2a3f5f"
            },
            "marker": {
             "line": {
              "color": "#E5ECF6",
              "width": 0.5
             },
             "pattern": {
              "fillmode": "overlay",
              "size": 10,
              "solidity": 0.2
             }
            },
            "type": "bar"
           }
          ],
          "barpolar": [
           {
            "marker": {
             "line": {
              "color": "#E5ECF6",
              "width": 0.5
             },
             "pattern": {
              "fillmode": "overlay",
              "size": 10,
              "solidity": 0.2
             }
            },
            "type": "barpolar"
           }
          ],
          "carpet": [
           {
            "aaxis": {
             "endlinecolor": "#2a3f5f",
             "gridcolor": "white",
             "linecolor": "white",
             "minorgridcolor": "white",
             "startlinecolor": "#2a3f5f"
            },
            "baxis": {
             "endlinecolor": "#2a3f5f",
             "gridcolor": "white",
             "linecolor": "white",
             "minorgridcolor": "white",
             "startlinecolor": "#2a3f5f"
            },
            "type": "carpet"
           }
          ],
          "choropleth": [
           {
            "colorbar": {
             "outlinewidth": 0,
             "ticks": ""
            },
            "type": "choropleth"
           }
          ],
          "contour": [
           {
            "colorbar": {
             "outlinewidth": 0,
             "ticks": ""
            },
            "colorscale": [
             [
              0,
              "#0d0887"
             ],
             [
              0.1111111111111111,
              "#46039f"
             ],
             [
              0.2222222222222222,
              "#7201a8"
             ],
             [
              0.3333333333333333,
              "#9c179e"
             ],
             [
              0.4444444444444444,
              "#bd3786"
             ],
             [
              0.5555555555555556,
              "#d8576b"
             ],
             [
              0.6666666666666666,
              "#ed7953"
             ],
             [
              0.7777777777777778,
              "#fb9f3a"
             ],
             [
              0.8888888888888888,
              "#fdca26"
             ],
             [
              1,
              "#f0f921"
             ]
            ],
            "type": "contour"
           }
          ],
          "contourcarpet": [
           {
            "colorbar": {
             "outlinewidth": 0,
             "ticks": ""
            },
            "type": "contourcarpet"
           }
          ],
          "heatmap": [
           {
            "colorbar": {
             "outlinewidth": 0,
             "ticks": ""
            },
            "colorscale": [
             [
              0,
              "#0d0887"
             ],
             [
              0.1111111111111111,
              "#46039f"
             ],
             [
              0.2222222222222222,
              "#7201a8"
             ],
             [
              0.3333333333333333,
              "#9c179e"
             ],
             [
              0.4444444444444444,
              "#bd3786"
             ],
             [
              0.5555555555555556,
              "#d8576b"
             ],
             [
              0.6666666666666666,
              "#ed7953"
             ],
             [
              0.7777777777777778,
              "#fb9f3a"
             ],
             [
              0.8888888888888888,
              "#fdca26"
             ],
             [
              1,
              "#f0f921"
             ]
            ],
            "type": "heatmap"
           }
          ],
          "heatmapgl": [
           {
            "colorbar": {
             "outlinewidth": 0,
             "ticks": ""
            },
            "colorscale": [
             [
              0,
              "#0d0887"
             ],
             [
              0.1111111111111111,
              "#46039f"
             ],
             [
              0.2222222222222222,
              "#7201a8"
             ],
             [
              0.3333333333333333,
              "#9c179e"
             ],
             [
              0.4444444444444444,
              "#bd3786"
             ],
             [
              0.5555555555555556,
              "#d8576b"
             ],
             [
              0.6666666666666666,
              "#ed7953"
             ],
             [
              0.7777777777777778,
              "#fb9f3a"
             ],
             [
              0.8888888888888888,
              "#fdca26"
             ],
             [
              1,
              "#f0f921"
             ]
            ],
            "type": "heatmapgl"
           }
          ],
          "histogram": [
           {
            "marker": {
             "pattern": {
              "fillmode": "overlay",
              "size": 10,
              "solidity": 0.2
             }
            },
            "type": "histogram"
           }
          ],
          "histogram2d": [
           {
            "colorbar": {
             "outlinewidth": 0,
             "ticks": ""
            },
            "colorscale": [
             [
              0,
              "#0d0887"
             ],
             [
              0.1111111111111111,
              "#46039f"
             ],
             [
              0.2222222222222222,
              "#7201a8"
             ],
             [
              0.3333333333333333,
              "#9c179e"
             ],
             [
              0.4444444444444444,
              "#bd3786"
             ],
             [
              0.5555555555555556,
              "#d8576b"
             ],
             [
              0.6666666666666666,
              "#ed7953"
             ],
             [
              0.7777777777777778,
              "#fb9f3a"
             ],
             [
              0.8888888888888888,
              "#fdca26"
             ],
             [
              1,
              "#f0f921"
             ]
            ],
            "type": "histogram2d"
           }
          ],
          "histogram2dcontour": [
           {
            "colorbar": {
             "outlinewidth": 0,
             "ticks": ""
            },
            "colorscale": [
             [
              0,
              "#0d0887"
             ],
             [
              0.1111111111111111,
              "#46039f"
             ],
             [
              0.2222222222222222,
              "#7201a8"
             ],
             [
              0.3333333333333333,
              "#9c179e"
             ],
             [
              0.4444444444444444,
              "#bd3786"
             ],
             [
              0.5555555555555556,
              "#d8576b"
             ],
             [
              0.6666666666666666,
              "#ed7953"
             ],
             [
              0.7777777777777778,
              "#fb9f3a"
             ],
             [
              0.8888888888888888,
              "#fdca26"
             ],
             [
              1,
              "#f0f921"
             ]
            ],
            "type": "histogram2dcontour"
           }
          ],
          "mesh3d": [
           {
            "colorbar": {
             "outlinewidth": 0,
             "ticks": ""
            },
            "type": "mesh3d"
           }
          ],
          "parcoords": [
           {
            "line": {
             "colorbar": {
              "outlinewidth": 0,
              "ticks": ""
             }
            },
            "type": "parcoords"
           }
          ],
          "pie": [
           {
            "automargin": true,
            "type": "pie"
           }
          ],
          "scatter": [
           {
            "fillpattern": {
             "fillmode": "overlay",
             "size": 10,
             "solidity": 0.2
            },
            "type": "scatter"
           }
          ],
          "scatter3d": [
           {
            "line": {
             "colorbar": {
              "outlinewidth": 0,
              "ticks": ""
             }
            },
            "marker": {
             "colorbar": {
              "outlinewidth": 0,
              "ticks": ""
             }
            },
            "type": "scatter3d"
           }
          ],
          "scattercarpet": [
           {
            "marker": {
             "colorbar": {
              "outlinewidth": 0,
              "ticks": ""
             }
            },
            "type": "scattercarpet"
           }
          ],
          "scattergeo": [
           {
            "marker": {
             "colorbar": {
              "outlinewidth": 0,
              "ticks": ""
             }
            },
            "type": "scattergeo"
           }
          ],
          "scattergl": [
           {
            "marker": {
             "colorbar": {
              "outlinewidth": 0,
              "ticks": ""
             }
            },
            "type": "scattergl"
           }
          ],
          "scattermapbox": [
           {
            "marker": {
             "colorbar": {
              "outlinewidth": 0,
              "ticks": ""
             }
            },
            "type": "scattermapbox"
           }
          ],
          "scatterpolar": [
           {
            "marker": {
             "colorbar": {
              "outlinewidth": 0,
              "ticks": ""
             }
            },
            "type": "scatterpolar"
           }
          ],
          "scatterpolargl": [
           {
            "marker": {
             "colorbar": {
              "outlinewidth": 0,
              "ticks": ""
             }
            },
            "type": "scatterpolargl"
           }
          ],
          "scatterternary": [
           {
            "marker": {
             "colorbar": {
              "outlinewidth": 0,
              "ticks": ""
             }
            },
            "type": "scatterternary"
           }
          ],
          "surface": [
           {
            "colorbar": {
             "outlinewidth": 0,
             "ticks": ""
            },
            "colorscale": [
             [
              0,
              "#0d0887"
             ],
             [
              0.1111111111111111,
              "#46039f"
             ],
             [
              0.2222222222222222,
              "#7201a8"
             ],
             [
              0.3333333333333333,
              "#9c179e"
             ],
             [
              0.4444444444444444,
              "#bd3786"
             ],
             [
              0.5555555555555556,
              "#d8576b"
             ],
             [
              0.6666666666666666,
              "#ed7953"
             ],
             [
              0.7777777777777778,
              "#fb9f3a"
             ],
             [
              0.8888888888888888,
              "#fdca26"
             ],
             [
              1,
              "#f0f921"
             ]
            ],
            "type": "surface"
           }
          ],
          "table": [
           {
            "cells": {
             "fill": {
              "color": "#EBF0F8"
             },
             "line": {
              "color": "white"
             }
            },
            "header": {
             "fill": {
              "color": "#C8D4E3"
             },
             "line": {
              "color": "white"
             }
            },
            "type": "table"
           }
          ]
         },
         "layout": {
          "annotationdefaults": {
           "arrowcolor": "#2a3f5f",
           "arrowhead": 0,
           "arrowwidth": 1
          },
          "autotypenumbers": "strict",
          "coloraxis": {
           "colorbar": {
            "outlinewidth": 0,
            "ticks": ""
           }
          },
          "colorscale": {
           "diverging": [
            [
             0,
             "#8e0152"
            ],
            [
             0.1,
             "#c51b7d"
            ],
            [
             0.2,
             "#de77ae"
            ],
            [
             0.3,
             "#f1b6da"
            ],
            [
             0.4,
             "#fde0ef"
            ],
            [
             0.5,
             "#f7f7f7"
            ],
            [
             0.6,
             "#e6f5d0"
            ],
            [
             0.7,
             "#b8e186"
            ],
            [
             0.8,
             "#7fbc41"
            ],
            [
             0.9,
             "#4d9221"
            ],
            [
             1,
             "#276419"
            ]
           ],
           "sequential": [
            [
             0,
             "#0d0887"
            ],
            [
             0.1111111111111111,
             "#46039f"
            ],
            [
             0.2222222222222222,
             "#7201a8"
            ],
            [
             0.3333333333333333,
             "#9c179e"
            ],
            [
             0.4444444444444444,
             "#bd3786"
            ],
            [
             0.5555555555555556,
             "#d8576b"
            ],
            [
             0.6666666666666666,
             "#ed7953"
            ],
            [
             0.7777777777777778,
             "#fb9f3a"
            ],
            [
             0.8888888888888888,
             "#fdca26"
            ],
            [
             1,
             "#f0f921"
            ]
           ],
           "sequentialminus": [
            [
             0,
             "#0d0887"
            ],
            [
             0.1111111111111111,
             "#46039f"
            ],
            [
             0.2222222222222222,
             "#7201a8"
            ],
            [
             0.3333333333333333,
             "#9c179e"
            ],
            [
             0.4444444444444444,
             "#bd3786"
            ],
            [
             0.5555555555555556,
             "#d8576b"
            ],
            [
             0.6666666666666666,
             "#ed7953"
            ],
            [
             0.7777777777777778,
             "#fb9f3a"
            ],
            [
             0.8888888888888888,
             "#fdca26"
            ],
            [
             1,
             "#f0f921"
            ]
           ]
          },
          "colorway": [
           "#636efa",
           "#EF553B",
           "#00cc96",
           "#ab63fa",
           "#FFA15A",
           "#19d3f3",
           "#FF6692",
           "#B6E880",
           "#FF97FF",
           "#FECB52"
          ],
          "font": {
           "color": "#2a3f5f"
          },
          "geo": {
           "bgcolor": "white",
           "lakecolor": "white",
           "landcolor": "#E5ECF6",
           "showlakes": true,
           "showland": true,
           "subunitcolor": "white"
          },
          "hoverlabel": {
           "align": "left"
          },
          "hovermode": "closest",
          "mapbox": {
           "style": "light"
          },
          "paper_bgcolor": "white",
          "plot_bgcolor": "#E5ECF6",
          "polar": {
           "angularaxis": {
            "gridcolor": "white",
            "linecolor": "white",
            "ticks": ""
           },
           "bgcolor": "#E5ECF6",
           "radialaxis": {
            "gridcolor": "white",
            "linecolor": "white",
            "ticks": ""
           }
          },
          "scene": {
           "xaxis": {
            "backgroundcolor": "#E5ECF6",
            "gridcolor": "white",
            "gridwidth": 2,
            "linecolor": "white",
            "showbackground": true,
            "ticks": "",
            "zerolinecolor": "white"
           },
           "yaxis": {
            "backgroundcolor": "#E5ECF6",
            "gridcolor": "white",
            "gridwidth": 2,
            "linecolor": "white",
            "showbackground": true,
            "ticks": "",
            "zerolinecolor": "white"
           },
           "zaxis": {
            "backgroundcolor": "#E5ECF6",
            "gridcolor": "white",
            "gridwidth": 2,
            "linecolor": "white",
            "showbackground": true,
            "ticks": "",
            "zerolinecolor": "white"
           }
          },
          "shapedefaults": {
           "line": {
            "color": "#2a3f5f"
           }
          },
          "ternary": {
           "aaxis": {
            "gridcolor": "white",
            "linecolor": "white",
            "ticks": ""
           },
           "baxis": {
            "gridcolor": "white",
            "linecolor": "white",
            "ticks": ""
           },
           "bgcolor": "#E5ECF6",
           "caxis": {
            "gridcolor": "white",
            "linecolor": "white",
            "ticks": ""
           }
          },
          "title": {
           "x": 0.05
          },
          "xaxis": {
           "automargin": true,
           "gridcolor": "white",
           "linecolor": "white",
           "ticks": "",
           "title": {
            "standoff": 15
           },
           "zerolinecolor": "white",
           "zerolinewidth": 2
          },
          "yaxis": {
           "automargin": true,
           "gridcolor": "white",
           "linecolor": "white",
           "ticks": "",
           "title": {
            "standoff": 15
           },
           "zerolinecolor": "white",
           "zerolinewidth": 2
          }
         }
        },
        "width": 500,
        "xaxis": {
         "anchor": "y",
         "constrain": "domain",
         "domain": [
          0,
          1
         ],
         "scaleanchor": "y",
         "showticklabels": false
        },
        "yaxis": {
         "anchor": "x",
         "autorange": "reversed",
         "constrain": "domain",
         "domain": [
          0,
          1
         ],
         "showticklabels": false
        }
       }
      }
     },
     "metadata": {},
     "output_type": "display_data"
    },
    {
     "data": {
      "image/png": "[encoded data removed]",
      "text/plain": [
       "<Figure size 640x480 with 1 Axes>"
      ]
     },
     "metadata": {},
     "output_type": "display_data"
    }
   ],
   "source": [
    "evaluate_data('./test_data/sushi_description', './test_data/random_label', '040', '001', '020', '001', normalized=False)"
   ]
  },
  {
   "cell_type": "markdown",
   "metadata": {},
   "source": [
    "Normalized:"
   ]
  },
  {
   "cell_type": "code",
   "execution_count": 39,
   "metadata": {},
   "outputs": [
    {
     "name": "stdout",
     "output_type": "stream",
     "text": [
      "data_1:  [[ 0.01680446 -0.00642601  0.01110792 ... -0.00203424 -0.01195013\n",
      "   0.0005869 ]\n",
      " [ 0.00526717 -0.01311937  0.020332   ... -0.01876491 -0.01165273\n",
      "   0.00621144]\n",
      " [ 0.00181357  0.0054031   0.01534586 ... -0.01017825 -0.01228454\n",
      "  -0.01064268]\n",
      " ...\n",
      " [-0.00260746  0.0023301  -0.01112072 ... -0.01024382  0.00231017\n",
      "  -0.03826484]\n",
      " [ 0.00414202  0.00775234 -0.00194957 ... -0.00536625  0.00038483\n",
      "  -0.02553482]\n",
      " [ 0.01176083  0.00022178  0.02346933 ... -0.00201301  0.00191817\n",
      "  -0.0178571 ]]\n",
      "data_1 shape:  (16, 1536)\n",
      "mean:  [ 0.00494421 -0.00459456  0.0082104  ... -0.005627   -0.00620444\n",
      " -0.01512776]\n"
     ]
    }
   ],
   "source": [
    "# Load all relevant embeddings\n",
    "embedding_path_1 = './test_data/sushi_description.w040.i020.embeddings.csv'\n",
    "embedding_path_2 = './test_data/sushi_label.w001.i001.embeddings.csv'\n",
    "embedding_path_3 = './test_data/random_label.w001.i001.embeddings.csv'\n",
    "\n",
    "data_1 = np.genfromtxt(embedding_path_1,delimiter=',')\n",
    "data_2 = np.expand_dims(np.genfromtxt(embedding_path_2,delimiter=','), axis=0)\n",
    "data_3 = np.expand_dims(np.genfromtxt(embedding_path_3,delimiter=','), axis=0)\n",
    "print('data_1: ', data_1)\n",
    "print('data_1 shape: ', data_1.shape)\n",
    "# Combine into one matrix\n",
    "full_data = np.concatenate((data_1,data_2,data_3), axis = 0)\n",
    "\n",
    "# Find mean vector\n",
    "mean = np.mean(full_data, axis=0)\n",
    "print('mean: ', mean)\n",
    "# Subtract from each individual embedding\n",
    "data_1 = data_1 - mean\n",
    "data_2 = data_2 - mean\n",
    "data_3 = data_3 - mean\n",
    "\n",
    "# Save to files\n",
    "np.savetxt('./test_data/sushi_description.w040.i020.embeddings.normalized.csv', data_1, delimiter=',')\n",
    "np.savetxt('./test_data/sushi_label.w001.i001.embeddings.normalized.csv', data_2, delimiter=',')\n",
    "np.savetxt('./test_data/random_label.w001.i001.embeddings.normalized.csv', data_3, delimiter=',')\n"
   ]
  },
  {
   "cell_type": "code",
   "execution_count": 40,
   "metadata": {},
   "outputs": [
    {
     "name": "stdout",
     "output_type": "stream",
     "text": [
      "Number found:  16\n",
      "////////////////////////////////////////////////////////////////////////////\n",
      "Cosine Value:  0.004683231843197367\n",
      "Verse  3\n",
      "LINE 1:  raw fish are an assortment of vibrant vegetables and garnishes, adding both visual appeal and an array of flavors and textures. Crisp cucumber, creamy avocado, and the piquant bite of pickled ginger provide a refreshing contrast, while a touch of\n",
      "--------------------------------------------\n",
      "Verse  1\n",
      "LINE 2:  sushi\n",
      "////////////////////////////////////////////////////////////////////////////\n",
      "Cosine Value:  -0.0005779532928601071\n",
      "Verse  3\n",
      "LINE 1:  fiery wasabi delivers a hint of heat. A light drizzle of soy sauce enhances the overall umami experience, uniting the ingredients in a savory symphony.\n",
      "To hold this culinary ensemble together, a thin, semi-transparent sheet of seaweed, known as nori,\n",
      "--------------------------------------------\n",
      "Verse  1\n",
      "LINE 2:  sushi\n",
      "////////////////////////////////////////////////////////////////////////////\n",
      "Cosine Value:  -0.0017911020681747655\n",
      "Verse  3\n",
      "LINE 1:  textures. Crisp cucumber, creamy avocado, and the piquant bite of pickled ginger provide a refreshing contrast, while a touch of fiery wasabi delivers a hint of heat. A light drizzle of soy sauce enhances the overall umami experience, uniting the\n",
      "--------------------------------------------\n",
      "Verse  1\n",
      "LINE 2:  sushi\n",
      "////////////////////////////////////////////////////////////////////////////\n",
      "Cosine Value:  -0.004201263380639816\n",
      "Verse  3\n",
      "LINE 1:  ingredients in a savory symphony.\n",
      "To hold this culinary ensemble together, a thin, semi-transparent sheet of seaweed, known as nori, is often employed. This seaweed imparts a subtle oceanic flavor and serves as a structural component, allowing each bite to\n",
      "--------------------------------------------\n",
      "Verse  1\n",
      "LINE 2:  sushi\n",
      "////////////////////////////////////////////////////////////////////////////\n",
      "Cosine Value:  -0.005094402554259341\n",
      "Verse  2\n",
      "LINE 1:  this dish lies an array of ingredients, each chosen with care and attention to detail. One of the central elements features thinly sliced, impeccably fresh raw fish. These slices, showcasing an array of colors, range from deep reds to opalescent\n",
      "--------------------------------------------\n",
      "Verse  1\n",
      "LINE 2:  sushi\n",
      "////////////////////////////////////////////////////////////////////////////\n",
      "Cosine Value:  -0.008529748744107769\n",
      "Verse  6\n",
      "LINE 1:  culinary tradition, a meticulous assembly of flavors and textures where seasoned rice and fresh ingredients harmonize to create a symphony of taste and an artful visual experience.\n",
      "--------------------------------------------\n",
      "Verse  1\n",
      "LINE 2:  sushi\n",
      "////////////////////////////////////////////////////////////////////////////\n",
      "Cosine Value:  -0.010372619231142043\n",
      "Verse  2\n",
      "LINE 1:  subtle sweetness. These slices rest gracefully upon the seasoned rice, creating a harmonious partnership of taste and texture.\n",
      "Complementing the raw fish are an assortment of vibrant vegetables and garnishes, adding both visual appeal and an array of flavors and\n",
      "--------------------------------------------\n",
      "Verse  1\n",
      "LINE 2:  sushi\n",
      "////////////////////////////////////////////////////////////////////////////\n",
      "Cosine Value:  -0.014819555817776706\n",
      "Verse  5\n",
      "LINE 1:  arranged meticulously on a clean plate, a vibrant mosaic of colors and textures that invites diners to appreciate not only the flavors but also the craftsmanship behind each bite.\n",
      "In summary, this description encapsulates the essence of a beloved Japanese\n",
      "--------------------------------------------\n",
      "Verse  1\n",
      "LINE 2:  sushi\n",
      "////////////////////////////////////////////////////////////////////////////\n",
      "Cosine Value:  -0.01518679448863502\n",
      "Verse  2\n",
      "LINE 1:  features thinly sliced, impeccably fresh raw fish. These slices, showcasing an array of colors, range from deep reds to opalescent whites. The fish's texture is exceptionally tender, with a nuanced flavor profile that blends the essence of the sea with\n",
      "--------------------------------------------\n",
      "Verse  1\n",
      "LINE 2:  sushi\n",
      "////////////////////////////////////////////////////////////////////////////\n",
      "Cosine Value:  -0.021594445076009987\n",
      "Verse  2\n",
      "LINE 1:  whites. The fish's texture is exceptionally tender, with a nuanced flavor profile that blends the essence of the sea with subtle sweetness. These slices rest gracefully upon the seasoned rice, creating a harmonious partnership of taste and texture.\n",
      "Complementing the\n",
      "--------------------------------------------\n",
      "Verse  1\n",
      "LINE 2:  sushi\n",
      "////////////////////////////////////////////////////////////////////////////\n",
      "Cosine Value:  -0.021959053502888893\n",
      "Verse  1\n",
      "LINE 1:  Imagine a culinary creation that hails from Japan, renowned for its meticulous preparation and diverse flavors. This dish starts with a foundation of seasoned vinegared rice, cooked to perfection. The rice, typically short-grained and sticky, is seasoned with a precise\n",
      "--------------------------------------------\n",
      "Verse  1\n",
      "LINE 2:  sushi\n",
      "////////////////////////////////////////////////////////////////////////////\n",
      "Cosine Value:  -0.03192945629824896\n",
      "Verse  5\n",
      "LINE 1:  the flavors but also the craftsmanship behind each bite.\n",
      "In summary, this description encapsulates the essence of a beloved Japanese culinary tradition, a meticulous assembly of flavors and textures where seasoned rice and fresh ingredients harmonize to create a symphony\n",
      "--------------------------------------------\n",
      "Verse  1\n",
      "LINE 2:  sushi\n",
      "////////////////////////////////////////////////////////////////////////////\n",
      "Cosine Value:  -0.03797365439619624\n",
      "Verse  4\n",
      "LINE 1:  is often employed. This seaweed imparts a subtle oceanic flavor and serves as a structural component, allowing each bite to be easily picked up and savored.\n",
      "The presentation of this dish is an art form in itself. It is often\n",
      "--------------------------------------------\n",
      "Verse  1\n",
      "LINE 2:  sushi\n",
      "////////////////////////////////////////////////////////////////////////////\n",
      "Cosine Value:  -0.03968778454382348\n",
      "Verse  1\n",
      "LINE 1:  a foundation of seasoned vinegared rice, cooked to perfection. The rice, typically short-grained and sticky, is seasoned with a precise mixture of rice vinegar, sugar, and salt, which imparts a delicate balance of sweetness and tanginess.\n",
      "At the heart of\n",
      "--------------------------------------------\n",
      "Verse  1\n",
      "LINE 2:  sushi\n",
      "////////////////////////////////////////////////////////////////////////////\n",
      "Cosine Value:  -0.04424752985891073\n",
      "Verse  4\n",
      "LINE 1:  be easily picked up and savored.\n",
      "The presentation of this dish is an art form in itself. It is often arranged meticulously on a clean plate, a vibrant mosaic of colors and textures that invites diners to appreciate not only\n",
      "--------------------------------------------\n",
      "Verse  1\n",
      "LINE 2:  sushi\n",
      "////////////////////////////////////////////////////////////////////////////\n",
      "Cosine Value:  -0.04853577465154483\n",
      "Verse  1\n",
      "LINE 1:  mixture of rice vinegar, sugar, and salt, which imparts a delicate balance of sweetness and tanginess.\n",
      "At the heart of this dish lies an array of ingredients, each chosen with care and attention to detail. One of the central elements\n",
      "--------------------------------------------\n",
      "Verse  1\n",
      "LINE 2:  sushi\n"
     ]
    },
    {
     "data": {
      "application/vnd.plotly.v1+json": {
       "config": {
        "plotlyServerURL": "https://plot.ly"
       },
       "data": [
        {
         "coloraxis": "coloraxis",
         "hovertemplate": "x: %{x}<br>y: %{y}<br>color: %{z}<extra></extra>",
         "name": "0",
         "type": "heatmap",
         "x": [
          "sushi"
         ],
         "xaxis": "x",
         "y": [
          "Imagine a culinary creation that hails from Japan, renowned for its meticulous preparation and diverse flavors. This dish starts with a foundation of seasoned vinegared rice, cooked to perfection. The rice, typically short-grained and sticky, is seasoned with a precise",
          "a foundation of seasoned vinegared rice, cooked to perfection. The rice, typically short-grained and sticky, is seasoned with a precise mixture of rice vinegar, sugar, and salt, which imparts a delicate balance of sweetness and tanginess.\nAt the heart of",
          "mixture of rice vinegar, sugar, and salt, which imparts a delicate balance of sweetness and tanginess.\nAt the heart of this dish lies an array of ingredients, each chosen with care and attention to detail. One of the central elements",
          "this dish lies an array of ingredients, each chosen with care and attention to detail. One of the central elements features thinly sliced, impeccably fresh raw fish. These slices, showcasing an array of colors, range from deep reds to opalescent",
          "features thinly sliced, impeccably fresh raw fish. These slices, showcasing an array of colors, range from deep reds to opalescent whites. The fish's texture is exceptionally tender, with a nuanced flavor profile that blends the essence of the sea with",
          "whites. The fish's texture is exceptionally tender, with a nuanced flavor profile that blends the essence of the sea with subtle sweetness. These slices rest gracefully upon the seasoned rice, creating a harmonious partnership of taste and texture.\nComplementing the",
          "subtle sweetness. These slices rest gracefully upon the seasoned rice, creating a harmonious partnership of taste and texture.\nComplementing the raw fish are an assortment of vibrant vegetables and garnishes, adding both visual appeal and an array of flavors and",
          "raw fish are an assortment of vibrant vegetables and garnishes, adding both visual appeal and an array of flavors and textures. Crisp cucumber, creamy avocado, and the piquant bite of pickled ginger provide a refreshing contrast, while a touch of",
          "textures. Crisp cucumber, creamy avocado, and the piquant bite of pickled ginger provide a refreshing contrast, while a touch of fiery wasabi delivers a hint of heat. A light drizzle of soy sauce enhances the overall umami experience, uniting the",
          "fiery wasabi delivers a hint of heat. A light drizzle of soy sauce enhances the overall umami experience, uniting the ingredients in a savory symphony.\nTo hold this culinary ensemble together, a thin, semi-transparent sheet of seaweed, known as nori,",
          "ingredients in a savory symphony.\nTo hold this culinary ensemble together, a thin, semi-transparent sheet of seaweed, known as nori, is often employed. This seaweed imparts a subtle oceanic flavor and serves as a structural component, allowing each bite to",
          "is often employed. This seaweed imparts a subtle oceanic flavor and serves as a structural component, allowing each bite to be easily picked up and savored.\nThe presentation of this dish is an art form in itself. It is often",
          "be easily picked up and savored.\nThe presentation of this dish is an art form in itself. It is often arranged meticulously on a clean plate, a vibrant mosaic of colors and textures that invites diners to appreciate not only",
          "arranged meticulously on a clean plate, a vibrant mosaic of colors and textures that invites diners to appreciate not only the flavors but also the craftsmanship behind each bite.\nIn summary, this description encapsulates the essence of a beloved Japanese",
          "the flavors but also the craftsmanship behind each bite.\nIn summary, this description encapsulates the essence of a beloved Japanese culinary tradition, a meticulous assembly of flavors and textures where seasoned rice and fresh ingredients harmonize to create a symphony",
          "culinary tradition, a meticulous assembly of flavors and textures where seasoned rice and fresh ingredients harmonize to create a symphony of taste and an artful visual experience."
         ],
         "yaxis": "y",
         "z": [
          [
           -0.021959053502888893
          ],
          [
           -0.03968778454382348
          ],
          [
           -0.04853577465154483
          ],
          [
           -0.005094402554259341
          ],
          [
           -0.01518679448863502
          ],
          [
           -0.021594445076009987
          ],
          [
           -0.010372619231142043
          ],
          [
           0.004683231843197367
          ],
          [
           -0.0017911020681747655
          ],
          [
           -0.0005779532928601071
          ],
          [
           -0.004201263380639816
          ],
          [
           -0.03797365439619624
          ],
          [
           -0.04424752985891073
          ],
          [
           -0.014819555817776706
          ],
          [
           -0.03192945629824896
          ],
          [
           -0.008529748744107769
          ]
         ]
        }
       ],
       "layout": {
        "coloraxis": {
         "colorscale": [
          [
           0,
           "#0d0887"
          ],
          [
           0.1111111111111111,
           "#46039f"
          ],
          [
           0.2222222222222222,
           "#7201a8"
          ],
          [
           0.3333333333333333,
           "#9c179e"
          ],
          [
           0.4444444444444444,
           "#bd3786"
          ],
          [
           0.5555555555555556,
           "#d8576b"
          ],
          [
           0.6666666666666666,
           "#ed7953"
          ],
          [
           0.7777777777777778,
           "#fb9f3a"
          ],
          [
           0.8888888888888888,
           "#fdca26"
          ],
          [
           1,
           "#f0f921"
          ]
         ]
        },
        "height": 500,
        "margin": {
         "t": 60
        },
        "template": {
         "data": {
          "bar": [
           {
            "error_x": {
             "color": "#2a3f5f"
            },
            "error_y": {
             "color": "#2a3f5f"
            },
            "marker": {
             "line": {
              "color": "#E5ECF6",
              "width": 0.5
             },
             "pattern": {
              "fillmode": "overlay",
              "size": 10,
              "solidity": 0.2
             }
            },
            "type": "bar"
           }
          ],
          "barpolar": [
           {
            "marker": {
             "line": {
              "color": "#E5ECF6",
              "width": 0.5
             },
             "pattern": {
              "fillmode": "overlay",
              "size": 10,
              "solidity": 0.2
             }
            },
            "type": "barpolar"
           }
          ],
          "carpet": [
           {
            "aaxis": {
             "endlinecolor": "#2a3f5f",
             "gridcolor": "white",
             "linecolor": "white",
             "minorgridcolor": "white",
             "startlinecolor": "#2a3f5f"
            },
            "baxis": {
             "endlinecolor": "#2a3f5f",
             "gridcolor": "white",
             "linecolor": "white",
             "minorgridcolor": "white",
             "startlinecolor": "#2a3f5f"
            },
            "type": "carpet"
           }
          ],
          "choropleth": [
           {
            "colorbar": {
             "outlinewidth": 0,
             "ticks": ""
            },
            "type": "choropleth"
           }
          ],
          "contour": [
           {
            "colorbar": {
             "outlinewidth": 0,
             "ticks": ""
            },
            "colorscale": [
             [
              0,
              "#0d0887"
             ],
             [
              0.1111111111111111,
              "#46039f"
             ],
             [
              0.2222222222222222,
              "#7201a8"
             ],
             [
              0.3333333333333333,
              "#9c179e"
             ],
             [
              0.4444444444444444,
              "#bd3786"
             ],
             [
              0.5555555555555556,
              "#d8576b"
             ],
             [
              0.6666666666666666,
              "#ed7953"
             ],
             [
              0.7777777777777778,
              "#fb9f3a"
             ],
             [
              0.8888888888888888,
              "#fdca26"
             ],
             [
              1,
              "#f0f921"
             ]
            ],
            "type": "contour"
           }
          ],
          "contourcarpet": [
           {
            "colorbar": {
             "outlinewidth": 0,
             "ticks": ""
            },
            "type": "contourcarpet"
           }
          ],
          "heatmap": [
           {
            "colorbar": {
             "outlinewidth": 0,
             "ticks": ""
            },
            "colorscale": [
             [
              0,
              "#0d0887"
             ],
             [
              0.1111111111111111,
              "#46039f"
             ],
             [
              0.2222222222222222,
              "#7201a8"
             ],
             [
              0.3333333333333333,
              "#9c179e"
             ],
             [
              0.4444444444444444,
              "#bd3786"
             ],
             [
              0.5555555555555556,
              "#d8576b"
             ],
             [
              0.6666666666666666,
              "#ed7953"
             ],
             [
              0.7777777777777778,
              "#fb9f3a"
             ],
             [
              0.8888888888888888,
              "#fdca26"
             ],
             [
              1,
              "#f0f921"
             ]
            ],
            "type": "heatmap"
           }
          ],
          "heatmapgl": [
           {
            "colorbar": {
             "outlinewidth": 0,
             "ticks": ""
            },
            "colorscale": [
             [
              0,
              "#0d0887"
             ],
             [
              0.1111111111111111,
              "#46039f"
             ],
             [
              0.2222222222222222,
              "#7201a8"
             ],
             [
              0.3333333333333333,
              "#9c179e"
             ],
             [
              0.4444444444444444,
              "#bd3786"
             ],
             [
              0.5555555555555556,
              "#d8576b"
             ],
             [
              0.6666666666666666,
              "#ed7953"
             ],
             [
              0.7777777777777778,
              "#fb9f3a"
             ],
             [
              0.8888888888888888,
              "#fdca26"
             ],
             [
              1,
              "#f0f921"
             ]
            ],
            "type": "heatmapgl"
           }
          ],
          "histogram": [
           {
            "marker": {
             "pattern": {
              "fillmode": "overlay",
              "size": 10,
              "solidity": 0.2
             }
            },
            "type": "histogram"
           }
          ],
          "histogram2d": [
           {
            "colorbar": {
             "outlinewidth": 0,
             "ticks": ""
            },
            "colorscale": [
             [
              0,
              "#0d0887"
             ],
             [
              0.1111111111111111,
              "#46039f"
             ],
             [
              0.2222222222222222,
              "#7201a8"
             ],
             [
              0.3333333333333333,
              "#9c179e"
             ],
             [
              0.4444444444444444,
              "#bd3786"
             ],
             [
              0.5555555555555556,
              "#d8576b"
             ],
             [
              0.6666666666666666,
              "#ed7953"
             ],
             [
              0.7777777777777778,
              "#fb9f3a"
             ],
             [
              0.8888888888888888,
              "#fdca26"
             ],
             [
              1,
              "#f0f921"
             ]
            ],
            "type": "histogram2d"
           }
          ],
          "histogram2dcontour": [
           {
            "colorbar": {
             "outlinewidth": 0,
             "ticks": ""
            },
            "colorscale": [
             [
              0,
              "#0d0887"
             ],
             [
              0.1111111111111111,
              "#46039f"
             ],
             [
              0.2222222222222222,
              "#7201a8"
             ],
             [
              0.3333333333333333,
              "#9c179e"
             ],
             [
              0.4444444444444444,
              "#bd3786"
             ],
             [
              0.5555555555555556,
              "#d8576b"
             ],
             [
              0.6666666666666666,
              "#ed7953"
             ],
             [
              0.7777777777777778,
              "#fb9f3a"
             ],
             [
              0.8888888888888888,
              "#fdca26"
             ],
             [
              1,
              "#f0f921"
             ]
            ],
            "type": "histogram2dcontour"
           }
          ],
          "mesh3d": [
           {
            "colorbar": {
             "outlinewidth": 0,
             "ticks": ""
            },
            "type": "mesh3d"
           }
          ],
          "parcoords": [
           {
            "line": {
             "colorbar": {
              "outlinewidth": 0,
              "ticks": ""
             }
            },
            "type": "parcoords"
           }
          ],
          "pie": [
           {
            "automargin": true,
            "type": "pie"
           }
          ],
          "scatter": [
           {
            "fillpattern": {
             "fillmode": "overlay",
             "size": 10,
             "solidity": 0.2
            },
            "type": "scatter"
           }
          ],
          "scatter3d": [
           {
            "line": {
             "colorbar": {
              "outlinewidth": 0,
              "ticks": ""
             }
            },
            "marker": {
             "colorbar": {
              "outlinewidth": 0,
              "ticks": ""
             }
            },
            "type": "scatter3d"
           }
          ],
          "scattercarpet": [
           {
            "marker": {
             "colorbar": {
              "outlinewidth": 0,
              "ticks": ""
             }
            },
            "type": "scattercarpet"
           }
          ],
          "scattergeo": [
           {
            "marker": {
             "colorbar": {
              "outlinewidth": 0,
              "ticks": ""
             }
            },
            "type": "scattergeo"
           }
          ],
          "scattergl": [
           {
            "marker": {
             "colorbar": {
              "outlinewidth": 0,
              "ticks": ""
             }
            },
            "type": "scattergl"
           }
          ],
          "scattermapbox": [
           {
            "marker": {
             "colorbar": {
              "outlinewidth": 0,
              "ticks": ""
             }
            },
            "type": "scattermapbox"
           }
          ],
          "scatterpolar": [
           {
            "marker": {
             "colorbar": {
              "outlinewidth": 0,
              "ticks": ""
             }
            },
            "type": "scatterpolar"
           }
          ],
          "scatterpolargl": [
           {
            "marker": {
             "colorbar": {
              "outlinewidth": 0,
              "ticks": ""
             }
            },
            "type": "scatterpolargl"
           }
          ],
          "scatterternary": [
           {
            "marker": {
             "colorbar": {
              "outlinewidth": 0,
              "ticks": ""
             }
            },
            "type": "scatterternary"
           }
          ],
          "surface": [
           {
            "colorbar": {
             "outlinewidth": 0,
             "ticks": ""
            },
            "colorscale": [
             [
              0,
              "#0d0887"
             ],
             [
              0.1111111111111111,
              "#46039f"
             ],
             [
              0.2222222222222222,
              "#7201a8"
             ],
             [
              0.3333333333333333,
              "#9c179e"
             ],
             [
              0.4444444444444444,
              "#bd3786"
             ],
             [
              0.5555555555555556,
              "#d8576b"
             ],
             [
              0.6666666666666666,
              "#ed7953"
             ],
             [
              0.7777777777777778,
              "#fb9f3a"
             ],
             [
              0.8888888888888888,
              "#fdca26"
             ],
             [
              1,
              "#f0f921"
             ]
            ],
            "type": "surface"
           }
          ],
          "table": [
           {
            "cells": {
             "fill": {
              "color": "#EBF0F8"
             },
             "line": {
              "color": "white"
             }
            },
            "header": {
             "fill": {
              "color": "#C8D4E3"
             },
             "line": {
              "color": "white"
             }
            },
            "type": "table"
           }
          ]
         },
         "layout": {
          "annotationdefaults": {
           "arrowcolor": "#2a3f5f",
           "arrowhead": 0,
           "arrowwidth": 1
          },
          "autotypenumbers": "strict",
          "coloraxis": {
           "colorbar": {
            "outlinewidth": 0,
            "ticks": ""
           }
          },
          "colorscale": {
           "diverging": [
            [
             0,
             "#8e0152"
            ],
            [
             0.1,
             "#c51b7d"
            ],
            [
             0.2,
             "#de77ae"
            ],
            [
             0.3,
             "#f1b6da"
            ],
            [
             0.4,
             "#fde0ef"
            ],
            [
             0.5,
             "#f7f7f7"
            ],
            [
             0.6,
             "#e6f5d0"
            ],
            [
             0.7,
             "#b8e186"
            ],
            [
             0.8,
             "#7fbc41"
            ],
            [
             0.9,
             "#4d9221"
            ],
            [
             1,
             "#276419"
            ]
           ],
           "sequential": [
            [
             0,
             "#0d0887"
            ],
            [
             0.1111111111111111,
             "#46039f"
            ],
            [
             0.2222222222222222,
             "#7201a8"
            ],
            [
             0.3333333333333333,
             "#9c179e"
            ],
            [
             0.4444444444444444,
             "#bd3786"
            ],
            [
             0.5555555555555556,
             "#d8576b"
            ],
            [
             0.6666666666666666,
             "#ed7953"
            ],
            [
             0.7777777777777778,
             "#fb9f3a"
            ],
            [
             0.8888888888888888,
             "#fdca26"
            ],
            [
             1,
             "#f0f921"
            ]
           ],
           "sequentialminus": [
            [
             0,
             "#0d0887"
            ],
            [
             0.1111111111111111,
             "#46039f"
            ],
            [
             0.2222222222222222,
             "#7201a8"
            ],
            [
             0.3333333333333333,
             "#9c179e"
            ],
            [
             0.4444444444444444,
             "#bd3786"
            ],
            [
             0.5555555555555556,
             "#d8576b"
            ],
            [
             0.6666666666666666,
             "#ed7953"
            ],
            [
             0.7777777777777778,
             "#fb9f3a"
            ],
            [
             0.8888888888888888,
             "#fdca26"
            ],
            [
             1,
             "#f0f921"
            ]
           ]
          },
          "colorway": [
           "#636efa",
           "#EF553B",
           "#00cc96",
           "#ab63fa",
           "#FFA15A",
           "#19d3f3",
           "#FF6692",
           "#B6E880",
           "#FF97FF",
           "#FECB52"
          ],
          "font": {
           "color": "#2a3f5f"
          },
          "geo": {
           "bgcolor": "white",
           "lakecolor": "white",
           "landcolor": "#E5ECF6",
           "showlakes": true,
           "showland": true,
           "subunitcolor": "white"
          },
          "hoverlabel": {
           "align": "left"
          },
          "hovermode": "closest",
          "mapbox": {
           "style": "light"
          },
          "paper_bgcolor": "white",
          "plot_bgcolor": "#E5ECF6",
          "polar": {
           "angularaxis": {
            "gridcolor": "white",
            "linecolor": "white",
            "ticks": ""
           },
           "bgcolor": "#E5ECF6",
           "radialaxis": {
            "gridcolor": "white",
            "linecolor": "white",
            "ticks": ""
           }
          },
          "scene": {
           "xaxis": {
            "backgroundcolor": "#E5ECF6",
            "gridcolor": "white",
            "gridwidth": 2,
            "linecolor": "white",
            "showbackground": true,
            "ticks": "",
            "zerolinecolor": "white"
           },
           "yaxis": {
            "backgroundcolor": "#E5ECF6",
            "gridcolor": "white",
            "gridwidth": 2,
            "linecolor": "white",
            "showbackground": true,
            "ticks": "",
            "zerolinecolor": "white"
           },
           "zaxis": {
            "backgroundcolor": "#E5ECF6",
            "gridcolor": "white",
            "gridwidth": 2,
            "linecolor": "white",
            "showbackground": true,
            "ticks": "",
            "zerolinecolor": "white"
           }
          },
          "shapedefaults": {
           "line": {
            "color": "#2a3f5f"
           }
          },
          "ternary": {
           "aaxis": {
            "gridcolor": "white",
            "linecolor": "white",
            "ticks": ""
           },
           "baxis": {
            "gridcolor": "white",
            "linecolor": "white",
            "ticks": ""
           },
           "bgcolor": "#E5ECF6",
           "caxis": {
            "gridcolor": "white",
            "linecolor": "white",
            "ticks": ""
           }
          },
          "title": {
           "x": 0.05
          },
          "xaxis": {
           "automargin": true,
           "gridcolor": "white",
           "linecolor": "white",
           "ticks": "",
           "title": {
            "standoff": 15
           },
           "zerolinecolor": "white",
           "zerolinewidth": 2
          },
          "yaxis": {
           "automargin": true,
           "gridcolor": "white",
           "linecolor": "white",
           "ticks": "",
           "title": {
            "standoff": 15
           },
           "zerolinecolor": "white",
           "zerolinewidth": 2
          }
         }
        },
        "width": 500,
        "xaxis": {
         "anchor": "y",
         "constrain": "domain",
         "domain": [
          0,
          1
         ],
         "scaleanchor": "y",
         "showticklabels": false
        },
        "yaxis": {
         "anchor": "x",
         "autorange": "reversed",
         "constrain": "domain",
         "domain": [
          0,
          1
         ],
         "showticklabels": false
        }
       }
      }
     },
     "metadata": {},
     "output_type": "display_data"
    },
    {
     "data": {
      "image/png": "[encoded data removed]",
      "text/plain": [
       "<Figure size 640x480 with 1 Axes>"
      ]
     },
     "metadata": {},
     "output_type": "display_data"
    }
   ],
   "source": [
    "evaluate_data('./test_data/sushi_description', './test_data/sushi_label', '040', '001', '020', '001', normalized=True)"
   ]
  },
  {
   "cell_type": "code",
   "execution_count": 41,
   "metadata": {},
   "outputs": [
    {
     "name": "stdout",
     "output_type": "stream",
     "text": [
      "Number found:  16\n",
      "////////////////////////////////////////////////////////////////////////////\n",
      "Cosine Value:  -0.0070282548256516255\n",
      "Verse  4\n",
      "LINE 1:  be easily picked up and savored.\n",
      "The presentation of this dish is an art form in itself. It is often arranged meticulously on a clean plate, a vibrant mosaic of colors and textures that invites diners to appreciate not only\n",
      "--------------------------------------------\n",
      "Verse  1\n",
      "LINE 2:  heliocentric\n",
      "////////////////////////////////////////////////////////////////////////////\n",
      "Cosine Value:  -0.0098827602313209\n",
      "Verse  6\n",
      "LINE 1:  culinary tradition, a meticulous assembly of flavors and textures where seasoned rice and fresh ingredients harmonize to create a symphony of taste and an artful visual experience.\n",
      "--------------------------------------------\n",
      "Verse  1\n",
      "LINE 2:  heliocentric\n",
      "////////////////////////////////////////////////////////////////////////////\n",
      "Cosine Value:  -0.016602540326435464\n",
      "Verse  4\n",
      "LINE 1:  is often employed. This seaweed imparts a subtle oceanic flavor and serves as a structural component, allowing each bite to be easily picked up and savored.\n",
      "The presentation of this dish is an art form in itself. It is often\n",
      "--------------------------------------------\n",
      "Verse  1\n",
      "LINE 2:  heliocentric\n",
      "////////////////////////////////////////////////////////////////////////////\n",
      "Cosine Value:  -0.01694335830371278\n",
      "Verse  3\n",
      "LINE 1:  fiery wasabi delivers a hint of heat. A light drizzle of soy sauce enhances the overall umami experience, uniting the ingredients in a savory symphony.\n",
      "To hold this culinary ensemble together, a thin, semi-transparent sheet of seaweed, known as nori,\n",
      "--------------------------------------------\n",
      "Verse  1\n",
      "LINE 2:  heliocentric\n",
      "////////////////////////////////////////////////////////////////////////////\n",
      "Cosine Value:  -0.01719644182096935\n",
      "Verse  1\n",
      "LINE 1:  mixture of rice vinegar, sugar, and salt, which imparts a delicate balance of sweetness and tanginess.\n",
      "At the heart of this dish lies an array of ingredients, each chosen with care and attention to detail. One of the central elements\n",
      "--------------------------------------------\n",
      "Verse  1\n",
      "LINE 2:  heliocentric\n",
      "////////////////////////////////////////////////////////////////////////////\n",
      "Cosine Value:  -0.021104555503758986\n",
      "Verse  5\n",
      "LINE 1:  arranged meticulously on a clean plate, a vibrant mosaic of colors and textures that invites diners to appreciate not only the flavors but also the craftsmanship behind each bite.\n",
      "In summary, this description encapsulates the essence of a beloved Japanese\n",
      "--------------------------------------------\n",
      "Verse  1\n",
      "LINE 2:  heliocentric\n",
      "////////////////////////////////////////////////////////////////////////////\n",
      "Cosine Value:  -0.021578465018136234\n",
      "Verse  1\n",
      "LINE 1:  a foundation of seasoned vinegared rice, cooked to perfection. The rice, typically short-grained and sticky, is seasoned with a precise mixture of rice vinegar, sugar, and salt, which imparts a delicate balance of sweetness and tanginess.\n",
      "At the heart of\n",
      "--------------------------------------------\n",
      "Verse  1\n",
      "LINE 2:  heliocentric\n",
      "////////////////////////////////////////////////////////////////////////////\n",
      "Cosine Value:  -0.02162368366420473\n",
      "Verse  3\n",
      "LINE 1:  ingredients in a savory symphony.\n",
      "To hold this culinary ensemble together, a thin, semi-transparent sheet of seaweed, known as nori, is often employed. This seaweed imparts a subtle oceanic flavor and serves as a structural component, allowing each bite to\n",
      "--------------------------------------------\n",
      "Verse  1\n",
      "LINE 2:  heliocentric\n",
      "////////////////////////////////////////////////////////////////////////////\n",
      "Cosine Value:  -0.02583085953890257\n",
      "Verse  2\n",
      "LINE 1:  this dish lies an array of ingredients, each chosen with care and attention to detail. One of the central elements features thinly sliced, impeccably fresh raw fish. These slices, showcasing an array of colors, range from deep reds to opalescent\n",
      "--------------------------------------------\n",
      "Verse  1\n",
      "LINE 2:  heliocentric\n",
      "////////////////////////////////////////////////////////////////////////////\n",
      "Cosine Value:  -0.029320661809395125\n",
      "Verse  5\n",
      "LINE 1:  the flavors but also the craftsmanship behind each bite.\n",
      "In summary, this description encapsulates the essence of a beloved Japanese culinary tradition, a meticulous assembly of flavors and textures where seasoned rice and fresh ingredients harmonize to create a symphony\n",
      "--------------------------------------------\n",
      "Verse  1\n",
      "LINE 2:  heliocentric\n",
      "////////////////////////////////////////////////////////////////////////////\n",
      "Cosine Value:  -0.029690018936891105\n",
      "Verse  1\n",
      "LINE 1:  Imagine a culinary creation that hails from Japan, renowned for its meticulous preparation and diverse flavors. This dish starts with a foundation of seasoned vinegared rice, cooked to perfection. The rice, typically short-grained and sticky, is seasoned with a precise\n",
      "--------------------------------------------\n",
      "Verse  1\n",
      "LINE 2:  heliocentric\n",
      "////////////////////////////////////////////////////////////////////////////\n",
      "Cosine Value:  -0.030265418557494293\n",
      "Verse  2\n",
      "LINE 1:  features thinly sliced, impeccably fresh raw fish. These slices, showcasing an array of colors, range from deep reds to opalescent whites. The fish's texture is exceptionally tender, with a nuanced flavor profile that blends the essence of the sea with\n",
      "--------------------------------------------\n",
      "Verse  1\n",
      "LINE 2:  heliocentric\n",
      "////////////////////////////////////////////////////////////////////////////\n",
      "Cosine Value:  -0.038519433597254266\n",
      "Verse  3\n",
      "LINE 1:  textures. Crisp cucumber, creamy avocado, and the piquant bite of pickled ginger provide a refreshing contrast, while a touch of fiery wasabi delivers a hint of heat. A light drizzle of soy sauce enhances the overall umami experience, uniting the\n",
      "--------------------------------------------\n",
      "Verse  1\n",
      "LINE 2:  heliocentric\n",
      "////////////////////////////////////////////////////////////////////////////\n",
      "Cosine Value:  -0.04207507288351604\n",
      "Verse  3\n",
      "LINE 1:  raw fish are an assortment of vibrant vegetables and garnishes, adding both visual appeal and an array of flavors and textures. Crisp cucumber, creamy avocado, and the piquant bite of pickled ginger provide a refreshing contrast, while a touch of\n",
      "--------------------------------------------\n",
      "Verse  1\n",
      "LINE 2:  heliocentric\n",
      "////////////////////////////////////////////////////////////////////////////\n",
      "Cosine Value:  -0.04314448420394762\n",
      "Verse  2\n",
      "LINE 1:  whites. The fish's texture is exceptionally tender, with a nuanced flavor profile that blends the essence of the sea with subtle sweetness. These slices rest gracefully upon the seasoned rice, creating a harmonious partnership of taste and texture.\n",
      "Complementing the\n",
      "--------------------------------------------\n",
      "Verse  1\n",
      "LINE 2:  heliocentric\n",
      "////////////////////////////////////////////////////////////////////////////\n",
      "Cosine Value:  -0.05603065657857473\n",
      "Verse  2\n",
      "LINE 1:  subtle sweetness. These slices rest gracefully upon the seasoned rice, creating a harmonious partnership of taste and texture.\n",
      "Complementing the raw fish are an assortment of vibrant vegetables and garnishes, adding both visual appeal and an array of flavors and\n",
      "--------------------------------------------\n",
      "Verse  1\n",
      "LINE 2:  heliocentric\n"
     ]
    },
    {
     "data": {
      "application/vnd.plotly.v1+json": {
       "config": {
        "plotlyServerURL": "https://plot.ly"
       },
       "data": [
        {
         "coloraxis": "coloraxis",
         "hovertemplate": "x: %{x}<br>y: %{y}<br>color: %{z}<extra></extra>",
         "name": "0",
         "type": "heatmap",
         "x": [
          "heliocentric"
         ],
         "xaxis": "x",
         "y": [
          "Imagine a culinary creation that hails from Japan, renowned for its meticulous preparation and diverse flavors. This dish starts with a foundation of seasoned vinegared rice, cooked to perfection. The rice, typically short-grained and sticky, is seasoned with a precise",
          "a foundation of seasoned vinegared rice, cooked to perfection. The rice, typically short-grained and sticky, is seasoned with a precise mixture of rice vinegar, sugar, and salt, which imparts a delicate balance of sweetness and tanginess.\nAt the heart of",
          "mixture of rice vinegar, sugar, and salt, which imparts a delicate balance of sweetness and tanginess.\nAt the heart of this dish lies an array of ingredients, each chosen with care and attention to detail. One of the central elements",
          "this dish lies an array of ingredients, each chosen with care and attention to detail. One of the central elements features thinly sliced, impeccably fresh raw fish. These slices, showcasing an array of colors, range from deep reds to opalescent",
          "features thinly sliced, impeccably fresh raw fish. These slices, showcasing an array of colors, range from deep reds to opalescent whites. The fish's texture is exceptionally tender, with a nuanced flavor profile that blends the essence of the sea with",
          "whites. The fish's texture is exceptionally tender, with a nuanced flavor profile that blends the essence of the sea with subtle sweetness. These slices rest gracefully upon the seasoned rice, creating a harmonious partnership of taste and texture.\nComplementing the",
          "subtle sweetness. These slices rest gracefully upon the seasoned rice, creating a harmonious partnership of taste and texture.\nComplementing the raw fish are an assortment of vibrant vegetables and garnishes, adding both visual appeal and an array of flavors and",
          "raw fish are an assortment of vibrant vegetables and garnishes, adding both visual appeal and an array of flavors and textures. Crisp cucumber, creamy avocado, and the piquant bite of pickled ginger provide a refreshing contrast, while a touch of",
          "textures. Crisp cucumber, creamy avocado, and the piquant bite of pickled ginger provide a refreshing contrast, while a touch of fiery wasabi delivers a hint of heat. A light drizzle of soy sauce enhances the overall umami experience, uniting the",
          "fiery wasabi delivers a hint of heat. A light drizzle of soy sauce enhances the overall umami experience, uniting the ingredients in a savory symphony.\nTo hold this culinary ensemble together, a thin, semi-transparent sheet of seaweed, known as nori,",
          "ingredients in a savory symphony.\nTo hold this culinary ensemble together, a thin, semi-transparent sheet of seaweed, known as nori, is often employed. This seaweed imparts a subtle oceanic flavor and serves as a structural component, allowing each bite to",
          "is often employed. This seaweed imparts a subtle oceanic flavor and serves as a structural component, allowing each bite to be easily picked up and savored.\nThe presentation of this dish is an art form in itself. It is often",
          "be easily picked up and savored.\nThe presentation of this dish is an art form in itself. It is often arranged meticulously on a clean plate, a vibrant mosaic of colors and textures that invites diners to appreciate not only",
          "arranged meticulously on a clean plate, a vibrant mosaic of colors and textures that invites diners to appreciate not only the flavors but also the craftsmanship behind each bite.\nIn summary, this description encapsulates the essence of a beloved Japanese",
          "the flavors but also the craftsmanship behind each bite.\nIn summary, this description encapsulates the essence of a beloved Japanese culinary tradition, a meticulous assembly of flavors and textures where seasoned rice and fresh ingredients harmonize to create a symphony",
          "culinary tradition, a meticulous assembly of flavors and textures where seasoned rice and fresh ingredients harmonize to create a symphony of taste and an artful visual experience."
         ],
         "yaxis": "y",
         "z": [
          [
           -0.029690018936891105
          ],
          [
           -0.021578465018136234
          ],
          [
           -0.01719644182096935
          ],
          [
           -0.02583085953890257
          ],
          [
           -0.030265418557494293
          ],
          [
           -0.04314448420394762
          ],
          [
           -0.05603065657857473
          ],
          [
           -0.04207507288351604
          ],
          [
           -0.038519433597254266
          ],
          [
           -0.01694335830371278
          ],
          [
           -0.02162368366420473
          ],
          [
           -0.016602540326435464
          ],
          [
           -0.0070282548256516255
          ],
          [
           -0.021104555503758986
          ],
          [
           -0.029320661809395125
          ],
          [
           -0.0098827602313209
          ]
         ]
        }
       ],
       "layout": {
        "coloraxis": {
         "colorscale": [
          [
           0,
           "#0d0887"
          ],
          [
           0.1111111111111111,
           "#46039f"
          ],
          [
           0.2222222222222222,
           "#7201a8"
          ],
          [
           0.3333333333333333,
           "#9c179e"
          ],
          [
           0.4444444444444444,
           "#bd3786"
          ],
          [
           0.5555555555555556,
           "#d8576b"
          ],
          [
           0.6666666666666666,
           "#ed7953"
          ],
          [
           0.7777777777777778,
           "#fb9f3a"
          ],
          [
           0.8888888888888888,
           "#fdca26"
          ],
          [
           1,
           "#f0f921"
          ]
         ]
        },
        "height": 500,
        "margin": {
         "t": 60
        },
        "template": {
         "data": {
          "bar": [
           {
            "error_x": {
             "color": "#2a3f5f"
            },
            "error_y": {
             "color": "#2a3f5f"
            },
            "marker": {
             "line": {
              "color": "#E5ECF6",
              "width": 0.5
             },
             "pattern": {
              "fillmode": "overlay",
              "size": 10,
              "solidity": 0.2
             }
            },
            "type": "bar"
           }
          ],
          "barpolar": [
           {
            "marker": {
             "line": {
              "color": "#E5ECF6",
              "width": 0.5
             },
             "pattern": {
              "fillmode": "overlay",
              "size": 10,
              "solidity": 0.2
             }
            },
            "type": "barpolar"
           }
          ],
          "carpet": [
           {
            "aaxis": {
             "endlinecolor": "#2a3f5f",
             "gridcolor": "white",
             "linecolor": "white",
             "minorgridcolor": "white",
             "startlinecolor": "#2a3f5f"
            },
            "baxis": {
             "endlinecolor": "#2a3f5f",
             "gridcolor": "white",
             "linecolor": "white",
             "minorgridcolor": "white",
             "startlinecolor": "#2a3f5f"
            },
            "type": "carpet"
           }
          ],
          "choropleth": [
           {
            "colorbar": {
             "outlinewidth": 0,
             "ticks": ""
            },
            "type": "choropleth"
           }
          ],
          "contour": [
           {
            "colorbar": {
             "outlinewidth": 0,
             "ticks": ""
            },
            "colorscale": [
             [
              0,
              "#0d0887"
             ],
             [
              0.1111111111111111,
              "#46039f"
             ],
             [
              0.2222222222222222,
              "#7201a8"
             ],
             [
              0.3333333333333333,
              "#9c179e"
             ],
             [
              0.4444444444444444,
              "#bd3786"
             ],
             [
              0.5555555555555556,
              "#d8576b"
             ],
             [
              0.6666666666666666,
              "#ed7953"
             ],
             [
              0.7777777777777778,
              "#fb9f3a"
             ],
             [
              0.8888888888888888,
              "#fdca26"
             ],
             [
              1,
              "#f0f921"
             ]
            ],
            "type": "contour"
           }
          ],
          "contourcarpet": [
           {
            "colorbar": {
             "outlinewidth": 0,
             "ticks": ""
            },
            "type": "contourcarpet"
           }
          ],
          "heatmap": [
           {
            "colorbar": {
             "outlinewidth": 0,
             "ticks": ""
            },
            "colorscale": [
             [
              0,
              "#0d0887"
             ],
             [
              0.1111111111111111,
              "#46039f"
             ],
             [
              0.2222222222222222,
              "#7201a8"
             ],
             [
              0.3333333333333333,
              "#9c179e"
             ],
             [
              0.4444444444444444,
              "#bd3786"
             ],
             [
              0.5555555555555556,
              "#d8576b"
             ],
             [
              0.6666666666666666,
              "#ed7953"
             ],
             [
              0.7777777777777778,
              "#fb9f3a"
             ],
             [
              0.8888888888888888,
              "#fdca26"
             ],
             [
              1,
              "#f0f921"
             ]
            ],
            "type": "heatmap"
           }
          ],
          "heatmapgl": [
           {
            "colorbar": {
             "outlinewidth": 0,
             "ticks": ""
            },
            "colorscale": [
             [
              0,
              "#0d0887"
             ],
             [
              0.1111111111111111,
              "#46039f"
             ],
             [
              0.2222222222222222,
              "#7201a8"
             ],
             [
              0.3333333333333333,
              "#9c179e"
             ],
             [
              0.4444444444444444,
              "#bd3786"
             ],
             [
              0.5555555555555556,
              "#d8576b"
             ],
             [
              0.6666666666666666,
              "#ed7953"
             ],
             [
              0.7777777777777778,
              "#fb9f3a"
             ],
             [
              0.8888888888888888,
              "#fdca26"
             ],
             [
              1,
              "#f0f921"
             ]
            ],
            "type": "heatmapgl"
           }
          ],
          "histogram": [
           {
            "marker": {
             "pattern": {
              "fillmode": "overlay",
              "size": 10,
              "solidity": 0.2
             }
            },
            "type": "histogram"
           }
          ],
          "histogram2d": [
           {
            "colorbar": {
             "outlinewidth": 0,
             "ticks": ""
            },
            "colorscale": [
             [
              0,
              "#0d0887"
             ],
             [
              0.1111111111111111,
              "#46039f"
             ],
             [
              0.2222222222222222,
              "#7201a8"
             ],
             [
              0.3333333333333333,
              "#9c179e"
             ],
             [
              0.4444444444444444,
              "#bd3786"
             ],
             [
              0.5555555555555556,
              "#d8576b"
             ],
             [
              0.6666666666666666,
              "#ed7953"
             ],
             [
              0.7777777777777778,
              "#fb9f3a"
             ],
             [
              0.8888888888888888,
              "#fdca26"
             ],
             [
              1,
              "#f0f921"
             ]
            ],
            "type": "histogram2d"
           }
          ],
          "histogram2dcontour": [
           {
            "colorbar": {
             "outlinewidth": 0,
             "ticks": ""
            },
            "colorscale": [
             [
              0,
              "#0d0887"
             ],
             [
              0.1111111111111111,
              "#46039f"
             ],
             [
              0.2222222222222222,
              "#7201a8"
             ],
             [
              0.3333333333333333,
              "#9c179e"
             ],
             [
              0.4444444444444444,
              "#bd3786"
             ],
             [
              0.5555555555555556,
              "#d8576b"
             ],
             [
              0.6666666666666666,
              "#ed7953"
             ],
             [
              0.7777777777777778,
              "#fb9f3a"
             ],
             [
              0.8888888888888888,
              "#fdca26"
             ],
             [
              1,
              "#f0f921"
             ]
            ],
            "type": "histogram2dcontour"
           }
          ],
          "mesh3d": [
           {
            "colorbar": {
             "outlinewidth": 0,
             "ticks": ""
            },
            "type": "mesh3d"
           }
          ],
          "parcoords": [
           {
            "line": {
             "colorbar": {
              "outlinewidth": 0,
              "ticks": ""
             }
            },
            "type": "parcoords"
           }
          ],
          "pie": [
           {
            "automargin": true,
            "type": "pie"
           }
          ],
          "scatter": [
           {
            "fillpattern": {
             "fillmode": "overlay",
             "size": 10,
             "solidity": 0.2
            },
            "type": "scatter"
           }
          ],
          "scatter3d": [
           {
            "line": {
             "colorbar": {
              "outlinewidth": 0,
              "ticks": ""
             }
            },
            "marker": {
             "colorbar": {
              "outlinewidth": 0,
              "ticks": ""
             }
            },
            "type": "scatter3d"
           }
          ],
          "scattercarpet": [
           {
            "marker": {
             "colorbar": {
              "outlinewidth": 0,
              "ticks": ""
             }
            },
            "type": "scattercarpet"
           }
          ],
          "scattergeo": [
           {
            "marker": {
             "colorbar": {
              "outlinewidth": 0,
              "ticks": ""
             }
            },
            "type": "scattergeo"
           }
          ],
          "scattergl": [
           {
            "marker": {
             "colorbar": {
              "outlinewidth": 0,
              "ticks": ""
             }
            },
            "type": "scattergl"
           }
          ],
          "scattermapbox": [
           {
            "marker": {
             "colorbar": {
              "outlinewidth": 0,
              "ticks": ""
             }
            },
            "type": "scattermapbox"
           }
          ],
          "scatterpolar": [
           {
            "marker": {
             "colorbar": {
              "outlinewidth": 0,
              "ticks": ""
             }
            },
            "type": "scatterpolar"
           }
          ],
          "scatterpolargl": [
           {
            "marker": {
             "colorbar": {
              "outlinewidth": 0,
              "ticks": ""
             }
            },
            "type": "scatterpolargl"
           }
          ],
          "scatterternary": [
           {
            "marker": {
             "colorbar": {
              "outlinewidth": 0,
              "ticks": ""
             }
            },
            "type": "scatterternary"
           }
          ],
          "surface": [
           {
            "colorbar": {
             "outlinewidth": 0,
             "ticks": ""
            },
            "colorscale": [
             [
              0,
              "#0d0887"
             ],
             [
              0.1111111111111111,
              "#46039f"
             ],
             [
              0.2222222222222222,
              "#7201a8"
             ],
             [
              0.3333333333333333,
              "#9c179e"
             ],
             [
              0.4444444444444444,
              "#bd3786"
             ],
             [
              0.5555555555555556,
              "#d8576b"
             ],
             [
              0.6666666666666666,
              "#ed7953"
             ],
             [
              0.7777777777777778,
              "#fb9f3a"
             ],
             [
              0.8888888888888888,
              "#fdca26"
             ],
             [
              1,
              "#f0f921"
             ]
            ],
            "type": "surface"
           }
          ],
          "table": [
           {
            "cells": {
             "fill": {
              "color": "#EBF0F8"
             },
             "line": {
              "color": "white"
             }
            },
            "header": {
             "fill": {
              "color": "#C8D4E3"
             },
             "line": {
              "color": "white"
             }
            },
            "type": "table"
           }
          ]
         },
         "layout": {
          "annotationdefaults": {
           "arrowcolor": "#2a3f5f",
           "arrowhead": 0,
           "arrowwidth": 1
          },
          "autotypenumbers": "strict",
          "coloraxis": {
           "colorbar": {
            "outlinewidth": 0,
            "ticks": ""
           }
          },
          "colorscale": {
           "diverging": [
            [
             0,
             "#8e0152"
            ],
            [
             0.1,
             "#c51b7d"
            ],
            [
             0.2,
             "#de77ae"
            ],
            [
             0.3,
             "#f1b6da"
            ],
            [
             0.4,
             "#fde0ef"
            ],
            [
             0.5,
             "#f7f7f7"
            ],
            [
             0.6,
             "#e6f5d0"
            ],
            [
             0.7,
             "#b8e186"
            ],
            [
             0.8,
             "#7fbc41"
            ],
            [
             0.9,
             "#4d9221"
            ],
            [
             1,
             "#276419"
            ]
           ],
           "sequential": [
            [
             0,
             "#0d0887"
            ],
            [
             0.1111111111111111,
             "#46039f"
            ],
            [
             0.2222222222222222,
             "#7201a8"
            ],
            [
             0.3333333333333333,
             "#9c179e"
            ],
            [
             0.4444444444444444,
             "#bd3786"
            ],
            [
             0.5555555555555556,
             "#d8576b"
            ],
            [
             0.6666666666666666,
             "#ed7953"
            ],
            [
             0.7777777777777778,
             "#fb9f3a"
            ],
            [
             0.8888888888888888,
             "#fdca26"
            ],
            [
             1,
             "#f0f921"
            ]
           ],
           "sequentialminus": [
            [
             0,
             "#0d0887"
            ],
            [
             0.1111111111111111,
             "#46039f"
            ],
            [
             0.2222222222222222,
             "#7201a8"
            ],
            [
             0.3333333333333333,
             "#9c179e"
            ],
            [
             0.4444444444444444,
             "#bd3786"
            ],
            [
             0.5555555555555556,
             "#d8576b"
            ],
            [
             0.6666666666666666,
             "#ed7953"
            ],
            [
             0.7777777777777778,
             "#fb9f3a"
            ],
            [
             0.8888888888888888,
             "#fdca26"
            ],
            [
             1,
             "#f0f921"
            ]
           ]
          },
          "colorway": [
           "#636efa",
           "#EF553B",
           "#00cc96",
           "#ab63fa",
           "#FFA15A",
           "#19d3f3",
           "#FF6692",
           "#B6E880",
           "#FF97FF",
           "#FECB52"
          ],
          "font": {
           "color": "#2a3f5f"
          },
          "geo": {
           "bgcolor": "white",
           "lakecolor": "white",
           "landcolor": "#E5ECF6",
           "showlakes": true,
           "showland": true,
           "subunitcolor": "white"
          },
          "hoverlabel": {
           "align": "left"
          },
          "hovermode": "closest",
          "mapbox": {
           "style": "light"
          },
          "paper_bgcolor": "white",
          "plot_bgcolor": "#E5ECF6",
          "polar": {
           "angularaxis": {
            "gridcolor": "white",
            "linecolor": "white",
            "ticks": ""
           },
           "bgcolor": "#E5ECF6",
           "radialaxis": {
            "gridcolor": "white",
            "linecolor": "white",
            "ticks": ""
           }
          },
          "scene": {
           "xaxis": {
            "backgroundcolor": "#E5ECF6",
            "gridcolor": "white",
            "gridwidth": 2,
            "linecolor": "white",
            "showbackground": true,
            "ticks": "",
            "zerolinecolor": "white"
           },
           "yaxis": {
            "backgroundcolor": "#E5ECF6",
            "gridcolor": "white",
            "gridwidth": 2,
            "linecolor": "white",
            "showbackground": true,
            "ticks": "",
            "zerolinecolor": "white"
           },
           "zaxis": {
            "backgroundcolor": "#E5ECF6",
            "gridcolor": "white",
            "gridwidth": 2,
            "linecolor": "white",
            "showbackground": true,
            "ticks": "",
            "zerolinecolor": "white"
           }
          },
          "shapedefaults": {
           "line": {
            "color": "#2a3f5f"
           }
          },
          "ternary": {
           "aaxis": {
            "gridcolor": "white",
            "linecolor": "white",
            "ticks": ""
           },
           "baxis": {
            "gridcolor": "white",
            "linecolor": "white",
            "ticks": ""
           },
           "bgcolor": "#E5ECF6",
           "caxis": {
            "gridcolor": "white",
            "linecolor": "white",
            "ticks": ""
           }
          },
          "title": {
           "x": 0.05
          },
          "xaxis": {
           "automargin": true,
           "gridcolor": "white",
           "linecolor": "white",
           "ticks": "",
           "title": {
            "standoff": 15
           },
           "zerolinecolor": "white",
           "zerolinewidth": 2
          },
          "yaxis": {
           "automargin": true,
           "gridcolor": "white",
           "linecolor": "white",
           "ticks": "",
           "title": {
            "standoff": 15
           },
           "zerolinecolor": "white",
           "zerolinewidth": 2
          }
         }
        },
        "width": 500,
        "xaxis": {
         "anchor": "y",
         "constrain": "domain",
         "domain": [
          0,
          1
         ],
         "scaleanchor": "y",
         "showticklabels": false
        },
        "yaxis": {
         "anchor": "x",
         "autorange": "reversed",
         "constrain": "domain",
         "domain": [
          0,
          1
         ],
         "showticklabels": false
        }
       }
      }
     },
     "metadata": {},
     "output_type": "display_data"
    },
    {
     "data": {
      "image/png": "[encoded data removed]",
      "text/plain": [
       "<Figure size 640x480 with 1 Axes>"
      ]
     },
     "metadata": {},
     "output_type": "display_data"
    }
   ],
   "source": [
    "evaluate_data('./test_data/sushi_description', './test_data/random_label', '040', '001', '020', '001', normalized=True)"
   ]
  },
  {
   "cell_type": "markdown",
   "metadata": {},
   "source": [
    "Try with greater context length:"
   ]
  },
  {
   "cell_type": "code",
   "execution_count": null,
   "metadata": {},
   "outputs": [],
   "source": []
  }
 ],
 "metadata": {
  "kernelspec": {
   "display_name": ".venv",
   "language": "python",
   "name": "python3"
  },
  "language_info": {
   "codemirror_mode": {
    "name": "ipython",
    "version": 3
   },
   "file_extension": ".py",
   "mimetype": "text/x-python",
   "name": "python",
   "nbconvert_exporter": "python",
   "pygments_lexer": "ipython3",
   "version": "3.11.3"
  },
  "orig_nbformat": 4
 },
 "nbformat": 4,
 "nbformat_minor": 2
}
