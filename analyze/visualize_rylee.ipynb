{
 "cells": [
  {
   "cell_type": "code",
   "execution_count": 1,
   "metadata": {},
   "outputs": [],
   "source": [
    "import pandas as pd\n",
    "import sys\n",
    "\n",
    "sys.path.append(\"..\")\n",
    "from structure import scriptures_structure\n",
    "\n",
    "alma_32_files = scriptures_structure.get_embedding_file_path('alma/32/40/20') \n",
    "alma_32_embedds = pd.read_csv(\"../\" + alma_32_files[0], header=None).to_numpy()\n",
    "alma_32_offsets = pd.read_csv(\"../\" + alma_32_files[1], header=None).to_numpy()\n",
    "\n",
    "# isa_11_files = scriptures_structure.get_embedding_file_path('isa/11/100') \n",
    "# isa_11_100_embedds = pd.read_csv(\".\" + isa_11_files[0], header=None).to_numpy()\n",
    "# isa_11_100_offsets = pd.read_csv(\".\" + isa_11_files[1], header=None).to_numpy()\n",
    "\n",
    "# ne_30_files = scriptures_structure.get_embedding_file_path('2-ne/30/50')\n",
    "# print(ne_30_files)\n",
    "# ne_30_50_embedds = pd.read_csv(\".\" + ne_30_files[0], header=None).to_numpy()\n",
    "# ne_30_50_offsets = pd.read_csv(\".\" + ne_30_files[1], header=None).to_numpy()\n",
    "\n",
    "# isa_11_files = scriptures_structure.get_embedding_file_path('isa/11/50') \n",
    "# isa_11_50_embedds = pd.read_csv(\".\" + isa_11_files[0], header=None).to_numpy()\n",
    "# isa_11_50_offsets = pd.read_csv(\".\" + isa_11_files[1], header=None).to_numpy()\n",
    "\n",
    "    "
   ]
  },
  {
   "cell_type": "code",
   "execution_count": 2,
   "metadata": {},
   "outputs": [],
   "source": [
    "def get_texts_from_offset(offsets, book_chapter):\n",
    "    text_array = []\n",
    "    text_file = \"../\" + scriptures_structure.get_text_file_path(book_chapter)\n",
    "    with open(text_file, 'r', encoding='utf-8') as file:\n",
    "        contents = file.read()\n",
    "        for offset in offsets:\n",
    "            # print(contents[offset[0]:offset[1]])\n",
    "            # print(\"-----------------------------------\")\n",
    "            text_array.append(contents[offset[0]:offset[1]])\n",
    "    return text_array"
   ]
  },
  {
   "cell_type": "code",
   "execution_count": 3,
   "metadata": {},
   "outputs": [
    {
     "name": "stdout",
     "output_type": "stream",
     "text": [
      "were not permitted to enter into their synagogues to worship God, being esteemed as filthiness; therefore they were poor; yea, they were esteemed by their brethren as dross; therefore they were poor as to things of the world; and also\n"
     ]
    }
   ],
   "source": [
    "file = \"../\" + scriptures_structure.get_text_file_path(\"alma/32\")\n",
    "with open(file, 'r', encoding='utf-8') as f:\n",
    "    f.seek(434)\n",
    "    print(f.read(668-434))\n",
    "    \n",
    "    "
   ]
  },
  {
   "cell_type": "code",
   "execution_count": 4,
   "metadata": {},
   "outputs": [],
   "source": [
    "def convert_text(text):\n",
    "    lines = []\n",
    "    text = text.split()\n",
    "    for i in range(0, len(text), 10):\n",
    "        line = ' '.join(text[i:i + 10])\n",
    "        lines.append(line)\n",
    "\n",
    "    result = '<br>'.join(lines)\n",
    "    # print(result)\n",
    "    return result\n",
    "\n",
    "text = get_texts_from_offset(alma_32_offsets, 'alma/32')\n",
    "for i in range(len(text)):\n",
    "    # print(\"----------------------------------------------------------------------\")\n",
    "    # print(text[i])\n",
    "    text[i] = convert_text(text[i])"
   ]
  },
  {
   "cell_type": "code",
   "execution_count": 5,
   "metadata": {},
   "outputs": [
    {
     "name": "stdout",
     "output_type": "stream",
     "text": [
      "['And it came to pass that they did go forth, and began to preach the word of God unto the people, entering into their synagogues, and into their houses; yea, and even they did preach the word in their streets.', 'people, entering into their synagogues, and into their houses; yea, and even they did preach the word in their streets.\\nAnd it came to pass that after much labor among them, they began to have success among the poor class', 'And it came to pass that after much labor among them, they began to have success among the poor class of people; for behold, they were cast out of the synagogues because of the coarseness of their apparel—\\nTherefore they w', 'of people; for behold, they were cast out of the synagogues because of the coarseness of their apparel—\\nTherefore they were not permitted to enter into their synagogues to worship God, being esteemed as filthiness; therefore they were poor; yea, t', 're not permitted to enter into their synagogues to worship God, being esteemed as filthiness; therefore they were poor; yea, they were esteemed by their brethren as dross; therefore they were poor as to things of the world; and also t', 'ey were esteemed by their brethren as dross; therefore they were poor as to things of the world; and also they were poor in heart.\\nNow, as Alma was teaching and speaking unto the people upon the hill Onidah, there c', 'ey were poor in heart.\\nNow, as Alma was teaching and speaking unto the people upon the hill Onidah, there came a great multitude unto him, who were those of whom we have been speaking, of whom were poor in h', 'me a great multitude unto him, who were those of whom we have been speaking, of whom were poor in heart, because of their poverty as to the things of the world.\\nAnd they came unto Alma; and the one w', 'art, because of their poverty as to the things of the world.\\nAnd they came unto Alma; and the one who was the foremost among them said unto him: Behold, what shall these my brethren do, for they are despised o', 'o was the foremost among them said unto him: Behold, what shall these my brethren do, for they are despised of all men because of their poverty, yea, and more especially by our priests; for they have cast us out o', ' all men because of their poverty, yea, and more especially by our priests; for they have cast us out of our synagogues which we have labored abundantly to build with our own hands; and they have cast us out b', ' our synagogues which we have labored abundantly to build with our own hands; and they have cast us out because of our exceeding poverty; and we have no place to worship our God; and behold, what shall we do?\\nA', 'cause of our exceeding poverty; and we have no place to worship our God; and behold, what shall we do?\\nAnd now when Alma heard this, he turned him about, his face immediately towards him, and he beheld with great j', 'd now when Alma heard this, he turned him about, his face immediately towards him, and he beheld with great joy; for he beheld that their afflictions had truly humbled them, and that they were in a preparation to hear t', 'y; for he beheld that their afflictions had truly humbled them, and that they were in a preparation to hear the word.\\nTherefore he did say no more to the other multitude; but he stretched forth his hand, and cried u', 'e word.\\nTherefore he did say no more to the other multitude; but he stretched forth his hand, and cried unto those whom he beheld, who were truly penitent, and said unto them:\\nI behold that ye are lowly in h', 'to those whom he beheld, who were truly penitent, and said unto them:\\nI behold that ye are lowly in heart; and if so, blessed are ye.\\nBehold thy brother hath said, What shall we do?—for we are cast out of ', 'art; and if so, blessed are ye.\\nBehold thy brother hath said, What shall we do?—for we are cast out of our synagogues, that we cannot worship our God.\\nBehold I say unto you, do ye suppose that ye cannot wor', 'ur synagogues, that we cannot worship our God.\\nBehold I say unto you, do ye suppose that ye cannot worship God save it be in your synagogues only?\\nAnd moreover, I would ask, do ye suppose that ye must not', 'hip God save it be in your synagogues only?\\nAnd moreover, I would ask, do ye suppose that ye must not worship God only once in a week?\\nI say unto you, it is well that ye are cast out of ', 'worship God only once in a week?\\nI say unto you, it is well that ye are cast out of your synagogues, that ye may be humble, and that ye may learn wisdom; for it is necessary that ye sho', 'our synagogues, that ye may be humble, and that ye may learn wisdom; for it is necessary that ye should learn wisdom; for it is because that ye are cast out, that ye are despised of your brethren because of ', 'ld learn wisdom; for it is because that ye are cast out, that ye are despised of your brethren because of your exceeding poverty, that ye are brought to a lowliness of heart; for ye are necessarily brought to be hum', 'our exceeding poverty, that ye are brought to a lowliness of heart; for ye are necessarily brought to be humble.\\nAnd now, because ye are compelled to be humble blessed are ye; for a man sometimes, if he is com', 'le.\\nAnd now, because ye are compelled to be humble blessed are ye; for a man sometimes, if he is compelled to be humble, seeketh repentance; and now surely, whosoever repenteth shall find mercy; and he that findeth mercy and end', 'elled to be humble, seeketh repentance; and now surely, whosoever repenteth shall find mercy; and he that findeth mercy and endureth to the end the same shall be saved.\\nAnd now, as I said unto you, that because ye were com', 'reth to the end the same shall be saved.\\nAnd now, as I said unto you, that because ye were compelled to be humble ye were blessed, do ye not suppose that they are more blessed who truly humble themselves bec', 'elled to be humble ye were blessed, do ye not suppose that they are more blessed who truly humble themselves because of the word?\\nYea, he that truly humbleth himself, and repenteth of his sins, and endureth to the end, the', 'use of the word?\\nYea, he that truly humbleth himself, and repenteth of his sins, and endureth to the end, the same shall be blessed—yea, much more blessed than they who are compelled to be humble because of their exceeding pover', 'same shall be blessed—yea, much more blessed than they who are compelled to be humble because of their exceeding poverty.\\nTherefore, blessed are they who humble themselves without being compelled to be humble; or rather, in other words, blessed is he', 'y.\\nTherefore, blessed are they who humble themselves without being compelled to be humble; or rather, in other words, blessed is he that believeth in the word of God, and is baptized without stubbornness of heart, yea, without being brought to kn', 'that believeth in the word of God, and is baptized without stubbornness of heart, yea, without being brought to know the word, or even compelled to know, before they will believe.\\nYea, there are many who do say: If th', 'w the word, or even compelled to know, before they will believe.\\nYea, there are many who do say: If thou wilt show unto us a sign from heaven, then we shall know of a surety; then we shall belie', 'u wilt show unto us a sign from heaven, then we shall know of a surety; then we shall believe.\\nNow I ask, is this faith? Behold, I say unto you, Nay; for if a man knoweth a thing he ha', 'e.\\nNow I ask, is this faith? Behold, I say unto you, Nay; for if a man knoweth a thing he hath no cause to believe, for he knoweth it.\\nAnd now, how much more cursed is he that knoweth the w', 'h no cause to believe, for he knoweth it.\\nAnd now, how much more cursed is he that knoweth the will of God and doeth it not, than he that only believeth, or only hath cause to believe, and falle', 'll of God and doeth it not, than he that only believeth, or only hath cause to believe, and falleth into transgression?\\nNow of this thing ye must judge. Behold, I say unto you, that it is on the one h', 'h into transgression?\\nNow of this thing ye must judge. Behold, I say unto you, that it is on the one hand even as it is on the other; and it shall be unto every man according to his work.\\nAnd n', 'nd even as it is on the other; and it shall be unto every man according to his work.\\nAnd now as I said concerning faith—faith is not to have a perfect knowledge of things; therefore if ye have faith y', 'w as I said concerning faith—faith is not to have a perfect knowledge of things; therefore if ye have faith ye hope for things which are not seen, which are true.\\nAnd now, behold, I say unto you, and I would', ' hope for things which are not seen, which are true.\\nAnd now, behold, I say unto you, and I would that ye should remember, that God is merciful unto all who believe on his name; therefore he desireth, in the ', 'that ye should remember, that God is merciful unto all who believe on his name; therefore he desireth, in the first place, that ye should believe, yea, even on his word.\\nAnd now, he imparteth his word by angels ', 'irst place, that ye should believe, yea, even on his word.\\nAnd now, he imparteth his word by angels unto men, yea, not only men but women also. Now this is not all; little children do have words given u', 'nto men, yea, not only men but women also. Now this is not all; little children do have words given unto them many times, which confound the wise and the learned.\\nAnd now, my beloved brethren, as ye have desired', 'to them many times, which confound the wise and the learned.\\nAnd now, my beloved brethren, as ye have desired to know of me what ye shall do because ye are afflicted and cast out—now I do not desire that ye s', 'to know of me what ye shall do because ye are afflicted and cast out—now I do not desire that ye should suppose that I mean to judge you only according to that which is true—\\nFor I do not mean th', 'ould suppose that I mean to judge you only according to that which is true—\\nFor I do not mean that ye all of you have been compelled to humble yourselves; for I verily believe that there are some among ', 't ye all of you have been compelled to humble yourselves; for I verily believe that there are some among you who would humble themselves, let them be in whatsoever circumstances they might.\\nNow, as I said concerning faith—that ', 'ou who would humble themselves, let them be in whatsoever circumstances they might.\\nNow, as I said concerning faith—that it was not a perfect knowledge—even so it is with my words. Ye cannot know of their surety at first, unto per', 't was not a perfect knowledge—even so it is with my words. Ye cannot know of their surety at first, unto perfection, any more than faith is a perfect knowledge.\\nBut behold, if ye will awake and arouse your faculties, even', 'ection, any more than faith is a perfect knowledge.\\nBut behold, if ye will awake and arouse your faculties, even to an experiment upon my words, and exercise a particle of faith, yea, even if ye can no more than desir', 'to an experiment upon my words, and exercise a particle of faith, yea, even if ye can no more than desire to believe, let this desire work in you, even until ye believe in a manner that ye can give place ', ' to believe, let this desire work in you, even until ye believe in a manner that ye can give place for a portion of my words.\\nNow, we will compare the word unto a seed. Now, if ye give place, ', 'or a portion of my words.\\nNow, we will compare the word unto a seed. Now, if ye give place, that a seed may be planted in your heart, behold, if it be a true seed, or a good seed, if', 'hat a seed may be planted in your heart, behold, if it be a true seed, or a good seed, if ye do not cast it out by your unbelief, that ye will resist the Spirit of the Lord, behol', 'ye do not cast it out by your unbelief, that ye will resist the Spirit of the Lord, behold, it will begin to swell within your breasts; and when you feel these swelling motions, ye will begin to say wi', ', it will begin to swell within your breasts; and when you feel these swelling motions, ye will begin to say within yourselves—It must needs be that this is a good seed, or that the word is good, for it beginneth ', 'hin yourselves—It must needs be that this is a good seed, or that the word is good, for it beginneth to enlarge my soul; yea, it beginneth to enlighten my understanding, yea, it beginneth to be delicious to me.\\nNow behold', 'o enlarge my soul; yea, it beginneth to enlighten my understanding, yea, it beginneth to be delicious to me.\\nNow behold, would not this increase your faith? I say unto you, Yea; nevertheless it hath not grown up to a perfect k', ' would not this increase your faith? I say unto you, Yea; nevertheless it hath not grown up to a perfect knowledge.\\nBut behold, as the seed swelleth, and sprouteth, and beginneth to grow, then you must needs say that th', 'owledge.\\nBut behold, as the seed swelleth, and sprouteth, and beginneth to grow, then you must needs say that the seed is good; for behold it swelleth, and sprouteth, and beginneth to grow. And now, behold, will not this str', ' seed is good; for behold it swelleth, and sprouteth, and beginneth to grow. And now, behold, will not this strengthen your faith? Yea, it will strengthen your faith: for ye will say I know that this is a good seed; f', 'ngthen your faith? Yea, it will strengthen your faith: for ye will say I know that this is a good seed; for behold it sprouteth and beginneth to grow.\\nAnd now, behold, are ye sure that this is a good seed? I', 'r behold it sprouteth and beginneth to grow.\\nAnd now, behold, are ye sure that this is a good seed? I say unto you, Yea; for every seed bringeth forth unto its own likeness.\\nTherefore, if a seed groweth it', 'say unto you, Yea; for every seed bringeth forth unto its own likeness.\\nTherefore, if a seed groweth it is good, but if it groweth not, behold it is not good, therefore it is cast away.\\nAnd now, be', 'is good, but if it groweth not, behold it is not good, therefore it is cast away.\\nAnd now, behold, because ye have tried the experiment, and planted the seed, and it swelleth and sprouteth, and beginneth to grow', 'old, because ye have tried the experiment, and planted the seed, and it swelleth and sprouteth, and beginneth to grow, ye must needs know that the seed is good.\\nAnd now, behold, is your knowledge perfect? Yea, your knowledge is', ' ye must needs know that the seed is good.\\nAnd now, behold, is your knowledge perfect? Yea, your knowledge is perfect in that thing, and your faith is dormant; and this because you know, for ye know that the word hat', 'perfect in that thing, and your faith is dormant; and this because you know, for ye know that the word hath swelled your souls, and ye also know that it hath sprouted up, that your understanding doth begin to be enlig', ' swelled your souls, and ye also know that it hath sprouted up, that your understanding doth begin to be enlightened, and your mind doth begin to expand.\\nO then, is not this real? I say unto you, Yea, because', 'tened, and your mind doth begin to expand.\\nO then, is not this real? I say unto you, Yea, because it is light; and whatsoever is light, is good, because it is discernible, therefore ye must know that it is good; ', 'it is light; and whatsoever is light, is good, because it is discernible, therefore ye must know that it is good; and now behold, after ye have tasted this light is your knowledge perfect?\\nBehold I say unto you, Nay; ne', 'nd now behold, after ye have tasted this light is your knowledge perfect?\\nBehold I say unto you, Nay; neither must ye lay aside your faith, for ye have only exercised your faith to plant the seed that ye migh', 'ther must ye lay aside your faith, for ye have only exercised your faith to plant the seed that ye might try the experiment to know if the seed was good.\\nAnd behold, as the tree beginneth to grow, ye will ', ' try the experiment to know if the seed was good.\\nAnd behold, as the tree beginneth to grow, ye will say: Let us nourish it with great care, that it may get root, that it may grow up, and brin', 'ay: Let us nourish it with great care, that it may get root, that it may grow up, and bring forth fruit unto us. And now behold, if ye nourish it with much care it will get root, and gro', ' forth fruit unto us. And now behold, if ye nourish it with much care it will get root, and grow up, and bring forth fruit.\\nBut if ye neglect the tree, and take no thought for its nourishment, ', ' up, and bring forth fruit.\\nBut if ye neglect the tree, and take no thought for its nourishment, behold it will not get any root; and when the heat of the sun cometh and scorcheth it, because it hath n', 'ehold it will not get any root; and when the heat of the sun cometh and scorcheth it, because it hath no root it withers away, and ye pluck it up and cast it out.\\nNow, this is not because the s', ' root it withers away, and ye pluck it up and cast it out.\\nNow, this is not because the seed was not good, neither is it because the fruit thereof would not be desirable; but it is because your g', 'ed was not good, neither is it because the fruit thereof would not be desirable; but it is because your ground is barren, and ye will not nourish the tree, therefore ye cannot have the fruit thereof.\\nAnd thus, if ye w', 'ound is barren, and ye will not nourish the tree, therefore ye cannot have the fruit thereof.\\nAnd thus, if ye will not nourish the word, looking forward with an eye of faith to the fruit thereof, ye can never pluc', 'll not nourish the word, looking forward with an eye of faith to the fruit thereof, ye can never pluck of the fruit of the tree of life.\\nBut if ye will nourish the word, yea, nourish the tree ', ' of the fruit of the tree of life.\\nBut if ye will nourish the word, yea, nourish the tree as it beginneth to grow, by your faith with great diligence, and with patience, looking forward to the fruit thereof', 's it beginneth to grow, by your faith with great diligence, and with patience, looking forward to the fruit thereof, it shall take root; and behold it shall be a tree springing up unto everlasting life.\\nAnd because of your d', ' it shall take root; and behold it shall be a tree springing up unto everlasting life.\\nAnd because of your diligence and your faith and your patience with the word in nourishing it, that it may take root in you, beho', 'ligence and your faith and your patience with the word in nourishing it, that it may take root in you, behold, by and by ye shall pluck the fruit thereof, which is most precious, which is sweet above all that is', 'd, by and by ye shall pluck the fruit thereof, which is most precious, which is sweet above all that is sweet, and which is white above all that is white, yea, and pure above all that is pure; and ye s', 'sweet, and which is white above all that is white, yea, and pure above all that is pure; and ye shall feast upon this fruit even until ye are filled, that ye hunger not, neither shall ye thirst.\\nThen, ', 'all feast upon this fruit even until ye are filled, that ye hunger not, neither shall ye thirst.\\nThen, my brethren, ye shall reap the rewards of your faith, and your diligence, and patience, and long-suffering, waiting for the t', 'y brethren, ye shall reap the rewards of your faith, and your diligence, and patience, and long-suffering, waiting for the tree to bring forth fruit unto you.']\n"
     ]
    },
    {
     "name": "stderr",
     "output_type": "stream",
     "text": [
      "C:\\Users\\rylee\\AppData\\Local\\Packages\\PythonSoftwareFoundation.Python.3.10_qbz5n2kfra8p0\\LocalCache\\local-packages\\Python310\\site-packages\\sklearn\\cluster\\_kmeans.py:870: FutureWarning: The default value of `n_init` will change from 10 to 'auto' in 1.4. Set the value of `n_init` explicitly to suppress the warning\n",
      "  warnings.warn(\n"
     ]
    },
    {
     "data": {
      "application/vnd.plotly.v1+json": {
       "config": {
        "plotlyServerURL": "https://plot.ly"
       },
       "data": [
        {
         "hovertemplate": "%{hovertext}",
         "hovertext": [
          "And it came to pass that they did go forth,<br>and began to preach the word of God unto the<br>people, entering into their synagogues, and into their houses; yea,<br>and even they did preach the word in their streets.",
          "people, entering into their synagogues, and into their houses; yea,<br>and even they did preach the word in their streets.<br>And it came to pass that after much labor among<br>them, they began to have success among the poor class",
          "And it came to pass that after much labor among<br>them, they began to have success among the poor class<br>of people; for behold, they were cast out of the<br>synagogues because of the coarseness of their apparel— Therefore they<br>w",
          "of people; for behold, they were cast out of the<br>synagogues because of the coarseness of their apparel— Therefore they<br>were not permitted to enter into their synagogues to worship<br>God, being esteemed as filthiness; therefore they were poor; yea,<br>t",
          "re not permitted to enter into their synagogues to worship<br>God, being esteemed as filthiness; therefore they were poor; yea,<br>they were esteemed by their brethren as dross; therefore they<br>were poor as to things of the world; and also<br>t",
          "ey were esteemed by their brethren as dross; therefore they<br>were poor as to things of the world; and also<br>they were poor in heart. Now, as Alma was teaching<br>and speaking unto the people upon the hill Onidah, there<br>c",
          "ey were poor in heart. Now, as Alma was teaching<br>and speaking unto the people upon the hill Onidah, there<br>came a great multitude unto him, who were those of<br>whom we have been speaking, of whom were poor in<br>h",
          "me a great multitude unto him, who were those of<br>whom we have been speaking, of whom were poor in<br>heart, because of their poverty as to the things of<br>the world. And they came unto Alma; and the one<br>w",
          "art, because of their poverty as to the things of<br>the world. And they came unto Alma; and the one<br>who was the foremost among them said unto him: Behold,<br>what shall these my brethren do, for they are despised<br>o",
          "o was the foremost among them said unto him: Behold,<br>what shall these my brethren do, for they are despised<br>of all men because of their poverty, yea, and more<br>especially by our priests; for they have cast us out<br>o",
          "all men because of their poverty, yea, and more especially<br>by our priests; for they have cast us out of<br>our synagogues which we have labored abundantly to build with<br>our own hands; and they have cast us out b",
          "our synagogues which we have labored abundantly to build with<br>our own hands; and they have cast us out because<br>of our exceeding poverty; and we have no place to<br>worship our God; and behold, what shall we do? A",
          "cause of our exceeding poverty; and we have no place<br>to worship our God; and behold, what shall we do?<br>And now when Alma heard this, he turned him about,<br>his face immediately towards him, and he beheld with great<br>j",
          "d now when Alma heard this, he turned him about,<br>his face immediately towards him, and he beheld with great<br>joy; for he beheld that their afflictions had truly humbled<br>them, and that they were in a preparation to hear<br>t",
          "y; for he beheld that their afflictions had truly humbled<br>them, and that they were in a preparation to hear<br>the word. Therefore he did say no more to the<br>other multitude; but he stretched forth his hand, and cried<br>u",
          "e word. Therefore he did say no more to the<br>other multitude; but he stretched forth his hand, and cried<br>unto those whom he beheld, who were truly penitent, and<br>said unto them: I behold that ye are lowly in<br>h",
          "to those whom he beheld, who were truly penitent, and<br>said unto them: I behold that ye are lowly in<br>heart; and if so, blessed are ye. Behold thy brother<br>hath said, What shall we do?—for we are cast out<br>of",
          "art; and if so, blessed are ye. Behold thy brother<br>hath said, What shall we do?—for we are cast out<br>of our synagogues, that we cannot worship our God. Behold<br>I say unto you, do ye suppose that ye cannot<br>wor",
          "ur synagogues, that we cannot worship our God. Behold I<br>say unto you, do ye suppose that ye cannot worship<br>God save it be in your synagogues only? And moreover,<br>I would ask, do ye suppose that ye must not",
          "hip God save it be in your synagogues only? And<br>moreover, I would ask, do ye suppose that ye must<br>not worship God only once in a week? I say<br>unto you, it is well that ye are cast out<br>of",
          "worship God only once in a week? I say unto<br>you, it is well that ye are cast out of<br>your synagogues, that ye may be humble, and that ye<br>may learn wisdom; for it is necessary that ye sho",
          "our synagogues, that ye may be humble, and that ye<br>may learn wisdom; for it is necessary that ye should<br>learn wisdom; for it is because that ye are cast<br>out, that ye are despised of your brethren because of",
          "ld learn wisdom; for it is because that ye are<br>cast out, that ye are despised of your brethren because<br>of your exceeding poverty, that ye are brought to a<br>lowliness of heart; for ye are necessarily brought to be<br>hum",
          "our exceeding poverty, that ye are brought to a lowliness<br>of heart; for ye are necessarily brought to be humble.<br>And now, because ye are compelled to be humble blessed<br>are ye; for a man sometimes, if he is com",
          "le. And now, because ye are compelled to be humble<br>blessed are ye; for a man sometimes, if he is<br>compelled to be humble, seeketh repentance; and now surely, whosoever<br>repenteth shall find mercy; and he that findeth mercy and<br>end",
          "elled to be humble, seeketh repentance; and now surely, whosoever<br>repenteth shall find mercy; and he that findeth mercy and<br>endureth to the end the same shall be saved. And<br>now, as I said unto you, that because ye were<br>com",
          "reth to the end the same shall be saved. And<br>now, as I said unto you, that because ye were<br>compelled to be humble ye were blessed, do ye not<br>suppose that they are more blessed who truly humble themselves<br>bec",
          "elled to be humble ye were blessed, do ye not<br>suppose that they are more blessed who truly humble themselves<br>because of the word? Yea, he that truly humbleth himself,<br>and repenteth of his sins, and endureth to the end,<br>the",
          "use of the word? Yea, he that truly humbleth himself,<br>and repenteth of his sins, and endureth to the end,<br>the same shall be blessed—yea, much more blessed than they<br>who are compelled to be humble because of their exceeding<br>pover",
          "same shall be blessed—yea, much more blessed than they who<br>are compelled to be humble because of their exceeding poverty.<br>Therefore, blessed are they who humble themselves without being compelled<br>to be humble; or rather, in other words, blessed is<br>he",
          "y. Therefore, blessed are they who humble themselves without being<br>compelled to be humble; or rather, in other words, blessed<br>is he that believeth in the word of God, and<br>is baptized without stubbornness of heart, yea, without being brought<br>to kn",
          "that believeth in the word of God, and is baptized<br>without stubbornness of heart, yea, without being brought to know<br>the word, or even compelled to know, before they will<br>believe. Yea, there are many who do say: If th",
          "w the word, or even compelled to know, before they<br>will believe. Yea, there are many who do say: If<br>thou wilt show unto us a sign from heaven, then<br>we shall know of a surety; then we shall belie",
          "u wilt show unto us a sign from heaven, then<br>we shall know of a surety; then we shall believe.<br>Now I ask, is this faith? Behold, I say unto<br>you, Nay; for if a man knoweth a thing he<br>ha",
          "e. Now I ask, is this faith? Behold, I say<br>unto you, Nay; for if a man knoweth a thing<br>he hath no cause to believe, for he knoweth it.<br>And now, how much more cursed is he that knoweth<br>the w",
          "h no cause to believe, for he knoweth it. And<br>now, how much more cursed is he that knoweth the<br>will of God and doeth it not, than he that<br>only believeth, or only hath cause to believe, and falle",
          "ll of God and doeth it not, than he that<br>only believeth, or only hath cause to believe, and falleth<br>into transgression? Now of this thing ye must judge. Behold,<br>I say unto you, that it is on the one<br>h",
          "h into transgression? Now of this thing ye must judge.<br>Behold, I say unto you, that it is on the<br>one hand even as it is on the other; and<br>it shall be unto every man according to his work.<br>And n",
          "nd even as it is on the other; and it<br>shall be unto every man according to his work. And<br>now as I said concerning faith—faith is not to have<br>a perfect knowledge of things; therefore if ye have faith<br>y",
          "w as I said concerning faith—faith is not to have<br>a perfect knowledge of things; therefore if ye have faith<br>ye hope for things which are not seen, which are<br>true. And now, behold, I say unto you, and I<br>would",
          "hope for things which are not seen, which are true.<br>And now, behold, I say unto you, and I would<br>that ye should remember, that God is merciful unto all<br>who believe on his name; therefore he desireth, in the",
          "that ye should remember, that God is merciful unto all<br>who believe on his name; therefore he desireth, in the<br>first place, that ye should believe, yea, even on his<br>word. And now, he imparteth his word by angels",
          "irst place, that ye should believe, yea, even on his<br>word. And now, he imparteth his word by angels unto<br>men, yea, not only men but women also. Now this<br>is not all; little children do have words given u",
          "nto men, yea, not only men but women also. Now<br>this is not all; little children do have words given<br>unto them many times, which confound the wise and the<br>learned. And now, my beloved brethren, as ye have desired",
          "to them many times, which confound the wise and the<br>learned. And now, my beloved brethren, as ye have desired<br>to know of me what ye shall do because ye<br>are afflicted and cast out—now I do not desire that<br>ye s",
          "to know of me what ye shall do because ye<br>are afflicted and cast out—now I do not desire that<br>ye should suppose that I mean to judge you only<br>according to that which is true— For I do not<br>mean th",
          "ould suppose that I mean to judge you only according<br>to that which is true— For I do not mean<br>that ye all of you have been compelled to humble<br>yourselves; for I verily believe that there are some among",
          "t ye all of you have been compelled to humble<br>yourselves; for I verily believe that there are some among<br>you who would humble themselves, let them be in whatsoever<br>circumstances they might. Now, as I said concerning faith—that",
          "ou who would humble themselves, let them be in whatsoever<br>circumstances they might. Now, as I said concerning faith—that it<br>was not a perfect knowledge—even so it is with my<br>words. Ye cannot know of their surety at first, unto<br>per",
          "t was not a perfect knowledge—even so it is with<br>my words. Ye cannot know of their surety at first,<br>unto perfection, any more than faith is a perfect knowledge.<br>But behold, if ye will awake and arouse your faculties,<br>even",
          "ection, any more than faith is a perfect knowledge. But<br>behold, if ye will awake and arouse your faculties, even<br>to an experiment upon my words, and exercise a particle<br>of faith, yea, even if ye can no more than<br>desir",
          "to an experiment upon my words, and exercise a particle<br>of faith, yea, even if ye can no more than<br>desire to believe, let this desire work in you, even<br>until ye believe in a manner that ye can give<br>place",
          "to believe, let this desire work in you, even until<br>ye believe in a manner that ye can give place<br>for a portion of my words. Now, we will compare<br>the word unto a seed. Now, if ye give place,",
          "or a portion of my words. Now, we will compare<br>the word unto a seed. Now, if ye give place,<br>that a seed may be planted in your heart, behold,<br>if it be a true seed, or a good seed,<br>if",
          "hat a seed may be planted in your heart, behold,<br>if it be a true seed, or a good seed,<br>if ye do not cast it out by your unbelief,<br>that ye will resist the Spirit of the Lord, behol",
          "ye do not cast it out by your unbelief, that<br>ye will resist the Spirit of the Lord, behold, it<br>will begin to swell within your breasts; and when you<br>feel these swelling motions, ye will begin to say wi",
          ", it will begin to swell within your breasts; and<br>when you feel these swelling motions, ye will begin to<br>say within yourselves—It must needs be that this is a<br>good seed, or that the word is good, for it<br>beginneth",
          "hin yourselves—It must needs be that this is a good<br>seed, or that the word is good, for it beginneth<br>to enlarge my soul; yea, it beginneth to enlighten my<br>understanding, yea, it beginneth to be delicious to me. Now<br>behold",
          "o enlarge my soul; yea, it beginneth to enlighten my<br>understanding, yea, it beginneth to be delicious to me. Now<br>behold, would not this increase your faith? I say unto<br>you, Yea; nevertheless it hath not grown up to a<br>perfect k",
          "would not this increase your faith? I say unto you,<br>Yea; nevertheless it hath not grown up to a perfect<br>knowledge. But behold, as the seed swelleth, and sprouteth, and<br>beginneth to grow, then you must needs say that th",
          "owledge. But behold, as the seed swelleth, and sprouteth, and<br>beginneth to grow, then you must needs say that the<br>seed is good; for behold it swelleth, and sprouteth, and<br>beginneth to grow. And now, behold, will not this str",
          "seed is good; for behold it swelleth, and sprouteth, and<br>beginneth to grow. And now, behold, will not this strengthen<br>your faith? Yea, it will strengthen your faith: for ye<br>will say I know that this is a good seed;<br>f",
          "ngthen your faith? Yea, it will strengthen your faith: for<br>ye will say I know that this is a good<br>seed; for behold it sprouteth and beginneth to grow. And<br>now, behold, are ye sure that this is a good<br>seed? I",
          "r behold it sprouteth and beginneth to grow. And now,<br>behold, are ye sure that this is a good seed?<br>I say unto you, Yea; for every seed bringeth forth<br>unto its own likeness. Therefore, if a seed groweth it",
          "say unto you, Yea; for every seed bringeth forth unto<br>its own likeness. Therefore, if a seed groweth it is<br>good, but if it groweth not, behold it is not<br>good, therefore it is cast away. And now, be",
          "is good, but if it groweth not, behold it is<br>not good, therefore it is cast away. And now, behold,<br>because ye have tried the experiment, and planted the seed,<br>and it swelleth and sprouteth, and beginneth to grow",
          "old, because ye have tried the experiment, and planted the<br>seed, and it swelleth and sprouteth, and beginneth to grow,<br>ye must needs know that the seed is good. And<br>now, behold, is your knowledge perfect? Yea, your knowledge is",
          "ye must needs know that the seed is good. And<br>now, behold, is your knowledge perfect? Yea, your knowledge is<br>perfect in that thing, and your faith is dormant; and<br>this because you know, for ye know that the word<br>hat",
          "perfect in that thing, and your faith is dormant; and<br>this because you know, for ye know that the word<br>hath swelled your souls, and ye also know that it<br>hath sprouted up, that your understanding doth begin to be<br>enlig",
          "swelled your souls, and ye also know that it hath<br>sprouted up, that your understanding doth begin to be enlightened,<br>and your mind doth begin to expand. O then, is<br>not this real? I say unto you, Yea, because",
          "tened, and your mind doth begin to expand. O then,<br>is not this real? I say unto you, Yea, because<br>it is light; and whatsoever is light, is good, because<br>it is discernible, therefore ye must know that it is<br>good;",
          "it is light; and whatsoever is light, is good, because<br>it is discernible, therefore ye must know that it is<br>good; and now behold, after ye have tasted this light<br>is your knowledge perfect? Behold I say unto you, Nay;<br>ne",
          "nd now behold, after ye have tasted this light is<br>your knowledge perfect? Behold I say unto you, Nay; neither<br>must ye lay aside your faith, for ye have only<br>exercised your faith to plant the seed that ye migh",
          "ther must ye lay aside your faith, for ye have<br>only exercised your faith to plant the seed that ye<br>might try the experiment to know if the seed was<br>good. And behold, as the tree beginneth to grow, ye<br>will",
          "try the experiment to know if the seed was good.<br>And behold, as the tree beginneth to grow, ye will<br>say: Let us nourish it with great care, that it<br>may get root, that it may grow up, and brin",
          "ay: Let us nourish it with great care, that it<br>may get root, that it may grow up, and bring<br>forth fruit unto us. And now behold, if ye nourish<br>it with much care it will get root, and gro",
          "forth fruit unto us. And now behold, if ye nourish<br>it with much care it will get root, and grow<br>up, and bring forth fruit. But if ye neglect the<br>tree, and take no thought for its nourishment,",
          "up, and bring forth fruit. But if ye neglect the<br>tree, and take no thought for its nourishment, behold it<br>will not get any root; and when the heat of<br>the sun cometh and scorcheth it, because it hath n",
          "ehold it will not get any root; and when the<br>heat of the sun cometh and scorcheth it, because it<br>hath no root it withers away, and ye pluck it<br>up and cast it out. Now, this is not because<br>the s",
          "root it withers away, and ye pluck it up and<br>cast it out. Now, this is not because the seed<br>was not good, neither is it because the fruit thereof<br>would not be desirable; but it is because your g",
          "ed was not good, neither is it because the fruit<br>thereof would not be desirable; but it is because your<br>ground is barren, and ye will not nourish the tree,<br>therefore ye cannot have the fruit thereof. And thus, if<br>ye w",
          "ound is barren, and ye will not nourish the tree,<br>therefore ye cannot have the fruit thereof. And thus, if<br>ye will not nourish the word, looking forward with an<br>eye of faith to the fruit thereof, ye can never<br>pluc",
          "ll not nourish the word, looking forward with an eye<br>of faith to the fruit thereof, ye can never pluck<br>of the fruit of the tree of life. But if<br>ye will nourish the word, yea, nourish the tree",
          "of the fruit of the tree of life. But if<br>ye will nourish the word, yea, nourish the tree as<br>it beginneth to grow, by your faith with great diligence,<br>and with patience, looking forward to the fruit thereof",
          "s it beginneth to grow, by your faith with great<br>diligence, and with patience, looking forward to the fruit thereof,<br>it shall take root; and behold it shall be a<br>tree springing up unto everlasting life. And because of your<br>d",
          "it shall take root; and behold it shall be a<br>tree springing up unto everlasting life. And because of your<br>diligence and your faith and your patience with the word<br>in nourishing it, that it may take root in you,<br>beho",
          "ligence and your faith and your patience with the word<br>in nourishing it, that it may take root in you,<br>behold, by and by ye shall pluck the fruit thereof,<br>which is most precious, which is sweet above all that<br>is",
          "d, by and by ye shall pluck the fruit thereof,<br>which is most precious, which is sweet above all that<br>is sweet, and which is white above all that is<br>white, yea, and pure above all that is pure; and<br>ye s",
          "sweet, and which is white above all that is white,<br>yea, and pure above all that is pure; and ye<br>shall feast upon this fruit even until ye are filled,<br>that ye hunger not, neither shall ye thirst. Then,",
          "all feast upon this fruit even until ye are filled,<br>that ye hunger not, neither shall ye thirst. Then, my<br>brethren, ye shall reap the rewards of your faith, and<br>your diligence, and patience, and long-suffering, waiting for the t",
          "y brethren, ye shall reap the rewards of your faith,<br>and your diligence, and patience, and long-suffering, waiting for the<br>tree to bring forth fruit unto you."
         ],
         "marker": {
          "color": [
           0,
           0,
           0,
           0,
           0,
           0,
           0,
           0,
           0,
           0,
           0,
           0,
           0,
           0,
           0,
           0,
           0,
           0,
           0,
           0,
           0,
           0,
           0,
           0,
           0,
           0,
           0,
           0,
           0,
           0,
           0,
           2,
           2,
           2,
           2,
           2,
           2,
           2,
           2,
           2,
           2,
           2,
           2,
           2,
           0,
           2,
           2,
           0,
           2,
           2,
           2,
           2,
           2,
           1,
           1,
           1,
           1,
           1,
           1,
           1,
           1,
           1,
           1,
           1,
           1,
           1,
           1,
           1,
           2,
           2,
           2,
           2,
           2,
           1,
           1,
           1,
           1,
           1,
           1,
           1,
           1,
           1,
           1,
           1,
           1,
           1,
           1,
           1,
           1,
           1,
           1
          ],
          "size": 10
         },
         "mode": "markers",
         "type": "scatter",
         "x": [
          0.148461329811599,
          0.19315591264245888,
          0.19071111879894675,
          0.25605866857638965,
          0.2448856765646347,
          0.20725885485335813,
          0.16684598302868545,
          0.18923214798902005,
          0.24008211354807174,
          0.25390532936002286,
          0.26890055071121377,
          0.20891854692585854,
          0.17058296121143413,
          0.14529222374203354,
          0.1973733713439304,
          0.17221801732951367,
          0.21756631238626462,
          0.15641185773496602,
          0.11520635875713126,
          0.13591947934815773,
          0.11269629074727706,
          0.1563947626158792,
          0.18132852699227248,
          0.19727316903161402,
          0.16134784526940388,
          0.16966269811268012,
          0.1535041312780288,
          0.16889862952081539,
          0.16415028159106568,
          0.21491410280850864,
          0.21030540679120066,
          0.043419150252636325,
          -0.023817538274400158,
          -0.055324270640287776,
          -0.013245059292617534,
          0.02671307817737416,
          0.00036487077128719486,
          0.04173808378905358,
          -0.018263770270343063,
          -0.05204210654621426,
          0.051058949781267134,
          0.04853432212208109,
          0.011901567584352336,
          0.061088888836095465,
          0.1247847031409748,
          0.0496966356659951,
          0.07068795753511796,
          0.14886900692955746,
          0.02718661423090806,
          -0.08375974640133685,
          -0.09084509788121323,
          -0.046198429603138545,
          -0.10057338375936403,
          -0.12319822737931388,
          -0.13642250193594024,
          -0.10677538576867372,
          -0.11444001910524669,
          -0.1612360101253425,
          -0.11138011666147377,
          -0.1820939569012195,
          -0.22528792845146334,
          -0.23615957961027456,
          -0.20853391998904577,
          -0.22235174506712152,
          -0.1901404509008535,
          -0.2070636924779644,
          -0.20049026186703153,
          -0.20731140735283846,
          -0.11785515005794624,
          -0.09275710358062449,
          -0.10688361548667222,
          -0.11838736127681604,
          -0.19253270512640294,
          -0.15502459092319792,
          -0.23391489923888092,
          -0.20746402246532158,
          -0.15962872162628602,
          -0.16555865513074416,
          -0.15146042869577014,
          -0.16621615211203422,
          -0.11672144528262197,
          -0.12024080144012389,
          -0.1571036242177056,
          -0.17991311886105893,
          -0.19839356395919552,
          -0.21346140755468565,
          -0.13166068221029167,
          -0.12799028015998504,
          -0.09094674578162705,
          -0.0747466614277041,
          -0.07969014536072123
         ],
         "y": [
          -0.08974713053275944,
          -0.13629839287661183,
          -0.15504610871291924,
          -0.16431804557734891,
          -0.13714013554470417,
          -0.06816348968906685,
          -0.012684594558082915,
          -0.013661161868732993,
          -0.11517815874937752,
          -0.13735017418388584,
          -0.14841307653339825,
          -0.15124495988607248,
          -0.012867026422732412,
          -0.018405196055859642,
          -0.023340255665373726,
          0.05816052880420953,
          -0.03834985131626689,
          -0.03354053906584439,
          0.054164390024325895,
          -0.010522841929878813,
          0.031751836619797684,
          -0.0821874526807093,
          -0.11416658368963888,
          -0.02546075792747324,
          0.034951594164129386,
          0.06793847797735847,
          0.006573558870351384,
          -0.00034396761585635396,
          -0.007274895436589365,
          -0.049861072960169756,
          0.002260767578848881,
          0.12125029865329785,
          0.18831676466684955,
          0.1812807890152982,
          0.2150763367985062,
          0.20076896106668352,
          0.19840437212621465,
          0.029572051106476368,
          0.20654632478501583,
          0.2606493915050286,
          0.11615397891192904,
          0.16936241358703585,
          0.11387563330648325,
          0.11534794177773255,
          0.06230160585993828,
          0.12526695979549288,
          0.17697872266517928,
          0.12229078651448767,
          0.2445457212194328,
          0.23954618775622302,
          0.23015633004191632,
          0.17216454684923363,
          0.1459966778398653,
          0.015572604916517286,
          -0.017285302940426638,
          -0.07648676487505003,
          -0.07468639577985393,
          -0.06675734966194875,
          0.028057864722991877,
          0.07339820602949852,
          -0.0397375424506076,
          0.005836947629810796,
          0.06489905301542462,
          -0.04789549835171634,
          -0.13084664783056343,
          -0.127953561973779,
          -0.055631452270809637,
          0.026095919411497668,
          0.07755600003847012,
          0.11067150093735106,
          0.07573391394243661,
          0.06545188226642154,
          0.11674521034208193,
          0.0017951362289711482,
          -0.09881760041640608,
          -0.14555766128076222,
          -0.14842067230422232,
          -0.2275108774066252,
          -0.11036249038087799,
          -0.13480914741652494,
          -0.21051213552084788,
          -0.1551018075151817,
          -0.07687497774544923,
          -0.07683406974694514,
          -0.13252337810830886,
          -0.13337284885141204,
          -0.1385353880664891,
          -0.11533338978608808,
          -0.018565716906859302,
          -0.11382370011260491,
          -0.13366594218910127
         ]
        }
       ],
       "layout": {
        "template": {
         "data": {
          "bar": [
           {
            "error_x": {
             "color": "#2a3f5f"
            },
            "error_y": {
             "color": "#2a3f5f"
            },
            "marker": {
             "line": {
              "color": "#E5ECF6",
              "width": 0.5
             },
             "pattern": {
              "fillmode": "overlay",
              "size": 10,
              "solidity": 0.2
             }
            },
            "type": "bar"
           }
          ],
          "barpolar": [
           {
            "marker": {
             "line": {
              "color": "#E5ECF6",
              "width": 0.5
             },
             "pattern": {
              "fillmode": "overlay",
              "size": 10,
              "solidity": 0.2
             }
            },
            "type": "barpolar"
           }
          ],
          "carpet": [
           {
            "aaxis": {
             "endlinecolor": "#2a3f5f",
             "gridcolor": "white",
             "linecolor": "white",
             "minorgridcolor": "white",
             "startlinecolor": "#2a3f5f"
            },
            "baxis": {
             "endlinecolor": "#2a3f5f",
             "gridcolor": "white",
             "linecolor": "white",
             "minorgridcolor": "white",
             "startlinecolor": "#2a3f5f"
            },
            "type": "carpet"
           }
          ],
          "choropleth": [
           {
            "colorbar": {
             "outlinewidth": 0,
             "ticks": ""
            },
            "type": "choropleth"
           }
          ],
          "contour": [
           {
            "colorbar": {
             "outlinewidth": 0,
             "ticks": ""
            },
            "colorscale": [
             [
              0,
              "#0d0887"
             ],
             [
              0.1111111111111111,
              "#46039f"
             ],
             [
              0.2222222222222222,
              "#7201a8"
             ],
             [
              0.3333333333333333,
              "#9c179e"
             ],
             [
              0.4444444444444444,
              "#bd3786"
             ],
             [
              0.5555555555555556,
              "#d8576b"
             ],
             [
              0.6666666666666666,
              "#ed7953"
             ],
             [
              0.7777777777777778,
              "#fb9f3a"
             ],
             [
              0.8888888888888888,
              "#fdca26"
             ],
             [
              1,
              "#f0f921"
             ]
            ],
            "type": "contour"
           }
          ],
          "contourcarpet": [
           {
            "colorbar": {
             "outlinewidth": 0,
             "ticks": ""
            },
            "type": "contourcarpet"
           }
          ],
          "heatmap": [
           {
            "colorbar": {
             "outlinewidth": 0,
             "ticks": ""
            },
            "colorscale": [
             [
              0,
              "#0d0887"
             ],
             [
              0.1111111111111111,
              "#46039f"
             ],
             [
              0.2222222222222222,
              "#7201a8"
             ],
             [
              0.3333333333333333,
              "#9c179e"
             ],
             [
              0.4444444444444444,
              "#bd3786"
             ],
             [
              0.5555555555555556,
              "#d8576b"
             ],
             [
              0.6666666666666666,
              "#ed7953"
             ],
             [
              0.7777777777777778,
              "#fb9f3a"
             ],
             [
              0.8888888888888888,
              "#fdca26"
             ],
             [
              1,
              "#f0f921"
             ]
            ],
            "type": "heatmap"
           }
          ],
          "heatmapgl": [
           {
            "colorbar": {
             "outlinewidth": 0,
             "ticks": ""
            },
            "colorscale": [
             [
              0,
              "#0d0887"
             ],
             [
              0.1111111111111111,
              "#46039f"
             ],
             [
              0.2222222222222222,
              "#7201a8"
             ],
             [
              0.3333333333333333,
              "#9c179e"
             ],
             [
              0.4444444444444444,
              "#bd3786"
             ],
             [
              0.5555555555555556,
              "#d8576b"
             ],
             [
              0.6666666666666666,
              "#ed7953"
             ],
             [
              0.7777777777777778,
              "#fb9f3a"
             ],
             [
              0.8888888888888888,
              "#fdca26"
             ],
             [
              1,
              "#f0f921"
             ]
            ],
            "type": "heatmapgl"
           }
          ],
          "histogram": [
           {
            "marker": {
             "pattern": {
              "fillmode": "overlay",
              "size": 10,
              "solidity": 0.2
             }
            },
            "type": "histogram"
           }
          ],
          "histogram2d": [
           {
            "colorbar": {
             "outlinewidth": 0,
             "ticks": ""
            },
            "colorscale": [
             [
              0,
              "#0d0887"
             ],
             [
              0.1111111111111111,
              "#46039f"
             ],
             [
              0.2222222222222222,
              "#7201a8"
             ],
             [
              0.3333333333333333,
              "#9c179e"
             ],
             [
              0.4444444444444444,
              "#bd3786"
             ],
             [
              0.5555555555555556,
              "#d8576b"
             ],
             [
              0.6666666666666666,
              "#ed7953"
             ],
             [
              0.7777777777777778,
              "#fb9f3a"
             ],
             [
              0.8888888888888888,
              "#fdca26"
             ],
             [
              1,
              "#f0f921"
             ]
            ],
            "type": "histogram2d"
           }
          ],
          "histogram2dcontour": [
           {
            "colorbar": {
             "outlinewidth": 0,
             "ticks": ""
            },
            "colorscale": [
             [
              0,
              "#0d0887"
             ],
             [
              0.1111111111111111,
              "#46039f"
             ],
             [
              0.2222222222222222,
              "#7201a8"
             ],
             [
              0.3333333333333333,
              "#9c179e"
             ],
             [
              0.4444444444444444,
              "#bd3786"
             ],
             [
              0.5555555555555556,
              "#d8576b"
             ],
             [
              0.6666666666666666,
              "#ed7953"
             ],
             [
              0.7777777777777778,
              "#fb9f3a"
             ],
             [
              0.8888888888888888,
              "#fdca26"
             ],
             [
              1,
              "#f0f921"
             ]
            ],
            "type": "histogram2dcontour"
           }
          ],
          "mesh3d": [
           {
            "colorbar": {
             "outlinewidth": 0,
             "ticks": ""
            },
            "type": "mesh3d"
           }
          ],
          "parcoords": [
           {
            "line": {
             "colorbar": {
              "outlinewidth": 0,
              "ticks": ""
             }
            },
            "type": "parcoords"
           }
          ],
          "pie": [
           {
            "automargin": true,
            "type": "pie"
           }
          ],
          "scatter": [
           {
            "fillpattern": {
             "fillmode": "overlay",
             "size": 10,
             "solidity": 0.2
            },
            "type": "scatter"
           }
          ],
          "scatter3d": [
           {
            "line": {
             "colorbar": {
              "outlinewidth": 0,
              "ticks": ""
             }
            },
            "marker": {
             "colorbar": {
              "outlinewidth": 0,
              "ticks": ""
             }
            },
            "type": "scatter3d"
           }
          ],
          "scattercarpet": [
           {
            "marker": {
             "colorbar": {
              "outlinewidth": 0,
              "ticks": ""
             }
            },
            "type": "scattercarpet"
           }
          ],
          "scattergeo": [
           {
            "marker": {
             "colorbar": {
              "outlinewidth": 0,
              "ticks": ""
             }
            },
            "type": "scattergeo"
           }
          ],
          "scattergl": [
           {
            "marker": {
             "colorbar": {
              "outlinewidth": 0,
              "ticks": ""
             }
            },
            "type": "scattergl"
           }
          ],
          "scattermapbox": [
           {
            "marker": {
             "colorbar": {
              "outlinewidth": 0,
              "ticks": ""
             }
            },
            "type": "scattermapbox"
           }
          ],
          "scatterpolar": [
           {
            "marker": {
             "colorbar": {
              "outlinewidth": 0,
              "ticks": ""
             }
            },
            "type": "scatterpolar"
           }
          ],
          "scatterpolargl": [
           {
            "marker": {
             "colorbar": {
              "outlinewidth": 0,
              "ticks": ""
             }
            },
            "type": "scatterpolargl"
           }
          ],
          "scatterternary": [
           {
            "marker": {
             "colorbar": {
              "outlinewidth": 0,
              "ticks": ""
             }
            },
            "type": "scatterternary"
           }
          ],
          "surface": [
           {
            "colorbar": {
             "outlinewidth": 0,
             "ticks": ""
            },
            "colorscale": [
             [
              0,
              "#0d0887"
             ],
             [
              0.1111111111111111,
              "#46039f"
             ],
             [
              0.2222222222222222,
              "#7201a8"
             ],
             [
              0.3333333333333333,
              "#9c179e"
             ],
             [
              0.4444444444444444,
              "#bd3786"
             ],
             [
              0.5555555555555556,
              "#d8576b"
             ],
             [
              0.6666666666666666,
              "#ed7953"
             ],
             [
              0.7777777777777778,
              "#fb9f3a"
             ],
             [
              0.8888888888888888,
              "#fdca26"
             ],
             [
              1,
              "#f0f921"
             ]
            ],
            "type": "surface"
           }
          ],
          "table": [
           {
            "cells": {
             "fill": {
              "color": "#EBF0F8"
             },
             "line": {
              "color": "white"
             }
            },
            "header": {
             "fill": {
              "color": "#C8D4E3"
             },
             "line": {
              "color": "white"
             }
            },
            "type": "table"
           }
          ]
         },
         "layout": {
          "annotationdefaults": {
           "arrowcolor": "#2a3f5f",
           "arrowhead": 0,
           "arrowwidth": 1
          },
          "autotypenumbers": "strict",
          "coloraxis": {
           "colorbar": {
            "outlinewidth": 0,
            "ticks": ""
           }
          },
          "colorscale": {
           "diverging": [
            [
             0,
             "#8e0152"
            ],
            [
             0.1,
             "#c51b7d"
            ],
            [
             0.2,
             "#de77ae"
            ],
            [
             0.3,
             "#f1b6da"
            ],
            [
             0.4,
             "#fde0ef"
            ],
            [
             0.5,
             "#f7f7f7"
            ],
            [
             0.6,
             "#e6f5d0"
            ],
            [
             0.7,
             "#b8e186"
            ],
            [
             0.8,
             "#7fbc41"
            ],
            [
             0.9,
             "#4d9221"
            ],
            [
             1,
             "#276419"
            ]
           ],
           "sequential": [
            [
             0,
             "#0d0887"
            ],
            [
             0.1111111111111111,
             "#46039f"
            ],
            [
             0.2222222222222222,
             "#7201a8"
            ],
            [
             0.3333333333333333,
             "#9c179e"
            ],
            [
             0.4444444444444444,
             "#bd3786"
            ],
            [
             0.5555555555555556,
             "#d8576b"
            ],
            [
             0.6666666666666666,
             "#ed7953"
            ],
            [
             0.7777777777777778,
             "#fb9f3a"
            ],
            [
             0.8888888888888888,
             "#fdca26"
            ],
            [
             1,
             "#f0f921"
            ]
           ],
           "sequentialminus": [
            [
             0,
             "#0d0887"
            ],
            [
             0.1111111111111111,
             "#46039f"
            ],
            [
             0.2222222222222222,
             "#7201a8"
            ],
            [
             0.3333333333333333,
             "#9c179e"
            ],
            [
             0.4444444444444444,
             "#bd3786"
            ],
            [
             0.5555555555555556,
             "#d8576b"
            ],
            [
             0.6666666666666666,
             "#ed7953"
            ],
            [
             0.7777777777777778,
             "#fb9f3a"
            ],
            [
             0.8888888888888888,
             "#fdca26"
            ],
            [
             1,
             "#f0f921"
            ]
           ]
          },
          "colorway": [
           "#636efa",
           "#EF553B",
           "#00cc96",
           "#ab63fa",
           "#FFA15A",
           "#19d3f3",
           "#FF6692",
           "#B6E880",
           "#FF97FF",
           "#FECB52"
          ],
          "font": {
           "color": "#2a3f5f"
          },
          "geo": {
           "bgcolor": "white",
           "lakecolor": "white",
           "landcolor": "#E5ECF6",
           "showlakes": true,
           "showland": true,
           "subunitcolor": "white"
          },
          "hoverlabel": {
           "align": "left"
          },
          "hovermode": "closest",
          "mapbox": {
           "style": "light"
          },
          "paper_bgcolor": "white",
          "plot_bgcolor": "#E5ECF6",
          "polar": {
           "angularaxis": {
            "gridcolor": "white",
            "linecolor": "white",
            "ticks": ""
           },
           "bgcolor": "#E5ECF6",
           "radialaxis": {
            "gridcolor": "white",
            "linecolor": "white",
            "ticks": ""
           }
          },
          "scene": {
           "xaxis": {
            "backgroundcolor": "#E5ECF6",
            "gridcolor": "white",
            "gridwidth": 2,
            "linecolor": "white",
            "showbackground": true,
            "ticks": "",
            "zerolinecolor": "white"
           },
           "yaxis": {
            "backgroundcolor": "#E5ECF6",
            "gridcolor": "white",
            "gridwidth": 2,
            "linecolor": "white",
            "showbackground": true,
            "ticks": "",
            "zerolinecolor": "white"
           },
           "zaxis": {
            "backgroundcolor": "#E5ECF6",
            "gridcolor": "white",
            "gridwidth": 2,
            "linecolor": "white",
            "showbackground": true,
            "ticks": "",
            "zerolinecolor": "white"
           }
          },
          "shapedefaults": {
           "line": {
            "color": "#2a3f5f"
           }
          },
          "ternary": {
           "aaxis": {
            "gridcolor": "white",
            "linecolor": "white",
            "ticks": ""
           },
           "baxis": {
            "gridcolor": "white",
            "linecolor": "white",
            "ticks": ""
           },
           "bgcolor": "#E5ECF6",
           "caxis": {
            "gridcolor": "white",
            "linecolor": "white",
            "ticks": ""
           }
          },
          "title": {
           "x": 0.05
          },
          "xaxis": {
           "automargin": true,
           "gridcolor": "white",
           "linecolor": "white",
           "ticks": "",
           "title": {
            "standoff": 15
           },
           "zerolinecolor": "white",
           "zerolinewidth": 2
          },
          "yaxis": {
           "automargin": true,
           "gridcolor": "white",
           "linecolor": "white",
           "ticks": "",
           "title": {
            "standoff": 15
           },
           "zerolinecolor": "white",
           "zerolinewidth": 2
          }
         }
        },
        "title": {
         "text": "KMeans Model Clustering of Alma 32"
        }
       }
      }
     },
     "metadata": {},
     "output_type": "display_data"
    },
    {
     "name": "stdout",
     "output_type": "stream",
     "text": [
      "Cluster 0:\n",
      "And it came to pass that they did go forth, and began to preach the word of God unto the people, entering into their synagogues, and into their houses; yea, and even they did preach the word in their streets.\n",
      "\n",
      "\n",
      "people, entering into their synagogues, and into their houses; yea, and even they did preach the word in their streets. And it came to pass that after much labor among them, they began to have success among the poor class\n",
      "\n",
      "\n",
      "And it came to pass that after much labor among them, they began to have success among the poor class of people; for behold, they were cast out of the synagogues because of the coarseness of their apparel— Therefore they w\n",
      "\n",
      "\n",
      "of people; for behold, they were cast out of the synagogues because of the coarseness of their apparel— Therefore they were not permitted to enter into their synagogues to worship God, being esteemed as filthiness; therefore they were poor; yea, t\n",
      "\n",
      "\n",
      "re not permitted to enter into their synagogues to worship God, being esteemed as filthiness; therefore they were poor; yea, they were esteemed by their brethren as dross; therefore they were poor as to things of the world; and also t\n",
      "\n",
      "\n",
      "ey were esteemed by their brethren as dross; therefore they were poor as to things of the world; and also they were poor in heart. Now, as Alma was teaching and speaking unto the people upon the hill Onidah, there c\n",
      "\n",
      "\n",
      "ey were poor in heart. Now, as Alma was teaching and speaking unto the people upon the hill Onidah, there came a great multitude unto him, who were those of whom we have been speaking, of whom were poor in h\n",
      "\n",
      "\n",
      "me a great multitude unto him, who were those of whom we have been speaking, of whom were poor in heart, because of their poverty as to the things of the world. And they came unto Alma; and the one w\n",
      "\n",
      "\n",
      "art, because of their poverty as to the things of the world. And they came unto Alma; and the one who was the foremost among them said unto him: Behold, what shall these my brethren do, for they are despised o\n",
      "\n",
      "\n",
      "o was the foremost among them said unto him: Behold, what shall these my brethren do, for they are despised of all men because of their poverty, yea, and more especially by our priests; for they have cast us out o\n",
      "\n",
      "\n",
      "all men because of their poverty, yea, and more especially by our priests; for they have cast us out of our synagogues which we have labored abundantly to build with our own hands; and they have cast us out b\n",
      "\n",
      "\n",
      "our synagogues which we have labored abundantly to build with our own hands; and they have cast us out because of our exceeding poverty; and we have no place to worship our God; and behold, what shall we do? A\n",
      "\n",
      "\n",
      "cause of our exceeding poverty; and we have no place to worship our God; and behold, what shall we do? And now when Alma heard this, he turned him about, his face immediately towards him, and he beheld with great j\n",
      "\n",
      "\n",
      "d now when Alma heard this, he turned him about, his face immediately towards him, and he beheld with great joy; for he beheld that their afflictions had truly humbled them, and that they were in a preparation to hear t\n",
      "\n",
      "\n",
      "y; for he beheld that their afflictions had truly humbled them, and that they were in a preparation to hear the word. Therefore he did say no more to the other multitude; but he stretched forth his hand, and cried u\n",
      "\n",
      "\n",
      "e word. Therefore he did say no more to the other multitude; but he stretched forth his hand, and cried unto those whom he beheld, who were truly penitent, and said unto them: I behold that ye are lowly in h\n",
      "\n",
      "\n",
      "to those whom he beheld, who were truly penitent, and said unto them: I behold that ye are lowly in heart; and if so, blessed are ye. Behold thy brother hath said, What shall we do?—for we are cast out of\n",
      "\n",
      "\n",
      "art; and if so, blessed are ye. Behold thy brother hath said, What shall we do?—for we are cast out of our synagogues, that we cannot worship our God. Behold I say unto you, do ye suppose that ye cannot wor\n",
      "\n",
      "\n",
      "ur synagogues, that we cannot worship our God. Behold I say unto you, do ye suppose that ye cannot worship God save it be in your synagogues only? And moreover, I would ask, do ye suppose that ye must not\n",
      "\n",
      "\n",
      "hip God save it be in your synagogues only? And moreover, I would ask, do ye suppose that ye must not worship God only once in a week? I say unto you, it is well that ye are cast out of\n",
      "\n",
      "\n",
      "worship God only once in a week? I say unto you, it is well that ye are cast out of your synagogues, that ye may be humble, and that ye may learn wisdom; for it is necessary that ye sho\n",
      "\n",
      "\n",
      "our synagogues, that ye may be humble, and that ye may learn wisdom; for it is necessary that ye should learn wisdom; for it is because that ye are cast out, that ye are despised of your brethren because of\n",
      "\n",
      "\n",
      "ld learn wisdom; for it is because that ye are cast out, that ye are despised of your brethren because of your exceeding poverty, that ye are brought to a lowliness of heart; for ye are necessarily brought to be hum\n",
      "\n",
      "\n",
      "our exceeding poverty, that ye are brought to a lowliness of heart; for ye are necessarily brought to be humble. And now, because ye are compelled to be humble blessed are ye; for a man sometimes, if he is com\n",
      "\n",
      "\n",
      "le. And now, because ye are compelled to be humble blessed are ye; for a man sometimes, if he is compelled to be humble, seeketh repentance; and now surely, whosoever repenteth shall find mercy; and he that findeth mercy and end\n",
      "\n",
      "\n",
      "elled to be humble, seeketh repentance; and now surely, whosoever repenteth shall find mercy; and he that findeth mercy and endureth to the end the same shall be saved. And now, as I said unto you, that because ye were com\n",
      "\n",
      "\n",
      "reth to the end the same shall be saved. And now, as I said unto you, that because ye were compelled to be humble ye were blessed, do ye not suppose that they are more blessed who truly humble themselves bec\n",
      "\n",
      "\n",
      "elled to be humble ye were blessed, do ye not suppose that they are more blessed who truly humble themselves because of the word? Yea, he that truly humbleth himself, and repenteth of his sins, and endureth to the end, the\n",
      "\n",
      "\n",
      "use of the word? Yea, he that truly humbleth himself, and repenteth of his sins, and endureth to the end, the same shall be blessed—yea, much more blessed than they who are compelled to be humble because of their exceeding pover\n",
      "\n",
      "\n",
      "same shall be blessed—yea, much more blessed than they who are compelled to be humble because of their exceeding poverty. Therefore, blessed are they who humble themselves without being compelled to be humble; or rather, in other words, blessed is he\n",
      "\n",
      "\n",
      "y. Therefore, blessed are they who humble themselves without being compelled to be humble; or rather, in other words, blessed is he that believeth in the word of God, and is baptized without stubbornness of heart, yea, without being brought to kn\n",
      "\n",
      "\n",
      "to them many times, which confound the wise and the learned. And now, my beloved brethren, as ye have desired to know of me what ye shall do because ye are afflicted and cast out—now I do not desire that ye s\n",
      "\n",
      "\n",
      "t ye all of you have been compelled to humble yourselves; for I verily believe that there are some among you who would humble themselves, let them be in whatsoever circumstances they might. Now, as I said concerning faith—that\n",
      "\n",
      "\n",
      "Cluster 1:\n",
      "or a portion of my words. Now, we will compare the word unto a seed. Now, if ye give place, that a seed may be planted in your heart, behold, if it be a true seed, or a good seed, if\n",
      "\n",
      "\n",
      "hat a seed may be planted in your heart, behold, if it be a true seed, or a good seed, if ye do not cast it out by your unbelief, that ye will resist the Spirit of the Lord, behol\n",
      "\n",
      "\n",
      "ye do not cast it out by your unbelief, that ye will resist the Spirit of the Lord, behold, it will begin to swell within your breasts; and when you feel these swelling motions, ye will begin to say wi\n",
      "\n",
      "\n",
      ", it will begin to swell within your breasts; and when you feel these swelling motions, ye will begin to say within yourselves—It must needs be that this is a good seed, or that the word is good, for it beginneth\n",
      "\n",
      "\n",
      "hin yourselves—It must needs be that this is a good seed, or that the word is good, for it beginneth to enlarge my soul; yea, it beginneth to enlighten my understanding, yea, it beginneth to be delicious to me. Now behold\n",
      "\n",
      "\n",
      "o enlarge my soul; yea, it beginneth to enlighten my understanding, yea, it beginneth to be delicious to me. Now behold, would not this increase your faith? I say unto you, Yea; nevertheless it hath not grown up to a perfect k\n",
      "\n",
      "\n",
      "would not this increase your faith? I say unto you, Yea; nevertheless it hath not grown up to a perfect knowledge. But behold, as the seed swelleth, and sprouteth, and beginneth to grow, then you must needs say that th\n",
      "\n",
      "\n",
      "owledge. But behold, as the seed swelleth, and sprouteth, and beginneth to grow, then you must needs say that the seed is good; for behold it swelleth, and sprouteth, and beginneth to grow. And now, behold, will not this str\n",
      "\n",
      "\n",
      "seed is good; for behold it swelleth, and sprouteth, and beginneth to grow. And now, behold, will not this strengthen your faith? Yea, it will strengthen your faith: for ye will say I know that this is a good seed; f\n",
      "\n",
      "\n",
      "ngthen your faith? Yea, it will strengthen your faith: for ye will say I know that this is a good seed; for behold it sprouteth and beginneth to grow. And now, behold, are ye sure that this is a good seed? I\n",
      "\n",
      "\n",
      "r behold it sprouteth and beginneth to grow. And now, behold, are ye sure that this is a good seed? I say unto you, Yea; for every seed bringeth forth unto its own likeness. Therefore, if a seed groweth it\n",
      "\n",
      "\n",
      "say unto you, Yea; for every seed bringeth forth unto its own likeness. Therefore, if a seed groweth it is good, but if it groweth not, behold it is not good, therefore it is cast away. And now, be\n",
      "\n",
      "\n",
      "is good, but if it groweth not, behold it is not good, therefore it is cast away. And now, behold, because ye have tried the experiment, and planted the seed, and it swelleth and sprouteth, and beginneth to grow\n",
      "\n",
      "\n",
      "old, because ye have tried the experiment, and planted the seed, and it swelleth and sprouteth, and beginneth to grow, ye must needs know that the seed is good. And now, behold, is your knowledge perfect? Yea, your knowledge is\n",
      "\n",
      "\n",
      "ye must needs know that the seed is good. And now, behold, is your knowledge perfect? Yea, your knowledge is perfect in that thing, and your faith is dormant; and this because you know, for ye know that the word hat\n",
      "\n",
      "\n",
      "ther must ye lay aside your faith, for ye have only exercised your faith to plant the seed that ye might try the experiment to know if the seed was good. And behold, as the tree beginneth to grow, ye will\n",
      "\n",
      "\n",
      "try the experiment to know if the seed was good. And behold, as the tree beginneth to grow, ye will say: Let us nourish it with great care, that it may get root, that it may grow up, and brin\n",
      "\n",
      "\n",
      "ay: Let us nourish it with great care, that it may get root, that it may grow up, and bring forth fruit unto us. And now behold, if ye nourish it with much care it will get root, and gro\n",
      "\n",
      "\n",
      "forth fruit unto us. And now behold, if ye nourish it with much care it will get root, and grow up, and bring forth fruit. But if ye neglect the tree, and take no thought for its nourishment,\n",
      "\n",
      "\n",
      "up, and bring forth fruit. But if ye neglect the tree, and take no thought for its nourishment, behold it will not get any root; and when the heat of the sun cometh and scorcheth it, because it hath n\n",
      "\n",
      "\n",
      "ehold it will not get any root; and when the heat of the sun cometh and scorcheth it, because it hath no root it withers away, and ye pluck it up and cast it out. Now, this is not because the s\n",
      "\n",
      "\n",
      "root it withers away, and ye pluck it up and cast it out. Now, this is not because the seed was not good, neither is it because the fruit thereof would not be desirable; but it is because your g\n",
      "\n",
      "\n",
      "ed was not good, neither is it because the fruit thereof would not be desirable; but it is because your ground is barren, and ye will not nourish the tree, therefore ye cannot have the fruit thereof. And thus, if ye w\n",
      "\n",
      "\n",
      "ound is barren, and ye will not nourish the tree, therefore ye cannot have the fruit thereof. And thus, if ye will not nourish the word, looking forward with an eye of faith to the fruit thereof, ye can never pluc\n",
      "\n",
      "\n",
      "ll not nourish the word, looking forward with an eye of faith to the fruit thereof, ye can never pluck of the fruit of the tree of life. But if ye will nourish the word, yea, nourish the tree\n",
      "\n",
      "\n",
      "of the fruit of the tree of life. But if ye will nourish the word, yea, nourish the tree as it beginneth to grow, by your faith with great diligence, and with patience, looking forward to the fruit thereof\n",
      "\n",
      "\n",
      "s it beginneth to grow, by your faith with great diligence, and with patience, looking forward to the fruit thereof, it shall take root; and behold it shall be a tree springing up unto everlasting life. And because of your d\n",
      "\n",
      "\n",
      "it shall take root; and behold it shall be a tree springing up unto everlasting life. And because of your diligence and your faith and your patience with the word in nourishing it, that it may take root in you, beho\n",
      "\n",
      "\n",
      "ligence and your faith and your patience with the word in nourishing it, that it may take root in you, behold, by and by ye shall pluck the fruit thereof, which is most precious, which is sweet above all that is\n",
      "\n",
      "\n",
      "d, by and by ye shall pluck the fruit thereof, which is most precious, which is sweet above all that is sweet, and which is white above all that is white, yea, and pure above all that is pure; and ye s\n",
      "\n",
      "\n",
      "sweet, and which is white above all that is white, yea, and pure above all that is pure; and ye shall feast upon this fruit even until ye are filled, that ye hunger not, neither shall ye thirst. Then,\n",
      "\n",
      "\n",
      "all feast upon this fruit even until ye are filled, that ye hunger not, neither shall ye thirst. Then, my brethren, ye shall reap the rewards of your faith, and your diligence, and patience, and long-suffering, waiting for the t\n",
      "\n",
      "\n",
      "y brethren, ye shall reap the rewards of your faith, and your diligence, and patience, and long-suffering, waiting for the tree to bring forth fruit unto you.\n",
      "\n",
      "\n",
      "Cluster 2:\n",
      "that believeth in the word of God, and is baptized without stubbornness of heart, yea, without being brought to know the word, or even compelled to know, before they will believe. Yea, there are many who do say: If th\n",
      "\n",
      "\n",
      "w the word, or even compelled to know, before they will believe. Yea, there are many who do say: If thou wilt show unto us a sign from heaven, then we shall know of a surety; then we shall belie\n",
      "\n",
      "\n",
      "u wilt show unto us a sign from heaven, then we shall know of a surety; then we shall believe. Now I ask, is this faith? Behold, I say unto you, Nay; for if a man knoweth a thing he ha\n",
      "\n",
      "\n",
      "e. Now I ask, is this faith? Behold, I say unto you, Nay; for if a man knoweth a thing he hath no cause to believe, for he knoweth it. And now, how much more cursed is he that knoweth the w\n",
      "\n",
      "\n",
      "h no cause to believe, for he knoweth it. And now, how much more cursed is he that knoweth the will of God and doeth it not, than he that only believeth, or only hath cause to believe, and falle\n",
      "\n",
      "\n",
      "ll of God and doeth it not, than he that only believeth, or only hath cause to believe, and falleth into transgression? Now of this thing ye must judge. Behold, I say unto you, that it is on the one h\n",
      "\n",
      "\n",
      "h into transgression? Now of this thing ye must judge. Behold, I say unto you, that it is on the one hand even as it is on the other; and it shall be unto every man according to his work. And n\n",
      "\n",
      "\n",
      "nd even as it is on the other; and it shall be unto every man according to his work. And now as I said concerning faith—faith is not to have a perfect knowledge of things; therefore if ye have faith y\n",
      "\n",
      "\n",
      "w as I said concerning faith—faith is not to have a perfect knowledge of things; therefore if ye have faith ye hope for things which are not seen, which are true. And now, behold, I say unto you, and I would\n",
      "\n",
      "\n",
      "hope for things which are not seen, which are true. And now, behold, I say unto you, and I would that ye should remember, that God is merciful unto all who believe on his name; therefore he desireth, in the\n",
      "\n",
      "\n",
      "that ye should remember, that God is merciful unto all who believe on his name; therefore he desireth, in the first place, that ye should believe, yea, even on his word. And now, he imparteth his word by angels\n",
      "\n",
      "\n",
      "irst place, that ye should believe, yea, even on his word. And now, he imparteth his word by angels unto men, yea, not only men but women also. Now this is not all; little children do have words given u\n",
      "\n",
      "\n",
      "nto men, yea, not only men but women also. Now this is not all; little children do have words given unto them many times, which confound the wise and the learned. And now, my beloved brethren, as ye have desired\n",
      "\n",
      "\n",
      "to know of me what ye shall do because ye are afflicted and cast out—now I do not desire that ye should suppose that I mean to judge you only according to that which is true— For I do not mean th\n",
      "\n",
      "\n",
      "ould suppose that I mean to judge you only according to that which is true— For I do not mean that ye all of you have been compelled to humble yourselves; for I verily believe that there are some among\n",
      "\n",
      "\n",
      "ou who would humble themselves, let them be in whatsoever circumstances they might. Now, as I said concerning faith—that it was not a perfect knowledge—even so it is with my words. Ye cannot know of their surety at first, unto per\n",
      "\n",
      "\n",
      "t was not a perfect knowledge—even so it is with my words. Ye cannot know of their surety at first, unto perfection, any more than faith is a perfect knowledge. But behold, if ye will awake and arouse your faculties, even\n",
      "\n",
      "\n",
      "ection, any more than faith is a perfect knowledge. But behold, if ye will awake and arouse your faculties, even to an experiment upon my words, and exercise a particle of faith, yea, even if ye can no more than desir\n",
      "\n",
      "\n",
      "to an experiment upon my words, and exercise a particle of faith, yea, even if ye can no more than desire to believe, let this desire work in you, even until ye believe in a manner that ye can give place\n",
      "\n",
      "\n",
      "to believe, let this desire work in you, even until ye believe in a manner that ye can give place for a portion of my words. Now, we will compare the word unto a seed. Now, if ye give place,\n",
      "\n",
      "\n",
      "perfect in that thing, and your faith is dormant; and this because you know, for ye know that the word hath swelled your souls, and ye also know that it hath sprouted up, that your understanding doth begin to be enlig\n",
      "\n",
      "\n",
      "swelled your souls, and ye also know that it hath sprouted up, that your understanding doth begin to be enlightened, and your mind doth begin to expand. O then, is not this real? I say unto you, Yea, because\n",
      "\n",
      "\n",
      "tened, and your mind doth begin to expand. O then, is not this real? I say unto you, Yea, because it is light; and whatsoever is light, is good, because it is discernible, therefore ye must know that it is good;\n",
      "\n",
      "\n",
      "it is light; and whatsoever is light, is good, because it is discernible, therefore ye must know that it is good; and now behold, after ye have tasted this light is your knowledge perfect? Behold I say unto you, Nay; ne\n",
      "\n",
      "\n",
      "nd now behold, after ye have tasted this light is your knowledge perfect? Behold I say unto you, Nay; neither must ye lay aside your faith, for ye have only exercised your faith to plant the seed that ye migh\n",
      "\n",
      "\n"
     ]
    },
    {
     "data": {
      "application/vnd.plotly.v1+json": {
       "config": {
        "plotlyServerURL": "https://plot.ly"
       },
       "data": [
        {
         "hovertemplate": "%{hovertext}",
         "hovertext": [
          "And it came to pass that they did go forth,<br>and began to preach the word of God unto the<br>people, entering into their synagogues, and into their houses; yea,<br>and even they did preach the word in their streets.",
          "people, entering into their synagogues, and into their houses; yea,<br>and even they did preach the word in their streets.<br>And it came to pass that after much labor among<br>them, they began to have success among the poor class",
          "And it came to pass that after much labor among<br>them, they began to have success among the poor class<br>of people; for behold, they were cast out of the<br>synagogues because of the coarseness of their apparel— Therefore they<br>w",
          "of people; for behold, they were cast out of the<br>synagogues because of the coarseness of their apparel— Therefore they<br>were not permitted to enter into their synagogues to worship<br>God, being esteemed as filthiness; therefore they were poor; yea,<br>t",
          "re not permitted to enter into their synagogues to worship<br>God, being esteemed as filthiness; therefore they were poor; yea,<br>they were esteemed by their brethren as dross; therefore they<br>were poor as to things of the world; and also<br>t",
          "ey were esteemed by their brethren as dross; therefore they<br>were poor as to things of the world; and also<br>they were poor in heart. Now, as Alma was teaching<br>and speaking unto the people upon the hill Onidah, there<br>c",
          "ey were poor in heart. Now, as Alma was teaching<br>and speaking unto the people upon the hill Onidah, there<br>came a great multitude unto him, who were those of<br>whom we have been speaking, of whom were poor in<br>h",
          "me a great multitude unto him, who were those of<br>whom we have been speaking, of whom were poor in<br>heart, because of their poverty as to the things of<br>the world. And they came unto Alma; and the one<br>w",
          "art, because of their poverty as to the things of<br>the world. And they came unto Alma; and the one<br>who was the foremost among them said unto him: Behold,<br>what shall these my brethren do, for they are despised<br>o",
          "o was the foremost among them said unto him: Behold,<br>what shall these my brethren do, for they are despised<br>of all men because of their poverty, yea, and more<br>especially by our priests; for they have cast us out<br>o",
          "all men because of their poverty, yea, and more especially<br>by our priests; for they have cast us out of<br>our synagogues which we have labored abundantly to build with<br>our own hands; and they have cast us out b",
          "our synagogues which we have labored abundantly to build with<br>our own hands; and they have cast us out because<br>of our exceeding poverty; and we have no place to<br>worship our God; and behold, what shall we do? A",
          "cause of our exceeding poverty; and we have no place<br>to worship our God; and behold, what shall we do?<br>And now when Alma heard this, he turned him about,<br>his face immediately towards him, and he beheld with great<br>j",
          "d now when Alma heard this, he turned him about,<br>his face immediately towards him, and he beheld with great<br>joy; for he beheld that their afflictions had truly humbled<br>them, and that they were in a preparation to hear<br>t",
          "y; for he beheld that their afflictions had truly humbled<br>them, and that they were in a preparation to hear<br>the word. Therefore he did say no more to the<br>other multitude; but he stretched forth his hand, and cried<br>u",
          "e word. Therefore he did say no more to the<br>other multitude; but he stretched forth his hand, and cried<br>unto those whom he beheld, who were truly penitent, and<br>said unto them: I behold that ye are lowly in<br>h",
          "to those whom he beheld, who were truly penitent, and<br>said unto them: I behold that ye are lowly in<br>heart; and if so, blessed are ye. Behold thy brother<br>hath said, What shall we do?—for we are cast out<br>of",
          "art; and if so, blessed are ye. Behold thy brother<br>hath said, What shall we do?—for we are cast out<br>of our synagogues, that we cannot worship our God. Behold<br>I say unto you, do ye suppose that ye cannot<br>wor",
          "ur synagogues, that we cannot worship our God. Behold I<br>say unto you, do ye suppose that ye cannot worship<br>God save it be in your synagogues only? And moreover,<br>I would ask, do ye suppose that ye must not",
          "hip God save it be in your synagogues only? And<br>moreover, I would ask, do ye suppose that ye must<br>not worship God only once in a week? I say<br>unto you, it is well that ye are cast out<br>of",
          "worship God only once in a week? I say unto<br>you, it is well that ye are cast out of<br>your synagogues, that ye may be humble, and that ye<br>may learn wisdom; for it is necessary that ye sho",
          "our synagogues, that ye may be humble, and that ye<br>may learn wisdom; for it is necessary that ye should<br>learn wisdom; for it is because that ye are cast<br>out, that ye are despised of your brethren because of",
          "ld learn wisdom; for it is because that ye are<br>cast out, that ye are despised of your brethren because<br>of your exceeding poverty, that ye are brought to a<br>lowliness of heart; for ye are necessarily brought to be<br>hum",
          "our exceeding poverty, that ye are brought to a lowliness<br>of heart; for ye are necessarily brought to be humble.<br>And now, because ye are compelled to be humble blessed<br>are ye; for a man sometimes, if he is com",
          "le. And now, because ye are compelled to be humble<br>blessed are ye; for a man sometimes, if he is<br>compelled to be humble, seeketh repentance; and now surely, whosoever<br>repenteth shall find mercy; and he that findeth mercy and<br>end",
          "elled to be humble, seeketh repentance; and now surely, whosoever<br>repenteth shall find mercy; and he that findeth mercy and<br>endureth to the end the same shall be saved. And<br>now, as I said unto you, that because ye were<br>com",
          "reth to the end the same shall be saved. And<br>now, as I said unto you, that because ye were<br>compelled to be humble ye were blessed, do ye not<br>suppose that they are more blessed who truly humble themselves<br>bec",
          "elled to be humble ye were blessed, do ye not<br>suppose that they are more blessed who truly humble themselves<br>because of the word? Yea, he that truly humbleth himself,<br>and repenteth of his sins, and endureth to the end,<br>the",
          "use of the word? Yea, he that truly humbleth himself,<br>and repenteth of his sins, and endureth to the end,<br>the same shall be blessed—yea, much more blessed than they<br>who are compelled to be humble because of their exceeding<br>pover",
          "same shall be blessed—yea, much more blessed than they who<br>are compelled to be humble because of their exceeding poverty.<br>Therefore, blessed are they who humble themselves without being compelled<br>to be humble; or rather, in other words, blessed is<br>he",
          "y. Therefore, blessed are they who humble themselves without being<br>compelled to be humble; or rather, in other words, blessed<br>is he that believeth in the word of God, and<br>is baptized without stubbornness of heart, yea, without being brought<br>to kn",
          "that believeth in the word of God, and is baptized<br>without stubbornness of heart, yea, without being brought to know<br>the word, or even compelled to know, before they will<br>believe. Yea, there are many who do say: If th",
          "w the word, or even compelled to know, before they<br>will believe. Yea, there are many who do say: If<br>thou wilt show unto us a sign from heaven, then<br>we shall know of a surety; then we shall belie",
          "u wilt show unto us a sign from heaven, then<br>we shall know of a surety; then we shall believe.<br>Now I ask, is this faith? Behold, I say unto<br>you, Nay; for if a man knoweth a thing he<br>ha",
          "e. Now I ask, is this faith? Behold, I say<br>unto you, Nay; for if a man knoweth a thing<br>he hath no cause to believe, for he knoweth it.<br>And now, how much more cursed is he that knoweth<br>the w",
          "h no cause to believe, for he knoweth it. And<br>now, how much more cursed is he that knoweth the<br>will of God and doeth it not, than he that<br>only believeth, or only hath cause to believe, and falle",
          "ll of God and doeth it not, than he that<br>only believeth, or only hath cause to believe, and falleth<br>into transgression? Now of this thing ye must judge. Behold,<br>I say unto you, that it is on the one<br>h",
          "h into transgression? Now of this thing ye must judge.<br>Behold, I say unto you, that it is on the<br>one hand even as it is on the other; and<br>it shall be unto every man according to his work.<br>And n",
          "nd even as it is on the other; and it<br>shall be unto every man according to his work. And<br>now as I said concerning faith—faith is not to have<br>a perfect knowledge of things; therefore if ye have faith<br>y",
          "w as I said concerning faith—faith is not to have<br>a perfect knowledge of things; therefore if ye have faith<br>ye hope for things which are not seen, which are<br>true. And now, behold, I say unto you, and I<br>would",
          "hope for things which are not seen, which are true.<br>And now, behold, I say unto you, and I would<br>that ye should remember, that God is merciful unto all<br>who believe on his name; therefore he desireth, in the",
          "that ye should remember, that God is merciful unto all<br>who believe on his name; therefore he desireth, in the<br>first place, that ye should believe, yea, even on his<br>word. And now, he imparteth his word by angels",
          "irst place, that ye should believe, yea, even on his<br>word. And now, he imparteth his word by angels unto<br>men, yea, not only men but women also. Now this<br>is not all; little children do have words given u",
          "nto men, yea, not only men but women also. Now<br>this is not all; little children do have words given<br>unto them many times, which confound the wise and the<br>learned. And now, my beloved brethren, as ye have desired",
          "to them many times, which confound the wise and the<br>learned. And now, my beloved brethren, as ye have desired<br>to know of me what ye shall do because ye<br>are afflicted and cast out—now I do not desire that<br>ye s",
          "to know of me what ye shall do because ye<br>are afflicted and cast out—now I do not desire that<br>ye should suppose that I mean to judge you only<br>according to that which is true— For I do not<br>mean th",
          "ould suppose that I mean to judge you only according<br>to that which is true— For I do not mean<br>that ye all of you have been compelled to humble<br>yourselves; for I verily believe that there are some among",
          "t ye all of you have been compelled to humble<br>yourselves; for I verily believe that there are some among<br>you who would humble themselves, let them be in whatsoever<br>circumstances they might. Now, as I said concerning faith—that",
          "ou who would humble themselves, let them be in whatsoever<br>circumstances they might. Now, as I said concerning faith—that it<br>was not a perfect knowledge—even so it is with my<br>words. Ye cannot know of their surety at first, unto<br>per",
          "t was not a perfect knowledge—even so it is with<br>my words. Ye cannot know of their surety at first,<br>unto perfection, any more than faith is a perfect knowledge.<br>But behold, if ye will awake and arouse your faculties,<br>even",
          "ection, any more than faith is a perfect knowledge. But<br>behold, if ye will awake and arouse your faculties, even<br>to an experiment upon my words, and exercise a particle<br>of faith, yea, even if ye can no more than<br>desir",
          "to an experiment upon my words, and exercise a particle<br>of faith, yea, even if ye can no more than<br>desire to believe, let this desire work in you, even<br>until ye believe in a manner that ye can give<br>place",
          "to believe, let this desire work in you, even until<br>ye believe in a manner that ye can give place<br>for a portion of my words. Now, we will compare<br>the word unto a seed. Now, if ye give place,",
          "or a portion of my words. Now, we will compare<br>the word unto a seed. Now, if ye give place,<br>that a seed may be planted in your heart, behold,<br>if it be a true seed, or a good seed,<br>if",
          "hat a seed may be planted in your heart, behold,<br>if it be a true seed, or a good seed,<br>if ye do not cast it out by your unbelief,<br>that ye will resist the Spirit of the Lord, behol",
          "ye do not cast it out by your unbelief, that<br>ye will resist the Spirit of the Lord, behold, it<br>will begin to swell within your breasts; and when you<br>feel these swelling motions, ye will begin to say wi",
          ", it will begin to swell within your breasts; and<br>when you feel these swelling motions, ye will begin to<br>say within yourselves—It must needs be that this is a<br>good seed, or that the word is good, for it<br>beginneth",
          "hin yourselves—It must needs be that this is a good<br>seed, or that the word is good, for it beginneth<br>to enlarge my soul; yea, it beginneth to enlighten my<br>understanding, yea, it beginneth to be delicious to me. Now<br>behold",
          "o enlarge my soul; yea, it beginneth to enlighten my<br>understanding, yea, it beginneth to be delicious to me. Now<br>behold, would not this increase your faith? I say unto<br>you, Yea; nevertheless it hath not grown up to a<br>perfect k",
          "would not this increase your faith? I say unto you,<br>Yea; nevertheless it hath not grown up to a perfect<br>knowledge. But behold, as the seed swelleth, and sprouteth, and<br>beginneth to grow, then you must needs say that th",
          "owledge. But behold, as the seed swelleth, and sprouteth, and<br>beginneth to grow, then you must needs say that the<br>seed is good; for behold it swelleth, and sprouteth, and<br>beginneth to grow. And now, behold, will not this str",
          "seed is good; for behold it swelleth, and sprouteth, and<br>beginneth to grow. And now, behold, will not this strengthen<br>your faith? Yea, it will strengthen your faith: for ye<br>will say I know that this is a good seed;<br>f",
          "ngthen your faith? Yea, it will strengthen your faith: for<br>ye will say I know that this is a good<br>seed; for behold it sprouteth and beginneth to grow. And<br>now, behold, are ye sure that this is a good<br>seed? I",
          "r behold it sprouteth and beginneth to grow. And now,<br>behold, are ye sure that this is a good seed?<br>I say unto you, Yea; for every seed bringeth forth<br>unto its own likeness. Therefore, if a seed groweth it",
          "say unto you, Yea; for every seed bringeth forth unto<br>its own likeness. Therefore, if a seed groweth it is<br>good, but if it groweth not, behold it is not<br>good, therefore it is cast away. And now, be",
          "is good, but if it groweth not, behold it is<br>not good, therefore it is cast away. And now, behold,<br>because ye have tried the experiment, and planted the seed,<br>and it swelleth and sprouteth, and beginneth to grow",
          "old, because ye have tried the experiment, and planted the<br>seed, and it swelleth and sprouteth, and beginneth to grow,<br>ye must needs know that the seed is good. And<br>now, behold, is your knowledge perfect? Yea, your knowledge is",
          "ye must needs know that the seed is good. And<br>now, behold, is your knowledge perfect? Yea, your knowledge is<br>perfect in that thing, and your faith is dormant; and<br>this because you know, for ye know that the word<br>hat",
          "perfect in that thing, and your faith is dormant; and<br>this because you know, for ye know that the word<br>hath swelled your souls, and ye also know that it<br>hath sprouted up, that your understanding doth begin to be<br>enlig",
          "swelled your souls, and ye also know that it hath<br>sprouted up, that your understanding doth begin to be enlightened,<br>and your mind doth begin to expand. O then, is<br>not this real? I say unto you, Yea, because",
          "tened, and your mind doth begin to expand. O then,<br>is not this real? I say unto you, Yea, because<br>it is light; and whatsoever is light, is good, because<br>it is discernible, therefore ye must know that it is<br>good;",
          "it is light; and whatsoever is light, is good, because<br>it is discernible, therefore ye must know that it is<br>good; and now behold, after ye have tasted this light<br>is your knowledge perfect? Behold I say unto you, Nay;<br>ne",
          "nd now behold, after ye have tasted this light is<br>your knowledge perfect? Behold I say unto you, Nay; neither<br>must ye lay aside your faith, for ye have only<br>exercised your faith to plant the seed that ye migh",
          "ther must ye lay aside your faith, for ye have<br>only exercised your faith to plant the seed that ye<br>might try the experiment to know if the seed was<br>good. And behold, as the tree beginneth to grow, ye<br>will",
          "try the experiment to know if the seed was good.<br>And behold, as the tree beginneth to grow, ye will<br>say: Let us nourish it with great care, that it<br>may get root, that it may grow up, and brin",
          "ay: Let us nourish it with great care, that it<br>may get root, that it may grow up, and bring<br>forth fruit unto us. And now behold, if ye nourish<br>it with much care it will get root, and gro",
          "forth fruit unto us. And now behold, if ye nourish<br>it with much care it will get root, and grow<br>up, and bring forth fruit. But if ye neglect the<br>tree, and take no thought for its nourishment,",
          "up, and bring forth fruit. But if ye neglect the<br>tree, and take no thought for its nourishment, behold it<br>will not get any root; and when the heat of<br>the sun cometh and scorcheth it, because it hath n",
          "ehold it will not get any root; and when the<br>heat of the sun cometh and scorcheth it, because it<br>hath no root it withers away, and ye pluck it<br>up and cast it out. Now, this is not because<br>the s",
          "root it withers away, and ye pluck it up and<br>cast it out. Now, this is not because the seed<br>was not good, neither is it because the fruit thereof<br>would not be desirable; but it is because your g",
          "ed was not good, neither is it because the fruit<br>thereof would not be desirable; but it is because your<br>ground is barren, and ye will not nourish the tree,<br>therefore ye cannot have the fruit thereof. And thus, if<br>ye w",
          "ound is barren, and ye will not nourish the tree,<br>therefore ye cannot have the fruit thereof. And thus, if<br>ye will not nourish the word, looking forward with an<br>eye of faith to the fruit thereof, ye can never<br>pluc",
          "ll not nourish the word, looking forward with an eye<br>of faith to the fruit thereof, ye can never pluck<br>of the fruit of the tree of life. But if<br>ye will nourish the word, yea, nourish the tree",
          "of the fruit of the tree of life. But if<br>ye will nourish the word, yea, nourish the tree as<br>it beginneth to grow, by your faith with great diligence,<br>and with patience, looking forward to the fruit thereof",
          "s it beginneth to grow, by your faith with great<br>diligence, and with patience, looking forward to the fruit thereof,<br>it shall take root; and behold it shall be a<br>tree springing up unto everlasting life. And because of your<br>d",
          "it shall take root; and behold it shall be a<br>tree springing up unto everlasting life. And because of your<br>diligence and your faith and your patience with the word<br>in nourishing it, that it may take root in you,<br>beho",
          "ligence and your faith and your patience with the word<br>in nourishing it, that it may take root in you,<br>behold, by and by ye shall pluck the fruit thereof,<br>which is most precious, which is sweet above all that<br>is",
          "d, by and by ye shall pluck the fruit thereof,<br>which is most precious, which is sweet above all that<br>is sweet, and which is white above all that is<br>white, yea, and pure above all that is pure; and<br>ye s",
          "sweet, and which is white above all that is white,<br>yea, and pure above all that is pure; and ye<br>shall feast upon this fruit even until ye are filled,<br>that ye hunger not, neither shall ye thirst. Then,",
          "all feast upon this fruit even until ye are filled,<br>that ye hunger not, neither shall ye thirst. Then, my<br>brethren, ye shall reap the rewards of your faith, and<br>your diligence, and patience, and long-suffering, waiting for the t",
          "y brethren, ye shall reap the rewards of your faith,<br>and your diligence, and patience, and long-suffering, waiting for the<br>tree to bring forth fruit unto you."
         ],
         "marker": {
          "color": [
           2,
           2,
           2,
           2,
           2,
           2,
           2,
           2,
           2,
           2,
           2,
           2,
           2,
           2,
           2,
           2,
           2,
           2,
           2,
           2,
           2,
           2,
           2,
           2,
           2,
           2,
           2,
           2,
           2,
           2,
           2,
           0,
           0,
           0,
           0,
           0,
           0,
           0,
           0,
           0,
           0,
           0,
           0,
           0,
           2,
           0,
           0,
           2,
           0,
           0,
           0,
           0,
           1,
           1,
           1,
           1,
           1,
           1,
           1,
           1,
           1,
           1,
           1,
           1,
           1,
           1,
           1,
           1,
           1,
           1,
           1,
           1,
           1,
           1,
           1,
           1,
           1,
           1,
           1,
           1,
           1,
           1,
           1,
           1,
           1,
           1,
           1,
           1,
           1,
           1,
           1
          ],
          "size": 10
         },
         "mode": "markers",
         "type": "scatter",
         "x": [
          0.148461329811599,
          0.19315591264245888,
          0.19071111879894675,
          0.25605866857638965,
          0.2448856765646347,
          0.20725885485335813,
          0.16684598302868545,
          0.18923214798902005,
          0.24008211354807174,
          0.25390532936002286,
          0.26890055071121377,
          0.20891854692585854,
          0.17058296121143413,
          0.14529222374203354,
          0.1973733713439304,
          0.17221801732951367,
          0.21756631238626462,
          0.15641185773496602,
          0.11520635875713126,
          0.13591947934815773,
          0.11269629074727706,
          0.1563947626158792,
          0.18132852699227248,
          0.19727316903161402,
          0.16134784526940388,
          0.16966269811268012,
          0.1535041312780288,
          0.16889862952081539,
          0.16415028159106568,
          0.21491410280850864,
          0.21030540679120066,
          0.043419150252636325,
          -0.023817538274400158,
          -0.055324270640287776,
          -0.013245059292617534,
          0.02671307817737416,
          0.00036487077128719486,
          0.04173808378905358,
          -0.018263770270343063,
          -0.05204210654621426,
          0.051058949781267134,
          0.04853432212208109,
          0.011901567584352336,
          0.061088888836095465,
          0.1247847031409748,
          0.0496966356659951,
          0.07068795753511796,
          0.14886900692955746,
          0.02718661423090806,
          -0.08375974640133685,
          -0.09084509788121323,
          -0.046198429603138545,
          -0.10057338375936403,
          -0.12319822737931388,
          -0.13642250193594024,
          -0.10677538576867372,
          -0.11444001910524669,
          -0.1612360101253425,
          -0.11138011666147377,
          -0.1820939569012195,
          -0.22528792845146334,
          -0.23615957961027456,
          -0.20853391998904577,
          -0.22235174506712152,
          -0.1901404509008535,
          -0.2070636924779644,
          -0.20049026186703153,
          -0.20731140735283846,
          -0.11785515005794624,
          -0.09275710358062449,
          -0.10688361548667222,
          -0.11838736127681604,
          -0.19253270512640294,
          -0.15502459092319792,
          -0.23391489923888092,
          -0.20746402246532158,
          -0.15962872162628602,
          -0.16555865513074416,
          -0.15146042869577014,
          -0.16621615211203422,
          -0.11672144528262197,
          -0.12024080144012389,
          -0.1571036242177056,
          -0.17991311886105893,
          -0.19839356395919552,
          -0.21346140755468565,
          -0.13166068221029167,
          -0.12799028015998504,
          -0.09094674578162705,
          -0.0747466614277041,
          -0.07969014536072123
         ],
         "y": [
          -0.08974713053275944,
          -0.13629839287661183,
          -0.15504610871291924,
          -0.16431804557734891,
          -0.13714013554470417,
          -0.06816348968906685,
          -0.012684594558082915,
          -0.013661161868732993,
          -0.11517815874937752,
          -0.13735017418388584,
          -0.14841307653339825,
          -0.15124495988607248,
          -0.012867026422732412,
          -0.018405196055859642,
          -0.023340255665373726,
          0.05816052880420953,
          -0.03834985131626689,
          -0.03354053906584439,
          0.054164390024325895,
          -0.010522841929878813,
          0.031751836619797684,
          -0.0821874526807093,
          -0.11416658368963888,
          -0.02546075792747324,
          0.034951594164129386,
          0.06793847797735847,
          0.006573558870351384,
          -0.00034396761585635396,
          -0.007274895436589365,
          -0.049861072960169756,
          0.002260767578848881,
          0.12125029865329785,
          0.18831676466684955,
          0.1812807890152982,
          0.2150763367985062,
          0.20076896106668352,
          0.19840437212621465,
          0.029572051106476368,
          0.20654632478501583,
          0.2606493915050286,
          0.11615397891192904,
          0.16936241358703585,
          0.11387563330648325,
          0.11534794177773255,
          0.06230160585993828,
          0.12526695979549288,
          0.17697872266517928,
          0.12229078651448767,
          0.2445457212194328,
          0.23954618775622302,
          0.23015633004191632,
          0.17216454684923363,
          0.1459966778398653,
          0.015572604916517286,
          -0.017285302940426638,
          -0.07648676487505003,
          -0.07468639577985393,
          -0.06675734966194875,
          0.028057864722991877,
          0.07339820602949852,
          -0.0397375424506076,
          0.005836947629810796,
          0.06489905301542462,
          -0.04789549835171634,
          -0.13084664783056343,
          -0.127953561973779,
          -0.055631452270809637,
          0.026095919411497668,
          0.07755600003847012,
          0.11067150093735106,
          0.07573391394243661,
          0.06545188226642154,
          0.11674521034208193,
          0.0017951362289711482,
          -0.09881760041640608,
          -0.14555766128076222,
          -0.14842067230422232,
          -0.2275108774066252,
          -0.11036249038087799,
          -0.13480914741652494,
          -0.21051213552084788,
          -0.1551018075151817,
          -0.07687497774544923,
          -0.07683406974694514,
          -0.13252337810830886,
          -0.13337284885141204,
          -0.1385353880664891,
          -0.11533338978608808,
          -0.018565716906859302,
          -0.11382370011260491,
          -0.13366594218910127
         ]
        }
       ],
       "layout": {
        "template": {
         "data": {
          "bar": [
           {
            "error_x": {
             "color": "#2a3f5f"
            },
            "error_y": {
             "color": "#2a3f5f"
            },
            "marker": {
             "line": {
              "color": "#E5ECF6",
              "width": 0.5
             },
             "pattern": {
              "fillmode": "overlay",
              "size": 10,
              "solidity": 0.2
             }
            },
            "type": "bar"
           }
          ],
          "barpolar": [
           {
            "marker": {
             "line": {
              "color": "#E5ECF6",
              "width": 0.5
             },
             "pattern": {
              "fillmode": "overlay",
              "size": 10,
              "solidity": 0.2
             }
            },
            "type": "barpolar"
           }
          ],
          "carpet": [
           {
            "aaxis": {
             "endlinecolor": "#2a3f5f",
             "gridcolor": "white",
             "linecolor": "white",
             "minorgridcolor": "white",
             "startlinecolor": "#2a3f5f"
            },
            "baxis": {
             "endlinecolor": "#2a3f5f",
             "gridcolor": "white",
             "linecolor": "white",
             "minorgridcolor": "white",
             "startlinecolor": "#2a3f5f"
            },
            "type": "carpet"
           }
          ],
          "choropleth": [
           {
            "colorbar": {
             "outlinewidth": 0,
             "ticks": ""
            },
            "type": "choropleth"
           }
          ],
          "contour": [
           {
            "colorbar": {
             "outlinewidth": 0,
             "ticks": ""
            },
            "colorscale": [
             [
              0,
              "#0d0887"
             ],
             [
              0.1111111111111111,
              "#46039f"
             ],
             [
              0.2222222222222222,
              "#7201a8"
             ],
             [
              0.3333333333333333,
              "#9c179e"
             ],
             [
              0.4444444444444444,
              "#bd3786"
             ],
             [
              0.5555555555555556,
              "#d8576b"
             ],
             [
              0.6666666666666666,
              "#ed7953"
             ],
             [
              0.7777777777777778,
              "#fb9f3a"
             ],
             [
              0.8888888888888888,
              "#fdca26"
             ],
             [
              1,
              "#f0f921"
             ]
            ],
            "type": "contour"
           }
          ],
          "contourcarpet": [
           {
            "colorbar": {
             "outlinewidth": 0,
             "ticks": ""
            },
            "type": "contourcarpet"
           }
          ],
          "heatmap": [
           {
            "colorbar": {
             "outlinewidth": 0,
             "ticks": ""
            },
            "colorscale": [
             [
              0,
              "#0d0887"
             ],
             [
              0.1111111111111111,
              "#46039f"
             ],
             [
              0.2222222222222222,
              "#7201a8"
             ],
             [
              0.3333333333333333,
              "#9c179e"
             ],
             [
              0.4444444444444444,
              "#bd3786"
             ],
             [
              0.5555555555555556,
              "#d8576b"
             ],
             [
              0.6666666666666666,
              "#ed7953"
             ],
             [
              0.7777777777777778,
              "#fb9f3a"
             ],
             [
              0.8888888888888888,
              "#fdca26"
             ],
             [
              1,
              "#f0f921"
             ]
            ],
            "type": "heatmap"
           }
          ],
          "heatmapgl": [
           {
            "colorbar": {
             "outlinewidth": 0,
             "ticks": ""
            },
            "colorscale": [
             [
              0,
              "#0d0887"
             ],
             [
              0.1111111111111111,
              "#46039f"
             ],
             [
              0.2222222222222222,
              "#7201a8"
             ],
             [
              0.3333333333333333,
              "#9c179e"
             ],
             [
              0.4444444444444444,
              "#bd3786"
             ],
             [
              0.5555555555555556,
              "#d8576b"
             ],
             [
              0.6666666666666666,
              "#ed7953"
             ],
             [
              0.7777777777777778,
              "#fb9f3a"
             ],
             [
              0.8888888888888888,
              "#fdca26"
             ],
             [
              1,
              "#f0f921"
             ]
            ],
            "type": "heatmapgl"
           }
          ],
          "histogram": [
           {
            "marker": {
             "pattern": {
              "fillmode": "overlay",
              "size": 10,
              "solidity": 0.2
             }
            },
            "type": "histogram"
           }
          ],
          "histogram2d": [
           {
            "colorbar": {
             "outlinewidth": 0,
             "ticks": ""
            },
            "colorscale": [
             [
              0,
              "#0d0887"
             ],
             [
              0.1111111111111111,
              "#46039f"
             ],
             [
              0.2222222222222222,
              "#7201a8"
             ],
             [
              0.3333333333333333,
              "#9c179e"
             ],
             [
              0.4444444444444444,
              "#bd3786"
             ],
             [
              0.5555555555555556,
              "#d8576b"
             ],
             [
              0.6666666666666666,
              "#ed7953"
             ],
             [
              0.7777777777777778,
              "#fb9f3a"
             ],
             [
              0.8888888888888888,
              "#fdca26"
             ],
             [
              1,
              "#f0f921"
             ]
            ],
            "type": "histogram2d"
           }
          ],
          "histogram2dcontour": [
           {
            "colorbar": {
             "outlinewidth": 0,
             "ticks": ""
            },
            "colorscale": [
             [
              0,
              "#0d0887"
             ],
             [
              0.1111111111111111,
              "#46039f"
             ],
             [
              0.2222222222222222,
              "#7201a8"
             ],
             [
              0.3333333333333333,
              "#9c179e"
             ],
             [
              0.4444444444444444,
              "#bd3786"
             ],
             [
              0.5555555555555556,
              "#d8576b"
             ],
             [
              0.6666666666666666,
              "#ed7953"
             ],
             [
              0.7777777777777778,
              "#fb9f3a"
             ],
             [
              0.8888888888888888,
              "#fdca26"
             ],
             [
              1,
              "#f0f921"
             ]
            ],
            "type": "histogram2dcontour"
           }
          ],
          "mesh3d": [
           {
            "colorbar": {
             "outlinewidth": 0,
             "ticks": ""
            },
            "type": "mesh3d"
           }
          ],
          "parcoords": [
           {
            "line": {
             "colorbar": {
              "outlinewidth": 0,
              "ticks": ""
             }
            },
            "type": "parcoords"
           }
          ],
          "pie": [
           {
            "automargin": true,
            "type": "pie"
           }
          ],
          "scatter": [
           {
            "fillpattern": {
             "fillmode": "overlay",
             "size": 10,
             "solidity": 0.2
            },
            "type": "scatter"
           }
          ],
          "scatter3d": [
           {
            "line": {
             "colorbar": {
              "outlinewidth": 0,
              "ticks": ""
             }
            },
            "marker": {
             "colorbar": {
              "outlinewidth": 0,
              "ticks": ""
             }
            },
            "type": "scatter3d"
           }
          ],
          "scattercarpet": [
           {
            "marker": {
             "colorbar": {
              "outlinewidth": 0,
              "ticks": ""
             }
            },
            "type": "scattercarpet"
           }
          ],
          "scattergeo": [
           {
            "marker": {
             "colorbar": {
              "outlinewidth": 0,
              "ticks": ""
             }
            },
            "type": "scattergeo"
           }
          ],
          "scattergl": [
           {
            "marker": {
             "colorbar": {
              "outlinewidth": 0,
              "ticks": ""
             }
            },
            "type": "scattergl"
           }
          ],
          "scattermapbox": [
           {
            "marker": {
             "colorbar": {
              "outlinewidth": 0,
              "ticks": ""
             }
            },
            "type": "scattermapbox"
           }
          ],
          "scatterpolar": [
           {
            "marker": {
             "colorbar": {
              "outlinewidth": 0,
              "ticks": ""
             }
            },
            "type": "scatterpolar"
           }
          ],
          "scatterpolargl": [
           {
            "marker": {
             "colorbar": {
              "outlinewidth": 0,
              "ticks": ""
             }
            },
            "type": "scatterpolargl"
           }
          ],
          "scatterternary": [
           {
            "marker": {
             "colorbar": {
              "outlinewidth": 0,
              "ticks": ""
             }
            },
            "type": "scatterternary"
           }
          ],
          "surface": [
           {
            "colorbar": {
             "outlinewidth": 0,
             "ticks": ""
            },
            "colorscale": [
             [
              0,
              "#0d0887"
             ],
             [
              0.1111111111111111,
              "#46039f"
             ],
             [
              0.2222222222222222,
              "#7201a8"
             ],
             [
              0.3333333333333333,
              "#9c179e"
             ],
             [
              0.4444444444444444,
              "#bd3786"
             ],
             [
              0.5555555555555556,
              "#d8576b"
             ],
             [
              0.6666666666666666,
              "#ed7953"
             ],
             [
              0.7777777777777778,
              "#fb9f3a"
             ],
             [
              0.8888888888888888,
              "#fdca26"
             ],
             [
              1,
              "#f0f921"
             ]
            ],
            "type": "surface"
           }
          ],
          "table": [
           {
            "cells": {
             "fill": {
              "color": "#EBF0F8"
             },
             "line": {
              "color": "white"
             }
            },
            "header": {
             "fill": {
              "color": "#C8D4E3"
             },
             "line": {
              "color": "white"
             }
            },
            "type": "table"
           }
          ]
         },
         "layout": {
          "annotationdefaults": {
           "arrowcolor": "#2a3f5f",
           "arrowhead": 0,
           "arrowwidth": 1
          },
          "autotypenumbers": "strict",
          "coloraxis": {
           "colorbar": {
            "outlinewidth": 0,
            "ticks": ""
           }
          },
          "colorscale": {
           "diverging": [
            [
             0,
             "#8e0152"
            ],
            [
             0.1,
             "#c51b7d"
            ],
            [
             0.2,
             "#de77ae"
            ],
            [
             0.3,
             "#f1b6da"
            ],
            [
             0.4,
             "#fde0ef"
            ],
            [
             0.5,
             "#f7f7f7"
            ],
            [
             0.6,
             "#e6f5d0"
            ],
            [
             0.7,
             "#b8e186"
            ],
            [
             0.8,
             "#7fbc41"
            ],
            [
             0.9,
             "#4d9221"
            ],
            [
             1,
             "#276419"
            ]
           ],
           "sequential": [
            [
             0,
             "#0d0887"
            ],
            [
             0.1111111111111111,
             "#46039f"
            ],
            [
             0.2222222222222222,
             "#7201a8"
            ],
            [
             0.3333333333333333,
             "#9c179e"
            ],
            [
             0.4444444444444444,
             "#bd3786"
            ],
            [
             0.5555555555555556,
             "#d8576b"
            ],
            [
             0.6666666666666666,
             "#ed7953"
            ],
            [
             0.7777777777777778,
             "#fb9f3a"
            ],
            [
             0.8888888888888888,
             "#fdca26"
            ],
            [
             1,
             "#f0f921"
            ]
           ],
           "sequentialminus": [
            [
             0,
             "#0d0887"
            ],
            [
             0.1111111111111111,
             "#46039f"
            ],
            [
             0.2222222222222222,
             "#7201a8"
            ],
            [
             0.3333333333333333,
             "#9c179e"
            ],
            [
             0.4444444444444444,
             "#bd3786"
            ],
            [
             0.5555555555555556,
             "#d8576b"
            ],
            [
             0.6666666666666666,
             "#ed7953"
            ],
            [
             0.7777777777777778,
             "#fb9f3a"
            ],
            [
             0.8888888888888888,
             "#fdca26"
            ],
            [
             1,
             "#f0f921"
            ]
           ]
          },
          "colorway": [
           "#636efa",
           "#EF553B",
           "#00cc96",
           "#ab63fa",
           "#FFA15A",
           "#19d3f3",
           "#FF6692",
           "#B6E880",
           "#FF97FF",
           "#FECB52"
          ],
          "font": {
           "color": "#2a3f5f"
          },
          "geo": {
           "bgcolor": "white",
           "lakecolor": "white",
           "landcolor": "#E5ECF6",
           "showlakes": true,
           "showland": true,
           "subunitcolor": "white"
          },
          "hoverlabel": {
           "align": "left"
          },
          "hovermode": "closest",
          "mapbox": {
           "style": "light"
          },
          "paper_bgcolor": "white",
          "plot_bgcolor": "#E5ECF6",
          "polar": {
           "angularaxis": {
            "gridcolor": "white",
            "linecolor": "white",
            "ticks": ""
           },
           "bgcolor": "#E5ECF6",
           "radialaxis": {
            "gridcolor": "white",
            "linecolor": "white",
            "ticks": ""
           }
          },
          "scene": {
           "xaxis": {
            "backgroundcolor": "#E5ECF6",
            "gridcolor": "white",
            "gridwidth": 2,
            "linecolor": "white",
            "showbackground": true,
            "ticks": "",
            "zerolinecolor": "white"
           },
           "yaxis": {
            "backgroundcolor": "#E5ECF6",
            "gridcolor": "white",
            "gridwidth": 2,
            "linecolor": "white",
            "showbackground": true,
            "ticks": "",
            "zerolinecolor": "white"
           },
           "zaxis": {
            "backgroundcolor": "#E5ECF6",
            "gridcolor": "white",
            "gridwidth": 2,
            "linecolor": "white",
            "showbackground": true,
            "ticks": "",
            "zerolinecolor": "white"
           }
          },
          "shapedefaults": {
           "line": {
            "color": "#2a3f5f"
           }
          },
          "ternary": {
           "aaxis": {
            "gridcolor": "white",
            "linecolor": "white",
            "ticks": ""
           },
           "baxis": {
            "gridcolor": "white",
            "linecolor": "white",
            "ticks": ""
           },
           "bgcolor": "#E5ECF6",
           "caxis": {
            "gridcolor": "white",
            "linecolor": "white",
            "ticks": ""
           }
          },
          "title": {
           "x": 0.05
          },
          "xaxis": {
           "automargin": true,
           "gridcolor": "white",
           "linecolor": "white",
           "ticks": "",
           "title": {
            "standoff": 15
           },
           "zerolinecolor": "white",
           "zerolinewidth": 2
          },
          "yaxis": {
           "automargin": true,
           "gridcolor": "white",
           "linecolor": "white",
           "ticks": "",
           "title": {
            "standoff": 15
           },
           "zerolinecolor": "white",
           "zerolinewidth": 2
          }
         }
        },
        "title": {
         "text": "Gaussian Mixture Model Clustering of Alma 32"
        }
       }
      }
     },
     "metadata": {},
     "output_type": "display_data"
    }
   ],
   "source": [
    "from sklearn.cluster import KMeans\n",
    "from sklearn.decomposition import PCA\n",
    "import matplotlib.pyplot as plt\n",
    "import plotly.express as px\n",
    "from sklearn.mixture import GaussianMixture\n",
    "import plotly.graph_objects as go\n",
    "import pandas as pd\n",
    "import numpy as np\n",
    "\n",
    "# def convert_text(text):\n",
    "#     lines = []\n",
    "#     text = text.split()\n",
    "#     for i in range(0, len(text), 10):\n",
    "#         line = ' '.join(text[i:i + 10])\n",
    "#         lines.append(line)\n",
    "\n",
    "#     result = '<br>'.join(lines)\n",
    "#     # print(result)\n",
    "#     return result\n",
    "\n",
    "def convert_all_text(text):\n",
    "    for i in range(len(text)):\n",
    "        text[i] = convert_text(text[i])\n",
    "    return text\n",
    "\n",
    "text = get_texts_from_offset(alma_32_offsets, 'alma/32')\n",
    "print(text)\n",
    "\n",
    "pca = PCA(n_components=2)\n",
    "reduced_embeddings = pca.fit_transform(alma_32_embedds)\n",
    "\n",
    "kmeans = KMeans(n_clusters=3, random_state=0).fit(reduced_embeddings)\n",
    "cluster_labels = kmeans.labels_\n",
    "\n",
    "# pca = PCA(n_components=2)\n",
    "# reduced_embeddings = pca.fit_transform(alma_32_embedds)\n",
    "\n",
    "# plt.scatter(reduced_embeddings[:, 0], reduced_embeddings[:, 1], c=cluster_labels)\n",
    "# plt.title('K-Means Clustering of Text Embeddings')\n",
    "# plt.show()\n",
    "\n",
    "data = {'x': reduced_embeddings[:, 0],\n",
    "        'y': reduced_embeddings[:, 1],\n",
    "        'text_labels': convert_all_text(text),\n",
    "        'cluster_labels': cluster_labels}\n",
    "df = pd.DataFrame(data)\n",
    "\n",
    "\n",
    "fig = go.Figure(go.Scatter(\n",
    "    x=df['x'],\n",
    "    y=df['y'],\n",
    "    hovertext=df['text_labels'],\n",
    "    mode='markers',\n",
    "    marker=dict(color=cluster_labels)\n",
    "))\n",
    "\n",
    "# Customize the hovertemplate to show hovertext\n",
    "fig.update_traces(marker=dict(size=10), hovertemplate='%{hovertext}')\n",
    "fig.update_layout(title='KMeans Model Clustering of Alma 32')\n",
    "fig.show()\n",
    "\n",
    "gmm = GaussianMixture(n_components=3)\n",
    "gmm.fit(reduced_embeddings)\n",
    "cluster_labels = gmm.predict(reduced_embeddings)\n",
    "\n",
    "fig = go.Figure(go.Scatter(\n",
    "    x=df['x'],\n",
    "    y=df['y'],\n",
    "    hovertext=df['text_labels'],\n",
    "    mode='markers',\n",
    "    marker=dict(color=cluster_labels)\n",
    "))\n",
    "\n",
    "for cluster in set(cluster_labels):\n",
    "    filtered_df = df[df['cluster_labels'] == cluster]\n",
    "    text_for_cluster = filtered_df['text_labels'].tolist()\n",
    "    print(\"Cluster \" + str(cluster) + \":\")\n",
    "    for text in text_for_cluster:\n",
    "        print(' '.join(text.split(\"<br>\")))\n",
    "        print(\"\\n\")\n",
    "\n",
    "fig.update_traces(marker=dict(size=10), hovertemplate='%{hovertext}')\n",
    "fig.update_layout(title='Gaussian Mixture Model Clustering of Alma 32')\n",
    "fig.show()"
   ]
  },
  {
   "cell_type": "code",
   "execution_count": 6,
   "metadata": {},
   "outputs": [
    {
     "ename": "NameError",
     "evalue": "name 'get_texts_from_offsets' is not defined",
     "output_type": "error",
     "traceback": [
      "\u001b[1;31m---------------------------------------------------------------------------\u001b[0m",
      "\u001b[1;31mNameError\u001b[0m                                 Traceback (most recent call last)",
      "\u001b[1;32mc:\\Users\\rylee\\OneDrive\\BYU\\CS_301R\\gospel-connections\\analyze\\visualize.ipynb Cell 4\u001b[0m line \u001b[0;36m1\n\u001b[0;32m      <a href='vscode-notebook-cell:/c%3A/Users/rylee/OneDrive/BYU/CS_301R/gospel-connections/analyze/visualize.ipynb#W3sZmlsZQ%3D%3D?line=7'>8</a>\u001b[0m pca \u001b[39m=\u001b[39m PCA(n_components\u001b[39m=\u001b[39m\u001b[39m2\u001b[39m)\n\u001b[0;32m      <a href='vscode-notebook-cell:/c%3A/Users/rylee/OneDrive/BYU/CS_301R/gospel-connections/analyze/visualize.ipynb#W3sZmlsZQ%3D%3D?line=8'>9</a>\u001b[0m ne_30_100_embedds_2d \u001b[39m=\u001b[39m pca\u001b[39m.\u001b[39mfit_transform(ne_30_100_embedds)\n\u001b[1;32m---> <a href='vscode-notebook-cell:/c%3A/Users/rylee/OneDrive/BYU/CS_301R/gospel-connections/analyze/visualize.ipynb#W3sZmlsZQ%3D%3D?line=9'>10</a>\u001b[0m text \u001b[39m=\u001b[39m get_texts_from_offsets(ne_30_100_offsets)\n\u001b[0;32m     <a href='vscode-notebook-cell:/c%3A/Users/rylee/OneDrive/BYU/CS_301R/gospel-connections/analyze/visualize.ipynb#W3sZmlsZQ%3D%3D?line=10'>11</a>\u001b[0m \u001b[39m# Perform K-Means clustering\u001b[39;00m\n\u001b[0;32m     <a href='vscode-notebook-cell:/c%3A/Users/rylee/OneDrive/BYU/CS_301R/gospel-connections/analyze/visualize.ipynb#W3sZmlsZQ%3D%3D?line=11'>12</a>\u001b[0m kmeans \u001b[39m=\u001b[39m KMeans(n_clusters\u001b[39m=\u001b[39m\u001b[39m3\u001b[39m)\n",
      "\u001b[1;31mNameError\u001b[0m: name 'get_texts_from_offsets' is not defined"
     ]
    }
   ],
   "source": [
    "import plotly.express as px\n",
    "import pandas as pd\n",
    "from sklearn.cluster import KMeans\n",
    "from sklearn.decomposition import PCA\n",
    "import numpy as np\n",
    "\n",
    "# Perform PCA to reduce dimensionality for visualization\n",
    "pca = PCA(n_components=2)\n",
    "ne_30_100_embedds_2d = pca.fit_transform(ne_30_100_embedds)\n",
    "text = get_texts_from_offsets(ne_30_100_offsets)\n",
    "# Perform K-Means clustering\n",
    "kmeans = KMeans(n_clusters=3)\n",
    "kmeans.fit(ne_30_100_embedds_2d)\n",
    "labels = kmeans.labels_\n",
    "\n",
    "# Create a DataFrame for Plotly\n",
    "df = pd.DataFrame({'x': embedding_vectors_2d[:, 0],\n",
    "                   'y': embedding_vectors_2d[:, 1],\n",
    "                   'cluster': labels,\n",
    "                   'text': text})\n",
    "\n",
    "# Create a scatter plot with hover text\n",
    "fig = px.scatter(df, x='x', y='y', color='cluster', hover_data=['text'])\n",
    "\n",
    "# Customize the plot (add labels, titles, etc. if needed)\n",
    "fig.update_layout(\n",
    "    xaxis_title=\"PCA Component 1\",\n",
    "    yaxis_title=\"PCA Component 2\",\n",
    "    title=\"K-Means Clustering of Text Data (PCA Visualization)\"\n",
    ")\n",
    "\n",
    "# Show the interactive plot\n",
    "fig.show()\n",
    "\n",
    "\n",
    "\n",
    "\n",
    "\n",
    "\n",
    "\n"
   ]
  },
  {
   "cell_type": "code",
   "execution_count": null,
   "metadata": {},
   "outputs": [],
   "source": [
    "#make sure you are sending it in the right way for the method"
   ]
  },
  {
   "cell_type": "code",
   "execution_count": 19,
   "metadata": {},
   "outputs": [
    {
     "data": {
      "text/plain": [
       "'c:\\\\Users\\\\rylee\\\\OneDrive\\\\BYU\\\\CS_301R\\\\gospel-connections\\\\data'"
      ]
     },
     "execution_count": 19,
     "metadata": {},
     "output_type": "execute_result"
    }
   ],
   "source": [
    "normalized_2ne = normalize(ne_30_50_embedds, axis=1)\n",
    "normalized_isa = normalize(isa_11_50_embedds, axis=1)\n",
    "\n",
    "cos_sim = cosine_similarity(normalized_2ne, normalized_isa)\n",
    "\n",
    "svd = TruncatedSVD(n_components=2)\n",
    "\n",
    "svd_result = svd.fit_transform(cos_sim)\n",
    "\n",
    "texts1 = get_texts_from_offset(ne_30_50_offsets, '2-ne/30')\n",
    "texts2 = get_texts_from_offset(isa_11_50_offsets, 'isa/11')\n",
    "\n",
    "plot_truncatedSVD(cos_sim, texts1, texts2)"
   ]
  }
 ],
 "metadata": {
  "kernelspec": {
   "display_name": "Python 3",
   "language": "python",
   "name": "python3"
  },
  "language_info": {
   "codemirror_mode": {
    "name": "ipython",
    "version": 3
   },
   "file_extension": ".py",
   "mimetype": "text/x-python",
   "name": "python",
   "nbconvert_exporter": "python",
   "pygments_lexer": "ipython3",
   "version": "3.10.11"
  },
  "orig_nbformat": 4
 },
 "nbformat": 4,
 "nbformat_minor": 2
}
