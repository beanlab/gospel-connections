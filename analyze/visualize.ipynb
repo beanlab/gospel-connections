{
 "cells": [
  {
   "cell_type": "code",
   "execution_count": 1,
   "metadata": {},
   "outputs": [],
   "source": [
    "import pandas as pd\n",
    "import sys\n",
    "\n",
    "sys.path.append(\"..\")\n",
    "from structure import scriptures_structure\n",
    "\n",
    "alma_32_files = scriptures_structure.get_embedding_file_path('alma/32/40/20') \n",
    "alma_32_embedds = pd.read_csv(\"../\" + alma_32_files[0], header=None).to_numpy()\n",
    "alma_32_offsets = pd.read_csv(\"../\" + alma_32_files[1], header=None).to_numpy()\n",
    "\n",
    "# isa_11_files = scriptures_structure.get_embedding_file_path('isa/11/100') \n",
    "# isa_11_100_embedds = pd.read_csv(\".\" + isa_11_files[0], header=None).to_numpy()\n",
    "# isa_11_100_offsets = pd.read_csv(\".\" + isa_11_files[1], header=None).to_numpy()\n",
    "\n",
    "# ne_30_files = scriptures_structure.get_embedding_file_path('2-ne/30/50')\n",
    "# print(ne_30_files)\n",
    "# ne_30_50_embedds = pd.read_csv(\".\" + ne_30_files[0], header=None).to_numpy()\n",
    "# ne_30_50_offsets = pd.read_csv(\".\" + ne_30_files[1], header=None).to_numpy()\n",
    "\n",
    "# isa_11_files = scriptures_structure.get_embedding_file_path('isa/11/50') \n",
    "# isa_11_50_embedds = pd.read_csv(\".\" + isa_11_files[0], header=None).to_numpy()\n",
    "# isa_11_50_offsets = pd.read_csv(\".\" + isa_11_files[1], header=None).to_numpy()\n",
    "\n",
    "    "
   ]
  },
  {
   "cell_type": "code",
   "execution_count": 2,
   "metadata": {},
   "outputs": [],
   "source": [
    "def get_texts_from_offset(offsets, book_chapter):\n",
    "    text_array = []\n",
    "    text_file = \"../\" + scriptures_structure.get_text_file_path(book_chapter)\n",
    "    with open(text_file, 'r', encoding='utf-8') as file:\n",
    "        contents = file.read()\n",
    "        for offset in offsets:\n",
    "            # print(contents[offset[0]:offset[1]])\n",
    "            # print(\"-----------------------------------\")\n",
    "            text_array.append(contents[offset[0]:offset[1]])\n",
    "    return text_array"
   ]
  },
  {
   "cell_type": "code",
   "execution_count": 3,
   "metadata": {},
   "outputs": [
    {
     "name": "stdout",
     "output_type": "stream",
     "text": [
      "were not permitted to enter into their synagogues to worship God, being esteemed as filthiness; therefore they were poor; yea, they were esteemed by their brethren as dross; therefore they were poor as to things of the world; and also\n"
     ]
    }
   ],
   "source": [
    "file = \"../\" + scriptures_structure.get_text_file_path(\"alma/32\")\n",
    "with open(file, 'r', encoding='utf-8') as f:\n",
    "    f.seek(434)\n",
    "    print(f.read(668-434))\n",
    "    \n",
    "    "
   ]
  },
  {
   "cell_type": "code",
   "execution_count": 4,
   "metadata": {},
   "outputs": [],
   "source": [
    "def convert_text(text):\n",
    "    lines = []\n",
    "    text = text.split()\n",
    "    for i in range(0, len(text), 10):\n",
    "        line = ' '.join(text[i:i + 10])\n",
    "        lines.append(line)\n",
    "\n",
    "    result = '<br>'.join(lines)\n",
    "    # print(result)\n",
    "    return result\n",
    "\n",
    "text = get_texts_from_offset(alma_32_offsets, 'alma/32')\n",
    "for i in range(len(text)):\n",
    "    # print(\"----------------------------------------------------------------------\")\n",
    "    # print(text[i])\n",
    "    text[i] = convert_text(text[i])"
   ]
  },
  {
   "cell_type": "code",
   "execution_count": 7,
   "metadata": {},
   "outputs": [
    {
     "name": "stdout",
     "output_type": "stream",
     "text": [
      "['And it came to pass that they did go forth, and began to preach the word of God unto the people, entering into their synagogues, and into their houses; yea, and even they did preach the word in their streets.', 'people, entering into their synagogues, and into their houses; yea, and even they did preach the word in their streets.\\nAnd it came to pass that after much labor among them, they began to have success among the poor class', 'And it came to pass that after much labor among them, they began to have success among the poor class of people; for behold, they were cast out of the synagogues because of the coarseness of their apparel—\\nTherefore they w', 'of people; for behold, they were cast out of the synagogues because of the coarseness of their apparel—\\nTherefore they were not permitted to enter into their synagogues to worship God, being esteemed as filthiness; therefore they were poor; yea, t', 're not permitted to enter into their synagogues to worship God, being esteemed as filthiness; therefore they were poor; yea, they were esteemed by their brethren as dross; therefore they were poor as to things of the world; and also t', 'ey were esteemed by their brethren as dross; therefore they were poor as to things of the world; and also they were poor in heart.\\nNow, as Alma was teaching and speaking unto the people upon the hill Onidah, there c', 'ey were poor in heart.\\nNow, as Alma was teaching and speaking unto the people upon the hill Onidah, there came a great multitude unto him, who were those of whom we have been speaking, of whom were poor in h', 'me a great multitude unto him, who were those of whom we have been speaking, of whom were poor in heart, because of their poverty as to the things of the world.\\nAnd they came unto Alma; and the one w', 'art, because of their poverty as to the things of the world.\\nAnd they came unto Alma; and the one who was the foremost among them said unto him: Behold, what shall these my brethren do, for they are despised o', 'o was the foremost among them said unto him: Behold, what shall these my brethren do, for they are despised of all men because of their poverty, yea, and more especially by our priests; for they have cast us out o', ' all men because of their poverty, yea, and more especially by our priests; for they have cast us out of our synagogues which we have labored abundantly to build with our own hands; and they have cast us out b', ' our synagogues which we have labored abundantly to build with our own hands; and they have cast us out because of our exceeding poverty; and we have no place to worship our God; and behold, what shall we do?\\nA', 'cause of our exceeding poverty; and we have no place to worship our God; and behold, what shall we do?\\nAnd now when Alma heard this, he turned him about, his face immediately towards him, and he beheld with great j', 'd now when Alma heard this, he turned him about, his face immediately towards him, and he beheld with great joy; for he beheld that their afflictions had truly humbled them, and that they were in a preparation to hear t', 'y; for he beheld that their afflictions had truly humbled them, and that they were in a preparation to hear the word.\\nTherefore he did say no more to the other multitude; but he stretched forth his hand, and cried u', 'e word.\\nTherefore he did say no more to the other multitude; but he stretched forth his hand, and cried unto those whom he beheld, who were truly penitent, and said unto them:\\nI behold that ye are lowly in h', 'to those whom he beheld, who were truly penitent, and said unto them:\\nI behold that ye are lowly in heart; and if so, blessed are ye.\\nBehold thy brother hath said, What shall we do?—for we are cast out of ', 'art; and if so, blessed are ye.\\nBehold thy brother hath said, What shall we do?—for we are cast out of our synagogues, that we cannot worship our God.\\nBehold I say unto you, do ye suppose that ye cannot wor', 'ur synagogues, that we cannot worship our God.\\nBehold I say unto you, do ye suppose that ye cannot worship God save it be in your synagogues only?\\nAnd moreover, I would ask, do ye suppose that ye must not', 'hip God save it be in your synagogues only?\\nAnd moreover, I would ask, do ye suppose that ye must not worship God only once in a week?\\nI say unto you, it is well that ye are cast out of ', 'worship God only once in a week?\\nI say unto you, it is well that ye are cast out of your synagogues, that ye may be humble, and that ye may learn wisdom; for it is necessary that ye sho', 'our synagogues, that ye may be humble, and that ye may learn wisdom; for it is necessary that ye should learn wisdom; for it is because that ye are cast out, that ye are despised of your brethren because of ', 'ld learn wisdom; for it is because that ye are cast out, that ye are despised of your brethren because of your exceeding poverty, that ye are brought to a lowliness of heart; for ye are necessarily brought to be hum', 'our exceeding poverty, that ye are brought to a lowliness of heart; for ye are necessarily brought to be humble.\\nAnd now, because ye are compelled to be humble blessed are ye; for a man sometimes, if he is com', 'le.\\nAnd now, because ye are compelled to be humble blessed are ye; for a man sometimes, if he is compelled to be humble, seeketh repentance; and now surely, whosoever repenteth shall find mercy; and he that findeth mercy and end', 'elled to be humble, seeketh repentance; and now surely, whosoever repenteth shall find mercy; and he that findeth mercy and endureth to the end the same shall be saved.\\nAnd now, as I said unto you, that because ye were com', 'reth to the end the same shall be saved.\\nAnd now, as I said unto you, that because ye were compelled to be humble ye were blessed, do ye not suppose that they are more blessed who truly humble themselves bec', 'elled to be humble ye were blessed, do ye not suppose that they are more blessed who truly humble themselves because of the word?\\nYea, he that truly humbleth himself, and repenteth of his sins, and endureth to the end, the', 'use of the word?\\nYea, he that truly humbleth himself, and repenteth of his sins, and endureth to the end, the same shall be blessed—yea, much more blessed than they who are compelled to be humble because of their exceeding pover', 'same shall be blessed—yea, much more blessed than they who are compelled to be humble because of their exceeding poverty.\\nTherefore, blessed are they who humble themselves without being compelled to be humble; or rather, in other words, blessed is he', 'y.\\nTherefore, blessed are they who humble themselves without being compelled to be humble; or rather, in other words, blessed is he that believeth in the word of God, and is baptized without stubbornness of heart, yea, without being brought to kn', 'that believeth in the word of God, and is baptized without stubbornness of heart, yea, without being brought to know the word, or even compelled to know, before they will believe.\\nYea, there are many who do say: If th', 'w the word, or even compelled to know, before they will believe.\\nYea, there are many who do say: If thou wilt show unto us a sign from heaven, then we shall know of a surety; then we shall belie', 'u wilt show unto us a sign from heaven, then we shall know of a surety; then we shall believe.\\nNow I ask, is this faith? Behold, I say unto you, Nay; for if a man knoweth a thing he ha', 'e.\\nNow I ask, is this faith? Behold, I say unto you, Nay; for if a man knoweth a thing he hath no cause to believe, for he knoweth it.\\nAnd now, how much more cursed is he that knoweth the w', 'h no cause to believe, for he knoweth it.\\nAnd now, how much more cursed is he that knoweth the will of God and doeth it not, than he that only believeth, or only hath cause to believe, and falle', 'll of God and doeth it not, than he that only believeth, or only hath cause to believe, and falleth into transgression?\\nNow of this thing ye must judge. Behold, I say unto you, that it is on the one h', 'h into transgression?\\nNow of this thing ye must judge. Behold, I say unto you, that it is on the one hand even as it is on the other; and it shall be unto every man according to his work.\\nAnd n', 'nd even as it is on the other; and it shall be unto every man according to his work.\\nAnd now as I said concerning faith—faith is not to have a perfect knowledge of things; therefore if ye have faith y', 'w as I said concerning faith—faith is not to have a perfect knowledge of things; therefore if ye have faith ye hope for things which are not seen, which are true.\\nAnd now, behold, I say unto you, and I would', ' hope for things which are not seen, which are true.\\nAnd now, behold, I say unto you, and I would that ye should remember, that God is merciful unto all who believe on his name; therefore he desireth, in the ', 'that ye should remember, that God is merciful unto all who believe on his name; therefore he desireth, in the first place, that ye should believe, yea, even on his word.\\nAnd now, he imparteth his word by angels ', 'irst place, that ye should believe, yea, even on his word.\\nAnd now, he imparteth his word by angels unto men, yea, not only men but women also. Now this is not all; little children do have words given u', 'nto men, yea, not only men but women also. Now this is not all; little children do have words given unto them many times, which confound the wise and the learned.\\nAnd now, my beloved brethren, as ye have desired', 'to them many times, which confound the wise and the learned.\\nAnd now, my beloved brethren, as ye have desired to know of me what ye shall do because ye are afflicted and cast out—now I do not desire that ye s', 'to know of me what ye shall do because ye are afflicted and cast out—now I do not desire that ye should suppose that I mean to judge you only according to that which is true—\\nFor I do not mean th', 'ould suppose that I mean to judge you only according to that which is true—\\nFor I do not mean that ye all of you have been compelled to humble yourselves; for I verily believe that there are some among ', 't ye all of you have been compelled to humble yourselves; for I verily believe that there are some among you who would humble themselves, let them be in whatsoever circumstances they might.\\nNow, as I said concerning faith—that ', 'ou who would humble themselves, let them be in whatsoever circumstances they might.\\nNow, as I said concerning faith—that it was not a perfect knowledge—even so it is with my words. Ye cannot know of their surety at first, unto per', 't was not a perfect knowledge—even so it is with my words. Ye cannot know of their surety at first, unto perfection, any more than faith is a perfect knowledge.\\nBut behold, if ye will awake and arouse your faculties, even', 'ection, any more than faith is a perfect knowledge.\\nBut behold, if ye will awake and arouse your faculties, even to an experiment upon my words, and exercise a particle of faith, yea, even if ye can no more than desir', 'to an experiment upon my words, and exercise a particle of faith, yea, even if ye can no more than desire to believe, let this desire work in you, even until ye believe in a manner that ye can give place ', ' to believe, let this desire work in you, even until ye believe in a manner that ye can give place for a portion of my words.\\nNow, we will compare the word unto a seed. Now, if ye give place, ', 'or a portion of my words.\\nNow, we will compare the word unto a seed. Now, if ye give place, that a seed may be planted in your heart, behold, if it be a true seed, or a good seed, if', 'hat a seed may be planted in your heart, behold, if it be a true seed, or a good seed, if ye do not cast it out by your unbelief, that ye will resist the Spirit of the Lord, behol', 'ye do not cast it out by your unbelief, that ye will resist the Spirit of the Lord, behold, it will begin to swell within your breasts; and when you feel these swelling motions, ye will begin to say wi', ', it will begin to swell within your breasts; and when you feel these swelling motions, ye will begin to say within yourselves—It must needs be that this is a good seed, or that the word is good, for it beginneth ', 'hin yourselves—It must needs be that this is a good seed, or that the word is good, for it beginneth to enlarge my soul; yea, it beginneth to enlighten my understanding, yea, it beginneth to be delicious to me.\\nNow behold', 'o enlarge my soul; yea, it beginneth to enlighten my understanding, yea, it beginneth to be delicious to me.\\nNow behold, would not this increase your faith? I say unto you, Yea; nevertheless it hath not grown up to a perfect k', ' would not this increase your faith? I say unto you, Yea; nevertheless it hath not grown up to a perfect knowledge.\\nBut behold, as the seed swelleth, and sprouteth, and beginneth to grow, then you must needs say that th', 'owledge.\\nBut behold, as the seed swelleth, and sprouteth, and beginneth to grow, then you must needs say that the seed is good; for behold it swelleth, and sprouteth, and beginneth to grow. And now, behold, will not this str', ' seed is good; for behold it swelleth, and sprouteth, and beginneth to grow. And now, behold, will not this strengthen your faith? Yea, it will strengthen your faith: for ye will say I know that this is a good seed; f', 'ngthen your faith? Yea, it will strengthen your faith: for ye will say I know that this is a good seed; for behold it sprouteth and beginneth to grow.\\nAnd now, behold, are ye sure that this is a good seed? I', 'r behold it sprouteth and beginneth to grow.\\nAnd now, behold, are ye sure that this is a good seed? I say unto you, Yea; for every seed bringeth forth unto its own likeness.\\nTherefore, if a seed groweth it', 'say unto you, Yea; for every seed bringeth forth unto its own likeness.\\nTherefore, if a seed groweth it is good, but if it groweth not, behold it is not good, therefore it is cast away.\\nAnd now, be', 'is good, but if it groweth not, behold it is not good, therefore it is cast away.\\nAnd now, behold, because ye have tried the experiment, and planted the seed, and it swelleth and sprouteth, and beginneth to grow', 'old, because ye have tried the experiment, and planted the seed, and it swelleth and sprouteth, and beginneth to grow, ye must needs know that the seed is good.\\nAnd now, behold, is your knowledge perfect? Yea, your knowledge is', ' ye must needs know that the seed is good.\\nAnd now, behold, is your knowledge perfect? Yea, your knowledge is perfect in that thing, and your faith is dormant; and this because you know, for ye know that the word hat', 'perfect in that thing, and your faith is dormant; and this because you know, for ye know that the word hath swelled your souls, and ye also know that it hath sprouted up, that your understanding doth begin to be enlig', ' swelled your souls, and ye also know that it hath sprouted up, that your understanding doth begin to be enlightened, and your mind doth begin to expand.\\nO then, is not this real? I say unto you, Yea, because', 'tened, and your mind doth begin to expand.\\nO then, is not this real? I say unto you, Yea, because it is light; and whatsoever is light, is good, because it is discernible, therefore ye must know that it is good; ', 'it is light; and whatsoever is light, is good, because it is discernible, therefore ye must know that it is good; and now behold, after ye have tasted this light is your knowledge perfect?\\nBehold I say unto you, Nay; ne', 'nd now behold, after ye have tasted this light is your knowledge perfect?\\nBehold I say unto you, Nay; neither must ye lay aside your faith, for ye have only exercised your faith to plant the seed that ye migh', 'ther must ye lay aside your faith, for ye have only exercised your faith to plant the seed that ye might try the experiment to know if the seed was good.\\nAnd behold, as the tree beginneth to grow, ye will ', ' try the experiment to know if the seed was good.\\nAnd behold, as the tree beginneth to grow, ye will say: Let us nourish it with great care, that it may get root, that it may grow up, and brin', 'ay: Let us nourish it with great care, that it may get root, that it may grow up, and bring forth fruit unto us. And now behold, if ye nourish it with much care it will get root, and gro', ' forth fruit unto us. And now behold, if ye nourish it with much care it will get root, and grow up, and bring forth fruit.\\nBut if ye neglect the tree, and take no thought for its nourishment, ', ' up, and bring forth fruit.\\nBut if ye neglect the tree, and take no thought for its nourishment, behold it will not get any root; and when the heat of the sun cometh and scorcheth it, because it hath n', 'ehold it will not get any root; and when the heat of the sun cometh and scorcheth it, because it hath no root it withers away, and ye pluck it up and cast it out.\\nNow, this is not because the s', ' root it withers away, and ye pluck it up and cast it out.\\nNow, this is not because the seed was not good, neither is it because the fruit thereof would not be desirable; but it is because your g', 'ed was not good, neither is it because the fruit thereof would not be desirable; but it is because your ground is barren, and ye will not nourish the tree, therefore ye cannot have the fruit thereof.\\nAnd thus, if ye w', 'ound is barren, and ye will not nourish the tree, therefore ye cannot have the fruit thereof.\\nAnd thus, if ye will not nourish the word, looking forward with an eye of faith to the fruit thereof, ye can never pluc', 'll not nourish the word, looking forward with an eye of faith to the fruit thereof, ye can never pluck of the fruit of the tree of life.\\nBut if ye will nourish the word, yea, nourish the tree ', ' of the fruit of the tree of life.\\nBut if ye will nourish the word, yea, nourish the tree as it beginneth to grow, by your faith with great diligence, and with patience, looking forward to the fruit thereof', 's it beginneth to grow, by your faith with great diligence, and with patience, looking forward to the fruit thereof, it shall take root; and behold it shall be a tree springing up unto everlasting life.\\nAnd because of your d', ' it shall take root; and behold it shall be a tree springing up unto everlasting life.\\nAnd because of your diligence and your faith and your patience with the word in nourishing it, that it may take root in you, beho', 'ligence and your faith and your patience with the word in nourishing it, that it may take root in you, behold, by and by ye shall pluck the fruit thereof, which is most precious, which is sweet above all that is', 'd, by and by ye shall pluck the fruit thereof, which is most precious, which is sweet above all that is sweet, and which is white above all that is white, yea, and pure above all that is pure; and ye s', 'sweet, and which is white above all that is white, yea, and pure above all that is pure; and ye shall feast upon this fruit even until ye are filled, that ye hunger not, neither shall ye thirst.\\nThen, ', 'all feast upon this fruit even until ye are filled, that ye hunger not, neither shall ye thirst.\\nThen, my brethren, ye shall reap the rewards of your faith, and your diligence, and patience, and long-suffering, waiting for the t', 'y brethren, ye shall reap the rewards of your faith, and your diligence, and patience, and long-suffering, waiting for the tree to bring forth fruit unto you.']\n"
     ]
    },
    {
     "name": "stderr",
     "output_type": "stream",
     "text": [
      "C:\\Users\\rylee\\AppData\\Local\\Packages\\PythonSoftwareFoundation.Python.3.10_qbz5n2kfra8p0\\LocalCache\\local-packages\\Python310\\site-packages\\sklearn\\cluster\\_kmeans.py:870: FutureWarning:\n",
      "\n",
      "The default value of `n_init` will change from 10 to 'auto' in 1.4. Set the value of `n_init` explicitly to suppress the warning\n",
      "\n"
     ]
    },
    {
     "data": {
      "application/vnd.plotly.v1+json": {
       "config": {
        "plotlyServerURL": "https://plot.ly"
       },
       "data": [
        {
         "hovertemplate": "%{hovertext}",
         "hovertext": [
          "And it came to pass that they did go forth,<br>and began to preach the word of God unto the<br>people, entering into their synagogues, and into their houses; yea,<br>and even they did preach the word in their streets.",
          "people, entering into their synagogues, and into their houses; yea,<br>and even they did preach the word in their streets.<br>And it came to pass that after much labor among<br>them, they began to have success among the poor class",
          "And it came to pass that after much labor among<br>them, they began to have success among the poor class<br>of people; for behold, they were cast out of the<br>synagogues because of the coarseness of their apparel— Therefore they<br>w",
          "of people; for behold, they were cast out of the<br>synagogues because of the coarseness of their apparel— Therefore they<br>were not permitted to enter into their synagogues to worship<br>God, being esteemed as filthiness; therefore they were poor; yea,<br>t",
          "re not permitted to enter into their synagogues to worship<br>God, being esteemed as filthiness; therefore they were poor; yea,<br>they were esteemed by their brethren as dross; therefore they<br>were poor as to things of the world; and also<br>t",
          "ey were esteemed by their brethren as dross; therefore they<br>were poor as to things of the world; and also<br>they were poor in heart. Now, as Alma was teaching<br>and speaking unto the people upon the hill Onidah, there<br>c",
          "ey were poor in heart. Now, as Alma was teaching<br>and speaking unto the people upon the hill Onidah, there<br>came a great multitude unto him, who were those of<br>whom we have been speaking, of whom were poor in<br>h",
          "me a great multitude unto him, who were those of<br>whom we have been speaking, of whom were poor in<br>heart, because of their poverty as to the things of<br>the world. And they came unto Alma; and the one<br>w",
          "art, because of their poverty as to the things of<br>the world. And they came unto Alma; and the one<br>who was the foremost among them said unto him: Behold,<br>what shall these my brethren do, for they are despised<br>o",
          "o was the foremost among them said unto him: Behold,<br>what shall these my brethren do, for they are despised<br>of all men because of their poverty, yea, and more<br>especially by our priests; for they have cast us out<br>o",
          "all men because of their poverty, yea, and more especially<br>by our priests; for they have cast us out of<br>our synagogues which we have labored abundantly to build with<br>our own hands; and they have cast us out b",
          "our synagogues which we have labored abundantly to build with<br>our own hands; and they have cast us out because<br>of our exceeding poverty; and we have no place to<br>worship our God; and behold, what shall we do? A",
          "cause of our exceeding poverty; and we have no place<br>to worship our God; and behold, what shall we do?<br>And now when Alma heard this, he turned him about,<br>his face immediately towards him, and he beheld with great<br>j",
          "d now when Alma heard this, he turned him about,<br>his face immediately towards him, and he beheld with great<br>joy; for he beheld that their afflictions had truly humbled<br>them, and that they were in a preparation to hear<br>t",
          "y; for he beheld that their afflictions had truly humbled<br>them, and that they were in a preparation to hear<br>the word. Therefore he did say no more to the<br>other multitude; but he stretched forth his hand, and cried<br>u",
          "e word. Therefore he did say no more to the<br>other multitude; but he stretched forth his hand, and cried<br>unto those whom he beheld, who were truly penitent, and<br>said unto them: I behold that ye are lowly in<br>h",
          "to those whom he beheld, who were truly penitent, and<br>said unto them: I behold that ye are lowly in<br>heart; and if so, blessed are ye. Behold thy brother<br>hath said, What shall we do?—for we are cast out<br>of",
          "art; and if so, blessed are ye. Behold thy brother<br>hath said, What shall we do?—for we are cast out<br>of our synagogues, that we cannot worship our God. Behold<br>I say unto you, do ye suppose that ye cannot<br>wor",
          "ur synagogues, that we cannot worship our God. Behold I<br>say unto you, do ye suppose that ye cannot worship<br>God save it be in your synagogues only? And moreover,<br>I would ask, do ye suppose that ye must not",
          "hip God save it be in your synagogues only? And<br>moreover, I would ask, do ye suppose that ye must<br>not worship God only once in a week? I say<br>unto you, it is well that ye are cast out<br>of",
          "worship God only once in a week? I say unto<br>you, it is well that ye are cast out of<br>your synagogues, that ye may be humble, and that ye<br>may learn wisdom; for it is necessary that ye sho",
          "our synagogues, that ye may be humble, and that ye<br>may learn wisdom; for it is necessary that ye should<br>learn wisdom; for it is because that ye are cast<br>out, that ye are despised of your brethren because of",
          "ld learn wisdom; for it is because that ye are<br>cast out, that ye are despised of your brethren because<br>of your exceeding poverty, that ye are brought to a<br>lowliness of heart; for ye are necessarily brought to be<br>hum",
          "our exceeding poverty, that ye are brought to a lowliness<br>of heart; for ye are necessarily brought to be humble.<br>And now, because ye are compelled to be humble blessed<br>are ye; for a man sometimes, if he is com",
          "le. And now, because ye are compelled to be humble<br>blessed are ye; for a man sometimes, if he is<br>compelled to be humble, seeketh repentance; and now surely, whosoever<br>repenteth shall find mercy; and he that findeth mercy and<br>end",
          "elled to be humble, seeketh repentance; and now surely, whosoever<br>repenteth shall find mercy; and he that findeth mercy and<br>endureth to the end the same shall be saved. And<br>now, as I said unto you, that because ye were<br>com",
          "reth to the end the same shall be saved. And<br>now, as I said unto you, that because ye were<br>compelled to be humble ye were blessed, do ye not<br>suppose that they are more blessed who truly humble themselves<br>bec",
          "elled to be humble ye were blessed, do ye not<br>suppose that they are more blessed who truly humble themselves<br>because of the word? Yea, he that truly humbleth himself,<br>and repenteth of his sins, and endureth to the end,<br>the",
          "use of the word? Yea, he that truly humbleth himself,<br>and repenteth of his sins, and endureth to the end,<br>the same shall be blessed—yea, much more blessed than they<br>who are compelled to be humble because of their exceeding<br>pover",
          "same shall be blessed—yea, much more blessed than they who<br>are compelled to be humble because of their exceeding poverty.<br>Therefore, blessed are they who humble themselves without being compelled<br>to be humble; or rather, in other words, blessed is<br>he",
          "y. Therefore, blessed are they who humble themselves without being<br>compelled to be humble; or rather, in other words, blessed<br>is he that believeth in the word of God, and<br>is baptized without stubbornness of heart, yea, without being brought<br>to kn",
          "that believeth in the word of God, and is baptized<br>without stubbornness of heart, yea, without being brought to know<br>the word, or even compelled to know, before they will<br>believe. Yea, there are many who do say: If th",
          "w the word, or even compelled to know, before they<br>will believe. Yea, there are many who do say: If<br>thou wilt show unto us a sign from heaven, then<br>we shall know of a surety; then we shall belie",
          "u wilt show unto us a sign from heaven, then<br>we shall know of a surety; then we shall believe.<br>Now I ask, is this faith? Behold, I say unto<br>you, Nay; for if a man knoweth a thing he<br>ha",
          "e. Now I ask, is this faith? Behold, I say<br>unto you, Nay; for if a man knoweth a thing<br>he hath no cause to believe, for he knoweth it.<br>And now, how much more cursed is he that knoweth<br>the w",
          "h no cause to believe, for he knoweth it. And<br>now, how much more cursed is he that knoweth the<br>will of God and doeth it not, than he that<br>only believeth, or only hath cause to believe, and falle",
          "ll of God and doeth it not, than he that<br>only believeth, or only hath cause to believe, and falleth<br>into transgression? Now of this thing ye must judge. Behold,<br>I say unto you, that it is on the one<br>h",
          "h into transgression? Now of this thing ye must judge.<br>Behold, I say unto you, that it is on the<br>one hand even as it is on the other; and<br>it shall be unto every man according to his work.<br>And n",
          "nd even as it is on the other; and it<br>shall be unto every man according to his work. And<br>now as I said concerning faith—faith is not to have<br>a perfect knowledge of things; therefore if ye have faith<br>y",
          "w as I said concerning faith—faith is not to have<br>a perfect knowledge of things; therefore if ye have faith<br>ye hope for things which are not seen, which are<br>true. And now, behold, I say unto you, and I<br>would",
          "hope for things which are not seen, which are true.<br>And now, behold, I say unto you, and I would<br>that ye should remember, that God is merciful unto all<br>who believe on his name; therefore he desireth, in the",
          "that ye should remember, that God is merciful unto all<br>who believe on his name; therefore he desireth, in the<br>first place, that ye should believe, yea, even on his<br>word. And now, he imparteth his word by angels",
          "irst place, that ye should believe, yea, even on his<br>word. And now, he imparteth his word by angels unto<br>men, yea, not only men but women also. Now this<br>is not all; little children do have words given u",
          "nto men, yea, not only men but women also. Now<br>this is not all; little children do have words given<br>unto them many times, which confound the wise and the<br>learned. And now, my beloved brethren, as ye have desired",
          "to them many times, which confound the wise and the<br>learned. And now, my beloved brethren, as ye have desired<br>to know of me what ye shall do because ye<br>are afflicted and cast out—now I do not desire that<br>ye s",
          "to know of me what ye shall do because ye<br>are afflicted and cast out—now I do not desire that<br>ye should suppose that I mean to judge you only<br>according to that which is true— For I do not<br>mean th",
          "ould suppose that I mean to judge you only according<br>to that which is true— For I do not mean<br>that ye all of you have been compelled to humble<br>yourselves; for I verily believe that there are some among",
          "t ye all of you have been compelled to humble<br>yourselves; for I verily believe that there are some among<br>you who would humble themselves, let them be in whatsoever<br>circumstances they might. Now, as I said concerning faith—that",
          "ou who would humble themselves, let them be in whatsoever<br>circumstances they might. Now, as I said concerning faith—that it<br>was not a perfect knowledge—even so it is with my<br>words. Ye cannot know of their surety at first, unto<br>per",
          "t was not a perfect knowledge—even so it is with<br>my words. Ye cannot know of their surety at first,<br>unto perfection, any more than faith is a perfect knowledge.<br>But behold, if ye will awake and arouse your faculties,<br>even",
          "ection, any more than faith is a perfect knowledge. But<br>behold, if ye will awake and arouse your faculties, even<br>to an experiment upon my words, and exercise a particle<br>of faith, yea, even if ye can no more than<br>desir",
          "to an experiment upon my words, and exercise a particle<br>of faith, yea, even if ye can no more than<br>desire to believe, let this desire work in you, even<br>until ye believe in a manner that ye can give<br>place",
          "to believe, let this desire work in you, even until<br>ye believe in a manner that ye can give place<br>for a portion of my words. Now, we will compare<br>the word unto a seed. Now, if ye give place,",
          "or a portion of my words. Now, we will compare<br>the word unto a seed. Now, if ye give place,<br>that a seed may be planted in your heart, behold,<br>if it be a true seed, or a good seed,<br>if",
          "hat a seed may be planted in your heart, behold,<br>if it be a true seed, or a good seed,<br>if ye do not cast it out by your unbelief,<br>that ye will resist the Spirit of the Lord, behol",
          "ye do not cast it out by your unbelief, that<br>ye will resist the Spirit of the Lord, behold, it<br>will begin to swell within your breasts; and when you<br>feel these swelling motions, ye will begin to say wi",
          ", it will begin to swell within your breasts; and<br>when you feel these swelling motions, ye will begin to<br>say within yourselves—It must needs be that this is a<br>good seed, or that the word is good, for it<br>beginneth",
          "hin yourselves—It must needs be that this is a good<br>seed, or that the word is good, for it beginneth<br>to enlarge my soul; yea, it beginneth to enlighten my<br>understanding, yea, it beginneth to be delicious to me. Now<br>behold",
          "o enlarge my soul; yea, it beginneth to enlighten my<br>understanding, yea, it beginneth to be delicious to me. Now<br>behold, would not this increase your faith? I say unto<br>you, Yea; nevertheless it hath not grown up to a<br>perfect k",
          "would not this increase your faith? I say unto you,<br>Yea; nevertheless it hath not grown up to a perfect<br>knowledge. But behold, as the seed swelleth, and sprouteth, and<br>beginneth to grow, then you must needs say that th",
          "owledge. But behold, as the seed swelleth, and sprouteth, and<br>beginneth to grow, then you must needs say that the<br>seed is good; for behold it swelleth, and sprouteth, and<br>beginneth to grow. And now, behold, will not this str",
          "seed is good; for behold it swelleth, and sprouteth, and<br>beginneth to grow. And now, behold, will not this strengthen<br>your faith? Yea, it will strengthen your faith: for ye<br>will say I know that this is a good seed;<br>f",
          "ngthen your faith? Yea, it will strengthen your faith: for<br>ye will say I know that this is a good<br>seed; for behold it sprouteth and beginneth to grow. And<br>now, behold, are ye sure that this is a good<br>seed? I",
          "r behold it sprouteth and beginneth to grow. And now,<br>behold, are ye sure that this is a good seed?<br>I say unto you, Yea; for every seed bringeth forth<br>unto its own likeness. Therefore, if a seed groweth it",
          "say unto you, Yea; for every seed bringeth forth unto<br>its own likeness. Therefore, if a seed groweth it is<br>good, but if it groweth not, behold it is not<br>good, therefore it is cast away. And now, be",
          "is good, but if it groweth not, behold it is<br>not good, therefore it is cast away. And now, behold,<br>because ye have tried the experiment, and planted the seed,<br>and it swelleth and sprouteth, and beginneth to grow",
          "old, because ye have tried the experiment, and planted the<br>seed, and it swelleth and sprouteth, and beginneth to grow,<br>ye must needs know that the seed is good. And<br>now, behold, is your knowledge perfect? Yea, your knowledge is",
          "ye must needs know that the seed is good. And<br>now, behold, is your knowledge perfect? Yea, your knowledge is<br>perfect in that thing, and your faith is dormant; and<br>this because you know, for ye know that the word<br>hat",
          "perfect in that thing, and your faith is dormant; and<br>this because you know, for ye know that the word<br>hath swelled your souls, and ye also know that it<br>hath sprouted up, that your understanding doth begin to be<br>enlig",
          "swelled your souls, and ye also know that it hath<br>sprouted up, that your understanding doth begin to be enlightened,<br>and your mind doth begin to expand. O then, is<br>not this real? I say unto you, Yea, because",
          "tened, and your mind doth begin to expand. O then,<br>is not this real? I say unto you, Yea, because<br>it is light; and whatsoever is light, is good, because<br>it is discernible, therefore ye must know that it is<br>good;",
          "it is light; and whatsoever is light, is good, because<br>it is discernible, therefore ye must know that it is<br>good; and now behold, after ye have tasted this light<br>is your knowledge perfect? Behold I say unto you, Nay;<br>ne",
          "nd now behold, after ye have tasted this light is<br>your knowledge perfect? Behold I say unto you, Nay; neither<br>must ye lay aside your faith, for ye have only<br>exercised your faith to plant the seed that ye migh",
          "ther must ye lay aside your faith, for ye have<br>only exercised your faith to plant the seed that ye<br>might try the experiment to know if the seed was<br>good. And behold, as the tree beginneth to grow, ye<br>will",
          "try the experiment to know if the seed was good.<br>And behold, as the tree beginneth to grow, ye will<br>say: Let us nourish it with great care, that it<br>may get root, that it may grow up, and brin",
          "ay: Let us nourish it with great care, that it<br>may get root, that it may grow up, and bring<br>forth fruit unto us. And now behold, if ye nourish<br>it with much care it will get root, and gro",
          "forth fruit unto us. And now behold, if ye nourish<br>it with much care it will get root, and grow<br>up, and bring forth fruit. But if ye neglect the<br>tree, and take no thought for its nourishment,",
          "up, and bring forth fruit. But if ye neglect the<br>tree, and take no thought for its nourishment, behold it<br>will not get any root; and when the heat of<br>the sun cometh and scorcheth it, because it hath n",
          "ehold it will not get any root; and when the<br>heat of the sun cometh and scorcheth it, because it<br>hath no root it withers away, and ye pluck it<br>up and cast it out. Now, this is not because<br>the s",
          "root it withers away, and ye pluck it up and<br>cast it out. Now, this is not because the seed<br>was not good, neither is it because the fruit thereof<br>would not be desirable; but it is because your g",
          "ed was not good, neither is it because the fruit<br>thereof would not be desirable; but it is because your<br>ground is barren, and ye will not nourish the tree,<br>therefore ye cannot have the fruit thereof. And thus, if<br>ye w",
          "ound is barren, and ye will not nourish the tree,<br>therefore ye cannot have the fruit thereof. And thus, if<br>ye will not nourish the word, looking forward with an<br>eye of faith to the fruit thereof, ye can never<br>pluc",
          "ll not nourish the word, looking forward with an eye<br>of faith to the fruit thereof, ye can never pluck<br>of the fruit of the tree of life. But if<br>ye will nourish the word, yea, nourish the tree",
          "of the fruit of the tree of life. But if<br>ye will nourish the word, yea, nourish the tree as<br>it beginneth to grow, by your faith with great diligence,<br>and with patience, looking forward to the fruit thereof",
          "s it beginneth to grow, by your faith with great<br>diligence, and with patience, looking forward to the fruit thereof,<br>it shall take root; and behold it shall be a<br>tree springing up unto everlasting life. And because of your<br>d",
          "it shall take root; and behold it shall be a<br>tree springing up unto everlasting life. And because of your<br>diligence and your faith and your patience with the word<br>in nourishing it, that it may take root in you,<br>beho",
          "ligence and your faith and your patience with the word<br>in nourishing it, that it may take root in you,<br>behold, by and by ye shall pluck the fruit thereof,<br>which is most precious, which is sweet above all that<br>is",
          "d, by and by ye shall pluck the fruit thereof,<br>which is most precious, which is sweet above all that<br>is sweet, and which is white above all that is<br>white, yea, and pure above all that is pure; and<br>ye s",
          "sweet, and which is white above all that is white,<br>yea, and pure above all that is pure; and ye<br>shall feast upon this fruit even until ye are filled,<br>that ye hunger not, neither shall ye thirst. Then,",
          "all feast upon this fruit even until ye are filled,<br>that ye hunger not, neither shall ye thirst. Then, my<br>brethren, ye shall reap the rewards of your faith, and<br>your diligence, and patience, and long-suffering, waiting for the t",
          "y brethren, ye shall reap the rewards of your faith,<br>and your diligence, and patience, and long-suffering, waiting for the<br>tree to bring forth fruit unto you."
         ],
         "marker": {
          "color": [
           0,
           0,
           0,
           0,
           0,
           0,
           0,
           0,
           0,
           0,
           0,
           0,
           0,
           0,
           0,
           0,
           0,
           0,
           0,
           0,
           0,
           0,
           0,
           0,
           0,
           0,
           0,
           0,
           0,
           0,
           0,
           2,
           2,
           2,
           2,
           2,
           2,
           2,
           2,
           2,
           2,
           2,
           2,
           2,
           0,
           2,
           2,
           0,
           2,
           2,
           2,
           2,
           2,
           1,
           1,
           1,
           1,
           1,
           1,
           1,
           1,
           1,
           1,
           1,
           1,
           1,
           1,
           1,
           2,
           2,
           2,
           2,
           2,
           1,
           1,
           1,
           1,
           1,
           1,
           1,
           1,
           1,
           1,
           1,
           1,
           1,
           1,
           1,
           1,
           1,
           1
          ],
          "size": 10
         },
         "mode": "markers",
         "type": "scatter",
         "x": [
          0.14846130362810261,
          0.19315589916916062,
          0.1907111049272606,
          0.25605869665173353,
          0.24488572213708112,
          0.20725886916472544,
          0.16684597289567474,
          0.18923210803100846,
          0.24008211999933193,
          0.2539053672734589,
          0.26890056038465543,
          0.20891851779461093,
          0.17058286048923701,
          0.1452921653210201,
          0.1973733626509224,
          0.17221802933804234,
          0.21756632592464714,
          0.1564118684052101,
          0.11520632489904281,
          0.13591941318597894,
          0.11269617358352382,
          0.15639473019447048,
          0.18132851762915828,
          0.19727315290968023,
          0.16134777266731973,
          0.1696626324998879,
          0.1535041460072419,
          0.1688986245769941,
          0.16415027917890535,
          0.21491413901282322,
          0.21030543165563917,
          0.043419182960604444,
          -0.023817578424869028,
          -0.05532430928322792,
          -0.013245085186430907,
          0.026713054019750663,
          0.0003648677348554597,
          0.04173809493896783,
          -0.018263758507115736,
          -0.052042105500387195,
          0.051058940440062046,
          0.048534273500369894,
          0.011901576313196797,
          0.06108892452348144,
          0.12478478220155245,
          0.04969675334520299,
          0.07068807332171355,
          0.14886909620202735,
          0.02718662686478536,
          -0.08375976061862504,
          -0.09084515012169293,
          -0.04619839080604181,
          -0.10057335431002051,
          -0.12319817461799844,
          -0.13642245502795589,
          -0.1067753143666481,
          -0.11443998326765394,
          -0.1612359737533246,
          -0.11138005581052422,
          -0.1820939314434797,
          -0.2252879525737781,
          -0.2361595683533871,
          -0.20853391573305347,
          -0.22235176369188606,
          -0.19014044249550743,
          -0.2070637104549052,
          -0.2004903136545498,
          -0.20731142282358525,
          -0.11785513137770817,
          -0.09275705226044156,
          -0.10688363471936732,
          -0.11838741462323132,
          -0.19253277190817783,
          -0.15502458261839297,
          -0.23391494363231657,
          -0.20746406248463006,
          -0.15962876336212148,
          -0.1655586583383932,
          -0.15146043563323192,
          -0.1662161184308223,
          -0.11672135174597582,
          -0.12024074067701045,
          -0.15710360696856204,
          -0.1799131269043603,
          -0.19839360252314678,
          -0.21346144183900256,
          -0.1316606861796162,
          -0.12799031060833552,
          -0.09094674547050421,
          -0.07474665262251476,
          -0.07969013279860794
         ],
         "y": [
          -0.0897460415341242,
          -0.1362980789143609,
          -0.15504611848157648,
          -0.16431752219648205,
          -0.13714167320809736,
          -0.0681645218457399,
          -0.012684320094921368,
          -0.013661758448545395,
          -0.11517921372107634,
          -0.1373501550045589,
          -0.14841290412362862,
          -0.15124332678856947,
          -0.012865529359082504,
          -0.018403270935181067,
          -0.023338307378751772,
          0.058165502185836986,
          -0.03834548953212075,
          -0.0335400461771362,
          0.05416326976736064,
          -0.010523139678824766,
          0.03174911971973955,
          -0.08218865272522229,
          -0.11416765601509618,
          -0.02546078879627403,
          0.03495276369727868,
          0.06794016135430712,
          0.006574900166749504,
          -0.0003434766436207809,
          -0.007275881400894497,
          -0.04986383132348211,
          0.002256814954053213,
          0.12124515402638034,
          0.18831153281597637,
          0.18128041112368856,
          0.2150758343373566,
          0.20076662627994268,
          0.1984075678379893,
          0.02958024913445408,
          0.20655244010603754,
          0.26065224539540427,
          0.11615424014737545,
          0.16936150513003065,
          0.1138723440346897,
          0.11534254766626842,
          0.06229786149294806,
          0.1252649990593994,
          0.17697958666287636,
          0.12229307135684928,
          0.24454879756466133,
          0.23954881539372738,
          0.23015715264714473,
          0.17216146639740523,
          0.1459943018829452,
          0.015572587851297894,
          -0.01728509146284919,
          -0.07648800962674313,
          -0.07468625197596915,
          -0.06675960791771936,
          0.02805517102242773,
          0.07339813491494603,
          -0.03973464250543431,
          0.005834988803912369,
          0.06489709371187491,
          -0.04789482446548386,
          -0.13084556240116424,
          -0.12795333274848722,
          -0.0556292042954336,
          0.026097900951852382,
          0.07755669125606306,
          0.11066955797100024,
          0.07573164871032527,
          0.06545197584495167,
          0.11674823748693512,
          0.0017991432366672618,
          -0.09881819085152349,
          -0.1455598484691762,
          -0.1484201489347743,
          -0.22751106298165577,
          -0.11036567235807296,
          -0.1348123764252353,
          -0.210511118259451,
          -0.15510159986370825,
          -0.07687498508743859,
          -0.07683332392700007,
          -0.13252140703356463,
          -0.13337110083255313,
          -0.1385342027430163,
          -0.11533409519786297,
          -0.018570812882356458,
          -0.1138230192682749,
          -0.13366321725881414
         ]
        }
       ],
       "layout": {
        "template": {
         "data": {
          "bar": [
           {
            "error_x": {
             "color": "#2a3f5f"
            },
            "error_y": {
             "color": "#2a3f5f"
            },
            "marker": {
             "line": {
              "color": "#E5ECF6",
              "width": 0.5
             },
             "pattern": {
              "fillmode": "overlay",
              "size": 10,
              "solidity": 0.2
             }
            },
            "type": "bar"
           }
          ],
          "barpolar": [
           {
            "marker": {
             "line": {
              "color": "#E5ECF6",
              "width": 0.5
             },
             "pattern": {
              "fillmode": "overlay",
              "size": 10,
              "solidity": 0.2
             }
            },
            "type": "barpolar"
           }
          ],
          "carpet": [
           {
            "aaxis": {
             "endlinecolor": "#2a3f5f",
             "gridcolor": "white",
             "linecolor": "white",
             "minorgridcolor": "white",
             "startlinecolor": "#2a3f5f"
            },
            "baxis": {
             "endlinecolor": "#2a3f5f",
             "gridcolor": "white",
             "linecolor": "white",
             "minorgridcolor": "white",
             "startlinecolor": "#2a3f5f"
            },
            "type": "carpet"
           }
          ],
          "choropleth": [
           {
            "colorbar": {
             "outlinewidth": 0,
             "ticks": ""
            },
            "type": "choropleth"
           }
          ],
          "contour": [
           {
            "colorbar": {
             "outlinewidth": 0,
             "ticks": ""
            },
            "colorscale": [
             [
              0,
              "#0d0887"
             ],
             [
              0.1111111111111111,
              "#46039f"
             ],
             [
              0.2222222222222222,
              "#7201a8"
             ],
             [
              0.3333333333333333,
              "#9c179e"
             ],
             [
              0.4444444444444444,
              "#bd3786"
             ],
             [
              0.5555555555555556,
              "#d8576b"
             ],
             [
              0.6666666666666666,
              "#ed7953"
             ],
             [
              0.7777777777777778,
              "#fb9f3a"
             ],
             [
              0.8888888888888888,
              "#fdca26"
             ],
             [
              1,
              "#f0f921"
             ]
            ],
            "type": "contour"
           }
          ],
          "contourcarpet": [
           {
            "colorbar": {
             "outlinewidth": 0,
             "ticks": ""
            },
            "type": "contourcarpet"
           }
          ],
          "heatmap": [
           {
            "colorbar": {
             "outlinewidth": 0,
             "ticks": ""
            },
            "colorscale": [
             [
              0,
              "#0d0887"
             ],
             [
              0.1111111111111111,
              "#46039f"
             ],
             [
              0.2222222222222222,
              "#7201a8"
             ],
             [
              0.3333333333333333,
              "#9c179e"
             ],
             [
              0.4444444444444444,
              "#bd3786"
             ],
             [
              0.5555555555555556,
              "#d8576b"
             ],
             [
              0.6666666666666666,
              "#ed7953"
             ],
             [
              0.7777777777777778,
              "#fb9f3a"
             ],
             [
              0.8888888888888888,
              "#fdca26"
             ],
             [
              1,
              "#f0f921"
             ]
            ],
            "type": "heatmap"
           }
          ],
          "heatmapgl": [
           {
            "colorbar": {
             "outlinewidth": 0,
             "ticks": ""
            },
            "colorscale": [
             [
              0,
              "#0d0887"
             ],
             [
              0.1111111111111111,
              "#46039f"
             ],
             [
              0.2222222222222222,
              "#7201a8"
             ],
             [
              0.3333333333333333,
              "#9c179e"
             ],
             [
              0.4444444444444444,
              "#bd3786"
             ],
             [
              0.5555555555555556,
              "#d8576b"
             ],
             [
              0.6666666666666666,
              "#ed7953"
             ],
             [
              0.7777777777777778,
              "#fb9f3a"
             ],
             [
              0.8888888888888888,
              "#fdca26"
             ],
             [
              1,
              "#f0f921"
             ]
            ],
            "type": "heatmapgl"
           }
          ],
          "histogram": [
           {
            "marker": {
             "pattern": {
              "fillmode": "overlay",
              "size": 10,
              "solidity": 0.2
             }
            },
            "type": "histogram"
           }
          ],
          "histogram2d": [
           {
            "colorbar": {
             "outlinewidth": 0,
             "ticks": ""
            },
            "colorscale": [
             [
              0,
              "#0d0887"
             ],
             [
              0.1111111111111111,
              "#46039f"
             ],
             [
              0.2222222222222222,
              "#7201a8"
             ],
             [
              0.3333333333333333,
              "#9c179e"
             ],
             [
              0.4444444444444444,
              "#bd3786"
             ],
             [
              0.5555555555555556,
              "#d8576b"
             ],
             [
              0.6666666666666666,
              "#ed7953"
             ],
             [
              0.7777777777777778,
              "#fb9f3a"
             ],
             [
              0.8888888888888888,
              "#fdca26"
             ],
             [
              1,
              "#f0f921"
             ]
            ],
            "type": "histogram2d"
           }
          ],
          "histogram2dcontour": [
           {
            "colorbar": {
             "outlinewidth": 0,
             "ticks": ""
            },
            "colorscale": [
             [
              0,
              "#0d0887"
             ],
             [
              0.1111111111111111,
              "#46039f"
             ],
             [
              0.2222222222222222,
              "#7201a8"
             ],
             [
              0.3333333333333333,
              "#9c179e"
             ],
             [
              0.4444444444444444,
              "#bd3786"
             ],
             [
              0.5555555555555556,
              "#d8576b"
             ],
             [
              0.6666666666666666,
              "#ed7953"
             ],
             [
              0.7777777777777778,
              "#fb9f3a"
             ],
             [
              0.8888888888888888,
              "#fdca26"
             ],
             [
              1,
              "#f0f921"
             ]
            ],
            "type": "histogram2dcontour"
           }
          ],
          "mesh3d": [
           {
            "colorbar": {
             "outlinewidth": 0,
             "ticks": ""
            },
            "type": "mesh3d"
           }
          ],
          "parcoords": [
           {
            "line": {
             "colorbar": {
              "outlinewidth": 0,
              "ticks": ""
             }
            },
            "type": "parcoords"
           }
          ],
          "pie": [
           {
            "automargin": true,
            "type": "pie"
           }
          ],
          "scatter": [
           {
            "fillpattern": {
             "fillmode": "overlay",
             "size": 10,
             "solidity": 0.2
            },
            "type": "scatter"
           }
          ],
          "scatter3d": [
           {
            "line": {
             "colorbar": {
              "outlinewidth": 0,
              "ticks": ""
             }
            },
            "marker": {
             "colorbar": {
              "outlinewidth": 0,
              "ticks": ""
             }
            },
            "type": "scatter3d"
           }
          ],
          "scattercarpet": [
           {
            "marker": {
             "colorbar": {
              "outlinewidth": 0,
              "ticks": ""
             }
            },
            "type": "scattercarpet"
           }
          ],
          "scattergeo": [
           {
            "marker": {
             "colorbar": {
              "outlinewidth": 0,
              "ticks": ""
             }
            },
            "type": "scattergeo"
           }
          ],
          "scattergl": [
           {
            "marker": {
             "colorbar": {
              "outlinewidth": 0,
              "ticks": ""
             }
            },
            "type": "scattergl"
           }
          ],
          "scattermapbox": [
           {
            "marker": {
             "colorbar": {
              "outlinewidth": 0,
              "ticks": ""
             }
            },
            "type": "scattermapbox"
           }
          ],
          "scatterpolar": [
           {
            "marker": {
             "colorbar": {
              "outlinewidth": 0,
              "ticks": ""
             }
            },
            "type": "scatterpolar"
           }
          ],
          "scatterpolargl": [
           {
            "marker": {
             "colorbar": {
              "outlinewidth": 0,
              "ticks": ""
             }
            },
            "type": "scatterpolargl"
           }
          ],
          "scatterternary": [
           {
            "marker": {
             "colorbar": {
              "outlinewidth": 0,
              "ticks": ""
             }
            },
            "type": "scatterternary"
           }
          ],
          "surface": [
           {
            "colorbar": {
             "outlinewidth": 0,
             "ticks": ""
            },
            "colorscale": [
             [
              0,
              "#0d0887"
             ],
             [
              0.1111111111111111,
              "#46039f"
             ],
             [
              0.2222222222222222,
              "#7201a8"
             ],
             [
              0.3333333333333333,
              "#9c179e"
             ],
             [
              0.4444444444444444,
              "#bd3786"
             ],
             [
              0.5555555555555556,
              "#d8576b"
             ],
             [
              0.6666666666666666,
              "#ed7953"
             ],
             [
              0.7777777777777778,
              "#fb9f3a"
             ],
             [
              0.8888888888888888,
              "#fdca26"
             ],
             [
              1,
              "#f0f921"
             ]
            ],
            "type": "surface"
           }
          ],
          "table": [
           {
            "cells": {
             "fill": {
              "color": "#EBF0F8"
             },
             "line": {
              "color": "white"
             }
            },
            "header": {
             "fill": {
              "color": "#C8D4E3"
             },
             "line": {
              "color": "white"
             }
            },
            "type": "table"
           }
          ]
         },
         "layout": {
          "annotationdefaults": {
           "arrowcolor": "#2a3f5f",
           "arrowhead": 0,
           "arrowwidth": 1
          },
          "autotypenumbers": "strict",
          "coloraxis": {
           "colorbar": {
            "outlinewidth": 0,
            "ticks": ""
           }
          },
          "colorscale": {
           "diverging": [
            [
             0,
             "#8e0152"
            ],
            [
             0.1,
             "#c51b7d"
            ],
            [
             0.2,
             "#de77ae"
            ],
            [
             0.3,
             "#f1b6da"
            ],
            [
             0.4,
             "#fde0ef"
            ],
            [
             0.5,
             "#f7f7f7"
            ],
            [
             0.6,
             "#e6f5d0"
            ],
            [
             0.7,
             "#b8e186"
            ],
            [
             0.8,
             "#7fbc41"
            ],
            [
             0.9,
             "#4d9221"
            ],
            [
             1,
             "#276419"
            ]
           ],
           "sequential": [
            [
             0,
             "#0d0887"
            ],
            [
             0.1111111111111111,
             "#46039f"
            ],
            [
             0.2222222222222222,
             "#7201a8"
            ],
            [
             0.3333333333333333,
             "#9c179e"
            ],
            [
             0.4444444444444444,
             "#bd3786"
            ],
            [
             0.5555555555555556,
             "#d8576b"
            ],
            [
             0.6666666666666666,
             "#ed7953"
            ],
            [
             0.7777777777777778,
             "#fb9f3a"
            ],
            [
             0.8888888888888888,
             "#fdca26"
            ],
            [
             1,
             "#f0f921"
            ]
           ],
           "sequentialminus": [
            [
             0,
             "#0d0887"
            ],
            [
             0.1111111111111111,
             "#46039f"
            ],
            [
             0.2222222222222222,
             "#7201a8"
            ],
            [
             0.3333333333333333,
             "#9c179e"
            ],
            [
             0.4444444444444444,
             "#bd3786"
            ],
            [
             0.5555555555555556,
             "#d8576b"
            ],
            [
             0.6666666666666666,
             "#ed7953"
            ],
            [
             0.7777777777777778,
             "#fb9f3a"
            ],
            [
             0.8888888888888888,
             "#fdca26"
            ],
            [
             1,
             "#f0f921"
            ]
           ]
          },
          "colorway": [
           "#636efa",
           "#EF553B",
           "#00cc96",
           "#ab63fa",
           "#FFA15A",
           "#19d3f3",
           "#FF6692",
           "#B6E880",
           "#FF97FF",
           "#FECB52"
          ],
          "font": {
           "color": "#2a3f5f"
          },
          "geo": {
           "bgcolor": "white",
           "lakecolor": "white",
           "landcolor": "#E5ECF6",
           "showlakes": true,
           "showland": true,
           "subunitcolor": "white"
          },
          "hoverlabel": {
           "align": "left"
          },
          "hovermode": "closest",
          "mapbox": {
           "style": "light"
          },
          "paper_bgcolor": "white",
          "plot_bgcolor": "#E5ECF6",
          "polar": {
           "angularaxis": {
            "gridcolor": "white",
            "linecolor": "white",
            "ticks": ""
           },
           "bgcolor": "#E5ECF6",
           "radialaxis": {
            "gridcolor": "white",
            "linecolor": "white",
            "ticks": ""
           }
          },
          "scene": {
           "xaxis": {
            "backgroundcolor": "#E5ECF6",
            "gridcolor": "white",
            "gridwidth": 2,
            "linecolor": "white",
            "showbackground": true,
            "ticks": "",
            "zerolinecolor": "white"
           },
           "yaxis": {
            "backgroundcolor": "#E5ECF6",
            "gridcolor": "white",
            "gridwidth": 2,
            "linecolor": "white",
            "showbackground": true,
            "ticks": "",
            "zerolinecolor": "white"
           },
           "zaxis": {
            "backgroundcolor": "#E5ECF6",
            "gridcolor": "white",
            "gridwidth": 2,
            "linecolor": "white",
            "showbackground": true,
            "ticks": "",
            "zerolinecolor": "white"
           }
          },
          "shapedefaults": {
           "line": {
            "color": "#2a3f5f"
           }
          },
          "ternary": {
           "aaxis": {
            "gridcolor": "white",
            "linecolor": "white",
            "ticks": ""
           },
           "baxis": {
            "gridcolor": "white",
            "linecolor": "white",
            "ticks": ""
           },
           "bgcolor": "#E5ECF6",
           "caxis": {
            "gridcolor": "white",
            "linecolor": "white",
            "ticks": ""
           }
          },
          "title": {
           "x": 0.05
          },
          "xaxis": {
           "automargin": true,
           "gridcolor": "white",
           "linecolor": "white",
           "ticks": "",
           "title": {
            "standoff": 15
           },
           "zerolinecolor": "white",
           "zerolinewidth": 2
          },
          "yaxis": {
           "automargin": true,
           "gridcolor": "white",
           "linecolor": "white",
           "ticks": "",
           "title": {
            "standoff": 15
           },
           "zerolinecolor": "white",
           "zerolinewidth": 2
          }
         }
        },
        "title": {
         "text": "KMeans Model Clustering of Alma 32"
        }
       }
      }
     },
     "metadata": {},
     "output_type": "display_data"
    },
    {
     "name": "stdout",
     "output_type": "stream",
     "text": [
      "Cluster 0:\n",
      "And it came to pass that they did go forth, and began to preach the word of God unto the people, entering into their synagogues, and into their houses; yea, and even they did preach the word in their streets.\n",
      "\n",
      "\n",
      "people, entering into their synagogues, and into their houses; yea, and even they did preach the word in their streets. And it came to pass that after much labor among them, they began to have success among the poor class\n",
      "\n",
      "\n",
      "And it came to pass that after much labor among them, they began to have success among the poor class of people; for behold, they were cast out of the synagogues because of the coarseness of their apparel— Therefore they w\n",
      "\n",
      "\n",
      "of people; for behold, they were cast out of the synagogues because of the coarseness of their apparel— Therefore they were not permitted to enter into their synagogues to worship God, being esteemed as filthiness; therefore they were poor; yea, t\n",
      "\n",
      "\n",
      "re not permitted to enter into their synagogues to worship God, being esteemed as filthiness; therefore they were poor; yea, they were esteemed by their brethren as dross; therefore they were poor as to things of the world; and also t\n",
      "\n",
      "\n",
      "ey were esteemed by their brethren as dross; therefore they were poor as to things of the world; and also they were poor in heart. Now, as Alma was teaching and speaking unto the people upon the hill Onidah, there c\n",
      "\n",
      "\n",
      "ey were poor in heart. Now, as Alma was teaching and speaking unto the people upon the hill Onidah, there came a great multitude unto him, who were those of whom we have been speaking, of whom were poor in h\n",
      "\n",
      "\n",
      "me a great multitude unto him, who were those of whom we have been speaking, of whom were poor in heart, because of their poverty as to the things of the world. And they came unto Alma; and the one w\n",
      "\n",
      "\n",
      "art, because of their poverty as to the things of the world. And they came unto Alma; and the one who was the foremost among them said unto him: Behold, what shall these my brethren do, for they are despised o\n",
      "\n",
      "\n",
      "o was the foremost among them said unto him: Behold, what shall these my brethren do, for they are despised of all men because of their poverty, yea, and more especially by our priests; for they have cast us out o\n",
      "\n",
      "\n",
      "all men because of their poverty, yea, and more especially by our priests; for they have cast us out of our synagogues which we have labored abundantly to build with our own hands; and they have cast us out b\n",
      "\n",
      "\n",
      "our synagogues which we have labored abundantly to build with our own hands; and they have cast us out because of our exceeding poverty; and we have no place to worship our God; and behold, what shall we do? A\n",
      "\n",
      "\n",
      "cause of our exceeding poverty; and we have no place to worship our God; and behold, what shall we do? And now when Alma heard this, he turned him about, his face immediately towards him, and he beheld with great j\n",
      "\n",
      "\n",
      "d now when Alma heard this, he turned him about, his face immediately towards him, and he beheld with great joy; for he beheld that their afflictions had truly humbled them, and that they were in a preparation to hear t\n",
      "\n",
      "\n",
      "y; for he beheld that their afflictions had truly humbled them, and that they were in a preparation to hear the word. Therefore he did say no more to the other multitude; but he stretched forth his hand, and cried u\n",
      "\n",
      "\n",
      "e word. Therefore he did say no more to the other multitude; but he stretched forth his hand, and cried unto those whom he beheld, who were truly penitent, and said unto them: I behold that ye are lowly in h\n",
      "\n",
      "\n",
      "to those whom he beheld, who were truly penitent, and said unto them: I behold that ye are lowly in heart; and if so, blessed are ye. Behold thy brother hath said, What shall we do?—for we are cast out of\n",
      "\n",
      "\n",
      "art; and if so, blessed are ye. Behold thy brother hath said, What shall we do?—for we are cast out of our synagogues, that we cannot worship our God. Behold I say unto you, do ye suppose that ye cannot wor\n",
      "\n",
      "\n",
      "ur synagogues, that we cannot worship our God. Behold I say unto you, do ye suppose that ye cannot worship God save it be in your synagogues only? And moreover, I would ask, do ye suppose that ye must not\n",
      "\n",
      "\n",
      "hip God save it be in your synagogues only? And moreover, I would ask, do ye suppose that ye must not worship God only once in a week? I say unto you, it is well that ye are cast out of\n",
      "\n",
      "\n",
      "worship God only once in a week? I say unto you, it is well that ye are cast out of your synagogues, that ye may be humble, and that ye may learn wisdom; for it is necessary that ye sho\n",
      "\n",
      "\n",
      "our synagogues, that ye may be humble, and that ye may learn wisdom; for it is necessary that ye should learn wisdom; for it is because that ye are cast out, that ye are despised of your brethren because of\n",
      "\n",
      "\n",
      "ld learn wisdom; for it is because that ye are cast out, that ye are despised of your brethren because of your exceeding poverty, that ye are brought to a lowliness of heart; for ye are necessarily brought to be hum\n",
      "\n",
      "\n",
      "our exceeding poverty, that ye are brought to a lowliness of heart; for ye are necessarily brought to be humble. And now, because ye are compelled to be humble blessed are ye; for a man sometimes, if he is com\n",
      "\n",
      "\n",
      "le. And now, because ye are compelled to be humble blessed are ye; for a man sometimes, if he is compelled to be humble, seeketh repentance; and now surely, whosoever repenteth shall find mercy; and he that findeth mercy and end\n",
      "\n",
      "\n",
      "elled to be humble, seeketh repentance; and now surely, whosoever repenteth shall find mercy; and he that findeth mercy and endureth to the end the same shall be saved. And now, as I said unto you, that because ye were com\n",
      "\n",
      "\n",
      "reth to the end the same shall be saved. And now, as I said unto you, that because ye were compelled to be humble ye were blessed, do ye not suppose that they are more blessed who truly humble themselves bec\n",
      "\n",
      "\n",
      "elled to be humble ye were blessed, do ye not suppose that they are more blessed who truly humble themselves because of the word? Yea, he that truly humbleth himself, and repenteth of his sins, and endureth to the end, the\n",
      "\n",
      "\n",
      "use of the word? Yea, he that truly humbleth himself, and repenteth of his sins, and endureth to the end, the same shall be blessed—yea, much more blessed than they who are compelled to be humble because of their exceeding pover\n",
      "\n",
      "\n",
      "same shall be blessed—yea, much more blessed than they who are compelled to be humble because of their exceeding poverty. Therefore, blessed are they who humble themselves without being compelled to be humble; or rather, in other words, blessed is he\n",
      "\n",
      "\n",
      "y. Therefore, blessed are they who humble themselves without being compelled to be humble; or rather, in other words, blessed is he that believeth in the word of God, and is baptized without stubbornness of heart, yea, without being brought to kn\n",
      "\n",
      "\n",
      "to them many times, which confound the wise and the learned. And now, my beloved brethren, as ye have desired to know of me what ye shall do because ye are afflicted and cast out—now I do not desire that ye s\n",
      "\n",
      "\n",
      "t ye all of you have been compelled to humble yourselves; for I verily believe that there are some among you who would humble themselves, let them be in whatsoever circumstances they might. Now, as I said concerning faith—that\n",
      "\n",
      "\n",
      "Cluster 1:\n",
      "or a portion of my words. Now, we will compare the word unto a seed. Now, if ye give place, that a seed may be planted in your heart, behold, if it be a true seed, or a good seed, if\n",
      "\n",
      "\n",
      "hat a seed may be planted in your heart, behold, if it be a true seed, or a good seed, if ye do not cast it out by your unbelief, that ye will resist the Spirit of the Lord, behol\n",
      "\n",
      "\n",
      "ye do not cast it out by your unbelief, that ye will resist the Spirit of the Lord, behold, it will begin to swell within your breasts; and when you feel these swelling motions, ye will begin to say wi\n",
      "\n",
      "\n",
      ", it will begin to swell within your breasts; and when you feel these swelling motions, ye will begin to say within yourselves—It must needs be that this is a good seed, or that the word is good, for it beginneth\n",
      "\n",
      "\n",
      "hin yourselves—It must needs be that this is a good seed, or that the word is good, for it beginneth to enlarge my soul; yea, it beginneth to enlighten my understanding, yea, it beginneth to be delicious to me. Now behold\n",
      "\n",
      "\n",
      "o enlarge my soul; yea, it beginneth to enlighten my understanding, yea, it beginneth to be delicious to me. Now behold, would not this increase your faith? I say unto you, Yea; nevertheless it hath not grown up to a perfect k\n",
      "\n",
      "\n",
      "would not this increase your faith? I say unto you, Yea; nevertheless it hath not grown up to a perfect knowledge. But behold, as the seed swelleth, and sprouteth, and beginneth to grow, then you must needs say that th\n",
      "\n",
      "\n",
      "owledge. But behold, as the seed swelleth, and sprouteth, and beginneth to grow, then you must needs say that the seed is good; for behold it swelleth, and sprouteth, and beginneth to grow. And now, behold, will not this str\n",
      "\n",
      "\n",
      "seed is good; for behold it swelleth, and sprouteth, and beginneth to grow. And now, behold, will not this strengthen your faith? Yea, it will strengthen your faith: for ye will say I know that this is a good seed; f\n",
      "\n",
      "\n",
      "ngthen your faith? Yea, it will strengthen your faith: for ye will say I know that this is a good seed; for behold it sprouteth and beginneth to grow. And now, behold, are ye sure that this is a good seed? I\n",
      "\n",
      "\n",
      "r behold it sprouteth and beginneth to grow. And now, behold, are ye sure that this is a good seed? I say unto you, Yea; for every seed bringeth forth unto its own likeness. Therefore, if a seed groweth it\n",
      "\n",
      "\n",
      "say unto you, Yea; for every seed bringeth forth unto its own likeness. Therefore, if a seed groweth it is good, but if it groweth not, behold it is not good, therefore it is cast away. And now, be\n",
      "\n",
      "\n",
      "is good, but if it groweth not, behold it is not good, therefore it is cast away. And now, behold, because ye have tried the experiment, and planted the seed, and it swelleth and sprouteth, and beginneth to grow\n",
      "\n",
      "\n",
      "old, because ye have tried the experiment, and planted the seed, and it swelleth and sprouteth, and beginneth to grow, ye must needs know that the seed is good. And now, behold, is your knowledge perfect? Yea, your knowledge is\n",
      "\n",
      "\n",
      "ye must needs know that the seed is good. And now, behold, is your knowledge perfect? Yea, your knowledge is perfect in that thing, and your faith is dormant; and this because you know, for ye know that the word hat\n",
      "\n",
      "\n",
      "ther must ye lay aside your faith, for ye have only exercised your faith to plant the seed that ye might try the experiment to know if the seed was good. And behold, as the tree beginneth to grow, ye will\n",
      "\n",
      "\n",
      "try the experiment to know if the seed was good. And behold, as the tree beginneth to grow, ye will say: Let us nourish it with great care, that it may get root, that it may grow up, and brin\n",
      "\n",
      "\n",
      "ay: Let us nourish it with great care, that it may get root, that it may grow up, and bring forth fruit unto us. And now behold, if ye nourish it with much care it will get root, and gro\n",
      "\n",
      "\n",
      "forth fruit unto us. And now behold, if ye nourish it with much care it will get root, and grow up, and bring forth fruit. But if ye neglect the tree, and take no thought for its nourishment,\n",
      "\n",
      "\n",
      "up, and bring forth fruit. But if ye neglect the tree, and take no thought for its nourishment, behold it will not get any root; and when the heat of the sun cometh and scorcheth it, because it hath n\n",
      "\n",
      "\n",
      "ehold it will not get any root; and when the heat of the sun cometh and scorcheth it, because it hath no root it withers away, and ye pluck it up and cast it out. Now, this is not because the s\n",
      "\n",
      "\n",
      "root it withers away, and ye pluck it up and cast it out. Now, this is not because the seed was not good, neither is it because the fruit thereof would not be desirable; but it is because your g\n",
      "\n",
      "\n",
      "ed was not good, neither is it because the fruit thereof would not be desirable; but it is because your ground is barren, and ye will not nourish the tree, therefore ye cannot have the fruit thereof. And thus, if ye w\n",
      "\n",
      "\n",
      "ound is barren, and ye will not nourish the tree, therefore ye cannot have the fruit thereof. And thus, if ye will not nourish the word, looking forward with an eye of faith to the fruit thereof, ye can never pluc\n",
      "\n",
      "\n",
      "ll not nourish the word, looking forward with an eye of faith to the fruit thereof, ye can never pluck of the fruit of the tree of life. But if ye will nourish the word, yea, nourish the tree\n",
      "\n",
      "\n",
      "of the fruit of the tree of life. But if ye will nourish the word, yea, nourish the tree as it beginneth to grow, by your faith with great diligence, and with patience, looking forward to the fruit thereof\n",
      "\n",
      "\n",
      "s it beginneth to grow, by your faith with great diligence, and with patience, looking forward to the fruit thereof, it shall take root; and behold it shall be a tree springing up unto everlasting life. And because of your d\n",
      "\n",
      "\n",
      "it shall take root; and behold it shall be a tree springing up unto everlasting life. And because of your diligence and your faith and your patience with the word in nourishing it, that it may take root in you, beho\n",
      "\n",
      "\n",
      "ligence and your faith and your patience with the word in nourishing it, that it may take root in you, behold, by and by ye shall pluck the fruit thereof, which is most precious, which is sweet above all that is\n",
      "\n",
      "\n",
      "d, by and by ye shall pluck the fruit thereof, which is most precious, which is sweet above all that is sweet, and which is white above all that is white, yea, and pure above all that is pure; and ye s\n",
      "\n",
      "\n",
      "sweet, and which is white above all that is white, yea, and pure above all that is pure; and ye shall feast upon this fruit even until ye are filled, that ye hunger not, neither shall ye thirst. Then,\n",
      "\n",
      "\n",
      "all feast upon this fruit even until ye are filled, that ye hunger not, neither shall ye thirst. Then, my brethren, ye shall reap the rewards of your faith, and your diligence, and patience, and long-suffering, waiting for the t\n",
      "\n",
      "\n",
      "y brethren, ye shall reap the rewards of your faith, and your diligence, and patience, and long-suffering, waiting for the tree to bring forth fruit unto you.\n",
      "\n",
      "\n",
      "Cluster 2:\n",
      "that believeth in the word of God, and is baptized without stubbornness of heart, yea, without being brought to know the word, or even compelled to know, before they will believe. Yea, there are many who do say: If th\n",
      "\n",
      "\n",
      "w the word, or even compelled to know, before they will believe. Yea, there are many who do say: If thou wilt show unto us a sign from heaven, then we shall know of a surety; then we shall belie\n",
      "\n",
      "\n",
      "u wilt show unto us a sign from heaven, then we shall know of a surety; then we shall believe. Now I ask, is this faith? Behold, I say unto you, Nay; for if a man knoweth a thing he ha\n",
      "\n",
      "\n",
      "e. Now I ask, is this faith? Behold, I say unto you, Nay; for if a man knoweth a thing he hath no cause to believe, for he knoweth it. And now, how much more cursed is he that knoweth the w\n",
      "\n",
      "\n",
      "h no cause to believe, for he knoweth it. And now, how much more cursed is he that knoweth the will of God and doeth it not, than he that only believeth, or only hath cause to believe, and falle\n",
      "\n",
      "\n",
      "ll of God and doeth it not, than he that only believeth, or only hath cause to believe, and falleth into transgression? Now of this thing ye must judge. Behold, I say unto you, that it is on the one h\n",
      "\n",
      "\n",
      "h into transgression? Now of this thing ye must judge. Behold, I say unto you, that it is on the one hand even as it is on the other; and it shall be unto every man according to his work. And n\n",
      "\n",
      "\n",
      "nd even as it is on the other; and it shall be unto every man according to his work. And now as I said concerning faith—faith is not to have a perfect knowledge of things; therefore if ye have faith y\n",
      "\n",
      "\n",
      "w as I said concerning faith—faith is not to have a perfect knowledge of things; therefore if ye have faith ye hope for things which are not seen, which are true. And now, behold, I say unto you, and I would\n",
      "\n",
      "\n",
      "hope for things which are not seen, which are true. And now, behold, I say unto you, and I would that ye should remember, that God is merciful unto all who believe on his name; therefore he desireth, in the\n",
      "\n",
      "\n",
      "that ye should remember, that God is merciful unto all who believe on his name; therefore he desireth, in the first place, that ye should believe, yea, even on his word. And now, he imparteth his word by angels\n",
      "\n",
      "\n",
      "irst place, that ye should believe, yea, even on his word. And now, he imparteth his word by angels unto men, yea, not only men but women also. Now this is not all; little children do have words given u\n",
      "\n",
      "\n",
      "nto men, yea, not only men but women also. Now this is not all; little children do have words given unto them many times, which confound the wise and the learned. And now, my beloved brethren, as ye have desired\n",
      "\n",
      "\n",
      "to know of me what ye shall do because ye are afflicted and cast out—now I do not desire that ye should suppose that I mean to judge you only according to that which is true— For I do not mean th\n",
      "\n",
      "\n",
      "ould suppose that I mean to judge you only according to that which is true— For I do not mean that ye all of you have been compelled to humble yourselves; for I verily believe that there are some among\n",
      "\n",
      "\n",
      "ou who would humble themselves, let them be in whatsoever circumstances they might. Now, as I said concerning faith—that it was not a perfect knowledge—even so it is with my words. Ye cannot know of their surety at first, unto per\n",
      "\n",
      "\n",
      "t was not a perfect knowledge—even so it is with my words. Ye cannot know of their surety at first, unto perfection, any more than faith is a perfect knowledge. But behold, if ye will awake and arouse your faculties, even\n",
      "\n",
      "\n",
      "ection, any more than faith is a perfect knowledge. But behold, if ye will awake and arouse your faculties, even to an experiment upon my words, and exercise a particle of faith, yea, even if ye can no more than desir\n",
      "\n",
      "\n",
      "to an experiment upon my words, and exercise a particle of faith, yea, even if ye can no more than desire to believe, let this desire work in you, even until ye believe in a manner that ye can give place\n",
      "\n",
      "\n",
      "to believe, let this desire work in you, even until ye believe in a manner that ye can give place for a portion of my words. Now, we will compare the word unto a seed. Now, if ye give place,\n",
      "\n",
      "\n",
      "perfect in that thing, and your faith is dormant; and this because you know, for ye know that the word hath swelled your souls, and ye also know that it hath sprouted up, that your understanding doth begin to be enlig\n",
      "\n",
      "\n",
      "swelled your souls, and ye also know that it hath sprouted up, that your understanding doth begin to be enlightened, and your mind doth begin to expand. O then, is not this real? I say unto you, Yea, because\n",
      "\n",
      "\n",
      "tened, and your mind doth begin to expand. O then, is not this real? I say unto you, Yea, because it is light; and whatsoever is light, is good, because it is discernible, therefore ye must know that it is good;\n",
      "\n",
      "\n",
      "it is light; and whatsoever is light, is good, because it is discernible, therefore ye must know that it is good; and now behold, after ye have tasted this light is your knowledge perfect? Behold I say unto you, Nay; ne\n",
      "\n",
      "\n",
      "nd now behold, after ye have tasted this light is your knowledge perfect? Behold I say unto you, Nay; neither must ye lay aside your faith, for ye have only exercised your faith to plant the seed that ye migh\n",
      "\n",
      "\n"
     ]
    },
    {
     "data": {
      "application/vnd.plotly.v1+json": {
       "config": {
        "plotlyServerURL": "https://plot.ly"
       },
       "data": [
        {
         "hovertemplate": "%{hovertext}",
         "hovertext": [
          "And it came to pass that they did go forth,<br>and began to preach the word of God unto the<br>people, entering into their synagogues, and into their houses; yea,<br>and even they did preach the word in their streets.",
          "people, entering into their synagogues, and into their houses; yea,<br>and even they did preach the word in their streets.<br>And it came to pass that after much labor among<br>them, they began to have success among the poor class",
          "And it came to pass that after much labor among<br>them, they began to have success among the poor class<br>of people; for behold, they were cast out of the<br>synagogues because of the coarseness of their apparel— Therefore they<br>w",
          "of people; for behold, they were cast out of the<br>synagogues because of the coarseness of their apparel— Therefore they<br>were not permitted to enter into their synagogues to worship<br>God, being esteemed as filthiness; therefore they were poor; yea,<br>t",
          "re not permitted to enter into their synagogues to worship<br>God, being esteemed as filthiness; therefore they were poor; yea,<br>they were esteemed by their brethren as dross; therefore they<br>were poor as to things of the world; and also<br>t",
          "ey were esteemed by their brethren as dross; therefore they<br>were poor as to things of the world; and also<br>they were poor in heart. Now, as Alma was teaching<br>and speaking unto the people upon the hill Onidah, there<br>c",
          "ey were poor in heart. Now, as Alma was teaching<br>and speaking unto the people upon the hill Onidah, there<br>came a great multitude unto him, who were those of<br>whom we have been speaking, of whom were poor in<br>h",
          "me a great multitude unto him, who were those of<br>whom we have been speaking, of whom were poor in<br>heart, because of their poverty as to the things of<br>the world. And they came unto Alma; and the one<br>w",
          "art, because of their poverty as to the things of<br>the world. And they came unto Alma; and the one<br>who was the foremost among them said unto him: Behold,<br>what shall these my brethren do, for they are despised<br>o",
          "o was the foremost among them said unto him: Behold,<br>what shall these my brethren do, for they are despised<br>of all men because of their poverty, yea, and more<br>especially by our priests; for they have cast us out<br>o",
          "all men because of their poverty, yea, and more especially<br>by our priests; for they have cast us out of<br>our synagogues which we have labored abundantly to build with<br>our own hands; and they have cast us out b",
          "our synagogues which we have labored abundantly to build with<br>our own hands; and they have cast us out because<br>of our exceeding poverty; and we have no place to<br>worship our God; and behold, what shall we do? A",
          "cause of our exceeding poverty; and we have no place<br>to worship our God; and behold, what shall we do?<br>And now when Alma heard this, he turned him about,<br>his face immediately towards him, and he beheld with great<br>j",
          "d now when Alma heard this, he turned him about,<br>his face immediately towards him, and he beheld with great<br>joy; for he beheld that their afflictions had truly humbled<br>them, and that they were in a preparation to hear<br>t",
          "y; for he beheld that their afflictions had truly humbled<br>them, and that they were in a preparation to hear<br>the word. Therefore he did say no more to the<br>other multitude; but he stretched forth his hand, and cried<br>u",
          "e word. Therefore he did say no more to the<br>other multitude; but he stretched forth his hand, and cried<br>unto those whom he beheld, who were truly penitent, and<br>said unto them: I behold that ye are lowly in<br>h",
          "to those whom he beheld, who were truly penitent, and<br>said unto them: I behold that ye are lowly in<br>heart; and if so, blessed are ye. Behold thy brother<br>hath said, What shall we do?—for we are cast out<br>of",
          "art; and if so, blessed are ye. Behold thy brother<br>hath said, What shall we do?—for we are cast out<br>of our synagogues, that we cannot worship our God. Behold<br>I say unto you, do ye suppose that ye cannot<br>wor",
          "ur synagogues, that we cannot worship our God. Behold I<br>say unto you, do ye suppose that ye cannot worship<br>God save it be in your synagogues only? And moreover,<br>I would ask, do ye suppose that ye must not",
          "hip God save it be in your synagogues only? And<br>moreover, I would ask, do ye suppose that ye must<br>not worship God only once in a week? I say<br>unto you, it is well that ye are cast out<br>of",
          "worship God only once in a week? I say unto<br>you, it is well that ye are cast out of<br>your synagogues, that ye may be humble, and that ye<br>may learn wisdom; for it is necessary that ye sho",
          "our synagogues, that ye may be humble, and that ye<br>may learn wisdom; for it is necessary that ye should<br>learn wisdom; for it is because that ye are cast<br>out, that ye are despised of your brethren because of",
          "ld learn wisdom; for it is because that ye are<br>cast out, that ye are despised of your brethren because<br>of your exceeding poverty, that ye are brought to a<br>lowliness of heart; for ye are necessarily brought to be<br>hum",
          "our exceeding poverty, that ye are brought to a lowliness<br>of heart; for ye are necessarily brought to be humble.<br>And now, because ye are compelled to be humble blessed<br>are ye; for a man sometimes, if he is com",
          "le. And now, because ye are compelled to be humble<br>blessed are ye; for a man sometimes, if he is<br>compelled to be humble, seeketh repentance; and now surely, whosoever<br>repenteth shall find mercy; and he that findeth mercy and<br>end",
          "elled to be humble, seeketh repentance; and now surely, whosoever<br>repenteth shall find mercy; and he that findeth mercy and<br>endureth to the end the same shall be saved. And<br>now, as I said unto you, that because ye were<br>com",
          "reth to the end the same shall be saved. And<br>now, as I said unto you, that because ye were<br>compelled to be humble ye were blessed, do ye not<br>suppose that they are more blessed who truly humble themselves<br>bec",
          "elled to be humble ye were blessed, do ye not<br>suppose that they are more blessed who truly humble themselves<br>because of the word? Yea, he that truly humbleth himself,<br>and repenteth of his sins, and endureth to the end,<br>the",
          "use of the word? Yea, he that truly humbleth himself,<br>and repenteth of his sins, and endureth to the end,<br>the same shall be blessed—yea, much more blessed than they<br>who are compelled to be humble because of their exceeding<br>pover",
          "same shall be blessed—yea, much more blessed than they who<br>are compelled to be humble because of their exceeding poverty.<br>Therefore, blessed are they who humble themselves without being compelled<br>to be humble; or rather, in other words, blessed is<br>he",
          "y. Therefore, blessed are they who humble themselves without being<br>compelled to be humble; or rather, in other words, blessed<br>is he that believeth in the word of God, and<br>is baptized without stubbornness of heart, yea, without being brought<br>to kn",
          "that believeth in the word of God, and is baptized<br>without stubbornness of heart, yea, without being brought to know<br>the word, or even compelled to know, before they will<br>believe. Yea, there are many who do say: If th",
          "w the word, or even compelled to know, before they<br>will believe. Yea, there are many who do say: If<br>thou wilt show unto us a sign from heaven, then<br>we shall know of a surety; then we shall belie",
          "u wilt show unto us a sign from heaven, then<br>we shall know of a surety; then we shall believe.<br>Now I ask, is this faith? Behold, I say unto<br>you, Nay; for if a man knoweth a thing he<br>ha",
          "e. Now I ask, is this faith? Behold, I say<br>unto you, Nay; for if a man knoweth a thing<br>he hath no cause to believe, for he knoweth it.<br>And now, how much more cursed is he that knoweth<br>the w",
          "h no cause to believe, for he knoweth it. And<br>now, how much more cursed is he that knoweth the<br>will of God and doeth it not, than he that<br>only believeth, or only hath cause to believe, and falle",
          "ll of God and doeth it not, than he that<br>only believeth, or only hath cause to believe, and falleth<br>into transgression? Now of this thing ye must judge. Behold,<br>I say unto you, that it is on the one<br>h",
          "h into transgression? Now of this thing ye must judge.<br>Behold, I say unto you, that it is on the<br>one hand even as it is on the other; and<br>it shall be unto every man according to his work.<br>And n",
          "nd even as it is on the other; and it<br>shall be unto every man according to his work. And<br>now as I said concerning faith—faith is not to have<br>a perfect knowledge of things; therefore if ye have faith<br>y",
          "w as I said concerning faith—faith is not to have<br>a perfect knowledge of things; therefore if ye have faith<br>ye hope for things which are not seen, which are<br>true. And now, behold, I say unto you, and I<br>would",
          "hope for things which are not seen, which are true.<br>And now, behold, I say unto you, and I would<br>that ye should remember, that God is merciful unto all<br>who believe on his name; therefore he desireth, in the",
          "that ye should remember, that God is merciful unto all<br>who believe on his name; therefore he desireth, in the<br>first place, that ye should believe, yea, even on his<br>word. And now, he imparteth his word by angels",
          "irst place, that ye should believe, yea, even on his<br>word. And now, he imparteth his word by angels unto<br>men, yea, not only men but women also. Now this<br>is not all; little children do have words given u",
          "nto men, yea, not only men but women also. Now<br>this is not all; little children do have words given<br>unto them many times, which confound the wise and the<br>learned. And now, my beloved brethren, as ye have desired",
          "to them many times, which confound the wise and the<br>learned. And now, my beloved brethren, as ye have desired<br>to know of me what ye shall do because ye<br>are afflicted and cast out—now I do not desire that<br>ye s",
          "to know of me what ye shall do because ye<br>are afflicted and cast out—now I do not desire that<br>ye should suppose that I mean to judge you only<br>according to that which is true— For I do not<br>mean th",
          "ould suppose that I mean to judge you only according<br>to that which is true— For I do not mean<br>that ye all of you have been compelled to humble<br>yourselves; for I verily believe that there are some among",
          "t ye all of you have been compelled to humble<br>yourselves; for I verily believe that there are some among<br>you who would humble themselves, let them be in whatsoever<br>circumstances they might. Now, as I said concerning faith—that",
          "ou who would humble themselves, let them be in whatsoever<br>circumstances they might. Now, as I said concerning faith—that it<br>was not a perfect knowledge—even so it is with my<br>words. Ye cannot know of their surety at first, unto<br>per",
          "t was not a perfect knowledge—even so it is with<br>my words. Ye cannot know of their surety at first,<br>unto perfection, any more than faith is a perfect knowledge.<br>But behold, if ye will awake and arouse your faculties,<br>even",
          "ection, any more than faith is a perfect knowledge. But<br>behold, if ye will awake and arouse your faculties, even<br>to an experiment upon my words, and exercise a particle<br>of faith, yea, even if ye can no more than<br>desir",
          "to an experiment upon my words, and exercise a particle<br>of faith, yea, even if ye can no more than<br>desire to believe, let this desire work in you, even<br>until ye believe in a manner that ye can give<br>place",
          "to believe, let this desire work in you, even until<br>ye believe in a manner that ye can give place<br>for a portion of my words. Now, we will compare<br>the word unto a seed. Now, if ye give place,",
          "or a portion of my words. Now, we will compare<br>the word unto a seed. Now, if ye give place,<br>that a seed may be planted in your heart, behold,<br>if it be a true seed, or a good seed,<br>if",
          "hat a seed may be planted in your heart, behold,<br>if it be a true seed, or a good seed,<br>if ye do not cast it out by your unbelief,<br>that ye will resist the Spirit of the Lord, behol",
          "ye do not cast it out by your unbelief, that<br>ye will resist the Spirit of the Lord, behold, it<br>will begin to swell within your breasts; and when you<br>feel these swelling motions, ye will begin to say wi",
          ", it will begin to swell within your breasts; and<br>when you feel these swelling motions, ye will begin to<br>say within yourselves—It must needs be that this is a<br>good seed, or that the word is good, for it<br>beginneth",
          "hin yourselves—It must needs be that this is a good<br>seed, or that the word is good, for it beginneth<br>to enlarge my soul; yea, it beginneth to enlighten my<br>understanding, yea, it beginneth to be delicious to me. Now<br>behold",
          "o enlarge my soul; yea, it beginneth to enlighten my<br>understanding, yea, it beginneth to be delicious to me. Now<br>behold, would not this increase your faith? I say unto<br>you, Yea; nevertheless it hath not grown up to a<br>perfect k",
          "would not this increase your faith? I say unto you,<br>Yea; nevertheless it hath not grown up to a perfect<br>knowledge. But behold, as the seed swelleth, and sprouteth, and<br>beginneth to grow, then you must needs say that th",
          "owledge. But behold, as the seed swelleth, and sprouteth, and<br>beginneth to grow, then you must needs say that the<br>seed is good; for behold it swelleth, and sprouteth, and<br>beginneth to grow. And now, behold, will not this str",
          "seed is good; for behold it swelleth, and sprouteth, and<br>beginneth to grow. And now, behold, will not this strengthen<br>your faith? Yea, it will strengthen your faith: for ye<br>will say I know that this is a good seed;<br>f",
          "ngthen your faith? Yea, it will strengthen your faith: for<br>ye will say I know that this is a good<br>seed; for behold it sprouteth and beginneth to grow. And<br>now, behold, are ye sure that this is a good<br>seed? I",
          "r behold it sprouteth and beginneth to grow. And now,<br>behold, are ye sure that this is a good seed?<br>I say unto you, Yea; for every seed bringeth forth<br>unto its own likeness. Therefore, if a seed groweth it",
          "say unto you, Yea; for every seed bringeth forth unto<br>its own likeness. Therefore, if a seed groweth it is<br>good, but if it groweth not, behold it is not<br>good, therefore it is cast away. And now, be",
          "is good, but if it groweth not, behold it is<br>not good, therefore it is cast away. And now, behold,<br>because ye have tried the experiment, and planted the seed,<br>and it swelleth and sprouteth, and beginneth to grow",
          "old, because ye have tried the experiment, and planted the<br>seed, and it swelleth and sprouteth, and beginneth to grow,<br>ye must needs know that the seed is good. And<br>now, behold, is your knowledge perfect? Yea, your knowledge is",
          "ye must needs know that the seed is good. And<br>now, behold, is your knowledge perfect? Yea, your knowledge is<br>perfect in that thing, and your faith is dormant; and<br>this because you know, for ye know that the word<br>hat",
          "perfect in that thing, and your faith is dormant; and<br>this because you know, for ye know that the word<br>hath swelled your souls, and ye also know that it<br>hath sprouted up, that your understanding doth begin to be<br>enlig",
          "swelled your souls, and ye also know that it hath<br>sprouted up, that your understanding doth begin to be enlightened,<br>and your mind doth begin to expand. O then, is<br>not this real? I say unto you, Yea, because",
          "tened, and your mind doth begin to expand. O then,<br>is not this real? I say unto you, Yea, because<br>it is light; and whatsoever is light, is good, because<br>it is discernible, therefore ye must know that it is<br>good;",
          "it is light; and whatsoever is light, is good, because<br>it is discernible, therefore ye must know that it is<br>good; and now behold, after ye have tasted this light<br>is your knowledge perfect? Behold I say unto you, Nay;<br>ne",
          "nd now behold, after ye have tasted this light is<br>your knowledge perfect? Behold I say unto you, Nay; neither<br>must ye lay aside your faith, for ye have only<br>exercised your faith to plant the seed that ye migh",
          "ther must ye lay aside your faith, for ye have<br>only exercised your faith to plant the seed that ye<br>might try the experiment to know if the seed was<br>good. And behold, as the tree beginneth to grow, ye<br>will",
          "try the experiment to know if the seed was good.<br>And behold, as the tree beginneth to grow, ye will<br>say: Let us nourish it with great care, that it<br>may get root, that it may grow up, and brin",
          "ay: Let us nourish it with great care, that it<br>may get root, that it may grow up, and bring<br>forth fruit unto us. And now behold, if ye nourish<br>it with much care it will get root, and gro",
          "forth fruit unto us. And now behold, if ye nourish<br>it with much care it will get root, and grow<br>up, and bring forth fruit. But if ye neglect the<br>tree, and take no thought for its nourishment,",
          "up, and bring forth fruit. But if ye neglect the<br>tree, and take no thought for its nourishment, behold it<br>will not get any root; and when the heat of<br>the sun cometh and scorcheth it, because it hath n",
          "ehold it will not get any root; and when the<br>heat of the sun cometh and scorcheth it, because it<br>hath no root it withers away, and ye pluck it<br>up and cast it out. Now, this is not because<br>the s",
          "root it withers away, and ye pluck it up and<br>cast it out. Now, this is not because the seed<br>was not good, neither is it because the fruit thereof<br>would not be desirable; but it is because your g",
          "ed was not good, neither is it because the fruit<br>thereof would not be desirable; but it is because your<br>ground is barren, and ye will not nourish the tree,<br>therefore ye cannot have the fruit thereof. And thus, if<br>ye w",
          "ound is barren, and ye will not nourish the tree,<br>therefore ye cannot have the fruit thereof. And thus, if<br>ye will not nourish the word, looking forward with an<br>eye of faith to the fruit thereof, ye can never<br>pluc",
          "ll not nourish the word, looking forward with an eye<br>of faith to the fruit thereof, ye can never pluck<br>of the fruit of the tree of life. But if<br>ye will nourish the word, yea, nourish the tree",
          "of the fruit of the tree of life. But if<br>ye will nourish the word, yea, nourish the tree as<br>it beginneth to grow, by your faith with great diligence,<br>and with patience, looking forward to the fruit thereof",
          "s it beginneth to grow, by your faith with great<br>diligence, and with patience, looking forward to the fruit thereof,<br>it shall take root; and behold it shall be a<br>tree springing up unto everlasting life. And because of your<br>d",
          "it shall take root; and behold it shall be a<br>tree springing up unto everlasting life. And because of your<br>diligence and your faith and your patience with the word<br>in nourishing it, that it may take root in you,<br>beho",
          "ligence and your faith and your patience with the word<br>in nourishing it, that it may take root in you,<br>behold, by and by ye shall pluck the fruit thereof,<br>which is most precious, which is sweet above all that<br>is",
          "d, by and by ye shall pluck the fruit thereof,<br>which is most precious, which is sweet above all that<br>is sweet, and which is white above all that is<br>white, yea, and pure above all that is pure; and<br>ye s",
          "sweet, and which is white above all that is white,<br>yea, and pure above all that is pure; and ye<br>shall feast upon this fruit even until ye are filled,<br>that ye hunger not, neither shall ye thirst. Then,",
          "all feast upon this fruit even until ye are filled,<br>that ye hunger not, neither shall ye thirst. Then, my<br>brethren, ye shall reap the rewards of your faith, and<br>your diligence, and patience, and long-suffering, waiting for the t",
          "y brethren, ye shall reap the rewards of your faith,<br>and your diligence, and patience, and long-suffering, waiting for the<br>tree to bring forth fruit unto you."
         ],
         "marker": {
          "color": [
           0,
           0,
           0,
           0,
           0,
           0,
           0,
           0,
           0,
           0,
           0,
           0,
           0,
           0,
           0,
           0,
           0,
           0,
           0,
           0,
           0,
           0,
           0,
           0,
           0,
           0,
           0,
           0,
           0,
           0,
           0,
           2,
           2,
           2,
           2,
           2,
           2,
           2,
           2,
           2,
           2,
           2,
           2,
           2,
           0,
           2,
           2,
           0,
           2,
           2,
           2,
           2,
           1,
           1,
           1,
           1,
           1,
           1,
           1,
           1,
           1,
           1,
           1,
           1,
           1,
           1,
           1,
           1,
           1,
           1,
           1,
           1,
           1,
           1,
           1,
           1,
           1,
           1,
           1,
           1,
           1,
           1,
           1,
           1,
           1,
           1,
           1,
           1,
           1,
           1,
           1
          ],
          "size": 10
         },
         "mode": "markers",
         "type": "scatter",
         "x": [
          0.14846130362810261,
          0.19315589916916062,
          0.1907111049272606,
          0.25605869665173353,
          0.24488572213708112,
          0.20725886916472544,
          0.16684597289567474,
          0.18923210803100846,
          0.24008211999933193,
          0.2539053672734589,
          0.26890056038465543,
          0.20891851779461093,
          0.17058286048923701,
          0.1452921653210201,
          0.1973733626509224,
          0.17221802933804234,
          0.21756632592464714,
          0.1564118684052101,
          0.11520632489904281,
          0.13591941318597894,
          0.11269617358352382,
          0.15639473019447048,
          0.18132851762915828,
          0.19727315290968023,
          0.16134777266731973,
          0.1696626324998879,
          0.1535041460072419,
          0.1688986245769941,
          0.16415027917890535,
          0.21491413901282322,
          0.21030543165563917,
          0.043419182960604444,
          -0.023817578424869028,
          -0.05532430928322792,
          -0.013245085186430907,
          0.026713054019750663,
          0.0003648677348554597,
          0.04173809493896783,
          -0.018263758507115736,
          -0.052042105500387195,
          0.051058940440062046,
          0.048534273500369894,
          0.011901576313196797,
          0.06108892452348144,
          0.12478478220155245,
          0.04969675334520299,
          0.07068807332171355,
          0.14886909620202735,
          0.02718662686478536,
          -0.08375976061862504,
          -0.09084515012169293,
          -0.04619839080604181,
          -0.10057335431002051,
          -0.12319817461799844,
          -0.13642245502795589,
          -0.1067753143666481,
          -0.11443998326765394,
          -0.1612359737533246,
          -0.11138005581052422,
          -0.1820939314434797,
          -0.2252879525737781,
          -0.2361595683533871,
          -0.20853391573305347,
          -0.22235176369188606,
          -0.19014044249550743,
          -0.2070637104549052,
          -0.2004903136545498,
          -0.20731142282358525,
          -0.11785513137770817,
          -0.09275705226044156,
          -0.10688363471936732,
          -0.11838741462323132,
          -0.19253277190817783,
          -0.15502458261839297,
          -0.23391494363231657,
          -0.20746406248463006,
          -0.15962876336212148,
          -0.1655586583383932,
          -0.15146043563323192,
          -0.1662161184308223,
          -0.11672135174597582,
          -0.12024074067701045,
          -0.15710360696856204,
          -0.1799131269043603,
          -0.19839360252314678,
          -0.21346144183900256,
          -0.1316606861796162,
          -0.12799031060833552,
          -0.09094674547050421,
          -0.07474665262251476,
          -0.07969013279860794
         ],
         "y": [
          -0.0897460415341242,
          -0.1362980789143609,
          -0.15504611848157648,
          -0.16431752219648205,
          -0.13714167320809736,
          -0.0681645218457399,
          -0.012684320094921368,
          -0.013661758448545395,
          -0.11517921372107634,
          -0.1373501550045589,
          -0.14841290412362862,
          -0.15124332678856947,
          -0.012865529359082504,
          -0.018403270935181067,
          -0.023338307378751772,
          0.058165502185836986,
          -0.03834548953212075,
          -0.0335400461771362,
          0.05416326976736064,
          -0.010523139678824766,
          0.03174911971973955,
          -0.08218865272522229,
          -0.11416765601509618,
          -0.02546078879627403,
          0.03495276369727868,
          0.06794016135430712,
          0.006574900166749504,
          -0.0003434766436207809,
          -0.007275881400894497,
          -0.04986383132348211,
          0.002256814954053213,
          0.12124515402638034,
          0.18831153281597637,
          0.18128041112368856,
          0.2150758343373566,
          0.20076662627994268,
          0.1984075678379893,
          0.02958024913445408,
          0.20655244010603754,
          0.26065224539540427,
          0.11615424014737545,
          0.16936150513003065,
          0.1138723440346897,
          0.11534254766626842,
          0.06229786149294806,
          0.1252649990593994,
          0.17697958666287636,
          0.12229307135684928,
          0.24454879756466133,
          0.23954881539372738,
          0.23015715264714473,
          0.17216146639740523,
          0.1459943018829452,
          0.015572587851297894,
          -0.01728509146284919,
          -0.07648800962674313,
          -0.07468625197596915,
          -0.06675960791771936,
          0.02805517102242773,
          0.07339813491494603,
          -0.03973464250543431,
          0.005834988803912369,
          0.06489709371187491,
          -0.04789482446548386,
          -0.13084556240116424,
          -0.12795333274848722,
          -0.0556292042954336,
          0.026097900951852382,
          0.07755669125606306,
          0.11066955797100024,
          0.07573164871032527,
          0.06545197584495167,
          0.11674823748693512,
          0.0017991432366672618,
          -0.09881819085152349,
          -0.1455598484691762,
          -0.1484201489347743,
          -0.22751106298165577,
          -0.11036567235807296,
          -0.1348123764252353,
          -0.210511118259451,
          -0.15510159986370825,
          -0.07687498508743859,
          -0.07683332392700007,
          -0.13252140703356463,
          -0.13337110083255313,
          -0.1385342027430163,
          -0.11533409519786297,
          -0.018570812882356458,
          -0.1138230192682749,
          -0.13366321725881414
         ]
        }
       ],
       "layout": {
        "template": {
         "data": {
          "bar": [
           {
            "error_x": {
             "color": "#2a3f5f"
            },
            "error_y": {
             "color": "#2a3f5f"
            },
            "marker": {
             "line": {
              "color": "#E5ECF6",
              "width": 0.5
             },
             "pattern": {
              "fillmode": "overlay",
              "size": 10,
              "solidity": 0.2
             }
            },
            "type": "bar"
           }
          ],
          "barpolar": [
           {
            "marker": {
             "line": {
              "color": "#E5ECF6",
              "width": 0.5
             },
             "pattern": {
              "fillmode": "overlay",
              "size": 10,
              "solidity": 0.2
             }
            },
            "type": "barpolar"
           }
          ],
          "carpet": [
           {
            "aaxis": {
             "endlinecolor": "#2a3f5f",
             "gridcolor": "white",
             "linecolor": "white",
             "minorgridcolor": "white",
             "startlinecolor": "#2a3f5f"
            },
            "baxis": {
             "endlinecolor": "#2a3f5f",
             "gridcolor": "white",
             "linecolor": "white",
             "minorgridcolor": "white",
             "startlinecolor": "#2a3f5f"
            },
            "type": "carpet"
           }
          ],
          "choropleth": [
           {
            "colorbar": {
             "outlinewidth": 0,
             "ticks": ""
            },
            "type": "choropleth"
           }
          ],
          "contour": [
           {
            "colorbar": {
             "outlinewidth": 0,
             "ticks": ""
            },
            "colorscale": [
             [
              0,
              "#0d0887"
             ],
             [
              0.1111111111111111,
              "#46039f"
             ],
             [
              0.2222222222222222,
              "#7201a8"
             ],
             [
              0.3333333333333333,
              "#9c179e"
             ],
             [
              0.4444444444444444,
              "#bd3786"
             ],
             [
              0.5555555555555556,
              "#d8576b"
             ],
             [
              0.6666666666666666,
              "#ed7953"
             ],
             [
              0.7777777777777778,
              "#fb9f3a"
             ],
             [
              0.8888888888888888,
              "#fdca26"
             ],
             [
              1,
              "#f0f921"
             ]
            ],
            "type": "contour"
           }
          ],
          "contourcarpet": [
           {
            "colorbar": {
             "outlinewidth": 0,
             "ticks": ""
            },
            "type": "contourcarpet"
           }
          ],
          "heatmap": [
           {
            "colorbar": {
             "outlinewidth": 0,
             "ticks": ""
            },
            "colorscale": [
             [
              0,
              "#0d0887"
             ],
             [
              0.1111111111111111,
              "#46039f"
             ],
             [
              0.2222222222222222,
              "#7201a8"
             ],
             [
              0.3333333333333333,
              "#9c179e"
             ],
             [
              0.4444444444444444,
              "#bd3786"
             ],
             [
              0.5555555555555556,
              "#d8576b"
             ],
             [
              0.6666666666666666,
              "#ed7953"
             ],
             [
              0.7777777777777778,
              "#fb9f3a"
             ],
             [
              0.8888888888888888,
              "#fdca26"
             ],
             [
              1,
              "#f0f921"
             ]
            ],
            "type": "heatmap"
           }
          ],
          "heatmapgl": [
           {
            "colorbar": {
             "outlinewidth": 0,
             "ticks": ""
            },
            "colorscale": [
             [
              0,
              "#0d0887"
             ],
             [
              0.1111111111111111,
              "#46039f"
             ],
             [
              0.2222222222222222,
              "#7201a8"
             ],
             [
              0.3333333333333333,
              "#9c179e"
             ],
             [
              0.4444444444444444,
              "#bd3786"
             ],
             [
              0.5555555555555556,
              "#d8576b"
             ],
             [
              0.6666666666666666,
              "#ed7953"
             ],
             [
              0.7777777777777778,
              "#fb9f3a"
             ],
             [
              0.8888888888888888,
              "#fdca26"
             ],
             [
              1,
              "#f0f921"
             ]
            ],
            "type": "heatmapgl"
           }
          ],
          "histogram": [
           {
            "marker": {
             "pattern": {
              "fillmode": "overlay",
              "size": 10,
              "solidity": 0.2
             }
            },
            "type": "histogram"
           }
          ],
          "histogram2d": [
           {
            "colorbar": {
             "outlinewidth": 0,
             "ticks": ""
            },
            "colorscale": [
             [
              0,
              "#0d0887"
             ],
             [
              0.1111111111111111,
              "#46039f"
             ],
             [
              0.2222222222222222,
              "#7201a8"
             ],
             [
              0.3333333333333333,
              "#9c179e"
             ],
             [
              0.4444444444444444,
              "#bd3786"
             ],
             [
              0.5555555555555556,
              "#d8576b"
             ],
             [
              0.6666666666666666,
              "#ed7953"
             ],
             [
              0.7777777777777778,
              "#fb9f3a"
             ],
             [
              0.8888888888888888,
              "#fdca26"
             ],
             [
              1,
              "#f0f921"
             ]
            ],
            "type": "histogram2d"
           }
          ],
          "histogram2dcontour": [
           {
            "colorbar": {
             "outlinewidth": 0,
             "ticks": ""
            },
            "colorscale": [
             [
              0,
              "#0d0887"
             ],
             [
              0.1111111111111111,
              "#46039f"
             ],
             [
              0.2222222222222222,
              "#7201a8"
             ],
             [
              0.3333333333333333,
              "#9c179e"
             ],
             [
              0.4444444444444444,
              "#bd3786"
             ],
             [
              0.5555555555555556,
              "#d8576b"
             ],
             [
              0.6666666666666666,
              "#ed7953"
             ],
             [
              0.7777777777777778,
              "#fb9f3a"
             ],
             [
              0.8888888888888888,
              "#fdca26"
             ],
             [
              1,
              "#f0f921"
             ]
            ],
            "type": "histogram2dcontour"
           }
          ],
          "mesh3d": [
           {
            "colorbar": {
             "outlinewidth": 0,
             "ticks": ""
            },
            "type": "mesh3d"
           }
          ],
          "parcoords": [
           {
            "line": {
             "colorbar": {
              "outlinewidth": 0,
              "ticks": ""
             }
            },
            "type": "parcoords"
           }
          ],
          "pie": [
           {
            "automargin": true,
            "type": "pie"
           }
          ],
          "scatter": [
           {
            "fillpattern": {
             "fillmode": "overlay",
             "size": 10,
             "solidity": 0.2
            },
            "type": "scatter"
           }
          ],
          "scatter3d": [
           {
            "line": {
             "colorbar": {
              "outlinewidth": 0,
              "ticks": ""
             }
            },
            "marker": {
             "colorbar": {
              "outlinewidth": 0,
              "ticks": ""
             }
            },
            "type": "scatter3d"
           }
          ],
          "scattercarpet": [
           {
            "marker": {
             "colorbar": {
              "outlinewidth": 0,
              "ticks": ""
             }
            },
            "type": "scattercarpet"
           }
          ],
          "scattergeo": [
           {
            "marker": {
             "colorbar": {
              "outlinewidth": 0,
              "ticks": ""
             }
            },
            "type": "scattergeo"
           }
          ],
          "scattergl": [
           {
            "marker": {
             "colorbar": {
              "outlinewidth": 0,
              "ticks": ""
             }
            },
            "type": "scattergl"
           }
          ],
          "scattermapbox": [
           {
            "marker": {
             "colorbar": {
              "outlinewidth": 0,
              "ticks": ""
             }
            },
            "type": "scattermapbox"
           }
          ],
          "scatterpolar": [
           {
            "marker": {
             "colorbar": {
              "outlinewidth": 0,
              "ticks": ""
             }
            },
            "type": "scatterpolar"
           }
          ],
          "scatterpolargl": [
           {
            "marker": {
             "colorbar": {
              "outlinewidth": 0,
              "ticks": ""
             }
            },
            "type": "scatterpolargl"
           }
          ],
          "scatterternary": [
           {
            "marker": {
             "colorbar": {
              "outlinewidth": 0,
              "ticks": ""
             }
            },
            "type": "scatterternary"
           }
          ],
          "surface": [
           {
            "colorbar": {
             "outlinewidth": 0,
             "ticks": ""
            },
            "colorscale": [
             [
              0,
              "#0d0887"
             ],
             [
              0.1111111111111111,
              "#46039f"
             ],
             [
              0.2222222222222222,
              "#7201a8"
             ],
             [
              0.3333333333333333,
              "#9c179e"
             ],
             [
              0.4444444444444444,
              "#bd3786"
             ],
             [
              0.5555555555555556,
              "#d8576b"
             ],
             [
              0.6666666666666666,
              "#ed7953"
             ],
             [
              0.7777777777777778,
              "#fb9f3a"
             ],
             [
              0.8888888888888888,
              "#fdca26"
             ],
             [
              1,
              "#f0f921"
             ]
            ],
            "type": "surface"
           }
          ],
          "table": [
           {
            "cells": {
             "fill": {
              "color": "#EBF0F8"
             },
             "line": {
              "color": "white"
             }
            },
            "header": {
             "fill": {
              "color": "#C8D4E3"
             },
             "line": {
              "color": "white"
             }
            },
            "type": "table"
           }
          ]
         },
         "layout": {
          "annotationdefaults": {
           "arrowcolor": "#2a3f5f",
           "arrowhead": 0,
           "arrowwidth": 1
          },
          "autotypenumbers": "strict",
          "coloraxis": {
           "colorbar": {
            "outlinewidth": 0,
            "ticks": ""
           }
          },
          "colorscale": {
           "diverging": [
            [
             0,
             "#8e0152"
            ],
            [
             0.1,
             "#c51b7d"
            ],
            [
             0.2,
             "#de77ae"
            ],
            [
             0.3,
             "#f1b6da"
            ],
            [
             0.4,
             "#fde0ef"
            ],
            [
             0.5,
             "#f7f7f7"
            ],
            [
             0.6,
             "#e6f5d0"
            ],
            [
             0.7,
             "#b8e186"
            ],
            [
             0.8,
             "#7fbc41"
            ],
            [
             0.9,
             "#4d9221"
            ],
            [
             1,
             "#276419"
            ]
           ],
           "sequential": [
            [
             0,
             "#0d0887"
            ],
            [
             0.1111111111111111,
             "#46039f"
            ],
            [
             0.2222222222222222,
             "#7201a8"
            ],
            [
             0.3333333333333333,
             "#9c179e"
            ],
            [
             0.4444444444444444,
             "#bd3786"
            ],
            [
             0.5555555555555556,
             "#d8576b"
            ],
            [
             0.6666666666666666,
             "#ed7953"
            ],
            [
             0.7777777777777778,
             "#fb9f3a"
            ],
            [
             0.8888888888888888,
             "#fdca26"
            ],
            [
             1,
             "#f0f921"
            ]
           ],
           "sequentialminus": [
            [
             0,
             "#0d0887"
            ],
            [
             0.1111111111111111,
             "#46039f"
            ],
            [
             0.2222222222222222,
             "#7201a8"
            ],
            [
             0.3333333333333333,
             "#9c179e"
            ],
            [
             0.4444444444444444,
             "#bd3786"
            ],
            [
             0.5555555555555556,
             "#d8576b"
            ],
            [
             0.6666666666666666,
             "#ed7953"
            ],
            [
             0.7777777777777778,
             "#fb9f3a"
            ],
            [
             0.8888888888888888,
             "#fdca26"
            ],
            [
             1,
             "#f0f921"
            ]
           ]
          },
          "colorway": [
           "#636efa",
           "#EF553B",
           "#00cc96",
           "#ab63fa",
           "#FFA15A",
           "#19d3f3",
           "#FF6692",
           "#B6E880",
           "#FF97FF",
           "#FECB52"
          ],
          "font": {
           "color": "#2a3f5f"
          },
          "geo": {
           "bgcolor": "white",
           "lakecolor": "white",
           "landcolor": "#E5ECF6",
           "showlakes": true,
           "showland": true,
           "subunitcolor": "white"
          },
          "hoverlabel": {
           "align": "left"
          },
          "hovermode": "closest",
          "mapbox": {
           "style": "light"
          },
          "paper_bgcolor": "white",
          "plot_bgcolor": "#E5ECF6",
          "polar": {
           "angularaxis": {
            "gridcolor": "white",
            "linecolor": "white",
            "ticks": ""
           },
           "bgcolor": "#E5ECF6",
           "radialaxis": {
            "gridcolor": "white",
            "linecolor": "white",
            "ticks": ""
           }
          },
          "scene": {
           "xaxis": {
            "backgroundcolor": "#E5ECF6",
            "gridcolor": "white",
            "gridwidth": 2,
            "linecolor": "white",
            "showbackground": true,
            "ticks": "",
            "zerolinecolor": "white"
           },
           "yaxis": {
            "backgroundcolor": "#E5ECF6",
            "gridcolor": "white",
            "gridwidth": 2,
            "linecolor": "white",
            "showbackground": true,
            "ticks": "",
            "zerolinecolor": "white"
           },
           "zaxis": {
            "backgroundcolor": "#E5ECF6",
            "gridcolor": "white",
            "gridwidth": 2,
            "linecolor": "white",
            "showbackground": true,
            "ticks": "",
            "zerolinecolor": "white"
           }
          },
          "shapedefaults": {
           "line": {
            "color": "#2a3f5f"
           }
          },
          "ternary": {
           "aaxis": {
            "gridcolor": "white",
            "linecolor": "white",
            "ticks": ""
           },
           "baxis": {
            "gridcolor": "white",
            "linecolor": "white",
            "ticks": ""
           },
           "bgcolor": "#E5ECF6",
           "caxis": {
            "gridcolor": "white",
            "linecolor": "white",
            "ticks": ""
           }
          },
          "title": {
           "x": 0.05
          },
          "xaxis": {
           "automargin": true,
           "gridcolor": "white",
           "linecolor": "white",
           "ticks": "",
           "title": {
            "standoff": 15
           },
           "zerolinecolor": "white",
           "zerolinewidth": 2
          },
          "yaxis": {
           "automargin": true,
           "gridcolor": "white",
           "linecolor": "white",
           "ticks": "",
           "title": {
            "standoff": 15
           },
           "zerolinecolor": "white",
           "zerolinewidth": 2
          }
         }
        },
        "title": {
         "text": "Gaussian Mixture Model Clustering of Alma 32"
        }
       }
      }
     },
     "metadata": {},
     "output_type": "display_data"
    }
   ],
   "source": [
    "from sklearn.cluster import KMeans\n",
    "from sklearn.decomposition import PCA\n",
    "import matplotlib.pyplot as plt\n",
    "import plotly.express as px\n",
    "from sklearn.mixture import GaussianMixture\n",
    "import plotly.graph_objects as go\n",
    "import pandas as pd\n",
    "import numpy as np\n",
    "\n",
    "# def convert_text(text):\n",
    "#     lines = []\n",
    "#     text = text.split()\n",
    "#     for i in range(0, len(text), 10):\n",
    "#         line = ' '.join(text[i:i + 10])\n",
    "#         lines.append(line)\n",
    "\n",
    "#     result = '<br>'.join(lines)\n",
    "#     # print(result)\n",
    "#     return result\n",
    "\n",
    "def convert_all_text(text):\n",
    "    for i in range(len(text)):\n",
    "        text[i] = convert_text(text[i])\n",
    "    return text\n",
    "\n",
    "text = get_texts_from_offset(alma_32_offsets, 'alma/32')\n",
    "print(text)\n",
    "\n",
    "pca = PCA(n_components=2)\n",
    "reduced_embeddings = pca.fit_transform(alma_32_embedds)\n",
    "\n",
    "kmeans = KMeans(n_clusters=3, random_state=0).fit(reduced_embeddings)\n",
    "cluster_labels = kmeans.labels_\n",
    "\n",
    "# pca = PCA(n_components=2)\n",
    "# reduced_embeddings = pca.fit_transform(alma_32_embedds)\n",
    "\n",
    "# plt.scatter(reduced_embeddings[:, 0], reduced_embeddings[:, 1], c=cluster_labels)\n",
    "# plt.title('K-Means Clustering of Text Embeddings')\n",
    "# plt.show()\n",
    "\n",
    "data = {'x': reduced_embeddings[:, 0],\n",
    "        'y': reduced_embeddings[:, 1],\n",
    "        'text_labels': convert_all_text(text),\n",
    "        'cluster_labels': cluster_labels}\n",
    "df = pd.DataFrame(data)\n",
    "\n",
    "\n",
    "fig = go.Figure(go.Scatter(\n",
    "    x=df['x'],\n",
    "    y=df['y'],\n",
    "    hovertext=df['text_labels'],\n",
    "    mode='markers',\n",
    "    marker=dict(color=cluster_labels)\n",
    "))\n",
    "\n",
    "# Customize the hovertemplate to show hovertext\n",
    "fig.update_traces(marker=dict(size=10), hovertemplate='%{hovertext}')\n",
    "fig.update_layout(title='KMeans Model Clustering of Alma 32')\n",
    "fig.show()\n",
    "\n",
    "gmm = GaussianMixture(n_components=3)\n",
    "gmm.fit(reduced_embeddings)\n",
    "cluster_labels = gmm.predict(reduced_embeddings)\n",
    "\n",
    "fig = go.Figure(go.Scatter(\n",
    "    x=df['x'],\n",
    "    y=df['y'],\n",
    "    hovertext=df['text_labels'],\n",
    "    mode='markers',\n",
    "    marker=dict(color=cluster_labels)\n",
    "))\n",
    "\n",
    "for cluster in set(cluster_labels):\n",
    "    filtered_df = df[df['cluster_labels'] == cluster]\n",
    "    text_for_cluster = filtered_df['text_labels'].tolist()\n",
    "    print(\"Cluster \" + str(cluster) + \":\")\n",
    "    for text in text_for_cluster:\n",
    "        print(' '.join(text.split(\"<br>\")))\n",
    "        print(\"\\n\")\n",
    "\n",
    "fig.update_traces(marker=dict(size=10), hovertemplate='%{hovertext}')\n",
    "fig.update_layout(title='Gaussian Mixture Model Clustering of Alma 32')\n",
    "fig.show()"
   ]
  },
  {
   "cell_type": "code",
   "execution_count": 6,
   "metadata": {},
   "outputs": [
    {
     "ename": "NameError",
     "evalue": "name 'get_texts_from_offsets' is not defined",
     "output_type": "error",
     "traceback": [
      "\u001b[1;31m---------------------------------------------------------------------------\u001b[0m",
      "\u001b[1;31mNameError\u001b[0m                                 Traceback (most recent call last)",
      "\u001b[1;32mc:\\Users\\rylee\\OneDrive\\BYU\\CS_301R\\gospel-connections\\analyze\\visualize.ipynb Cell 4\u001b[0m line \u001b[0;36m1\n\u001b[0;32m      <a href='vscode-notebook-cell:/c%3A/Users/rylee/OneDrive/BYU/CS_301R/gospel-connections/analyze/visualize.ipynb#W3sZmlsZQ%3D%3D?line=7'>8</a>\u001b[0m pca \u001b[39m=\u001b[39m PCA(n_components\u001b[39m=\u001b[39m\u001b[39m2\u001b[39m)\n\u001b[0;32m      <a href='vscode-notebook-cell:/c%3A/Users/rylee/OneDrive/BYU/CS_301R/gospel-connections/analyze/visualize.ipynb#W3sZmlsZQ%3D%3D?line=8'>9</a>\u001b[0m ne_30_100_embedds_2d \u001b[39m=\u001b[39m pca\u001b[39m.\u001b[39mfit_transform(ne_30_100_embedds)\n\u001b[1;32m---> <a href='vscode-notebook-cell:/c%3A/Users/rylee/OneDrive/BYU/CS_301R/gospel-connections/analyze/visualize.ipynb#W3sZmlsZQ%3D%3D?line=9'>10</a>\u001b[0m text \u001b[39m=\u001b[39m get_texts_from_offsets(ne_30_100_offsets)\n\u001b[0;32m     <a href='vscode-notebook-cell:/c%3A/Users/rylee/OneDrive/BYU/CS_301R/gospel-connections/analyze/visualize.ipynb#W3sZmlsZQ%3D%3D?line=10'>11</a>\u001b[0m \u001b[39m# Perform K-Means clustering\u001b[39;00m\n\u001b[0;32m     <a href='vscode-notebook-cell:/c%3A/Users/rylee/OneDrive/BYU/CS_301R/gospel-connections/analyze/visualize.ipynb#W3sZmlsZQ%3D%3D?line=11'>12</a>\u001b[0m kmeans \u001b[39m=\u001b[39m KMeans(n_clusters\u001b[39m=\u001b[39m\u001b[39m3\u001b[39m)\n",
      "\u001b[1;31mNameError\u001b[0m: name 'get_texts_from_offsets' is not defined"
     ]
    }
   ],
   "source": [
    "import plotly.express as px\n",
    "import pandas as pd\n",
    "from sklearn.cluster import KMeans\n",
    "from sklearn.decomposition import PCA\n",
    "import numpy as np\n",
    "\n",
    "# Perform PCA to reduce dimensionality for visualization\n",
    "pca = PCA(n_components=2)\n",
    "ne_30_100_embedds_2d = pca.fit_transform(ne_30_100_embedds)\n",
    "text = get_texts_from_offsets(ne_30_100_offsets)\n",
    "# Perform K-Means clustering\n",
    "kmeans = KMeans(n_clusters=3)\n",
    "kmeans.fit(ne_30_100_embedds_2d)\n",
    "labels = kmeans.labels_\n",
    "\n",
    "# Create a DataFrame for Plotly\n",
    "df = pd.DataFrame({'x': embedding_vectors_2d[:, 0],\n",
    "                   'y': embedding_vectors_2d[:, 1],\n",
    "                   'cluster': labels,\n",
    "                   'text': text})\n",
    "\n",
    "# Create a scatter plot with hover text\n",
    "fig = px.scatter(df, x='x', y='y', color='cluster', hover_data=['text'])\n",
    "\n",
    "# Customize the plot (add labels, titles, etc. if needed)\n",
    "fig.update_layout(\n",
    "    xaxis_title=\"PCA Component 1\",\n",
    "    yaxis_title=\"PCA Component 2\",\n",
    "    title=\"K-Means Clustering of Text Data (PCA Visualization)\"\n",
    ")\n",
    "\n",
    "# Show the interactive plot\n",
    "fig.show()\n",
    "\n",
    "\n",
    "\n",
    "\n",
    "\n",
    "\n",
    "\n"
   ]
  },
  {
   "cell_type": "code",
   "execution_count": null,
   "metadata": {},
   "outputs": [],
   "source": [
    "#make sure you are sending it in the right way for the method"
   ]
  },
  {
   "cell_type": "code",
   "execution_count": 19,
   "metadata": {},
   "outputs": [
    {
     "data": {
      "text/plain": [
       "'c:\\\\Users\\\\rylee\\\\OneDrive\\\\BYU\\\\CS_301R\\\\gospel-connections\\\\data'"
      ]
     },
     "execution_count": 19,
     "metadata": {},
     "output_type": "execute_result"
    }
   ],
   "source": [
    "normalized_2ne = normalize(ne_30_50_embedds, axis=1)\n",
    "normalized_isa = normalize(isa_11_50_embedds, axis=1)\n",
    "\n",
    "cos_sim = cosine_similarity(normalized_2ne, normalized_isa)\n",
    "\n",
    "svd = TruncatedSVD(n_components=2)\n",
    "\n",
    "svd_result = svd.fit_transform(cos_sim)\n",
    "\n",
    "texts1 = get_texts_from_offset(ne_30_50_offsets, '2-ne/30')\n",
    "texts2 = get_texts_from_offset(isa_11_50_offsets, 'isa/11')\n",
    "\n",
    "plot_truncatedSVD(cos_sim, texts1, texts2)"
   ]
  }
 ],
 "metadata": {
  "kernelspec": {
   "display_name": "Python 3",
   "language": "python",
   "name": "python3"
  },
  "language_info": {
   "codemirror_mode": {
    "name": "ipython",
    "version": 3
   },
   "file_extension": ".py",
   "mimetype": "text/x-python",
   "name": "python",
   "nbconvert_exporter": "python",
   "pygments_lexer": "ipython3",
   "version": "3.10.11"
  },
  "orig_nbformat": 4
 },
 "nbformat": 4,
 "nbformat_minor": 2
}
